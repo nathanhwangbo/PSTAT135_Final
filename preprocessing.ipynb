{
 "cells": [
  {
   "cell_type": "markdown",
   "metadata": {},
   "source": [
    "# Create SparkSession, import packages"
   ]
  },
  {
   "cell_type": "markdown",
   "metadata": {},
   "source": [
    "### To update git hub\n",
    "### git pull\n",
    "### git add *\n",
    "### git commit -m \"Insert you change message\"\n",
    "### git push origin master"
   ]
  },
  {
   "cell_type": "markdown",
   "metadata": {},
   "source": [
    "# To Do:\n",
    "* combine the data with the features file, to get a header\n",
    "* do variable selection and transformation\n",
    "* spit out a final `.csv` to use for modeling"
   ]
  },
  {
   "cell_type": "markdown",
   "metadata": {},
   "source": [
    "# Ideas\n",
    "* look at the data via kmeans with 6 clusters?\n",
    "* compute AUC on each variable to see which are important? (after regressing on the var)\n",
    "* create variables that are combinations of other variables\n",
    "* look for outliers and then run pca before clustering?\n",
    "* run multinomial regression with elastic net? (with k-fold cv)\n",
    "* or maybe try neural nets?\n",
    "* something time series?\n"
   ]
  },
  {
   "cell_type": "code",
   "execution_count": 55,
   "metadata": {},
   "outputs": [],
   "source": [
    "from pyspark.sql import SparkSession, SQLContext\n",
    "import pyspark.sql.types as typ\n",
    "import pyspark.sql.functions as F\n",
    "from pyspark.sql.functions import udf, col\n",
    "import os\n",
    "import pandas as pd\n",
    "import numpy as np\n",
    "import matplotlib.pyplot as plt\n",
    "\n",
    "from pyspark.ml.feature import VectorAssembler, StandardScaler, PCA\n",
    "from pyspark.ml.clustering import KMeans\n",
    "from pyspark.ml.linalg import Vectors, _convert_to_vector, VectorUDT\n",
    "from pyspark.ml import Pipeline\n",
    "from pyspark.ml.classification import RandomForestClassifier\n",
    "from pyspark.ml.evaluation import MulticlassClassificationEvaluator\n",
    "\n",
    "from pyspark.mllib.linalg import Vectors, SparseVector\n",
    "from pyspark.mllib.linalg.distributed import RowMatrix\n",
    "from pyspark.mllib.tree import RandomForest\n",
    "from pyspark.mllib.util import MLUtils\n",
    "from pyspark.mllib.regression import LabeledPoint\n",
    "import scipy.sparse\n",
    "\n",
    "spark = SparkSession \\\n",
    "    .builder \\\n",
    "    .master(\"local[*]\") \\\n",
    "    .appName(\"xor\") \\\n",
    "    .config(\"spark.executor.memory\", '4g') \\\n",
    "    .config('spark.executor.cores', '1') \\\n",
    "    .config('spark.cores.max', '1') \\\n",
    "    .config(\"spark.driver.memory\",'4g') \\\n",
    "    .getOrCreate()\n",
    "\n",
    "sc = spark.sparkContext\n",
    "sqlCtx = SQLContext(sc)"
   ]
  },
  {
   "cell_type": "markdown",
   "metadata": {},
   "source": [
    "# Read in Data"
   ]
  },
  {
   "cell_type": "code",
   "execution_count": 56,
   "metadata": {},
   "outputs": [],
   "source": [
    "#read in with pandas first since the data is weirdly delimited\n",
    "#train features\n",
    "pandas_train_features = pd.read_csv(\"Data/X_train.txt\", sep='\\s+',header=None)\n",
    "#conversion to spark df\n",
    "df_train_features = sqlCtx.createDataFrame(pandas_train_features)"
   ]
  },
  {
   "cell_type": "code",
   "execution_count": 57,
   "metadata": {},
   "outputs": [],
   "source": [
    "#training labels\n",
    "pandas_train_labels = pd.read_csv(\"Data/y_train.txt\", sep='\\s+',header=None)\n",
    "pandas_train_labels.columns=['position']\n",
    "#conversion to spark df\n",
    "df_train_labels = sqlCtx.createDataFrame(pandas_train_labels)"
   ]
  },
  {
   "cell_type": "code",
   "execution_count": 58,
   "metadata": {},
   "outputs": [],
   "source": [
    "#test features\n",
    "pandas_test_features = pd.read_csv(\"Data/X_test.txt\", sep='\\s+',header=None)\n",
    "#conversion to spark df\n",
    "df_test_features = sqlCtx.createDataFrame(pandas_test_features)"
   ]
  },
  {
   "cell_type": "code",
   "execution_count": 59,
   "metadata": {},
   "outputs": [],
   "source": [
    "#test labels\n",
    "pandas_test_labels = pd.read_csv(\"Data/y_test.txt\", sep='\\s+',header=None)\n",
    "pandas_test_labels.columns=['position']\n",
    "#conversion to spark df\n",
    "df_test_labels = sqlCtx.createDataFrame(pandas_test_labels)"
   ]
  },
  {
   "cell_type": "code",
   "execution_count": 60,
   "metadata": {},
   "outputs": [],
   "source": [
    "#header\n",
    "pandas_header = pd.read_csv(\"Data/features.txt\", sep='\\s+',header=None)\n",
    "#conversion to spark df. this has an index column, so we deselect it\n",
    "df_header = sqlCtx.createDataFrame(pandas_header)\n"
   ]
  },
  {
   "cell_type": "code",
   "execution_count": 61,
   "metadata": {},
   "outputs": [],
   "source": [
    "#pull out the header names. \"id\" is an identifier, and \"position\" is the label\n",
    "df_header_names = [\"id\"] + df_header.select('1').rdd.map(lambda row : row[0]).collect() + [\"position\"]"
   ]
  },
  {
   "cell_type": "code",
   "execution_count": 62,
   "metadata": {},
   "outputs": [],
   "source": [
    "#reading subject number in\n",
    "panda_sub_train=pd.read_csv(\"Data/subject_train.txt\",sep='\\s+',header=None)\n",
    "panda_sub_train.columns=['id']\n",
    "\n",
    "panda_sub_test=pd.read_csv(\"Data/subject_test.txt\",sep='\\s+',header=None)\n",
    "panda_sub_test.columns=['id']\n",
    "df_sub_train=sqlCtx.createDataFrame(panda_sub_train)\n",
    "df_sub_test=sqlCtx.createDataFrame(panda_sub_test)"
   ]
  },
  {
   "cell_type": "markdown",
   "metadata": {},
   "source": [
    "# Merge header, id, features, and label, and split into training/test set"
   ]
  },
  {
   "cell_type": "code",
   "execution_count": 63,
   "metadata": {},
   "outputs": [],
   "source": [
    "#merge x feature files with subject id\n",
    "merged_train=pd.merge(panda_sub_train,pandas_train_features, right_index=True, left_index=True)\n",
    "merged_test=pd.merge(panda_sub_test,pandas_test_features, right_index=True, left_index=True)\n",
    "\n",
    "#transform to df\n",
    "df_merged_train_features=sqlCtx.createDataFrame(merged_train)\n",
    "df_merged_test_features=sqlCtx.createDataFrame(merged_test)"
   ]
  },
  {
   "cell_type": "code",
   "execution_count": 64,
   "metadata": {},
   "outputs": [],
   "source": [
    "#merge train files with subject id, testing and training sets\n",
    "#Dennis\n",
    "#pd.concat([df_a, df_b], axis=1) example\n",
    "mergetrain=pd.concat([merged_train,pandas_train_labels],axis=1)\n",
    "mergetest=pd.concat([merged_test,pandas_test_labels],axis=1)\n",
    "\n",
    "#combine train and test to resplit into 80-20\n",
    "combine=pd.concat([mergetrain,mergetest],axis=0)"
   ]
  },
  {
   "cell_type": "code",
   "execution_count": 65,
   "metadata": {},
   "outputs": [],
   "source": [
    "#convert into SparkDF\n",
    "df_complete_merge=sqlCtx.createDataFrame(combine)\n",
    "\n",
    "#resplit data to 80:20\n",
    "(train_data, test_data)=df_complete_merge.randomSplit(seed=314,weights=[0.8,0.2])"
   ]
  },
  {
   "cell_type": "code",
   "execution_count": 66,
   "metadata": {},
   "outputs": [],
   "source": [
    "#add headers\n",
    "#note: train_data is what we're using as our \"primary\" dataset\n",
    "train_data = train_data.toDF(*df_header_names)\n",
    "\n",
    "test_data = test_data.toDF(*df_header_names)\n"
   ]
  },
  {
   "cell_type": "code",
   "execution_count": 67,
   "metadata": {},
   "outputs": [],
   "source": [
    "##remove bandEnergy columns because they are not unique. They represent the \"intensity\" of activity in the frequency domain.\n",
    "\n",
    "# first, we pull out the columns that have bandsEnergy in them\n",
    "train_band_cols = [s for s in train_data.columns if 'bandsEnergy' in s]\n",
    "test_band_cols = [s for s in test_data.columns if 'bandsEnergy' in s]\n",
    "\n",
    "# then, we pull out these columns out of the data\n",
    "train_data = train_data.select([a for a in train_data.columns if a not in train_band_cols])\n",
    "test_data = test_data.select([a for a in test_data.columns if a not in test_band_cols])\n"
   ]
  },
  {
   "cell_type": "code",
   "execution_count": 68,
   "metadata": {},
   "outputs": [],
   "source": [
    "#split into features (x) and labels (y)\n",
    "    #note that the label is the \"position\" column\n",
    "train_x = train_data.drop(\"position\")\n",
    "train_y = train_data.select(\"position\") \n",
    "\n",
    "test_x = test_data.drop(\"position\")\n",
    "test_y = test_data.select(\"position\")"
   ]
  },
  {
   "cell_type": "code",
   "execution_count": 69,
   "metadata": {},
   "outputs": [
    {
     "name": "stdout",
     "output_type": "stream",
     "text": [
      "+---+-----------------+--------------------+-----------------+----------------+--------------------+----------------+----------------+----------------+----------------+----------------+----------------+----------------+--------------------+----------------+----------------+--------------+-------------------+--------------------+-------------------+----------------+----------------+----------------+--------------------+--------------------+--------------------+----------------------+----------------------+----------------------+----------------------+----------------------+----------------------+----------------------+----------------------+----------------------+----------------------+----------------------+----------------------+--------------------------+--------------------------+--------------------------+--------------------+--------------------+--------------------+-------------------+-------------------+-------------------+-------------------+-------------------+-------------------+--------------------+-------------------+-------------------+-------------------+-------------------+-------------------+-----------------+----------------------+----------------------+----------------------+-------------------+-------------------+-------------------+-----------------------+-----------------------+-----------------------+-------------------------+-------------------------+-------------------------+-------------------------+-------------------------+-------------------------+-------------------------+-------------------------+-------------------------+-------------------------+-------------------------+-------------------------+-----------------------------+-----------------------------+-----------------------------+---------------------+---------------------+---------------------+--------------------+--------------------+--------------------+--------------------+--------------------+--------------------+--------------------+--------------------+--------------------+--------------------+--------------------+--------------------+------------------+-----------------------+-----------------------+-----------------------+--------------------+--------------------+--------------------+------------------------+------------------------+------------------------+--------------------------+--------------------------+--------------------------+--------------------------+--------------------------+--------------------------+--------------------------+--------------------------+--------------------------+--------------------------+--------------------------+--------------------------+------------------------------+------------------------------+------------------------------+------------------+--------------------+--------------------+-----------------+-----------------+-----------------+-----------------+-----------------+-----------------+-----------------+-----------------+-----------------+--------------------+-----------------+-----------------+---------------+--------------------+--------------------+--------------------+-----------------+-----------------+-----------------+---------------------+---------------------+---------------------+-----------------------+-----------------------+-----------------------+-----------------------+-----------------------+-----------------------+-----------------------+-----------------------+-----------------------+-----------------------+-----------------------+-----------------------+---------------------------+---------------------------+---------------------------+----------------------+----------------------+----------------------+---------------------+---------------------+---------------------+---------------------+---------------------+---------------------+---------------------+---------------------+---------------------+---------------------+---------------------+---------------------+-------------------+------------------------+------------------------+------------------------+---------------------+---------------------+---------------------+-------------------------+-------------------------+-------------------------+---------------------------+---------------------------+---------------------------+---------------------------+---------------------------+---------------------------+---------------------------+---------------------------+---------------------------+---------------------------+---------------------------+---------------------------+-------------------------------+-------------------------------+-------------------------------+------------------+-----------------+-------------------+-----------------+-----------------+-----------------+--------------------+-----------------+---------------------+----------------------+----------------------+----------------------+----------------------+---------------------+--------------------+--------------------+--------------------+--------------------+--------------------+-----------------------+--------------------+------------------------+-------------------------+-------------------------+-------------------------+-------------------------+----------------------+---------------------+---------------------+---------------------+---------------------+---------------------+------------------------+---------------------+-------------------------+--------------------------+--------------------------+--------------------------+--------------------------+-------------------+------------------+------------------+------------------+------------------+------------------+---------------------+------------------+----------------------+-----------------------+-----------------------+-----------------------+-----------------------+-----------------------+----------------------+----------------------+----------------------+----------------------+----------------------+-------------------------+----------------------+--------------------------+---------------------------+---------------------------+---------------------------+---------------------------+-----------------+-----------------+-----------------+----------------+--------------------+----------------+----------------+----------------+----------------+----------------+----------------+--------------------+----------------+----------------+----------------+--------------+-------------------+-------------------+-------------------+----------------+----------------+----------------+--------------------+--------------------+--------------------+------------------+------------------+------------------+---------------------+---------------------+---------------------+---------------------+---------------------+---------------------+---------------------+---------------------+---------------------+---------------------+---------------------+---------------------+--------------------+--------------------+--------------------+--------------------+--------------------+--------------------+--------------------+--------------------+--------------------+--------------------+--------------------+--------------------+------------------+-----------------------+-----------------------+-----------------------+--------------------+--------------------+--------------------+------------------------+------------------------+------------------------+----------------------+----------------------+----------------------+-------------------------+-------------------------+-------------------------+-------------------------+-------------------------+-------------------------+-------------------------+-------------------------+-------------------------+--------------------+------------------+------------------+-----------------+-----------------+-----------------+-----------------+-----------------+-----------------+-----------------+-----------------+-----------------+-----------------+-----------------+-----------------+---------------+--------------------+--------------------+--------------------+-----------------+-----------------+-----------------+---------------------+---------------------+---------------------+-------------------+-------------------+-------------------+----------------------+----------------------+----------------------+----------------------+----------------------+----------------------+----------------------+----------------------+----------------------+------------------+-------------------+-----------------+-----------------+-----------------+-----------------+--------------------+-----------------+---------------------+-------------------+----------------------+----------------------+----------------------+--------------------------+-------------------------+-------------------------+-------------------------+-------------------------+-------------------------+----------------------------+-------------------------+-----------------------------+---------------------------+------------------------------+------------------------------+------------------------------+-----------------------+----------------------+----------------------+----------------------+----------------------+----------------------+-------------------------+----------------------+--------------------------+------------------------+---------------------------+---------------------------+---------------------------+---------------------------+--------------------------+--------------------------+--------------------------+--------------------------+--------------------------+-----------------------------+--------------------------+------------------------------+----------------------------+-------------------------------+-------------------------------+-------------------------------+---------------------------+------------------------------------+--------------------------------+------------------------------------+--------------------+--------------------+--------------------+\n",
      "| id|tBodyAcc-mean()-X|   tBodyAcc-mean()-Y|tBodyAcc-mean()-Z|tBodyAcc-std()-X|    tBodyAcc-std()-Y|tBodyAcc-std()-Z|tBodyAcc-mad()-X|tBodyAcc-mad()-Y|tBodyAcc-mad()-Z|tBodyAcc-max()-X|tBodyAcc-max()-Y|tBodyAcc-max()-Z|    tBodyAcc-min()-X|tBodyAcc-min()-Y|tBodyAcc-min()-Z|tBodyAcc-sma()|tBodyAcc-energy()-X| tBodyAcc-energy()-Y|tBodyAcc-energy()-Z|tBodyAcc-iqr()-X|tBodyAcc-iqr()-Y|tBodyAcc-iqr()-Z|tBodyAcc-entropy()-X|tBodyAcc-entropy()-Y|tBodyAcc-entropy()-Z|tBodyAcc-arCoeff()-X,1|tBodyAcc-arCoeff()-X,2|tBodyAcc-arCoeff()-X,3|tBodyAcc-arCoeff()-X,4|tBodyAcc-arCoeff()-Y,1|tBodyAcc-arCoeff()-Y,2|tBodyAcc-arCoeff()-Y,3|tBodyAcc-arCoeff()-Y,4|tBodyAcc-arCoeff()-Z,1|tBodyAcc-arCoeff()-Z,2|tBodyAcc-arCoeff()-Z,3|tBodyAcc-arCoeff()-Z,4|tBodyAcc-correlation()-X,Y|tBodyAcc-correlation()-X,Z|tBodyAcc-correlation()-Y,Z|tGravityAcc-mean()-X|tGravityAcc-mean()-Y|tGravityAcc-mean()-Z|tGravityAcc-std()-X|tGravityAcc-std()-Y|tGravityAcc-std()-Z|tGravityAcc-mad()-X|tGravityAcc-mad()-Y|tGravityAcc-mad()-Z| tGravityAcc-max()-X|tGravityAcc-max()-Y|tGravityAcc-max()-Z|tGravityAcc-min()-X|tGravityAcc-min()-Y|tGravityAcc-min()-Z|tGravityAcc-sma()|tGravityAcc-energy()-X|tGravityAcc-energy()-Y|tGravityAcc-energy()-Z|tGravityAcc-iqr()-X|tGravityAcc-iqr()-Y|tGravityAcc-iqr()-Z|tGravityAcc-entropy()-X|tGravityAcc-entropy()-Y|tGravityAcc-entropy()-Z|tGravityAcc-arCoeff()-X,1|tGravityAcc-arCoeff()-X,2|tGravityAcc-arCoeff()-X,3|tGravityAcc-arCoeff()-X,4|tGravityAcc-arCoeff()-Y,1|tGravityAcc-arCoeff()-Y,2|tGravityAcc-arCoeff()-Y,3|tGravityAcc-arCoeff()-Y,4|tGravityAcc-arCoeff()-Z,1|tGravityAcc-arCoeff()-Z,2|tGravityAcc-arCoeff()-Z,3|tGravityAcc-arCoeff()-Z,4|tGravityAcc-correlation()-X,Y|tGravityAcc-correlation()-X,Z|tGravityAcc-correlation()-Y,Z|tBodyAccJerk-mean()-X|tBodyAccJerk-mean()-Y|tBodyAccJerk-mean()-Z|tBodyAccJerk-std()-X|tBodyAccJerk-std()-Y|tBodyAccJerk-std()-Z|tBodyAccJerk-mad()-X|tBodyAccJerk-mad()-Y|tBodyAccJerk-mad()-Z|tBodyAccJerk-max()-X|tBodyAccJerk-max()-Y|tBodyAccJerk-max()-Z|tBodyAccJerk-min()-X|tBodyAccJerk-min()-Y|tBodyAccJerk-min()-Z|tBodyAccJerk-sma()|tBodyAccJerk-energy()-X|tBodyAccJerk-energy()-Y|tBodyAccJerk-energy()-Z|tBodyAccJerk-iqr()-X|tBodyAccJerk-iqr()-Y|tBodyAccJerk-iqr()-Z|tBodyAccJerk-entropy()-X|tBodyAccJerk-entropy()-Y|tBodyAccJerk-entropy()-Z|tBodyAccJerk-arCoeff()-X,1|tBodyAccJerk-arCoeff()-X,2|tBodyAccJerk-arCoeff()-X,3|tBodyAccJerk-arCoeff()-X,4|tBodyAccJerk-arCoeff()-Y,1|tBodyAccJerk-arCoeff()-Y,2|tBodyAccJerk-arCoeff()-Y,3|tBodyAccJerk-arCoeff()-Y,4|tBodyAccJerk-arCoeff()-Z,1|tBodyAccJerk-arCoeff()-Z,2|tBodyAccJerk-arCoeff()-Z,3|tBodyAccJerk-arCoeff()-Z,4|tBodyAccJerk-correlation()-X,Y|tBodyAccJerk-correlation()-X,Z|tBodyAccJerk-correlation()-Y,Z|tBodyGyro-mean()-X|  tBodyGyro-mean()-Y|  tBodyGyro-mean()-Z|tBodyGyro-std()-X|tBodyGyro-std()-Y|tBodyGyro-std()-Z|tBodyGyro-mad()-X|tBodyGyro-mad()-Y|tBodyGyro-mad()-Z|tBodyGyro-max()-X|tBodyGyro-max()-Y|tBodyGyro-max()-Z|   tBodyGyro-min()-X|tBodyGyro-min()-Y|tBodyGyro-min()-Z|tBodyGyro-sma()|tBodyGyro-energy()-X|tBodyGyro-energy()-Y|tBodyGyro-energy()-Z|tBodyGyro-iqr()-X|tBodyGyro-iqr()-Y|tBodyGyro-iqr()-Z|tBodyGyro-entropy()-X|tBodyGyro-entropy()-Y|tBodyGyro-entropy()-Z|tBodyGyro-arCoeff()-X,1|tBodyGyro-arCoeff()-X,2|tBodyGyro-arCoeff()-X,3|tBodyGyro-arCoeff()-X,4|tBodyGyro-arCoeff()-Y,1|tBodyGyro-arCoeff()-Y,2|tBodyGyro-arCoeff()-Y,3|tBodyGyro-arCoeff()-Y,4|tBodyGyro-arCoeff()-Z,1|tBodyGyro-arCoeff()-Z,2|tBodyGyro-arCoeff()-Z,3|tBodyGyro-arCoeff()-Z,4|tBodyGyro-correlation()-X,Y|tBodyGyro-correlation()-X,Z|tBodyGyro-correlation()-Y,Z|tBodyGyroJerk-mean()-X|tBodyGyroJerk-mean()-Y|tBodyGyroJerk-mean()-Z|tBodyGyroJerk-std()-X|tBodyGyroJerk-std()-Y|tBodyGyroJerk-std()-Z|tBodyGyroJerk-mad()-X|tBodyGyroJerk-mad()-Y|tBodyGyroJerk-mad()-Z|tBodyGyroJerk-max()-X|tBodyGyroJerk-max()-Y|tBodyGyroJerk-max()-Z|tBodyGyroJerk-min()-X|tBodyGyroJerk-min()-Y|tBodyGyroJerk-min()-Z|tBodyGyroJerk-sma()|tBodyGyroJerk-energy()-X|tBodyGyroJerk-energy()-Y|tBodyGyroJerk-energy()-Z|tBodyGyroJerk-iqr()-X|tBodyGyroJerk-iqr()-Y|tBodyGyroJerk-iqr()-Z|tBodyGyroJerk-entropy()-X|tBodyGyroJerk-entropy()-Y|tBodyGyroJerk-entropy()-Z|tBodyGyroJerk-arCoeff()-X,1|tBodyGyroJerk-arCoeff()-X,2|tBodyGyroJerk-arCoeff()-X,3|tBodyGyroJerk-arCoeff()-X,4|tBodyGyroJerk-arCoeff()-Y,1|tBodyGyroJerk-arCoeff()-Y,2|tBodyGyroJerk-arCoeff()-Y,3|tBodyGyroJerk-arCoeff()-Y,4|tBodyGyroJerk-arCoeff()-Z,1|tBodyGyroJerk-arCoeff()-Z,2|tBodyGyroJerk-arCoeff()-Z,3|tBodyGyroJerk-arCoeff()-Z,4|tBodyGyroJerk-correlation()-X,Y|tBodyGyroJerk-correlation()-X,Z|tBodyGyroJerk-correlation()-Y,Z|tBodyAccMag-mean()|tBodyAccMag-std()|  tBodyAccMag-mad()|tBodyAccMag-max()|tBodyAccMag-min()|tBodyAccMag-sma()|tBodyAccMag-energy()|tBodyAccMag-iqr()|tBodyAccMag-entropy()|tBodyAccMag-arCoeff()1|tBodyAccMag-arCoeff()2|tBodyAccMag-arCoeff()3|tBodyAccMag-arCoeff()4|tGravityAccMag-mean()|tGravityAccMag-std()|tGravityAccMag-mad()|tGravityAccMag-max()|tGravityAccMag-min()|tGravityAccMag-sma()|tGravityAccMag-energy()|tGravityAccMag-iqr()|tGravityAccMag-entropy()|tGravityAccMag-arCoeff()1|tGravityAccMag-arCoeff()2|tGravityAccMag-arCoeff()3|tGravityAccMag-arCoeff()4|tBodyAccJerkMag-mean()|tBodyAccJerkMag-std()|tBodyAccJerkMag-mad()|tBodyAccJerkMag-max()|tBodyAccJerkMag-min()|tBodyAccJerkMag-sma()|tBodyAccJerkMag-energy()|tBodyAccJerkMag-iqr()|tBodyAccJerkMag-entropy()|tBodyAccJerkMag-arCoeff()1|tBodyAccJerkMag-arCoeff()2|tBodyAccJerkMag-arCoeff()3|tBodyAccJerkMag-arCoeff()4|tBodyGyroMag-mean()|tBodyGyroMag-std()|tBodyGyroMag-mad()|tBodyGyroMag-max()|tBodyGyroMag-min()|tBodyGyroMag-sma()|tBodyGyroMag-energy()|tBodyGyroMag-iqr()|tBodyGyroMag-entropy()|tBodyGyroMag-arCoeff()1|tBodyGyroMag-arCoeff()2|tBodyGyroMag-arCoeff()3|tBodyGyroMag-arCoeff()4|tBodyGyroJerkMag-mean()|tBodyGyroJerkMag-std()|tBodyGyroJerkMag-mad()|tBodyGyroJerkMag-max()|tBodyGyroJerkMag-min()|tBodyGyroJerkMag-sma()|tBodyGyroJerkMag-energy()|tBodyGyroJerkMag-iqr()|tBodyGyroJerkMag-entropy()|tBodyGyroJerkMag-arCoeff()1|tBodyGyroJerkMag-arCoeff()2|tBodyGyroJerkMag-arCoeff()3|tBodyGyroJerkMag-arCoeff()4|fBodyAcc-mean()-X|fBodyAcc-mean()-Y|fBodyAcc-mean()-Z|fBodyAcc-std()-X|    fBodyAcc-std()-Y|fBodyAcc-std()-Z|fBodyAcc-mad()-X|fBodyAcc-mad()-Y|fBodyAcc-mad()-Z|fBodyAcc-max()-X|fBodyAcc-max()-Y|    fBodyAcc-max()-Z|fBodyAcc-min()-X|fBodyAcc-min()-Y|fBodyAcc-min()-Z|fBodyAcc-sma()|fBodyAcc-energy()-X|fBodyAcc-energy()-Y|fBodyAcc-energy()-Z|fBodyAcc-iqr()-X|fBodyAcc-iqr()-Y|fBodyAcc-iqr()-Z|fBodyAcc-entropy()-X|fBodyAcc-entropy()-Y|fBodyAcc-entropy()-Z|fBodyAcc-maxInds-X|fBodyAcc-maxInds-Y|fBodyAcc-maxInds-Z|fBodyAcc-meanFreq()-X|fBodyAcc-meanFreq()-Y|fBodyAcc-meanFreq()-Z|fBodyAcc-skewness()-X|fBodyAcc-kurtosis()-X|fBodyAcc-skewness()-Y|fBodyAcc-kurtosis()-Y|fBodyAcc-skewness()-Z|fBodyAcc-kurtosis()-Z|fBodyAccJerk-mean()-X|fBodyAccJerk-mean()-Y|fBodyAccJerk-mean()-Z|fBodyAccJerk-std()-X|fBodyAccJerk-std()-Y|fBodyAccJerk-std()-Z|fBodyAccJerk-mad()-X|fBodyAccJerk-mad()-Y|fBodyAccJerk-mad()-Z|fBodyAccJerk-max()-X|fBodyAccJerk-max()-Y|fBodyAccJerk-max()-Z|fBodyAccJerk-min()-X|fBodyAccJerk-min()-Y|fBodyAccJerk-min()-Z|fBodyAccJerk-sma()|fBodyAccJerk-energy()-X|fBodyAccJerk-energy()-Y|fBodyAccJerk-energy()-Z|fBodyAccJerk-iqr()-X|fBodyAccJerk-iqr()-Y|fBodyAccJerk-iqr()-Z|fBodyAccJerk-entropy()-X|fBodyAccJerk-entropy()-Y|fBodyAccJerk-entropy()-Z|fBodyAccJerk-maxInds-X|fBodyAccJerk-maxInds-Y|fBodyAccJerk-maxInds-Z|fBodyAccJerk-meanFreq()-X|fBodyAccJerk-meanFreq()-Y|fBodyAccJerk-meanFreq()-Z|fBodyAccJerk-skewness()-X|fBodyAccJerk-kurtosis()-X|fBodyAccJerk-skewness()-Y|fBodyAccJerk-kurtosis()-Y|fBodyAccJerk-skewness()-Z|fBodyAccJerk-kurtosis()-Z|  fBodyGyro-mean()-X|fBodyGyro-mean()-Y|fBodyGyro-mean()-Z|fBodyGyro-std()-X|fBodyGyro-std()-Y|fBodyGyro-std()-Z|fBodyGyro-mad()-X|fBodyGyro-mad()-Y|fBodyGyro-mad()-Z|fBodyGyro-max()-X|fBodyGyro-max()-Y|fBodyGyro-max()-Z|fBodyGyro-min()-X|fBodyGyro-min()-Y|fBodyGyro-min()-Z|fBodyGyro-sma()|fBodyGyro-energy()-X|fBodyGyro-energy()-Y|fBodyGyro-energy()-Z|fBodyGyro-iqr()-X|fBodyGyro-iqr()-Y|fBodyGyro-iqr()-Z|fBodyGyro-entropy()-X|fBodyGyro-entropy()-Y|fBodyGyro-entropy()-Z|fBodyGyro-maxInds-X|fBodyGyro-maxInds-Y|fBodyGyro-maxInds-Z|fBodyGyro-meanFreq()-X|fBodyGyro-meanFreq()-Y|fBodyGyro-meanFreq()-Z|fBodyGyro-skewness()-X|fBodyGyro-kurtosis()-X|fBodyGyro-skewness()-Y|fBodyGyro-kurtosis()-Y|fBodyGyro-skewness()-Z|fBodyGyro-kurtosis()-Z|fBodyAccMag-mean()|  fBodyAccMag-std()|fBodyAccMag-mad()|fBodyAccMag-max()|fBodyAccMag-min()|fBodyAccMag-sma()|fBodyAccMag-energy()|fBodyAccMag-iqr()|fBodyAccMag-entropy()|fBodyAccMag-maxInds|fBodyAccMag-meanFreq()|fBodyAccMag-skewness()|fBodyAccMag-kurtosis()|fBodyBodyAccJerkMag-mean()|fBodyBodyAccJerkMag-std()|fBodyBodyAccJerkMag-mad()|fBodyBodyAccJerkMag-max()|fBodyBodyAccJerkMag-min()|fBodyBodyAccJerkMag-sma()|fBodyBodyAccJerkMag-energy()|fBodyBodyAccJerkMag-iqr()|fBodyBodyAccJerkMag-entropy()|fBodyBodyAccJerkMag-maxInds|fBodyBodyAccJerkMag-meanFreq()|fBodyBodyAccJerkMag-skewness()|fBodyBodyAccJerkMag-kurtosis()|fBodyBodyGyroMag-mean()|fBodyBodyGyroMag-std()|fBodyBodyGyroMag-mad()|fBodyBodyGyroMag-max()|fBodyBodyGyroMag-min()|fBodyBodyGyroMag-sma()|fBodyBodyGyroMag-energy()|fBodyBodyGyroMag-iqr()|fBodyBodyGyroMag-entropy()|fBodyBodyGyroMag-maxInds|fBodyBodyGyroMag-meanFreq()|fBodyBodyGyroMag-skewness()|fBodyBodyGyroMag-kurtosis()|fBodyBodyGyroJerkMag-mean()|fBodyBodyGyroJerkMag-std()|fBodyBodyGyroJerkMag-mad()|fBodyBodyGyroJerkMag-max()|fBodyBodyGyroJerkMag-min()|fBodyBodyGyroJerkMag-sma()|fBodyBodyGyroJerkMag-energy()|fBodyBodyGyroJerkMag-iqr()|fBodyBodyGyroJerkMag-entropy()|fBodyBodyGyroJerkMag-maxInds|fBodyBodyGyroJerkMag-meanFreq()|fBodyBodyGyroJerkMag-skewness()|fBodyBodyGyroJerkMag-kurtosis()|angle(tBodyAccMean,gravity)|angle(tBodyAccJerkMean),gravityMean)|angle(tBodyGyroMean,gravityMean)|angle(tBodyGyroJerkMean,gravityMean)|angle(X,gravityMean)|angle(Y,gravityMean)|angle(Z,gravityMean)|\n",
      "+---+-----------------+--------------------+-----------------+----------------+--------------------+----------------+----------------+----------------+----------------+----------------+----------------+----------------+--------------------+----------------+----------------+--------------+-------------------+--------------------+-------------------+----------------+----------------+----------------+--------------------+--------------------+--------------------+----------------------+----------------------+----------------------+----------------------+----------------------+----------------------+----------------------+----------------------+----------------------+----------------------+----------------------+----------------------+--------------------------+--------------------------+--------------------------+--------------------+--------------------+--------------------+-------------------+-------------------+-------------------+-------------------+-------------------+-------------------+--------------------+-------------------+-------------------+-------------------+-------------------+-------------------+-----------------+----------------------+----------------------+----------------------+-------------------+-------------------+-------------------+-----------------------+-----------------------+-----------------------+-------------------------+-------------------------+-------------------------+-------------------------+-------------------------+-------------------------+-------------------------+-------------------------+-------------------------+-------------------------+-------------------------+-------------------------+-----------------------------+-----------------------------+-----------------------------+---------------------+---------------------+---------------------+--------------------+--------------------+--------------------+--------------------+--------------------+--------------------+--------------------+--------------------+--------------------+--------------------+--------------------+--------------------+------------------+-----------------------+-----------------------+-----------------------+--------------------+--------------------+--------------------+------------------------+------------------------+------------------------+--------------------------+--------------------------+--------------------------+--------------------------+--------------------------+--------------------------+--------------------------+--------------------------+--------------------------+--------------------------+--------------------------+--------------------------+------------------------------+------------------------------+------------------------------+------------------+--------------------+--------------------+-----------------+-----------------+-----------------+-----------------+-----------------+-----------------+-----------------+-----------------+-----------------+--------------------+-----------------+-----------------+---------------+--------------------+--------------------+--------------------+-----------------+-----------------+-----------------+---------------------+---------------------+---------------------+-----------------------+-----------------------+-----------------------+-----------------------+-----------------------+-----------------------+-----------------------+-----------------------+-----------------------+-----------------------+-----------------------+-----------------------+---------------------------+---------------------------+---------------------------+----------------------+----------------------+----------------------+---------------------+---------------------+---------------------+---------------------+---------------------+---------------------+---------------------+---------------------+---------------------+---------------------+---------------------+---------------------+-------------------+------------------------+------------------------+------------------------+---------------------+---------------------+---------------------+-------------------------+-------------------------+-------------------------+---------------------------+---------------------------+---------------------------+---------------------------+---------------------------+---------------------------+---------------------------+---------------------------+---------------------------+---------------------------+---------------------------+---------------------------+-------------------------------+-------------------------------+-------------------------------+------------------+-----------------+-------------------+-----------------+-----------------+-----------------+--------------------+-----------------+---------------------+----------------------+----------------------+----------------------+----------------------+---------------------+--------------------+--------------------+--------------------+--------------------+--------------------+-----------------------+--------------------+------------------------+-------------------------+-------------------------+-------------------------+-------------------------+----------------------+---------------------+---------------------+---------------------+---------------------+---------------------+------------------------+---------------------+-------------------------+--------------------------+--------------------------+--------------------------+--------------------------+-------------------+------------------+------------------+------------------+------------------+------------------+---------------------+------------------+----------------------+-----------------------+-----------------------+-----------------------+-----------------------+-----------------------+----------------------+----------------------+----------------------+----------------------+----------------------+-------------------------+----------------------+--------------------------+---------------------------+---------------------------+---------------------------+---------------------------+-----------------+-----------------+-----------------+----------------+--------------------+----------------+----------------+----------------+----------------+----------------+----------------+--------------------+----------------+----------------+----------------+--------------+-------------------+-------------------+-------------------+----------------+----------------+----------------+--------------------+--------------------+--------------------+------------------+------------------+------------------+---------------------+---------------------+---------------------+---------------------+---------------------+---------------------+---------------------+---------------------+---------------------+---------------------+---------------------+---------------------+--------------------+--------------------+--------------------+--------------------+--------------------+--------------------+--------------------+--------------------+--------------------+--------------------+--------------------+--------------------+------------------+-----------------------+-----------------------+-----------------------+--------------------+--------------------+--------------------+------------------------+------------------------+------------------------+----------------------+----------------------+----------------------+-------------------------+-------------------------+-------------------------+-------------------------+-------------------------+-------------------------+-------------------------+-------------------------+-------------------------+--------------------+------------------+------------------+-----------------+-----------------+-----------------+-----------------+-----------------+-----------------+-----------------+-----------------+-----------------+-----------------+-----------------+-----------------+---------------+--------------------+--------------------+--------------------+-----------------+-----------------+-----------------+---------------------+---------------------+---------------------+-------------------+-------------------+-------------------+----------------------+----------------------+----------------------+----------------------+----------------------+----------------------+----------------------+----------------------+----------------------+------------------+-------------------+-----------------+-----------------+-----------------+-----------------+--------------------+-----------------+---------------------+-------------------+----------------------+----------------------+----------------------+--------------------------+-------------------------+-------------------------+-------------------------+-------------------------+-------------------------+----------------------------+-------------------------+-----------------------------+---------------------------+------------------------------+------------------------------+------------------------------+-----------------------+----------------------+----------------------+----------------------+----------------------+----------------------+-------------------------+----------------------+--------------------------+------------------------+---------------------------+---------------------------+---------------------------+---------------------------+--------------------------+--------------------------+--------------------------+--------------------------+--------------------------+-----------------------------+--------------------------+------------------------------+----------------------------+-------------------------------+-------------------------------+-------------------------------+---------------------------+------------------------------------+--------------------------------+------------------------------------+--------------------+--------------------+--------------------+\n",
      "|  1|      -0.36120533|         -0.26812111|       0.17689637|     -0.59939182|          0.53250573|    0.0043240256|     -0.66410777|      0.50226025|     0.048471827|     -0.71708111|     -0.18286375|      0.31545297|0.022281712000000002|     -0.51352667|      0.46493267|  0.0098121886|        -0.83643755|         -0.43533989|        -0.42808703|     -0.75472288|     0.063264414|      0.01237324|         -0.46569932|         0.034280174|          0.38972103|           -0.25443534|            0.23680111|           -0.18403795|          -0.034750647|            0.12473947|           -0.25907392|            0.19037294|            0.28131232|            0.22621993|            -0.5449354|            0.67136444|  -0.06038010200000...|                0.65804699|               -0.51592157|               -0.26042397|            -0.36048|          0.71643717|           0.6629796|        -0.57217277|        -0.72466654|        -0.78630016|        -0.59893511|        -0.77322415|        -0.81194425|         -0.35176655|         0.72043391|         0.74844315|        -0.55514798|         0.57169654|         0.62982101|       0.24799053|            -0.9797757|           0.046019968|            -0.1433678|        -0.70569598|        -0.89521074|        -0.84825676|             0.31694287|             0.37734445|             0.38985316|              -0.54546512|               0.54860976|              -0.55164421|               0.55473779|              -0.73872734|               0.72911272|              -0.73708679|               0.75248045|              -0.71286733|               0.72167024|              -0.73013285|               0.73524357|                   0.89506685|                  -0.72842137|                  -0.94377526|          0.020624221|          -0.26870572|           0.23693914|         -0.64824281|         -0.25032928|         -0.61258935|         -0.66757885|         -0.32909081|         -0.64959695|         -0.66929362|         -0.37863254|         -0.66983712|          0.57290171|          0.42004954|          0.32913303|       -0.54674791|            -0.93625851|            -0.71423973|             -0.9202614|         -0.69960747|          -0.5538598|         -0.69810879|              0.37065781|              0.45000159|              0.33563244|               -0.12336882|                 0.3021674|                0.10727771|              -0.029575859|                0.11732414|               -0.35130041|               0.050962263|               0.023011927|                0.14912021|               -0.78278229|               -0.05902615|                0.49937406|                    0.48513038|                    0.29092646|                     0.7127536|       -0.23782482|0.001320818599999...|-0.09854436400000001|     -0.081294431|      -0.67023793|      -0.57189809|      -0.35190001|      -0.68857543|      -0.59437797|         -0.48731|      -0.62851398|      -0.46583044|          -0.5326113|       0.74075538|       0.45160555|    -0.44263878|         -0.58726574|         -0.94483702|         -0.90106807|      -0.66570216|      -0.71717143|      -0.69887711|         -0.033104441|           0.37631316|         -0.047418798|            -0.69322954|             0.47096462|           -0.040415276|   0.030457632000000002|            -0.22839092|             0.23263267|            0.059361673|            -0.12827747|            -0.37065369|             0.29712061|            -0.15882557|             0.18356841|                -0.21442576|                0.012155568|                -0.34968254|           -0.26163473|           -0.11985833|  -0.01243559199999...|          -0.36262562|          -0.72314441|          -0.71632539|          -0.53787074|           -0.7535493|          -0.73542326|          -0.13804501|           -0.8037736|          -0.59135059|           0.31070425|           0.67664895|           0.80563028|        -0.68914365|             -0.79500276|             -0.96109025|             -0.95836541|          -0.72094189|          -0.77806864|          -0.76373348|               0.23659732|               0.49314187|               0.42804737|                -0.57093776|                 0.21156301|                -0.27081815|                 0.38305659|                -0.14684218|                 0.29034483|                 0.25220873|                 0.11742809|                -0.30882005|                 0.16194229|       -0.00526668949999...|               -0.077588079|                    0.049985709|                    -0.39513967|                      -0.128402|      -0.062945893|       0.30788151|         0.14688483|       0.15370675|      -0.77397597|     -0.062945893|         -0.41875061|     -0.084678289|           0.86177315|           -0.36748134|            0.29475594|           -0.42905464|            0.48398864|         -0.062945893|          0.30788151|          0.14688483|          0.15370675|         -0.77397597|        -0.062945893|            -0.41875061|        -0.084678289|              0.86177315|              -0.36748134|               0.29475594|              -0.42905464|               0.48398864|           -0.56428225|          -0.33962197|           -0.4185197|          -0.38144273|          -0.79524517|          -0.56428225|             -0.86237605|          -0.68579331|               0.50716138|                0.47543607|               -0.45008436|               -0.12097238|                0.06765087|        -0.40112981|        0.27340612|       0.028860731|        0.16937681|       -0.89866955|       -0.40112981|          -0.63776232|       -0.45562801|            0.85039125|            -0.36765841|            0.065948647|             0.26021913|           -0.044180094|            -0.67562773|           -0.53941555|           -0.60892749|           -0.61052195|           -0.87732288|           -0.67562773|              -0.92610497|           -0.74336795|                0.81164951|                -0.21296005|               -0.082075265|                 0.26367754|                -0.05315479|      -0.62167946|       0.26319965|      -0.25634415|     -0.59077718|          0.56288903|     0.054977589|     -0.62975444|       0.4611068|    -0.033361042|     -0.56816883|      0.29824313|          0.12307142|      -0.8552131|     -0.64924857|     -0.58620794|   -0.17092637|        -0.91837414|         0.17790189|        -0.48738088|     -0.56019649|     -0.46572747|     -0.80115069|           0.3665561|           0.5682634|          0.27992368|              -1.0|              -1.0|              -1.0|          -0.35748385|          -0.35022485|          -0.33530726|           0.42994173|           0.22961573|          -0.13650576|          -0.49843212|         -0.028121969|          -0.30957992|          -0.63698626|          -0.21058319|          -0.57076123|         -0.69447248|         -0.36007731|         -0.65294977|         -0.58095268|         -0.31714714|         -0.65052183|         -0.81196219|          -0.5063261|         -0.67409731|         -0.99000727|         -0.67958524|         -0.90413862|        -0.4057836|            -0.93615025|            -0.71448914|            -0.92033697|         -0.54119023|         -0.41478116|         -0.73119938|              0.16476859|              0.54028383|              0.21872174|                 -0.32|                 -0.76|                 -0.72|              -0.08993761|               -0.2454903|              -0.29874883|              -0.66977208|               -0.9291341|              -0.63757674|              -0.93156171|              -0.38864907|              -0.76268756|0.005782579699999999|       -0.66275526|       -0.53699297|      -0.11375026|      -0.67722657|      -0.62303729|       0.21404412|       -0.6733466|      -0.49978662|      -0.28225064|       -0.7681102|      -0.74603092|      -0.85578125|      -0.86618865|      -0.95081732|    -0.36588267|         -0.57701739|         -0.94490666|         -0.90684705|      -0.65505056|      -0.67074685|      -0.56141799|           0.46300896|           0.42174943|           0.36733777|        -0.93333333|               -1.0|               -1.0|           -0.53933004|          -0.051106787|           -0.35401397|           -0.42495472|           -0.78454226|            -0.4686442|            -0.8236159|           -0.43521434|             -0.768333|      -0.091821255|         0.28069657|       0.11447239|       0.21520352|      -0.83680756|     -0.091821255|         -0.14018729|       -0.5730063|            0.3649981|               -1.0|           -0.45908559|            0.31811539|           0.079770692|               -0.35848249|              -0.32035278|               -0.3645191|              -0.38657216|              -0.85723676|              -0.35848249|                 -0.77693784|              -0.53313636|                   0.19254267|                       -1.0|                    0.15463256|                    0.18491024|                   -0.22751459|            -0.10202009|            0.27991626|            0.35310592|          -0.055841909|           -0.86068782|           -0.10202009|                -0.187667|           -0.38078633|                0.44082134|                    -1.0|                -0.56646563|                 -0.3245116|                -0.72622278|                -0.60822781|               -0.49217599|                -0.4730712|               -0.50500293|               -0.84466333|               -0.60822781|                  -0.89284283|               -0.56584744|                    0.34980704|                        -1.0|                    -0.52517002|                    0.063363714|                    -0.33051979|                 0.15282962|                          0.14960236|                      0.12724505|                          0.19285207|          0.50873322|         -0.49613177|         -0.50619728|\n",
      "|  1|      -0.27706634|         -0.68409659|       0.34665772|     -0.59641047|0.024682957999999998|     -0.16040449|      -0.6318195|    -0.068856732|     -0.23515959|     -0.86629617|     -0.24904654|      0.31545297|0.022281712000000002|     -0.51352667|      0.46493267|    0.27477038|        -0.85544932|0.004366232600000...|        -0.37691695|     -0.67833686|     -0.32480091|     -0.32081876|         -0.39308631|         -0.95624852|          0.91338934|           -0.26896001|            0.20532138|          -0.066560942|           -0.12728402|             0.1129031|           -0.26897443|            0.16431872|            0.32221991|            0.24121783|           -0.56418562|            0.68079386|          -0.068767727|                0.23994439|               -0.36069728|                0.31443086|         -0.57349604|          0.52510468|          0.77976328|        -0.24241051|        0.069459782|        -0.14768193|         -0.2195045|        0.059886718|         -0.1234625|         -0.36339946|         0.72043391|         0.97046306|        -0.70993531|         0.15331707|         0.62982101|       0.10805683|           -0.96519669|           -0.35193478|            0.21741493|        -0.15559809|0.07461628299999999|       -0.044933046|            -0.21910371|             0.84090842|             0.82834451|              -0.57795179|               0.58105559|              -0.58406354|               0.58714454|              -0.77030917|                 0.777454|              -0.80119481|               0.83134402|              -0.71306007|                0.7185374|                -0.723689|               0.72552848|                   0.94547065|                  -0.96216597|                  -0.99424584|           0.17061123|           -0.3848919|         -0.028640525|         -0.67369935|         -0.26985594|         -0.62029149|         -0.73476949|         -0.41290587|          -0.6911595|         -0.66929362|         -0.37863254|         -0.66983712|          0.57290171|          0.42004954|          0.32913303|       -0.61513303|            -0.94496838|            -0.72849629|            -0.92336301|         -0.81526144|         -0.75279357|         -0.79333704|              0.35508381|              0.33677066|             0.056350638|               -0.12517206|                 0.2461536|                0.15359668|                0.01649798|                0.13262278|               -0.37925685|               0.008112599|               -0.03756946|                0.16636839|               -0.79906863|      -0.08895150199999999|                0.60801529|                    0.53687527|                    0.35831794|                    0.75949723|       -0.22981397|-0.08413979199999999|          0.12658478|      -0.11708191|      -0.70508529|      -0.72542219|      -0.37048572|       -0.7601085|      -0.78358829|         -0.48731|      -0.62851398|      -0.46583044|          -0.5326113|       0.74075538|       0.52001903|    -0.53119861|         -0.61868869|         -0.95657003|         -0.96369328|      -0.55697474|      -0.88405631|      -0.89980658| 0.036005537000000004|          -0.14562395|           0.41425656|             -0.5863897|             0.34201982|            0.052675182|            0.051508498|            -0.25448232|             0.25731854|    0.08968125699999999|            -0.14268338|            -0.21997625|             0.21713603|           -0.079332337|              0.2503799|                -0.17263338|       -0.00343666119999...|                -0.25301164|            0.60049262|           -0.14450577|            0.10627918|          -0.45691937|          -0.74054968|          -0.74996313|          -0.62581771|          -0.79419614|           -0.8130164|          -0.13804501|           -0.8037736|          -0.59135059|           0.56792251|           0.67664895|           0.80563028|        -0.75869142|             -0.84832725|             -0.96578033|             -0.96740759|          -0.86124455|          -0.86002745|          -0.91987915|               0.43062641|               0.34167737|               0.24707206|                -0.46608923|                 0.10451032|                 -0.2387776|                 0.48698325|                -0.18952532|                 0.27401249|                 0.28187013|                0.093824165|                -0.28111335|                 0.12119275|                 0.01021766|                0.031360614|                     0.13681875|                    -0.52079677|                   -0.090026409|        0.29483896|     -0.040902739|        -0.18837723|       0.15370675|       0.12813182|       0.29483896|         -0.18017445|      -0.33463273|           0.81506713|           -0.37498473|            0.27724069|           -0.42631768|            0.53970046|           0.29483896|        -0.040902739|         -0.18837723|          0.15370675|          0.12813182|          0.29483896|            -0.18017445|         -0.33463273|              0.81506713|              -0.37498473|               0.27724069|              -0.42631768|               0.53970046|           -0.62540929|          -0.29310124|          -0.35618889|          -0.38144273|          -0.92438399|          -0.62540929|             -0.87170189|          -0.63685698|                 0.478213|                0.58676777|               -0.39892201|               -0.22475621|                -0.0737984|        -0.48420622|        0.25838625|       -0.02575461|        0.16937681|       -0.89866955|       -0.48420622|            -0.682044|       -0.44790095|            0.81190874|            -0.27573169|   -0.03063494700000...|              0.3292974|   -0.09252944699999999|            -0.75023599|           -0.54078957|           -0.60974821|           -0.61052195|           -0.99020751|           -0.75023599|              -0.94149963|           -0.70829173|                0.73050161|       -0.08643807699999999|                -0.16862005|                 0.20994307|       -0.02115295200000...|      -0.60838922|      0.029028661|      -0.31756454|     -0.59163789|-0.04242610099999...|     -0.14414422|     -0.59479157|    -0.020489115|    -0.068621278|     -0.59319684|     -0.32979465|         -0.27449893|     -0.88765487|     -0.52787049|     -0.91418471|   -0.25662904|        -0.91716733|         -0.4699397|        -0.63947868|     -0.53770265|     -0.40772448|     -0.81284317|          0.36938503|           0.4906483|          0.27598681|              -1.0|       -0.93333333|              -1.0|          -0.48112763| 0.055190130999999996|          -0.44797549|            0.2199727|         -0.056636833|          -0.39996689|          -0.76792148|          -0.45661858|          -0.74905969|          -0.65892981|          -0.24437788|           -0.5777608|         -0.72221064|         -0.35761019|         -0.66152622|         -0.62629541|         -0.30315394|         -0.65545036|         -0.83171041|         -0.52733389|         -0.71147777|         -0.86184636|         -0.77518901|         -0.87012781|       -0.42992886|             -0.9448944|            -0.72898754|            -0.92336108|         -0.60888835|         -0.34955903|         -0.71014508|              0.13813831|               0.5374287|              0.14259944|                 -0.24|                 -0.76|                 -0.68|             -0.068720793|              -0.24344676|              -0.26722372|              -0.61117845|              -0.92357875|              -0.62835087|              -0.93794062|                -0.430985|              -0.80293359|          0.20023571|       -0.68059349|       -0.64274198|      -0.21899757|      -0.72334622|      -0.78386911|      0.081693195|      -0.69072479|       -0.7111981|      -0.37551528|      -0.86402062|      -0.86769246|      -0.55126485|      -0.89231312|      -0.95508213|    -0.32823776|          -0.6091895|         -0.95585258|         -0.96122857|      -0.51298337|      -0.66136366|      -0.75425185|           0.62625433|           0.39489623|           0.23475662|        -0.93333333|0.09677419400000001|        -0.79310345|           0.036605456|           0.010096269|            0.26133704|           -0.47016031|           -0.81848931|           -0.66149488|           -0.94988932|           -0.55576329|           -0.86875822|         -0.220785|        -0.10278022|     -0.043057933|      -0.27849902|      -0.82489875|        -0.220785|         -0.53500982|      -0.56440966|           0.44020127|        -0.93103448|           -0.44328399|           -0.15562824|           -0.49771999|               -0.33175609|              -0.25098304|              -0.35645889|              -0.31582179|              -0.67660388|              -0.33175609|                 -0.74496604|              -0.54250787|                   0.17679454|                       -1.0|                   0.087846855|                    0.29196489|                   -0.12348309|             0.10504627|            0.14654068|            0.30882276|          -0.019796533|           0.096773496|            0.10504627|              -0.20658807|            -0.2245526|                0.55555542|             -0.94871795|                -0.19232946|                -0.39905282|                -0.74179811|                -0.61261081|               -0.49043707|               -0.49669906|               -0.55358967|               -0.67684134|               -0.61261081|                   -0.8934496|               -0.59209391|                     0.3275272|                        -1.0|                    -0.53386713|                     0.01897918|                    -0.43705914|                 0.12310816|                          0.43253974|                    -0.083445798|                         0.025647796|          0.66828427|          -0.3366412|         -0.67268482|\n",
      "|  1|      -0.23910256|-0.09690439099999999|       0.14803461|     -0.63732529|         -0.12769222|     -0.25892403|     -0.64364219|     -0.13855081|     -0.23963371|     -0.87814885|     -0.24148221|     -0.12098467|          0.26337402|     0.094907246|      0.65067851|   -0.30104549|         -0.8793803|         -0.84091233|        -0.65418973|      -0.6474996|     -0.28106071|    -0.087491445|         -0.29505171|         0.045120771|          0.57613877|           -0.46678313|            0.31092248|           -0.21102907|            0.13750163|           -0.45220896|            0.21779969|            0.14963016|          -0.041662706|           -0.39248065|            0.32613786|           -0.68095669|            0.66481929|                0.83571925|               -0.73362882|               -0.53259468|         -0.18770377|          0.70262213|          0.63722785|        -0.33694561|         -0.6855982|        -0.39074878|        -0.30789331|        -0.66781494|        -0.36523072|-0.09120730699999999|         0.71852391|          0.7636324|        -0.36104164|         0.63328245|          0.5426484|       0.42927879|           -0.90455893|          0.0088264581|           -0.19458953|        -0.21865614|        -0.64592704|         -0.3195975|             0.73789309|             0.30552471|             0.60988694|              -0.89015655|               0.89047435|              -0.89044929|               0.89027057|              -0.72388207|               0.70661628|              -0.70737813|               0.71599142|              -0.88146721|               0.88381332|              -0.88566748|                 0.883775|                   0.98876634|                  -0.99755291|                  -0.99461466|           0.11314268|          0.074806311|          -0.10382637|         -0.87257116|         -0.64257101|         -0.83199907|         -0.88941556|         -0.71904723|         -0.84656337|         -0.84159466|         -0.79501407|         -0.84435378|          0.84747568|          0.51248074|          0.82206388|       -0.81979794|            -0.99107608|            -0.93327725|            -0.98359789|          -0.9059791|         -0.84848111|         -0.89274976|             0.037542988|              0.28880404|    -0.09706433699999999|               -0.35889114|                0.21814848|               -0.16755414|      0.036318947000000004|               -0.48678698|               0.056245454|               -0.24850851|                0.49140003|               -0.54587533|                0.36387515|                -0.9169945|                0.27134394|                    0.53197399|                     0.3016418|                    0.43749837|      -0.035961192|        -0.034605486|0.058812712999999996|      -0.38879976|      -0.74479878|      -0.59595082|      -0.50876266|      -0.76564993|      -0.66962308|      -0.62240234|      -0.74219793|      -0.62944291|-0.03397885100000...|       0.83244238|       0.37734712|    -0.56537182|         -0.82944991|         -0.96713152|         -0.92323326|      -0.64700876|      -0.84230595|      -0.85761465|           0.46559491| -0.09449199300000001|            0.4986846|            -0.87332404|              0.6582089|            -0.14980686|           -0.031941383|            -0.48761345|             0.44562942|            -0.29549389|             0.12261895|            -0.39896835|             0.28257441|            -0.15468476|             0.21922271|                -0.44798739|                  0.2848592|                -0.83849353|          -0.096588812|          -0.074083925|          -0.056614254|           -0.5884292|          -0.89356735|          -0.81213818|          -0.70458894|          -0.90243816|           -0.8428486|          -0.27510694|          -0.89038995|          -0.73491917|           0.58602116|           0.90385502|           0.86777845|        -0.83510613|             -0.91400196|             -0.99408969|             -0.98137939|           -0.8393072|          -0.90802828|          -0.88848958|               0.44568592|               0.29713984|               0.18643571|                -0.70972756|                 0.37347831|                -0.32460183|                 0.36703871|                -0.37571497|                  0.3443604|                0.086997313|                -0.22939722|                -0.31953559|                 0.08730805|                0.012521041|                -0.19615308|                     0.15315889|                    -0.46641991|                    -0.35149615|       -0.36210824|       -0.1266784|        -0.15732077|      -0.36572046|      -0.83342203|      -0.36210824|          -0.7314856|      -0.13567442|           0.77204404|            -0.6890107|            0.55543572|            -0.2910512|           0.087292089|          -0.36210824|          -0.1266784|         -0.15732077|         -0.36572046|         -0.83342203|         -0.36210824|             -0.7314856|         -0.13567442|              0.77204404|               -0.6890107|               0.55543572|               -0.2910512|              0.087292089|           -0.82366323|          -0.68634475|          -0.73778608|          -0.64570763|          -0.91694953|          -0.82366323|             -0.97185957|          -0.84244775|               0.13827868|               -0.30509265|                0.37394583|                -0.2263154|      0.048878715999999996|        -0.54709337|       -0.23749421|       -0.36153495|       -0.25142193|         -0.807026|       -0.54709337|          -0.83666585|       -0.64137356|            0.82136665|            -0.76122409|             0.65643033|            -0.36124934|             0.19352352|            -0.83080792|           -0.71704468|           -0.77651208|           -0.68333473|           -0.87504519|           -0.83080792|              -0.97571781|           -0.84509732|                0.54389694|                 -0.6528703|                 0.42078327|                 0.40305044|                -0.52108643|      -0.78254802|      -0.35302765|      -0.58238308|     -0.59362341|        -0.082021234|     -0.17499567|     -0.72581267|     -0.15504091|     -0.41075292|     -0.55375198|     -0.18888282|-0.01232240399999...|     -0.93274334|     -0.95202266|     -0.98081257|   -0.55237842|        -0.93295149|        -0.61459754|        -0.71768277|     -0.84443915|     -0.69943787|     -0.85046558|        -0.029005054|          0.22494435|0.015443231000000002|              -1.0|              -1.0|              -1.0|          -0.85555911|          -0.62478591|          -0.68602377|           0.77550491|           0.67939227|        -0.0082662999|          -0.32951016|           0.43526564|           0.24232107|          -0.86668292|          -0.65948137|          -0.80855043|         -0.89167443|         -0.64779561|          -0.8546971|         -0.86039473|         -0.65743134|         -0.83057788|         -0.93098243|         -0.73989811|         -0.89244432|          -0.9895984|         -0.95569579|         -0.97781703|       -0.75344235|            -0.99106406|            -0.93329322|            -0.98361182|         -0.87707159|         -0.75204085|         -0.82067619|             -0.30172587|              0.10615776|             -0.18898099|                 -0.32|                 -0.68|                 -0.72|              -0.40218761|              -0.87995111|              -0.58193048|              -0.63530047|              -0.90537285|              -0.38460164|              -0.84390728|              -0.67760246|              -0.93703981|         -0.35137583|       -0.80542284|       -0.63205493|      -0.40513477|      -0.71526611|      -0.62155844|      -0.19005035|      -0.78161315|      -0.55965863|      -0.50770173|      -0.71384744|      -0.71609442|      -0.97374117|      -0.94877502|      -0.99783537|    -0.58524287|         -0.81239076|         -0.96685319|         -0.91691883|      -0.71222292|      -0.84013951|      -0.70907406|           0.37944809|          0.090579694|           0.19024931|               -1.0|               -1.0|               -1.0|           -0.68458634|           -0.54345589|           -0.61413546|           -0.40236174|            -0.7632935|            0.16182365|           -0.17228741|           -0.21260381|           -0.59117649|       -0.50202182|        -0.11108042|      -0.32305095|      -0.13676288|      -0.92630462|      -0.50202182|         -0.61367067|      -0.62110584|            0.1313183|               -1.0|           -0.69377653|            0.50708781|            0.28819371|               -0.72546081|              -0.64267705|              -0.69597493|              -0.67098447|              -0.85394989|              -0.72546081|                 -0.94777114|              -0.80127887|                  -0.15542519|                       -1.0|                   -0.50332465|                    0.27466805|                   -0.14261763|            -0.45857638|            -0.2351279|            -0.1671987|           -0.43276262|           -0.94522321|           -0.45857638|              -0.70767091|           -0.42621756|                 0.3182114|              -0.8974359|                -0.65314986|                -0.34349443|                -0.72522085|                -0.76196065|               -0.68522496|               -0.63982295|                -0.7231345|               -0.85551034|               -0.76196065|                  -0.95923356|               -0.60244383|                    0.14430327|                        -1.0|                    -0.69121922|                    -0.15700853|                    -0.56191796|               0.0024180696|                       -0.0023661425|                     -0.10187764|                           0.5432066|          0.37879154|         -0.48844315|         -0.48705651|\n",
      "|  1|      -0.16642569|         -0.11935251|       0.13303497|     -0.63313536|         -0.18977503|     -0.31933629|      -0.6238043|     -0.19967526|     -0.28108829|     -0.92520798|     -0.24148221|     -0.12098467|          0.26337402|     0.094907246|      0.65067851|    -0.4673472|         -0.8919004|         -0.85359674|        -0.70331816|     -0.65549242|     -0.46135566|     -0.21413871|         -0.56478929|         -0.17171626|           0.3564189|           -0.48122424|            0.32489209|           -0.20679149|            0.12019455|           -0.43959511|            0.19790926|            0.17496654|          -0.050118166|           -0.40142643|            0.34539625|           -0.70426063|             0.6669891|                0.79665129|               -0.72107513|               -0.46166534|        -0.041699844|          0.75554154|          0.54742535|        -0.85563269|        -0.96354752|        -0.89836031|         -0.8844499|        -0.97152843|        -0.92067981|        -0.091058425|         0.71852391|         0.59372508|        -0.11339119|         0.74281751|         0.54146828|       0.61378568|           -0.82686368|            0.15464938|           -0.41898295|        -0.94318801|        -0.97966857|        -0.97205399|   0.044570252000000005|            -0.26164131|            -0.33577817|              -0.87709978|                0.8791824|              -0.88094999|               0.88258649|              -0.70694805|               0.70255585|               -0.7180372|               0.74146365|              -0.87473186|                0.8854102|              -0.89568239|               0.90224357|                   0.51011115|                  -0.96785816|                  -0.54842481| -0.04350741099999...|         -0.053766392|           0.19503419|         -0.87762809|         -0.65065842|         -0.83940869|         -0.90673746|           -0.759941|         -0.87568585|         -0.84159466|         -0.79501407|         -0.84435378|          0.84747568|          0.51248074|          0.82206388|       -0.85108266|            -0.99169478|            -0.93618528|            -0.98486826|         -0.95661933|         -0.91944203|         -0.96226913|             -0.23270115|             0.040662221|             -0.14278803|               -0.36947082|                0.24029774|               -0.20661421|       0.08977603699999999|               -0.47067497|      0.022751067000000003|               -0.24417143|                0.52487077|               -0.56729225|                0.40855891|               -0.95549446|                0.33269651|                    0.53983051|                    0.36418062|                    0.50577548|      -0.059379779|          0.08809224|          0.13125568|      -0.42283371|      -0.78810663|      -0.56517871|      -0.56834982|      -0.81637261|      -0.62559899|      -0.68235859|      -0.74219793|      -0.62944291|-0.03397885100000...|       0.86892587|       0.37734712|    -0.61215013|         -0.84725277|         -0.97289875|         -0.91079216|      -0.92304903|      -0.93165956|      -0.78153087|           0.45277403|           0.39970801|           0.43811275|            -0.93319952|              0.7239153|            -0.20006502|   -0.03265210299999...|             -0.5239511|             0.49060891|            -0.34803529|             0.15453652|            -0.41599473|             0.28504032|            -0.13717669|             0.19043328|                -0.44325537|                 0.30382326|                -0.85731708|           -0.04233134|           -0.07304167|          -0.056678688|          -0.60586863|          -0.89932747|          -0.81663018|          -0.77407245|          -0.92309947|          -0.86787954|          -0.27510694|          -0.89038995|          -0.73491917|           0.58602116|           0.90385502|           0.86777845|        -0.87087349|             -0.92105213|             -0.99469876|             -0.98223411|          -0.96474037|          -0.97003649|          -0.97448846|             -0.046296598|               0.17164829|              -0.10799852|                -0.76737619|                 0.44521551|                -0.38284545|                 0.39132582|                -0.41621084|                 0.37365131|                0.067567401|                -0.25319849|                -0.32816266|                0.078443848|                0.020310387|                -0.19546325|                     0.16042956|                    -0.50276727|                    -0.40344503|       -0.51842779|      0.064073395|0.07546683900000001|      -0.36572046|      -0.98729403|      -0.51842779|         -0.76076723|       0.12828636|           0.30829357|           -0.66083594|            0.52354042|           -0.23178802|           0.029987075|          -0.51842779|         0.064073395| 0.07546683900000001|         -0.36572046|         -0.98729403|         -0.51842779|            -0.76076723|          0.12828636|              0.30829357|              -0.66083594|               0.52354042|              -0.23178802|              0.029987075|           -0.85561065|          -0.66085342|          -0.70184143|          -0.64570763|          -0.96889178|          -0.85561065|             -0.97343777|          -0.79072154|     -0.02499360799999...|               -0.32564105|                0.40600596|               -0.30185484|                0.11353491|        -0.59910183|       -0.21074593|       -0.31229498|       -0.25142193|       -0.64873824|       -0.59910183|          -0.85026918|       -0.60317325|            0.70229706|            -0.75548371|             0.63520186|            -0.32686711|             0.17917995|            -0.86875596|           -0.69583753|           -0.74699548|           -0.68333473|           -0.98939341|           -0.86875596|              -0.97769955|           -0.80502152|                0.36855309|                -0.74577641|                 0.50390343|                 0.40579536|                -0.55299433|      -0.74175973|      -0.37047418|      -0.54169783|     -0.59792408|         -0.15788015|     -0.26673644|     -0.69546198|      -0.1900231|     -0.40724441|     -0.58986322|     -0.37114543|         -0.23225607|     -0.94907357|     -0.92544256|     -0.91743593|   -0.52310733|        -0.93140916|        -0.66692461|         -0.7609098|     -0.85616032|     -0.69789835|     -0.84600331|       -0.0044360996|          0.24152176|           0.1337695|              -1.0|              -1.0|              -1.0|            -0.621766|          -0.60129805|          -0.47612452|           0.48552709|           0.21381671|          -0.23430109|          -0.62811573|           0.06210063|          -0.27125488|          -0.87009876|          -0.66911521|          -0.81513119|         -0.89850916|          -0.6535219|         -0.86326895|         -0.86306645|         -0.66911355|         -0.83554942|          -0.9367147|         -0.75411792|         -0.89799904|         -0.94636766|         -0.96888759|         -0.90252084|       -0.76076577|            -0.99172578|            -0.93620152|            -0.98492063|         -0.85650424|          -0.7700534|          -0.8031493|             -0.36131492|             0.044567017|             -0.27270496|                 -0.68|                 -0.72|                 -0.72|              -0.34633774|              -0.86852506|              -0.55169544|              -0.65714056|              -0.92745709|              -0.36972051|              -0.84997282|              -0.73264609|                -0.956195|         -0.37539089|       -0.82273127|       -0.62389734|      -0.44130719|      -0.77061732|        -0.587152|      -0.23054879|        -0.802286|      -0.54896604|      -0.58158472|      -0.81275079|      -0.64825886|      -0.96349828|      -0.92466824|      -0.98813351|     -0.6000251|         -0.83263938|         -0.97705434|         -0.90393139|       -0.6856122|      -0.84730508|      -0.68972611|           0.27951208|           0.13253721|           0.20213126|               -1.0|               -1.0|               -1.0|           -0.63525595|           -0.46446244|            -0.6427061|           -0.42393435|            -0.7836726|           -0.12560646|           -0.55059775|          -0.032808416|           -0.37161652|       -0.40526174|0.08567896300000001|      -0.22544394|      0.075332673|      -0.84105201|      -0.40526174|         -0.42883075|      -0.75509446|           0.17207902|               -1.0|           -0.55561013|            0.59053763|            0.40207181|               -0.72619041|              -0.59248301|              -0.67739848|              -0.59049142|              -0.96546941|              -0.72619041|                 -0.93927972|              -0.77165307|                  -0.22219618|                       -1.0|                   -0.59281703|                    0.52864384|                    0.22743418|            -0.44981321|           -0.20359081|           -0.15814813|           -0.33964782|           -0.93009453|           -0.44981321|              -0.68689626|           -0.51047789|                0.28658244|                    -1.0|                -0.65450373|                -0.28108101|                  -0.668047|                -0.76672615|               -0.64139664|               -0.62646918|               -0.63089011|               -0.93318728|               -0.76672615|                  -0.95296312|               -0.60167959|                    0.14592704|                        -1.0|                    -0.80068355|                     0.19603818|                    -0.12889495|                 0.13947517|                         0.039215644|                     -0.49530282|                         0.082695923|          0.27208294|         -0.53412217|         -0.39742768|\n",
      "|  1|     -0.083287063|         0.010297707|      -0.51608391|     -0.73819996|         -0.87810967|     0.057095425|     -0.72951516|     -0.90339208|       0.1959596|     -0.91333655|     -0.37336139|     -0.76047648|          0.43058251|      0.64106859|    -0.082802609|   -0.50926511|        -0.93862048|          -0.9953581|        -0.25490951|     -0.70484711|     -0.93551495|       0.3389489|         -0.38385746|          0.11423424|         -0.27045288|            0.17625362|            -0.2163518|           -0.22420297|            0.40541914|                   1.0|            -0.7962952|            0.35855015|             0.2632019|            0.13530287|           -0.31746064|             0.3489116|            -0.1436701|               -0.19736972|                0.83220742|               -0.49802643|         -0.16876892|          0.91490323|         -0.16464523|        -0.50351963|        -0.92489589|        0.041165989|        -0.48145391|        -0.92938152|        0.050721423|        -0.079814823|         0.88001315|         0.14035366|        -0.25035687|         0.89378867|        -0.31400941|      -0.10550437|           -0.90294148|            0.67960582|           -0.89464194|        -0.41346221|        -0.93882404|        0.035453999|             0.60535882|            0.026247608|            -0.48218121|              -0.86922333|               0.86838559|              -0.86718978|                0.8658244|              -0.52215338|               0.48898291|              -0.48702632|                0.4989435|              -0.87806253|               0.89387366|              -0.90941833|               0.92137086|                  -0.95511348|                   0.97692928|                  -0.98294787|           0.11674395|          -0.01798659|            0.4417175|         -0.88411618|         -0.83923653|         -0.82066281|         -0.91719047|         -0.88109091|         -0.87890478|         -0.91522093|         -0.87034671|         -0.75175543|          0.77505583|          0.81953202|           0.6140536|       -0.88942039|            -0.99254636|            -0.98564798|             -0.9812341|         -0.93716419|         -0.94711619|         -0.93616243|            -0.035489337|             -0.21939338|              0.10111522|                0.23790466|               0.022965739|               -0.13389809|             -0.0087940722|                       1.0|               -0.39775031|                0.47471067|                0.25617406|                0.12564975|               -0.28184934|               -0.19187465|                0.85633131|                    0.75553911|                   -0.13043469|                   -0.16671378|       -0.11308188|          0.11271912|           0.3234831|      -0.63499812|      -0.87574775|      -0.74018705|      -0.77923302|      -0.91311459|      -0.78554958|     -0.013996658|      -0.72586209|      -0.46162541|          0.61508097|       0.83604545|       0.60092726|    -0.70212631|         -0.93425486|         -0.98609245|         -0.94629603|      -0.91413044|      -0.96152823|      -0.84973162|          -0.58201769|           0.52330158|           0.84613362|            -0.33428298|             0.38345214|            -0.22632307|             0.10823037|             0.33614568|             -0.3289666|             0.10065166|                0.38784|           -0.041623802|            -0.16923061|             0.42933317|            -0.19568456|                 0.49596264|                -0.33751141|                 0.41528374|           -0.36091469|           -0.19322027|           -0.11898592|          -0.53690886|          -0.89167835|           -0.8153538|          -0.78868487|          -0.94102246|          -0.85627797|          -0.40144593|          -0.86570097|          -0.73813343|         -0.042438228|           0.82341392|           0.77658024|        -0.88326428|             -0.89098378|             -0.99384606|             -0.98198029|          -0.92648231|          -0.98575563|          -0.90320514|               0.10173986|              -0.23147026|               0.23548349|                -0.20590189|                  0.4497079|                 -0.1409527|                 0.24456147|                  0.2571278|               -0.094023194|               -0.012219871|                 0.17558902|                0.072422456|                -0.34596651|                 0.31034428|       -0.02058280600000...|                     0.67856966|                     0.14682884|                     0.28015946|       -0.47948386|      0.022248669|        0.043651675|      -0.23081744|      -0.95727066|      -0.47948386|         -0.75477385|       0.10433271|           0.46848274|           -0.34828893|            0.15843886|            0.11421596|  -0.05493276599999...|          -0.47948386|         0.022248669|         0.043651675|         -0.23081744|         -0.95727066|         -0.47948386|            -0.75477385|          0.10433271|              0.46848274|              -0.34828893|               0.15843886|               0.11421596|     -0.05493276599999...|           -0.88880599|          -0.75125642|          -0.81165908|          -0.74157896|          -0.97043298|          -0.88880599|              -0.9847336|          -0.90264394|             -0.016722437|                0.31365563|               -0.43683706|                0.16514037|               -0.10602073|        -0.71786906|       -0.48398982|       -0.57316244|       -0.34859787|       -0.78335852|       -0.71786906|          -0.93083433|       -0.80670111|            0.68613748|             -0.1285035|             0.02043053|             0.12963617|            -0.11885994|            -0.87959102|           -0.62769148|           -0.79086231|           -0.48653416|           -0.95582404|           -0.87959102|              -0.97086058|           -0.90870237|                0.38411812|                 0.43620562|                 -0.2032112|                 -0.3776788|                 0.13493077|      -0.82134259|      -0.84075912|      -0.31242653|     -0.71150698|         -0.91077832|      0.14621084|     -0.80274914|     -0.90420939|     -0.12959761|     -0.68999585|     -0.94659208|          0.35202961|     -0.95685098|      -0.8628741|     -0.68428073|    -0.6303106|        -0.96474579|        -0.99142061|        -0.43300127|     -0.91283433|     -0.94784461|     -0.66369821|         -0.15412077|         -0.28213423|          0.17881446|              -1.0|              -0.4|              -1.0|          -0.61751322|           0.65102098|          -0.42073118|            0.6507289|           0.48130459|          -0.65270101|          -0.92272305|           0.35324541|           0.13697594|          -0.86598151|          -0.82101674|           -0.7690232|         -0.92118199|         -0.87832216|         -0.88260826|         -0.89527146|         -0.86697377|         -0.86548616|         -0.95017426|         -0.92110942|          -0.8988344|         -0.98666104|         -0.95172915|         -0.63810522|        -0.7914262|            -0.99253754|            -0.98564916|            -0.98149748|         -0.88710737|         -0.87465145|         -0.84526552|             -0.53173434|             -0.41157097|             -0.27049167|                  0.48|                   1.0|                  -0.6|                0.3681313|               0.92583858|     0.057899372000000005|               -0.9911018|              -0.94559392|               -0.7339632|              -0.97973757|              -0.77255247|              -0.92797336|          -0.4264851|        -0.8303334|       -0.69723778|       -0.7078557|      -0.91589099|      -0.77962949|      -0.54482097|      -0.90567645|      -0.70555521|      -0.76276363|      -0.94642595|      -0.84907646|      -0.70577739|      -0.81524749|      -0.90259649|    -0.63993079|         -0.93279771|         -0.99196859|         -0.96522798|       -0.2280181|      -0.87416888|      -0.69753454|           0.56857677|           0.12328838|           0.24371636|        -0.93333333|        -0.87096774|               -1.0|            0.14216485|            0.66378501|           -0.13435853|           -0.61207742|           -0.85271789|           -0.74740014|           -0.95033332|           -0.43513448|           -0.76143024|       -0.37994767|        0.029689026|      -0.15552906|     0.0068592083|      -0.83946726|      -0.37994767|         -0.47243193|      -0.77519888|            0.1814249|               -1.0|            -0.5879413|            0.47692521|            0.28216185|               -0.78447317|              -0.71403814|              -0.70191354|              -0.79169419|              -0.85858638|              -0.78447317|                 -0.96658402|              -0.84927725|                  -0.13483841|                       -1.0|                     -0.527563|                   -0.14313968|                   -0.63734608|            -0.49524998|           -0.56555304|           -0.46299941|           -0.63479672|           -0.72079099|           -0.49524998|              -0.86547203|           -0.35785668|                0.46115683|              -0.8974359|       -0.07662620099999999|                -0.56181733|                -0.81111439|                -0.61014116|               -0.67951417|               -0.64054137|               -0.77360885|               -0.93132159|               -0.61014116|                  -0.92977879|               -0.73227492|                    0.32511511|                 -0.96825397|                    -0.10207138|                    -0.45380746|                    -0.83752157|                -0.07884902|                          0.13932619|                     -0.17344642|                          0.44403169|          0.36427666|          -0.8048647|          0.14403351|\n",
      "+---+-----------------+--------------------+-----------------+----------------+--------------------+----------------+----------------+----------------+----------------+----------------+----------------+----------------+--------------------+----------------+----------------+--------------+-------------------+--------------------+-------------------+----------------+----------------+----------------+--------------------+--------------------+--------------------+----------------------+----------------------+----------------------+----------------------+----------------------+----------------------+----------------------+----------------------+----------------------+----------------------+----------------------+----------------------+--------------------------+--------------------------+--------------------------+--------------------+--------------------+--------------------+-------------------+-------------------+-------------------+-------------------+-------------------+-------------------+--------------------+-------------------+-------------------+-------------------+-------------------+-------------------+-----------------+----------------------+----------------------+----------------------+-------------------+-------------------+-------------------+-----------------------+-----------------------+-----------------------+-------------------------+-------------------------+-------------------------+-------------------------+-------------------------+-------------------------+-------------------------+-------------------------+-------------------------+-------------------------+-------------------------+-------------------------+-----------------------------+-----------------------------+-----------------------------+---------------------+---------------------+---------------------+--------------------+--------------------+--------------------+--------------------+--------------------+--------------------+--------------------+--------------------+--------------------+--------------------+--------------------+--------------------+------------------+-----------------------+-----------------------+-----------------------+--------------------+--------------------+--------------------+------------------------+------------------------+------------------------+--------------------------+--------------------------+--------------------------+--------------------------+--------------------------+--------------------------+--------------------------+--------------------------+--------------------------+--------------------------+--------------------------+--------------------------+------------------------------+------------------------------+------------------------------+------------------+--------------------+--------------------+-----------------+-----------------+-----------------+-----------------+-----------------+-----------------+-----------------+-----------------+-----------------+--------------------+-----------------+-----------------+---------------+--------------------+--------------------+--------------------+-----------------+-----------------+-----------------+---------------------+---------------------+---------------------+-----------------------+-----------------------+-----------------------+-----------------------+-----------------------+-----------------------+-----------------------+-----------------------+-----------------------+-----------------------+-----------------------+-----------------------+---------------------------+---------------------------+---------------------------+----------------------+----------------------+----------------------+---------------------+---------------------+---------------------+---------------------+---------------------+---------------------+---------------------+---------------------+---------------------+---------------------+---------------------+---------------------+-------------------+------------------------+------------------------+------------------------+---------------------+---------------------+---------------------+-------------------------+-------------------------+-------------------------+---------------------------+---------------------------+---------------------------+---------------------------+---------------------------+---------------------------+---------------------------+---------------------------+---------------------------+---------------------------+---------------------------+---------------------------+-------------------------------+-------------------------------+-------------------------------+------------------+-----------------+-------------------+-----------------+-----------------+-----------------+--------------------+-----------------+---------------------+----------------------+----------------------+----------------------+----------------------+---------------------+--------------------+--------------------+--------------------+--------------------+--------------------+-----------------------+--------------------+------------------------+-------------------------+-------------------------+-------------------------+-------------------------+----------------------+---------------------+---------------------+---------------------+---------------------+---------------------+------------------------+---------------------+-------------------------+--------------------------+--------------------------+--------------------------+--------------------------+-------------------+------------------+------------------+------------------+------------------+------------------+---------------------+------------------+----------------------+-----------------------+-----------------------+-----------------------+-----------------------+-----------------------+----------------------+----------------------+----------------------+----------------------+----------------------+-------------------------+----------------------+--------------------------+---------------------------+---------------------------+---------------------------+---------------------------+-----------------+-----------------+-----------------+----------------+--------------------+----------------+----------------+----------------+----------------+----------------+----------------+--------------------+----------------+----------------+----------------+--------------+-------------------+-------------------+-------------------+----------------+----------------+----------------+--------------------+--------------------+--------------------+------------------+------------------+------------------+---------------------+---------------------+---------------------+---------------------+---------------------+---------------------+---------------------+---------------------+---------------------+---------------------+---------------------+---------------------+--------------------+--------------------+--------------------+--------------------+--------------------+--------------------+--------------------+--------------------+--------------------+--------------------+--------------------+--------------------+------------------+-----------------------+-----------------------+-----------------------+--------------------+--------------------+--------------------+------------------------+------------------------+------------------------+----------------------+----------------------+----------------------+-------------------------+-------------------------+-------------------------+-------------------------+-------------------------+-------------------------+-------------------------+-------------------------+-------------------------+--------------------+------------------+------------------+-----------------+-----------------+-----------------+-----------------+-----------------+-----------------+-----------------+-----------------+-----------------+-----------------+-----------------+-----------------+---------------+--------------------+--------------------+--------------------+-----------------+-----------------+-----------------+---------------------+---------------------+---------------------+-------------------+-------------------+-------------------+----------------------+----------------------+----------------------+----------------------+----------------------+----------------------+----------------------+----------------------+----------------------+------------------+-------------------+-----------------+-----------------+-----------------+-----------------+--------------------+-----------------+---------------------+-------------------+----------------------+----------------------+----------------------+--------------------------+-------------------------+-------------------------+-------------------------+-------------------------+-------------------------+----------------------------+-------------------------+-----------------------------+---------------------------+------------------------------+------------------------------+------------------------------+-----------------------+----------------------+----------------------+----------------------+----------------------+----------------------+-------------------------+----------------------+--------------------------+------------------------+---------------------------+---------------------------+---------------------------+---------------------------+--------------------------+--------------------------+--------------------------+--------------------------+--------------------------+-----------------------------+--------------------------+------------------------------+----------------------------+-------------------------------+-------------------------------+-------------------------------+---------------------------+------------------------------------+--------------------------------+------------------------------------+--------------------+--------------------+--------------------+\n",
      "only showing top 5 rows\n",
      "\n"
     ]
    }
   ],
   "source": [
    "train_x.show(5)"
   ]
  },
  {
   "cell_type": "markdown",
   "metadata": {},
   "source": [
    "# Data exploration (looking for NA, summary stats, counts, )"
   ]
  },
  {
   "cell_type": "code",
   "execution_count": 70,
   "metadata": {},
   "outputs": [
    {
     "name": "stdout",
     "output_type": "stream",
     "text": [
      "+---+-----------------+-----------------+-----------------+----------------+----------------+----------------+----------------+----------------+----------------+----------------+----------------+----------------+----------------+----------------+----------------+--------------+-------------------+-------------------+-------------------+----------------+----------------+----------------+--------------------+--------------------+--------------------+----------------------+----------------------+----------------------+----------------------+----------------------+----------------------+----------------------+----------------------+----------------------+----------------------+----------------------+----------------------+--------------------------+--------------------------+--------------------------+--------------------+--------------------+--------------------+-------------------+-------------------+-------------------+-------------------+-------------------+-------------------+-------------------+-------------------+-------------------+-------------------+-------------------+-------------------+-----------------+----------------------+----------------------+----------------------+-------------------+-------------------+-------------------+-----------------------+-----------------------+-----------------------+-------------------------+-------------------------+-------------------------+-------------------------+-------------------------+-------------------------+-------------------------+-------------------------+-------------------------+-------------------------+-------------------------+-------------------------+-----------------------------+-----------------------------+-----------------------------+---------------------+---------------------+---------------------+--------------------+--------------------+--------------------+--------------------+--------------------+--------------------+--------------------+--------------------+--------------------+--------------------+--------------------+--------------------+------------------+-----------------------+-----------------------+-----------------------+--------------------+--------------------+--------------------+------------------------+------------------------+------------------------+--------------------------+--------------------------+--------------------------+--------------------------+--------------------------+--------------------------+--------------------------+--------------------------+--------------------------+--------------------------+--------------------------+--------------------------+------------------------------+------------------------------+------------------------------+------------------+------------------+------------------+-----------------+-----------------+-----------------+-----------------+-----------------+-----------------+-----------------+-----------------+-----------------+-----------------+-----------------+-----------------+---------------+--------------------+--------------------+--------------------+-----------------+-----------------+-----------------+---------------------+---------------------+---------------------+-----------------------+-----------------------+-----------------------+-----------------------+-----------------------+-----------------------+-----------------------+-----------------------+-----------------------+-----------------------+-----------------------+-----------------------+---------------------------+---------------------------+---------------------------+----------------------+----------------------+----------------------+---------------------+---------------------+---------------------+---------------------+---------------------+---------------------+---------------------+---------------------+---------------------+---------------------+---------------------+---------------------+-------------------+------------------------+------------------------+------------------------+---------------------+---------------------+---------------------+-------------------------+-------------------------+-------------------------+---------------------------+---------------------------+---------------------------+---------------------------+---------------------------+---------------------------+---------------------------+---------------------------+---------------------------+---------------------------+---------------------------+---------------------------+-------------------------------+-------------------------------+-------------------------------+------------------+-----------------+-----------------+-----------------+-----------------+-----------------+--------------------+-----------------+---------------------+----------------------+----------------------+----------------------+----------------------+---------------------+--------------------+--------------------+--------------------+--------------------+--------------------+-----------------------+--------------------+------------------------+-------------------------+-------------------------+-------------------------+-------------------------+----------------------+---------------------+---------------------+---------------------+---------------------+---------------------+------------------------+---------------------+-------------------------+--------------------------+--------------------------+--------------------------+--------------------------+-------------------+------------------+------------------+------------------+------------------+------------------+---------------------+------------------+----------------------+-----------------------+-----------------------+-----------------------+-----------------------+-----------------------+----------------------+----------------------+----------------------+----------------------+----------------------+-------------------------+----------------------+--------------------------+---------------------------+---------------------------+---------------------------+---------------------------+-----------------+-----------------+-----------------+----------------+----------------+----------------+----------------+----------------+----------------+----------------+----------------+----------------+----------------+----------------+----------------+--------------+-------------------+-------------------+-------------------+----------------+----------------+----------------+--------------------+--------------------+--------------------+------------------+------------------+------------------+---------------------+---------------------+---------------------+---------------------+---------------------+---------------------+---------------------+---------------------+---------------------+---------------------+---------------------+---------------------+--------------------+--------------------+--------------------+--------------------+--------------------+--------------------+--------------------+--------------------+--------------------+--------------------+--------------------+--------------------+------------------+-----------------------+-----------------------+-----------------------+--------------------+--------------------+--------------------+------------------------+------------------------+------------------------+----------------------+----------------------+----------------------+-------------------------+-------------------------+-------------------------+-------------------------+-------------------------+-------------------------+-------------------------+-------------------------+-------------------------+------------------+------------------+------------------+-----------------+-----------------+-----------------+-----------------+-----------------+-----------------+-----------------+-----------------+-----------------+-----------------+-----------------+-----------------+---------------+--------------------+--------------------+--------------------+-----------------+-----------------+-----------------+---------------------+---------------------+---------------------+-------------------+-------------------+-------------------+----------------------+----------------------+----------------------+----------------------+----------------------+----------------------+----------------------+----------------------+----------------------+------------------+-----------------+-----------------+-----------------+-----------------+-----------------+--------------------+-----------------+---------------------+-------------------+----------------------+----------------------+----------------------+--------------------------+-------------------------+-------------------------+-------------------------+-------------------------+-------------------------+----------------------------+-------------------------+-----------------------------+---------------------------+------------------------------+------------------------------+------------------------------+-----------------------+----------------------+----------------------+----------------------+----------------------+----------------------+-------------------------+----------------------+--------------------------+------------------------+---------------------------+---------------------------+---------------------------+---------------------------+--------------------------+--------------------------+--------------------------+--------------------------+--------------------------+-----------------------------+--------------------------+------------------------------+----------------------------+-------------------------------+-------------------------------+-------------------------------+---------------------------+------------------------------------+--------------------------------+------------------------------------+--------------------+--------------------+--------------------+\n",
      "| id|tBodyAcc-mean()-X|tBodyAcc-mean()-Y|tBodyAcc-mean()-Z|tBodyAcc-std()-X|tBodyAcc-std()-Y|tBodyAcc-std()-Z|tBodyAcc-mad()-X|tBodyAcc-mad()-Y|tBodyAcc-mad()-Z|tBodyAcc-max()-X|tBodyAcc-max()-Y|tBodyAcc-max()-Z|tBodyAcc-min()-X|tBodyAcc-min()-Y|tBodyAcc-min()-Z|tBodyAcc-sma()|tBodyAcc-energy()-X|tBodyAcc-energy()-Y|tBodyAcc-energy()-Z|tBodyAcc-iqr()-X|tBodyAcc-iqr()-Y|tBodyAcc-iqr()-Z|tBodyAcc-entropy()-X|tBodyAcc-entropy()-Y|tBodyAcc-entropy()-Z|tBodyAcc-arCoeff()-X,1|tBodyAcc-arCoeff()-X,2|tBodyAcc-arCoeff()-X,3|tBodyAcc-arCoeff()-X,4|tBodyAcc-arCoeff()-Y,1|tBodyAcc-arCoeff()-Y,2|tBodyAcc-arCoeff()-Y,3|tBodyAcc-arCoeff()-Y,4|tBodyAcc-arCoeff()-Z,1|tBodyAcc-arCoeff()-Z,2|tBodyAcc-arCoeff()-Z,3|tBodyAcc-arCoeff()-Z,4|tBodyAcc-correlation()-X,Y|tBodyAcc-correlation()-X,Z|tBodyAcc-correlation()-Y,Z|tGravityAcc-mean()-X|tGravityAcc-mean()-Y|tGravityAcc-mean()-Z|tGravityAcc-std()-X|tGravityAcc-std()-Y|tGravityAcc-std()-Z|tGravityAcc-mad()-X|tGravityAcc-mad()-Y|tGravityAcc-mad()-Z|tGravityAcc-max()-X|tGravityAcc-max()-Y|tGravityAcc-max()-Z|tGravityAcc-min()-X|tGravityAcc-min()-Y|tGravityAcc-min()-Z|tGravityAcc-sma()|tGravityAcc-energy()-X|tGravityAcc-energy()-Y|tGravityAcc-energy()-Z|tGravityAcc-iqr()-X|tGravityAcc-iqr()-Y|tGravityAcc-iqr()-Z|tGravityAcc-entropy()-X|tGravityAcc-entropy()-Y|tGravityAcc-entropy()-Z|tGravityAcc-arCoeff()-X,1|tGravityAcc-arCoeff()-X,2|tGravityAcc-arCoeff()-X,3|tGravityAcc-arCoeff()-X,4|tGravityAcc-arCoeff()-Y,1|tGravityAcc-arCoeff()-Y,2|tGravityAcc-arCoeff()-Y,3|tGravityAcc-arCoeff()-Y,4|tGravityAcc-arCoeff()-Z,1|tGravityAcc-arCoeff()-Z,2|tGravityAcc-arCoeff()-Z,3|tGravityAcc-arCoeff()-Z,4|tGravityAcc-correlation()-X,Y|tGravityAcc-correlation()-X,Z|tGravityAcc-correlation()-Y,Z|tBodyAccJerk-mean()-X|tBodyAccJerk-mean()-Y|tBodyAccJerk-mean()-Z|tBodyAccJerk-std()-X|tBodyAccJerk-std()-Y|tBodyAccJerk-std()-Z|tBodyAccJerk-mad()-X|tBodyAccJerk-mad()-Y|tBodyAccJerk-mad()-Z|tBodyAccJerk-max()-X|tBodyAccJerk-max()-Y|tBodyAccJerk-max()-Z|tBodyAccJerk-min()-X|tBodyAccJerk-min()-Y|tBodyAccJerk-min()-Z|tBodyAccJerk-sma()|tBodyAccJerk-energy()-X|tBodyAccJerk-energy()-Y|tBodyAccJerk-energy()-Z|tBodyAccJerk-iqr()-X|tBodyAccJerk-iqr()-Y|tBodyAccJerk-iqr()-Z|tBodyAccJerk-entropy()-X|tBodyAccJerk-entropy()-Y|tBodyAccJerk-entropy()-Z|tBodyAccJerk-arCoeff()-X,1|tBodyAccJerk-arCoeff()-X,2|tBodyAccJerk-arCoeff()-X,3|tBodyAccJerk-arCoeff()-X,4|tBodyAccJerk-arCoeff()-Y,1|tBodyAccJerk-arCoeff()-Y,2|tBodyAccJerk-arCoeff()-Y,3|tBodyAccJerk-arCoeff()-Y,4|tBodyAccJerk-arCoeff()-Z,1|tBodyAccJerk-arCoeff()-Z,2|tBodyAccJerk-arCoeff()-Z,3|tBodyAccJerk-arCoeff()-Z,4|tBodyAccJerk-correlation()-X,Y|tBodyAccJerk-correlation()-X,Z|tBodyAccJerk-correlation()-Y,Z|tBodyGyro-mean()-X|tBodyGyro-mean()-Y|tBodyGyro-mean()-Z|tBodyGyro-std()-X|tBodyGyro-std()-Y|tBodyGyro-std()-Z|tBodyGyro-mad()-X|tBodyGyro-mad()-Y|tBodyGyro-mad()-Z|tBodyGyro-max()-X|tBodyGyro-max()-Y|tBodyGyro-max()-Z|tBodyGyro-min()-X|tBodyGyro-min()-Y|tBodyGyro-min()-Z|tBodyGyro-sma()|tBodyGyro-energy()-X|tBodyGyro-energy()-Y|tBodyGyro-energy()-Z|tBodyGyro-iqr()-X|tBodyGyro-iqr()-Y|tBodyGyro-iqr()-Z|tBodyGyro-entropy()-X|tBodyGyro-entropy()-Y|tBodyGyro-entropy()-Z|tBodyGyro-arCoeff()-X,1|tBodyGyro-arCoeff()-X,2|tBodyGyro-arCoeff()-X,3|tBodyGyro-arCoeff()-X,4|tBodyGyro-arCoeff()-Y,1|tBodyGyro-arCoeff()-Y,2|tBodyGyro-arCoeff()-Y,3|tBodyGyro-arCoeff()-Y,4|tBodyGyro-arCoeff()-Z,1|tBodyGyro-arCoeff()-Z,2|tBodyGyro-arCoeff()-Z,3|tBodyGyro-arCoeff()-Z,4|tBodyGyro-correlation()-X,Y|tBodyGyro-correlation()-X,Z|tBodyGyro-correlation()-Y,Z|tBodyGyroJerk-mean()-X|tBodyGyroJerk-mean()-Y|tBodyGyroJerk-mean()-Z|tBodyGyroJerk-std()-X|tBodyGyroJerk-std()-Y|tBodyGyroJerk-std()-Z|tBodyGyroJerk-mad()-X|tBodyGyroJerk-mad()-Y|tBodyGyroJerk-mad()-Z|tBodyGyroJerk-max()-X|tBodyGyroJerk-max()-Y|tBodyGyroJerk-max()-Z|tBodyGyroJerk-min()-X|tBodyGyroJerk-min()-Y|tBodyGyroJerk-min()-Z|tBodyGyroJerk-sma()|tBodyGyroJerk-energy()-X|tBodyGyroJerk-energy()-Y|tBodyGyroJerk-energy()-Z|tBodyGyroJerk-iqr()-X|tBodyGyroJerk-iqr()-Y|tBodyGyroJerk-iqr()-Z|tBodyGyroJerk-entropy()-X|tBodyGyroJerk-entropy()-Y|tBodyGyroJerk-entropy()-Z|tBodyGyroJerk-arCoeff()-X,1|tBodyGyroJerk-arCoeff()-X,2|tBodyGyroJerk-arCoeff()-X,3|tBodyGyroJerk-arCoeff()-X,4|tBodyGyroJerk-arCoeff()-Y,1|tBodyGyroJerk-arCoeff()-Y,2|tBodyGyroJerk-arCoeff()-Y,3|tBodyGyroJerk-arCoeff()-Y,4|tBodyGyroJerk-arCoeff()-Z,1|tBodyGyroJerk-arCoeff()-Z,2|tBodyGyroJerk-arCoeff()-Z,3|tBodyGyroJerk-arCoeff()-Z,4|tBodyGyroJerk-correlation()-X,Y|tBodyGyroJerk-correlation()-X,Z|tBodyGyroJerk-correlation()-Y,Z|tBodyAccMag-mean()|tBodyAccMag-std()|tBodyAccMag-mad()|tBodyAccMag-max()|tBodyAccMag-min()|tBodyAccMag-sma()|tBodyAccMag-energy()|tBodyAccMag-iqr()|tBodyAccMag-entropy()|tBodyAccMag-arCoeff()1|tBodyAccMag-arCoeff()2|tBodyAccMag-arCoeff()3|tBodyAccMag-arCoeff()4|tGravityAccMag-mean()|tGravityAccMag-std()|tGravityAccMag-mad()|tGravityAccMag-max()|tGravityAccMag-min()|tGravityAccMag-sma()|tGravityAccMag-energy()|tGravityAccMag-iqr()|tGravityAccMag-entropy()|tGravityAccMag-arCoeff()1|tGravityAccMag-arCoeff()2|tGravityAccMag-arCoeff()3|tGravityAccMag-arCoeff()4|tBodyAccJerkMag-mean()|tBodyAccJerkMag-std()|tBodyAccJerkMag-mad()|tBodyAccJerkMag-max()|tBodyAccJerkMag-min()|tBodyAccJerkMag-sma()|tBodyAccJerkMag-energy()|tBodyAccJerkMag-iqr()|tBodyAccJerkMag-entropy()|tBodyAccJerkMag-arCoeff()1|tBodyAccJerkMag-arCoeff()2|tBodyAccJerkMag-arCoeff()3|tBodyAccJerkMag-arCoeff()4|tBodyGyroMag-mean()|tBodyGyroMag-std()|tBodyGyroMag-mad()|tBodyGyroMag-max()|tBodyGyroMag-min()|tBodyGyroMag-sma()|tBodyGyroMag-energy()|tBodyGyroMag-iqr()|tBodyGyroMag-entropy()|tBodyGyroMag-arCoeff()1|tBodyGyroMag-arCoeff()2|tBodyGyroMag-arCoeff()3|tBodyGyroMag-arCoeff()4|tBodyGyroJerkMag-mean()|tBodyGyroJerkMag-std()|tBodyGyroJerkMag-mad()|tBodyGyroJerkMag-max()|tBodyGyroJerkMag-min()|tBodyGyroJerkMag-sma()|tBodyGyroJerkMag-energy()|tBodyGyroJerkMag-iqr()|tBodyGyroJerkMag-entropy()|tBodyGyroJerkMag-arCoeff()1|tBodyGyroJerkMag-arCoeff()2|tBodyGyroJerkMag-arCoeff()3|tBodyGyroJerkMag-arCoeff()4|fBodyAcc-mean()-X|fBodyAcc-mean()-Y|fBodyAcc-mean()-Z|fBodyAcc-std()-X|fBodyAcc-std()-Y|fBodyAcc-std()-Z|fBodyAcc-mad()-X|fBodyAcc-mad()-Y|fBodyAcc-mad()-Z|fBodyAcc-max()-X|fBodyAcc-max()-Y|fBodyAcc-max()-Z|fBodyAcc-min()-X|fBodyAcc-min()-Y|fBodyAcc-min()-Z|fBodyAcc-sma()|fBodyAcc-energy()-X|fBodyAcc-energy()-Y|fBodyAcc-energy()-Z|fBodyAcc-iqr()-X|fBodyAcc-iqr()-Y|fBodyAcc-iqr()-Z|fBodyAcc-entropy()-X|fBodyAcc-entropy()-Y|fBodyAcc-entropy()-Z|fBodyAcc-maxInds-X|fBodyAcc-maxInds-Y|fBodyAcc-maxInds-Z|fBodyAcc-meanFreq()-X|fBodyAcc-meanFreq()-Y|fBodyAcc-meanFreq()-Z|fBodyAcc-skewness()-X|fBodyAcc-kurtosis()-X|fBodyAcc-skewness()-Y|fBodyAcc-kurtosis()-Y|fBodyAcc-skewness()-Z|fBodyAcc-kurtosis()-Z|fBodyAccJerk-mean()-X|fBodyAccJerk-mean()-Y|fBodyAccJerk-mean()-Z|fBodyAccJerk-std()-X|fBodyAccJerk-std()-Y|fBodyAccJerk-std()-Z|fBodyAccJerk-mad()-X|fBodyAccJerk-mad()-Y|fBodyAccJerk-mad()-Z|fBodyAccJerk-max()-X|fBodyAccJerk-max()-Y|fBodyAccJerk-max()-Z|fBodyAccJerk-min()-X|fBodyAccJerk-min()-Y|fBodyAccJerk-min()-Z|fBodyAccJerk-sma()|fBodyAccJerk-energy()-X|fBodyAccJerk-energy()-Y|fBodyAccJerk-energy()-Z|fBodyAccJerk-iqr()-X|fBodyAccJerk-iqr()-Y|fBodyAccJerk-iqr()-Z|fBodyAccJerk-entropy()-X|fBodyAccJerk-entropy()-Y|fBodyAccJerk-entropy()-Z|fBodyAccJerk-maxInds-X|fBodyAccJerk-maxInds-Y|fBodyAccJerk-maxInds-Z|fBodyAccJerk-meanFreq()-X|fBodyAccJerk-meanFreq()-Y|fBodyAccJerk-meanFreq()-Z|fBodyAccJerk-skewness()-X|fBodyAccJerk-kurtosis()-X|fBodyAccJerk-skewness()-Y|fBodyAccJerk-kurtosis()-Y|fBodyAccJerk-skewness()-Z|fBodyAccJerk-kurtosis()-Z|fBodyGyro-mean()-X|fBodyGyro-mean()-Y|fBodyGyro-mean()-Z|fBodyGyro-std()-X|fBodyGyro-std()-Y|fBodyGyro-std()-Z|fBodyGyro-mad()-X|fBodyGyro-mad()-Y|fBodyGyro-mad()-Z|fBodyGyro-max()-X|fBodyGyro-max()-Y|fBodyGyro-max()-Z|fBodyGyro-min()-X|fBodyGyro-min()-Y|fBodyGyro-min()-Z|fBodyGyro-sma()|fBodyGyro-energy()-X|fBodyGyro-energy()-Y|fBodyGyro-energy()-Z|fBodyGyro-iqr()-X|fBodyGyro-iqr()-Y|fBodyGyro-iqr()-Z|fBodyGyro-entropy()-X|fBodyGyro-entropy()-Y|fBodyGyro-entropy()-Z|fBodyGyro-maxInds-X|fBodyGyro-maxInds-Y|fBodyGyro-maxInds-Z|fBodyGyro-meanFreq()-X|fBodyGyro-meanFreq()-Y|fBodyGyro-meanFreq()-Z|fBodyGyro-skewness()-X|fBodyGyro-kurtosis()-X|fBodyGyro-skewness()-Y|fBodyGyro-kurtosis()-Y|fBodyGyro-skewness()-Z|fBodyGyro-kurtosis()-Z|fBodyAccMag-mean()|fBodyAccMag-std()|fBodyAccMag-mad()|fBodyAccMag-max()|fBodyAccMag-min()|fBodyAccMag-sma()|fBodyAccMag-energy()|fBodyAccMag-iqr()|fBodyAccMag-entropy()|fBodyAccMag-maxInds|fBodyAccMag-meanFreq()|fBodyAccMag-skewness()|fBodyAccMag-kurtosis()|fBodyBodyAccJerkMag-mean()|fBodyBodyAccJerkMag-std()|fBodyBodyAccJerkMag-mad()|fBodyBodyAccJerkMag-max()|fBodyBodyAccJerkMag-min()|fBodyBodyAccJerkMag-sma()|fBodyBodyAccJerkMag-energy()|fBodyBodyAccJerkMag-iqr()|fBodyBodyAccJerkMag-entropy()|fBodyBodyAccJerkMag-maxInds|fBodyBodyAccJerkMag-meanFreq()|fBodyBodyAccJerkMag-skewness()|fBodyBodyAccJerkMag-kurtosis()|fBodyBodyGyroMag-mean()|fBodyBodyGyroMag-std()|fBodyBodyGyroMag-mad()|fBodyBodyGyroMag-max()|fBodyBodyGyroMag-min()|fBodyBodyGyroMag-sma()|fBodyBodyGyroMag-energy()|fBodyBodyGyroMag-iqr()|fBodyBodyGyroMag-entropy()|fBodyBodyGyroMag-maxInds|fBodyBodyGyroMag-meanFreq()|fBodyBodyGyroMag-skewness()|fBodyBodyGyroMag-kurtosis()|fBodyBodyGyroJerkMag-mean()|fBodyBodyGyroJerkMag-std()|fBodyBodyGyroJerkMag-mad()|fBodyBodyGyroJerkMag-max()|fBodyBodyGyroJerkMag-min()|fBodyBodyGyroJerkMag-sma()|fBodyBodyGyroJerkMag-energy()|fBodyBodyGyroJerkMag-iqr()|fBodyBodyGyroJerkMag-entropy()|fBodyBodyGyroJerkMag-maxInds|fBodyBodyGyroJerkMag-meanFreq()|fBodyBodyGyroJerkMag-skewness()|fBodyBodyGyroJerkMag-kurtosis()|angle(tBodyAccMean,gravity)|angle(tBodyAccJerkMean),gravityMean)|angle(tBodyGyroMean,gravityMean)|angle(tBodyGyroJerkMean,gravityMean)|angle(X,gravityMean)|angle(Y,gravityMean)|angle(Z,gravityMean)|\n",
      "+---+-----------------+-----------------+-----------------+----------------+----------------+----------------+----------------+----------------+----------------+----------------+----------------+----------------+----------------+----------------+----------------+--------------+-------------------+-------------------+-------------------+----------------+----------------+----------------+--------------------+--------------------+--------------------+----------------------+----------------------+----------------------+----------------------+----------------------+----------------------+----------------------+----------------------+----------------------+----------------------+----------------------+----------------------+--------------------------+--------------------------+--------------------------+--------------------+--------------------+--------------------+-------------------+-------------------+-------------------+-------------------+-------------------+-------------------+-------------------+-------------------+-------------------+-------------------+-------------------+-------------------+-----------------+----------------------+----------------------+----------------------+-------------------+-------------------+-------------------+-----------------------+-----------------------+-----------------------+-------------------------+-------------------------+-------------------------+-------------------------+-------------------------+-------------------------+-------------------------+-------------------------+-------------------------+-------------------------+-------------------------+-------------------------+-----------------------------+-----------------------------+-----------------------------+---------------------+---------------------+---------------------+--------------------+--------------------+--------------------+--------------------+--------------------+--------------------+--------------------+--------------------+--------------------+--------------------+--------------------+--------------------+------------------+-----------------------+-----------------------+-----------------------+--------------------+--------------------+--------------------+------------------------+------------------------+------------------------+--------------------------+--------------------------+--------------------------+--------------------------+--------------------------+--------------------------+--------------------------+--------------------------+--------------------------+--------------------------+--------------------------+--------------------------+------------------------------+------------------------------+------------------------------+------------------+------------------+------------------+-----------------+-----------------+-----------------+-----------------+-----------------+-----------------+-----------------+-----------------+-----------------+-----------------+-----------------+-----------------+---------------+--------------------+--------------------+--------------------+-----------------+-----------------+-----------------+---------------------+---------------------+---------------------+-----------------------+-----------------------+-----------------------+-----------------------+-----------------------+-----------------------+-----------------------+-----------------------+-----------------------+-----------------------+-----------------------+-----------------------+---------------------------+---------------------------+---------------------------+----------------------+----------------------+----------------------+---------------------+---------------------+---------------------+---------------------+---------------------+---------------------+---------------------+---------------------+---------------------+---------------------+---------------------+---------------------+-------------------+------------------------+------------------------+------------------------+---------------------+---------------------+---------------------+-------------------------+-------------------------+-------------------------+---------------------------+---------------------------+---------------------------+---------------------------+---------------------------+---------------------------+---------------------------+---------------------------+---------------------------+---------------------------+---------------------------+---------------------------+-------------------------------+-------------------------------+-------------------------------+------------------+-----------------+-----------------+-----------------+-----------------+-----------------+--------------------+-----------------+---------------------+----------------------+----------------------+----------------------+----------------------+---------------------+--------------------+--------------------+--------------------+--------------------+--------------------+-----------------------+--------------------+------------------------+-------------------------+-------------------------+-------------------------+-------------------------+----------------------+---------------------+---------------------+---------------------+---------------------+---------------------+------------------------+---------------------+-------------------------+--------------------------+--------------------------+--------------------------+--------------------------+-------------------+------------------+------------------+------------------+------------------+------------------+---------------------+------------------+----------------------+-----------------------+-----------------------+-----------------------+-----------------------+-----------------------+----------------------+----------------------+----------------------+----------------------+----------------------+-------------------------+----------------------+--------------------------+---------------------------+---------------------------+---------------------------+---------------------------+-----------------+-----------------+-----------------+----------------+----------------+----------------+----------------+----------------+----------------+----------------+----------------+----------------+----------------+----------------+----------------+--------------+-------------------+-------------------+-------------------+----------------+----------------+----------------+--------------------+--------------------+--------------------+------------------+------------------+------------------+---------------------+---------------------+---------------------+---------------------+---------------------+---------------------+---------------------+---------------------+---------------------+---------------------+---------------------+---------------------+--------------------+--------------------+--------------------+--------------------+--------------------+--------------------+--------------------+--------------------+--------------------+--------------------+--------------------+--------------------+------------------+-----------------------+-----------------------+-----------------------+--------------------+--------------------+--------------------+------------------------+------------------------+------------------------+----------------------+----------------------+----------------------+-------------------------+-------------------------+-------------------------+-------------------------+-------------------------+-------------------------+-------------------------+-------------------------+-------------------------+------------------+------------------+------------------+-----------------+-----------------+-----------------+-----------------+-----------------+-----------------+-----------------+-----------------+-----------------+-----------------+-----------------+-----------------+---------------+--------------------+--------------------+--------------------+-----------------+-----------------+-----------------+---------------------+---------------------+---------------------+-------------------+-------------------+-------------------+----------------------+----------------------+----------------------+----------------------+----------------------+----------------------+----------------------+----------------------+----------------------+------------------+-----------------+-----------------+-----------------+-----------------+-----------------+--------------------+-----------------+---------------------+-------------------+----------------------+----------------------+----------------------+--------------------------+-------------------------+-------------------------+-------------------------+-------------------------+-------------------------+----------------------------+-------------------------+-----------------------------+---------------------------+------------------------------+------------------------------+------------------------------+-----------------------+----------------------+----------------------+----------------------+----------------------+----------------------+-------------------------+----------------------+--------------------------+------------------------+---------------------------+---------------------------+---------------------------+---------------------------+--------------------------+--------------------------+--------------------------+--------------------------+--------------------------+-----------------------------+--------------------------+------------------------------+----------------------------+-------------------------------+-------------------------------+-------------------------------+---------------------------+------------------------------------+--------------------------------+------------------------------------+--------------------+--------------------+--------------------+\n",
      "|  0|                0|                0|                0|               0|               0|               0|               0|               0|               0|               0|               0|               0|               0|               0|               0|             0|                  0|                  0|                  0|               0|               0|               0|                   0|                   0|                   0|                     0|                     0|                     0|                     0|                     0|                     0|                     0|                     0|                     0|                     0|                     0|                     0|                         0|                         0|                         0|                   0|                   0|                   0|                  0|                  0|                  0|                  0|                  0|                  0|                  0|                  0|                  0|                  0|                  0|                  0|                0|                     0|                     0|                     0|                  0|                  0|                  0|                      0|                      0|                      0|                        0|                        0|                        0|                        0|                        0|                        0|                        0|                        0|                        0|                        0|                        0|                        0|                            0|                            0|                            0|                    0|                    0|                    0|                   0|                   0|                   0|                   0|                   0|                   0|                   0|                   0|                   0|                   0|                   0|                   0|                 0|                      0|                      0|                      0|                   0|                   0|                   0|                       0|                       0|                       0|                         0|                         0|                         0|                         0|                         0|                         0|                         0|                         0|                         0|                         0|                         0|                         0|                             0|                             0|                             0|                 0|                 0|                 0|                0|                0|                0|                0|                0|                0|                0|                0|                0|                0|                0|                0|              0|                   0|                   0|                   0|                0|                0|                0|                    0|                    0|                    0|                      0|                      0|                      0|                      0|                      0|                      0|                      0|                      0|                      0|                      0|                      0|                      0|                          0|                          0|                          0|                     0|                     0|                     0|                    0|                    0|                    0|                    0|                    0|                    0|                    0|                    0|                    0|                    0|                    0|                    0|                  0|                       0|                       0|                       0|                    0|                    0|                    0|                        0|                        0|                        0|                          0|                          0|                          0|                          0|                          0|                          0|                          0|                          0|                          0|                          0|                          0|                          0|                              0|                              0|                              0|                 0|                0|                0|                0|                0|                0|                   0|                0|                    0|                     0|                     0|                     0|                     0|                    0|                   0|                   0|                   0|                   0|                   0|                      0|                   0|                       0|                        0|                        0|                        0|                        0|                     0|                    0|                    0|                    0|                    0|                    0|                       0|                    0|                        0|                         0|                         0|                         0|                         0|                  0|                 0|                 0|                 0|                 0|                 0|                    0|                 0|                     0|                      0|                      0|                      0|                      0|                      0|                     0|                     0|                     0|                     0|                     0|                        0|                     0|                         0|                          0|                          0|                          0|                          0|                0|                0|                0|               0|               0|               0|               0|               0|               0|               0|               0|               0|               0|               0|               0|             0|                  0|                  0|                  0|               0|               0|               0|                   0|                   0|                   0|                 0|                 0|                 0|                    0|                    0|                    0|                    0|                    0|                    0|                    0|                    0|                    0|                    0|                    0|                    0|                   0|                   0|                   0|                   0|                   0|                   0|                   0|                   0|                   0|                   0|                   0|                   0|                 0|                      0|                      0|                      0|                   0|                   0|                   0|                       0|                       0|                       0|                     0|                     0|                     0|                        0|                        0|                        0|                        0|                        0|                        0|                        0|                        0|                        0|                 0|                 0|                 0|                0|                0|                0|                0|                0|                0|                0|                0|                0|                0|                0|                0|              0|                   0|                   0|                   0|                0|                0|                0|                    0|                    0|                    0|                  0|                  0|                  0|                     0|                     0|                     0|                     0|                     0|                     0|                     0|                     0|                     0|                 0|                0|                0|                0|                0|                0|                   0|                0|                    0|                  0|                     0|                     0|                     0|                         0|                        0|                        0|                        0|                        0|                        0|                           0|                        0|                            0|                          0|                             0|                             0|                             0|                      0|                     0|                     0|                     0|                     0|                     0|                        0|                     0|                         0|                       0|                          0|                          0|                          0|                          0|                         0|                         0|                         0|                         0|                         0|                            0|                         0|                             0|                           0|                              0|                              0|                              0|                          0|                                   0|                               0|                                   0|                   0|                   0|                   0|\n",
      "+---+-----------------+-----------------+-----------------+----------------+----------------+----------------+----------------+----------------+----------------+----------------+----------------+----------------+----------------+----------------+----------------+--------------+-------------------+-------------------+-------------------+----------------+----------------+----------------+--------------------+--------------------+--------------------+----------------------+----------------------+----------------------+----------------------+----------------------+----------------------+----------------------+----------------------+----------------------+----------------------+----------------------+----------------------+--------------------------+--------------------------+--------------------------+--------------------+--------------------+--------------------+-------------------+-------------------+-------------------+-------------------+-------------------+-------------------+-------------------+-------------------+-------------------+-------------------+-------------------+-------------------+-----------------+----------------------+----------------------+----------------------+-------------------+-------------------+-------------------+-----------------------+-----------------------+-----------------------+-------------------------+-------------------------+-------------------------+-------------------------+-------------------------+-------------------------+-------------------------+-------------------------+-------------------------+-------------------------+-------------------------+-------------------------+-----------------------------+-----------------------------+-----------------------------+---------------------+---------------------+---------------------+--------------------+--------------------+--------------------+--------------------+--------------------+--------------------+--------------------+--------------------+--------------------+--------------------+--------------------+--------------------+------------------+-----------------------+-----------------------+-----------------------+--------------------+--------------------+--------------------+------------------------+------------------------+------------------------+--------------------------+--------------------------+--------------------------+--------------------------+--------------------------+--------------------------+--------------------------+--------------------------+--------------------------+--------------------------+--------------------------+--------------------------+------------------------------+------------------------------+------------------------------+------------------+------------------+------------------+-----------------+-----------------+-----------------+-----------------+-----------------+-----------------+-----------------+-----------------+-----------------+-----------------+-----------------+-----------------+---------------+--------------------+--------------------+--------------------+-----------------+-----------------+-----------------+---------------------+---------------------+---------------------+-----------------------+-----------------------+-----------------------+-----------------------+-----------------------+-----------------------+-----------------------+-----------------------+-----------------------+-----------------------+-----------------------+-----------------------+---------------------------+---------------------------+---------------------------+----------------------+----------------------+----------------------+---------------------+---------------------+---------------------+---------------------+---------------------+---------------------+---------------------+---------------------+---------------------+---------------------+---------------------+---------------------+-------------------+------------------------+------------------------+------------------------+---------------------+---------------------+---------------------+-------------------------+-------------------------+-------------------------+---------------------------+---------------------------+---------------------------+---------------------------+---------------------------+---------------------------+---------------------------+---------------------------+---------------------------+---------------------------+---------------------------+---------------------------+-------------------------------+-------------------------------+-------------------------------+------------------+-----------------+-----------------+-----------------+-----------------+-----------------+--------------------+-----------------+---------------------+----------------------+----------------------+----------------------+----------------------+---------------------+--------------------+--------------------+--------------------+--------------------+--------------------+-----------------------+--------------------+------------------------+-------------------------+-------------------------+-------------------------+-------------------------+----------------------+---------------------+---------------------+---------------------+---------------------+---------------------+------------------------+---------------------+-------------------------+--------------------------+--------------------------+--------------------------+--------------------------+-------------------+------------------+------------------+------------------+------------------+------------------+---------------------+------------------+----------------------+-----------------------+-----------------------+-----------------------+-----------------------+-----------------------+----------------------+----------------------+----------------------+----------------------+----------------------+-------------------------+----------------------+--------------------------+---------------------------+---------------------------+---------------------------+---------------------------+-----------------+-----------------+-----------------+----------------+----------------+----------------+----------------+----------------+----------------+----------------+----------------+----------------+----------------+----------------+----------------+--------------+-------------------+-------------------+-------------------+----------------+----------------+----------------+--------------------+--------------------+--------------------+------------------+------------------+------------------+---------------------+---------------------+---------------------+---------------------+---------------------+---------------------+---------------------+---------------------+---------------------+---------------------+---------------------+---------------------+--------------------+--------------------+--------------------+--------------------+--------------------+--------------------+--------------------+--------------------+--------------------+--------------------+--------------------+--------------------+------------------+-----------------------+-----------------------+-----------------------+--------------------+--------------------+--------------------+------------------------+------------------------+------------------------+----------------------+----------------------+----------------------+-------------------------+-------------------------+-------------------------+-------------------------+-------------------------+-------------------------+-------------------------+-------------------------+-------------------------+------------------+------------------+------------------+-----------------+-----------------+-----------------+-----------------+-----------------+-----------------+-----------------+-----------------+-----------------+-----------------+-----------------+-----------------+---------------+--------------------+--------------------+--------------------+-----------------+-----------------+-----------------+---------------------+---------------------+---------------------+-------------------+-------------------+-------------------+----------------------+----------------------+----------------------+----------------------+----------------------+----------------------+----------------------+----------------------+----------------------+------------------+-----------------+-----------------+-----------------+-----------------+-----------------+--------------------+-----------------+---------------------+-------------------+----------------------+----------------------+----------------------+--------------------------+-------------------------+-------------------------+-------------------------+-------------------------+-------------------------+----------------------------+-------------------------+-----------------------------+---------------------------+------------------------------+------------------------------+------------------------------+-----------------------+----------------------+----------------------+----------------------+----------------------+----------------------+-------------------------+----------------------+--------------------------+------------------------+---------------------------+---------------------------+---------------------------+---------------------------+--------------------------+--------------------------+--------------------------+--------------------------+--------------------------+-----------------------------+--------------------------+------------------------------+----------------------------+-------------------------------+-------------------------------+-------------------------------+---------------------------+------------------------------------+--------------------------------+------------------------------------+--------------------+--------------------+--------------------+\n",
      "\n"
     ]
    }
   ],
   "source": [
    "#check for missing values\n",
    "from pyspark.sql.functions import isnan, when, count, col\n",
    "train_x.select([count(when(isnan(c), c)).alias(c) for c in train_x.columns]).show()\n",
    "\n",
    "#we note that there are no missing values\n"
   ]
  },
  {
   "cell_type": "code",
   "execution_count": 71,
   "metadata": {},
   "outputs": [
    {
     "name": "stdout",
     "output_type": "stream",
     "text": [
      "+-------+-------------------+--------------------+--------------------+-------------------+\n",
      "|summary|  tBodyAcc-mean()-X|   tBodyAcc-mean()-Y|   tBodyAcc-mean()-Z|   tBodyAcc-std()-X|\n",
      "+-------+-------------------+--------------------+--------------------+-------------------+\n",
      "|  count|               8214|                8214|                8214|               8214|\n",
      "|   mean| 0.2741672598077674|-0.01782892635303...|-0.10915220003803862|-0.6073341095553922|\n",
      "| stddev|0.06700302726138603| 0.03591625355986128| 0.05274787651955511|  0.437108344479308|\n",
      "|    min|               -1.0|         -0.68409659|         -0.92598834|               -1.0|\n",
      "|    max|                1.0|                 1.0|                 1.0|                1.0|\n",
      "+-------+-------------------+--------------------+--------------------+-------------------+\n",
      "\n"
     ]
    }
   ],
   "source": [
    "#getting an idea of what the data looks like by computing a summary\n",
    "train_x.select(train_x.columns[1:5]).describe().show()"
   ]
  },
  {
   "cell_type": "code",
   "execution_count": 72,
   "metadata": {},
   "outputs": [
    {
     "name": "stdout",
     "output_type": "stream",
     "text": [
      "+------------------+----------------+-----------------+---------------+----------+\n",
      "|train_features_obs|train_labels_obs|test_features_obs|test_labels_obs|header_obs|\n",
      "+------------------+----------------+-----------------+---------------+----------+\n",
      "|              7352|            7352|             2947|           2947|       561|\n",
      "+------------------+----------------+-----------------+---------------+----------+\n",
      "\n"
     ]
    }
   ],
   "source": [
    "#look at the data by seeing how many rows there are\n",
    "ds = pd.DataFrame(index=[1], columns=['train_features_obs','train_labels_obs','test_features_obs','test_labels_obs', 'header_obs'])\n",
    "ds['train_features_obs'] = df_train_features.count()\n",
    "ds['train_labels_obs'] = df_train_labels.count()\n",
    "ds['test_features_obs'] = df_test_features.count()\n",
    "ds['test_labels_obs'] = df_test_labels.count()\n",
    "ds['header_obs']= df_header.count()\n",
    "ds=sqlCtx.createDataFrame(ds)\n",
    "ds.show()                #created data frame to show how many obs in each file\n",
    "                        #makes it easier to see under df, -Kevin\n",
    "\n",
    "    \n",
    "    \n",
    "    \n",
    "    \n",
    "#can we do this, but in pyspark instead? - nathan\n"
   ]
  },
  {
   "cell_type": "markdown",
   "metadata": {},
   "source": [
    "# Scale the Data"
   ]
  },
  {
   "cell_type": "code",
   "execution_count": 73,
   "metadata": {},
   "outputs": [],
   "source": [
    "# Vectorize the data for modeling\n",
    "#exclude 1st column (id) and last column (position)\n",
    "assembler = VectorAssembler(inputCols = train_data.columns[1:-1], outputCol = \"features\")\n",
    "train_vectorized = assembler.transform(train_data)\n",
    "train_vectorized = train_vectorized.select(\"id\",\"features\", \"position\")\n",
    "\n",
    "test_vectorized = assembler.transform(test_data)\n",
    "text_vectorized = test_vectorized.select(\"id\", \"features\", \"position\")"
   ]
  },
  {
   "cell_type": "code",
   "execution_count": 74,
   "metadata": {},
   "outputs": [],
   "source": [
    "# scale the features\n",
    "    # we don't scale mean, since our data is not all on the same scale\n",
    "scaler = StandardScaler(\n",
    "    inputCol=\"features\",\n",
    "    outputCol=\"scaledFeatures\",\n",
    "    withStd=True,\n",
    "    withMean=False)\n",
    "\n",
    "scalerModel_train = scaler.fit(train_vectorized)\n",
    "\n",
    "#change train_x_vectorized to also be scaled\n",
    "#comments are if we want to rename the column to just be \"features\" instead of \"scaledFeatures\"\n",
    "train_vectorized = scalerModel_train.transform(train_vectorized)#.drop('features')\\\n",
    "                     #.withColumnRenamed('scaledFeatures', 'features')"
   ]
  },
  {
   "cell_type": "markdown",
   "metadata": {},
   "source": [
    "# Trying PCA"
   ]
  },
  {
   "cell_type": "code",
   "execution_count": 75,
   "metadata": {},
   "outputs": [],
   "source": [
    "# PCA For scree plot\n",
    "pca_10 = PCA(k=10, inputCol=\"scaledFeatures\", outputCol=\"pcaFeatures\")\n",
    "pca_train_10 = pca_10.fit(train_vectorized)\n",
    "\n",
    "#compute the pve\n",
    "train_pve_10 = pca_train_10.explainedVariance.cumsum()\n",
    "\n",
    "#map data to the space mapped by the first 10 pc\n",
    "train_10 = pca_train_10.transform(train_vectorized).select(\"pcaFeatures\", \"position\")"
   ]
  },
  {
   "cell_type": "code",
   "execution_count": 76,
   "metadata": {},
   "outputs": [
    {
     "data": {
      "image/png": "[encoded data removed]",
      "text/plain": [
       "<Figure size 432x288 with 1 Axes>"
      ]
     },
     "metadata": {
      "needs_background": "light"
     },
     "output_type": "display_data"
    }
   ],
   "source": [
    "# Scree Plot\n",
    "\n",
    "number_of_pc = np.arange(1,11)\n",
    "plt.plot(number_of_pc, train_pve_10, 'ro-', linewidth = 3)\n",
    "plt.title('Scree Plot')\n",
    "plt.xlabel(\"Prinicipal Components\")\n",
    "plt.ylabel(\"Proportion of Variance Explained\")\n",
    "plt.show()"
   ]
  },
  {
   "cell_type": "code",
   "execution_count": 77,
   "metadata": {},
   "outputs": [],
   "source": [
    "# PCA for plotting and cluster analysis\n",
    "pca_2 = PCA(k=2, inputCol=\"scaledFeatures\", outputCol=\"pcaFeatures\")\n",
    "pca_train_2 = pca_2.fit(train_vectorized)\n",
    "\n",
    "#compute the pve\n",
    "train_pve_2 = pca_train_2.explainedVariance.cumsum()\n",
    "\n",
    "#map data to the space mapped by the first 5 pc\n",
    "train_2 = pca_train_2.transform(train_vectorized).select(\"pcaFeatures\")"
   ]
  },
  {
   "cell_type": "code",
   "execution_count": 78,
   "metadata": {},
   "outputs": [],
   "source": [
    "train_pc1 = train_2.rdd.map(lambda x: (x[0][0])).collect()\n",
    "train_pc2 = train_2.rdd.map(lambda x: (x[0][1])).collect()"
   ]
  },
  {
   "cell_type": "code",
   "execution_count": 79,
   "metadata": {},
   "outputs": [
    {
     "data": {
      "image/png": "[encoded data removed]",
      "text/plain": [
       "<Figure size 432x288 with 1 Axes>"
      ]
     },
     "metadata": {
      "needs_background": "light"
     },
     "output_type": "display_data"
    }
   ],
   "source": [
    "#plot the first pc on x axis, second pc on y axix\n",
    "plt.scatter(train_pc1,train_pc2,c='yc')\n",
    "plt.title('PC Plot')\n",
    "plt.xlabel(\"Principal Component 1\")\n",
    "plt.ylabel(\"Principal Component 2\")\n",
    "plt.show()"
   ]
  },
  {
   "cell_type": "code",
   "execution_count": 80,
   "metadata": {},
   "outputs": [],
   "source": [
    "#create kmeans.\n",
    "kmeans = KMeans().setK(6).setSeed(1)"
   ]
  },
  {
   "cell_type": "code",
   "execution_count": 81,
   "metadata": {},
   "outputs": [],
   "source": [
    "#kmeans needs a column named features, so we rename them\n",
    "train_2 = train_2.withColumnRenamed('pcaFeatures', 'features')\n",
    "train_2kmeans = kmeans.fit(train_2.select('features'))"
   ]
  },
  {
   "cell_type": "code",
   "execution_count": 82,
   "metadata": {},
   "outputs": [],
   "source": [
    "#apply the model to the data and extract the data\n",
    "train_2_cluster_w_pred = train_2kmeans.transform(train_2)\n",
    "train_2cluster_label = train_2_cluster_w_pred.select('prediction').rdd.map(lambda x: x[0]).collect()"
   ]
  },
  {
   "cell_type": "code",
   "execution_count": 83,
   "metadata": {},
   "outputs": [
    {
     "data": {
      "image/png": "[encoded data removed]",
      "text/plain": [
       "<Figure size 432x288 with 1 Axes>"
      ]
     },
     "metadata": {
      "needs_background": "light"
     },
     "output_type": "display_data"
    }
   ],
   "source": [
    "#plot the pc data based on the cluster assignments\n",
    "plt.scatter(train_pc1,train_pc2,c=train_2cluster_label)\n",
    "plt.title('PC Plot')\n",
    "plt.xlabel(\"Principal Component 1\")\n",
    "plt.ylabel(\"Principal Component 2\")\n",
    "plt.show()"
   ]
  },
  {
   "cell_type": "code",
   "execution_count": 84,
   "metadata": {},
   "outputs": [
    {
     "name": "stdout",
     "output_type": "stream",
     "text": [
      "Within Set Sum of Squared Errors = 123444.53210303844\n"
     ]
    }
   ],
   "source": [
    "wssse = train_2kmeans.computeCost(train_2.select('features'))\n",
    "print(\"Within Set Sum of Squared Errors = \" + str(wssse))"
   ]
  },
  {
   "cell_type": "markdown",
   "metadata": {},
   "source": [
    "# Random Forest (on whole training set)"
   ]
  },
  {
   "cell_type": "code",
   "execution_count": 85,
   "metadata": {},
   "outputs": [],
   "source": [
    "## quick function to convert a dense vector to sparse one \n",
    "## turns out we don't need this, but it works, so it might come in handy later ##\n",
    "#def dense_to_sparse(vector):\n",
    "#    return _convert_to_vector(scipy.sparse.csc_matrix(vector.toArray()).T)\n",
    "\n",
    "\n",
    "## convert the pcaFeatures column to be sparse instead of dense\n",
    "#to_sparse = udf(dense_to_sparse, VectorUDT())\n",
    "#train_10 = train_10.withColumn(\"pcaFeatures\", to_sparse(col(\"pcaFeatures\")))\n",
    "\n",
    "\n",
    "\n",
    "## converts from ML vector to MLlib vector\n",
    "#train_10 = MLUtils.convertVectorColumnsFromML(train_10, \"pcaFeatures\")\n",
    "\n",
    "\n",
    "\n",
    "## turning our data into labeledPoint format\n",
    "## We no longer need this, since we are using the ML package instead of the MLlib package\n",
    "\n",
    "#train_10 = train_10.rdd.map(lambda row: LabeledPoint(features = row[0], label = row[1]))\n",
    "#df.rdd.map(lambda row: LabeledPoint(row[-1], Vectors.dense(row[0:-1])))\n",
    "#test=train_10.rdd.map(lambda x: LabeledPoint(x[1],x[0])) #This is the 80 split and works for labeled point creation\n",
    "#train_data2=train_data.rdd.map(lambda x: LabeledPoint(x[-1],x[1:-2]))\n",
    "\n",
    "\n",
    "\n",
    "## This is code using the MLlib package. I opted to use the ML package instead, but I'll leave this code here in case something goes wrong\n",
    "\n",
    "#rfmodel = RandomForest.trainClassifier(train_10, numClasses=7, categoricalFeaturesInfo={},\n",
    " #                                    numTrees=1000, featureSubsetStrategy=\"auto\",maxDepth=4, maxBins=32)\n"
   ]
  },
  {
   "cell_type": "code",
   "execution_count": 86,
   "metadata": {},
   "outputs": [],
   "source": [
    "# I think dennis wrote this? I'm not sure what for though..\n",
    "\n",
    "#def parsePoint(line):\n",
    "#    values = [float(x) for x in line.replace(',', ' ').split(' ')]\n",
    "#    return LabeledPoint(values[0], values[1:])"
   ]
  },
  {
   "cell_type": "code",
   "execution_count": 87,
   "metadata": {},
   "outputs": [],
   "source": [
    "#random forest parameters\n",
    "rfSetup_full = RandomForestClassifier(labelCol=\"position\", featuresCol=\"features\", numTrees=1000,seed = 1)\n"
   ]
  },
  {
   "cell_type": "code",
   "execution_count": 88,
   "metadata": {},
   "outputs": [],
   "source": [
    "#fit the model on the full training set\n",
    "rfModel_full = rfSetup_full.fit(train_vectorized) "
   ]
  },
  {
   "cell_type": "code",
   "execution_count": 89,
   "metadata": {},
   "outputs": [],
   "source": [
    "#run the model on the full training set\n",
    "train_full_pred_rf = rfModel_full.transform(train_vectorized)"
   ]
  },
  {
   "cell_type": "code",
   "execution_count": 90,
   "metadata": {},
   "outputs": [],
   "source": [
    "#create evaluator for the rf models\n",
    "evaluator_rf = MulticlassClassificationEvaluator(\n",
    "    labelCol=\"position\", predictionCol=\"prediction\", metricName=\"accuracy\")\n"
   ]
  },
  {
   "cell_type": "code",
   "execution_count": 91,
   "metadata": {},
   "outputs": [
    {
     "name": "stdout",
     "output_type": "stream",
     "text": [
      "Training Error = 0.0723156\n"
     ]
    }
   ],
   "source": [
    "#compute training error\n",
    "train_full_accuracy_rf = evaluator_rf.evaluate(train_full_pred_rf)\n",
    "print(\"Training Error = %g\" % (1.0 - train_full_accuracy_rf))"
   ]
  },
  {
   "cell_type": "code",
   "execution_count": 92,
   "metadata": {},
   "outputs": [
    {
     "name": "stdout",
     "output_type": "stream",
     "text": [
      "Training Error = 0.0829736\n"
     ]
    }
   ],
   "source": [
    "#run the model on the full test set and compute test error\n",
    "test_full_pred_rf = rfModel_full.transform(test_vectorized)\n",
    "test_accuracy_rf = evaluator_rf.evaluate(test_full_pred_rf)\n",
    "print(\"Training Error = %g\" % (1.0 - test_accuracy_rf))"
   ]
  },
  {
   "cell_type": "markdown",
   "metadata": {},
   "source": [
    "# Random Forest (on 10 pc)"
   ]
  },
  {
   "cell_type": "code",
   "execution_count": 93,
   "metadata": {},
   "outputs": [],
   "source": [
    "# training a model on the training set\n",
    "rfSetup_pca = RandomForestClassifier(labelCol=\"position\", featuresCol=\"pcaFeatures\", numTrees=1000, seed = 1)\n",
    "rfModel_10pc = rfSetup_pca.fit(train_10)"
   ]
  },
  {
   "cell_type": "code",
   "execution_count": 94,
   "metadata": {},
   "outputs": [],
   "source": [
    "train_10pc_pred_rf = rfModel_10pc.transform(train_10)"
   ]
  },
  {
   "cell_type": "code",
   "execution_count": 95,
   "metadata": {},
   "outputs": [
    {
     "name": "stdout",
     "output_type": "stream",
     "text": [
      "Training Error with 10 pc = 0.178232\n"
     ]
    }
   ],
   "source": [
    "train_10pc_accuracy_rf = evaluator_rf.evaluate(train_10pc_pred_rf)\n",
    "print(\"Training Error with 10 pc = %g\" % (1.0 - train_10pc_accuracy_rf))"
   ]
  },
  {
   "cell_type": "code",
   "execution_count": 96,
   "metadata": {},
   "outputs": [],
   "source": [
    "# Create a pipeline to go through all of these steps!\n",
    "rf_pipeline_pca = Pipeline(stages=[assembler, scaler, pca_10, rfSetup_pca])"
   ]
  },
  {
   "cell_type": "code",
   "execution_count": 97,
   "metadata": {},
   "outputs": [],
   "source": [
    "rf_model_pca = rf_pipeline_pca.fit(train_data)"
   ]
  },
  {
   "cell_type": "code",
   "execution_count": 98,
   "metadata": {},
   "outputs": [],
   "source": [
    "#run the pipeline on the test data\n",
    "test_10pc_pred_rf = rf_model_pca.transform(test_data)"
   ]
  },
  {
   "cell_type": "code",
   "execution_count": 99,
   "metadata": {},
   "outputs": [
    {
     "name": "stdout",
     "output_type": "stream",
     "text": [
      "Testing Error with 10 pc = 0.177458\n"
     ]
    }
   ],
   "source": [
    "#evaluate the performance on the test set\n",
    "test_10pc_accuracy_rf = evaluator_rf.evaluate(test_10pc_pred_rf)\n",
    "print(\"Testing Error with 10 pc = %g\" % (1.0 - test_10pc_accuracy_rf))"
   ]
  },
  {
   "cell_type": "markdown",
   "metadata": {},
   "source": [
    "# Multinomial Logistic Regression"
   ]
  },
  {
   "cell_type": "code",
   "execution_count": 100,
   "metadata": {},
   "outputs": [
    {
     "name": "stdout",
     "output_type": "stream",
     "text": [
      "Coefficients: \n",
      "DenseMatrix([[-1.40042527e-03,  1.70764908e-04,  7.08571003e-04, ...,\n",
      "               3.45072283e-04, -8.32926084e-05,  5.90705661e-05],\n",
      "             [ 8.41934316e-02, -2.67670640e-01, -6.36345661e-02, ...,\n",
      "              -2.81363596e-01,  2.00732275e-01,  2.38678869e-01],\n",
      "             [ 2.04801883e-01, -4.64649325e-02, -6.47415736e-01, ...,\n",
      "              -9.72448791e-02,  4.96581067e-01,  3.63817003e-01],\n",
      "             ...,\n",
      "             [-5.44114634e-01, -1.17156170e-01,  2.59754850e-01, ...,\n",
      "              -2.45870321e-01, -7.14312647e-01, -3.91208744e-01],\n",
      "             [ 1.16651475e-01,  1.30130560e-01,  1.46011058e-01, ...,\n",
      "              -6.85093041e-01,  7.93183829e-01,  1.89126499e-02],\n",
      "             [-4.87222222e-01, -8.33689399e-02,  2.33198850e-01, ...,\n",
      "               1.66273206e+00, -8.32482727e-01, -2.32779595e-01]])\n",
      "Intercept: [-6.185729583726547,1.0984099149940387,0.9866585675244477,0.8840759608203078,1.0206314732601987,1.0820423140382214,1.113911353089333]\n",
      "Training Error = 0.0147309\n"
     ]
    }
   ],
   "source": [
    "#new classifier -Kevin, Defualt version\n",
    "\n",
    "from pyspark.ml.classification import LogisticRegression\n",
    "\n",
    "#training, test = scaledData.randomSplit([0.8, 0.2], seed = 314)\n",
    "# Load training data\n",
    "\n",
    "\n",
    "lr_default = LogisticRegression(featuresCol='features', labelCol = 'position')\n",
    "# Fit the model\n",
    "lrmodel_train_default = lr_default.fit(train_vectorized)\n",
    "\n",
    "# Print the coefficients and intercept for multinomial logistic regression\n",
    "print(\"Coefficients: \\n\" + str(lrmodel_train_default.coefficientMatrix))\n",
    "print(\"Intercept: \" + str(lrmodel_train_default.interceptVector))\n",
    " \n",
    "prediction_train_default = lrmodel_train_default.transform(train_vectorized)\n",
    "prediction_test_default = lrmodel_train_default.transform(test_vectorized)\n",
    "\n",
    "test=MulticlassClassificationEvaluator(\n",
    "    labelCol=\"position\", predictionCol=\"prediction\", metricName=\"accuracy\")\n",
    "\n",
    "\n",
    "train_accuracy_logistic_default = test.evaluate(prediction_train_default)\n",
    "print(\"Training Error = %g\" % (1.0 - train_accuracy_logistic_default))"
   ]
  },
  {
   "cell_type": "code",
   "execution_count": null,
   "metadata": {},
   "outputs": [],
   "source": [
    "#logistic_pipeline = Pipeline(stages=[assembler, scaler, rfSetup_pca]) working on pipleine"
   ]
  },
  {
   "cell_type": "code",
   "execution_count": null,
   "metadata": {},
   "outputs": [],
   "source": [
    "from pyspark.ml.tuning import CrossValidator, ParamGridBuilder\n",
    "\n",
    "paramGrid = ParamGridBuilder() \\\n",
    "    .addGrid(hashingTF.numFeatures, [10, 100, 1000]) \\\n",
    "    .addGrid(lr.regParam, [0.1, 0.01]) \\\n",
    "    .build()\n",
    "\n",
    "crossval = CrossValidator(estimator=pipline,\n",
    "                          estimatorParamMaps=paramGrid,\n",
    "                          evaluator=BinaryClassificationEvaluator(),\n",
    "                          numFolds=5)  # use 3+ folds in practice\n",
    "\n",
    "# Run cross-validation, and choose the best set of parameters.\n",
    "cvModel = crossval.fit(training)\n",
    "\n",
    "\n",
    "# Make predictions on test documents. cvModel uses the best model found (lrModel).\n",
    "prediction = cvModel.transform(test)\n",
    "selected = prediction.select(\"id\", \"text\", \"probability\", \"prediction\")\n",
    "for row in selected.collect():\n",
    "    print(row)"
   ]
  },
  {
   "cell_type": "code",
   "execution_count": 101,
   "metadata": {},
   "outputs": [
    {
     "name": "stdout",
     "output_type": "stream",
     "text": [
      "Coefficients: \n",
      "DenseMatrix([[ 0.00000000e+00,  0.00000000e+00,  0.00000000e+00, ...,\n",
      "               0.00000000e+00,  0.00000000e+00,  0.00000000e+00],\n",
      "             [ 1.07450723e-01,  3.13132630e-03, -5.22847430e-02, ...,\n",
      "              -1.59368971e-02,  1.49799294e-04,  0.00000000e+00],\n",
      "             [-1.81563954e-03, -2.66902427e-01, -2.04956283e-01, ...,\n",
      "               1.76185925e-03,  9.03745726e-02,  6.93478277e-02],\n",
      "             ...,\n",
      "             [-1.19771557e-01,  4.98527382e-02,  6.04583538e-02, ...,\n",
      "              -1.98076161e-02, -9.06180474e-03, -3.65995300e-03],\n",
      "             [-2.42874536e-02,  0.00000000e+00,  6.92824545e-02, ...,\n",
      "              -3.30005104e-02,  4.41592514e-01,  1.49667600e-01],\n",
      "             [-4.66040171e-02,  0.00000000e+00,  0.00000000e+00, ...,\n",
      "               9.84549751e-01, -2.43080612e-01,  0.00000000e+00]])\n",
      "Intercept: [-6.185600954261826,1.052083287946862,0.9443072902645699,0.830114754257133,1.0716596466192436,1.1417802568648703,1.1456557183091474]\n"
     ]
    }
   ],
   "source": [
    "#new classifier -Kevin\n",
    "\n",
    "from pyspark.ml.classification import LogisticRegression\n",
    "\n",
    "#training, test = scaledData.randomSplit([0.8, 0.2], seed = 314)\n",
    "# Load training data\n",
    "\n",
    "\n",
    "lr = LogisticRegression(featuresCol='features', labelCol = 'position', maxIter=20, regParam=0.01, elasticNetParam=1)\n",
    "# Fit the model\n",
    "lrmodel_train = lr.fit(train_vectorized)\n",
    "\n",
    "# Print the coefficients and intercept for multinomial logistic regression\n",
    "print(\"Coefficients: \\n\" + str(lrmodel_train.coefficientMatrix))\n",
    "print(\"Intercept: \" + str(lrmodel_train.interceptVector))\n",
    " \n",
    "prediction_train = lrmodel_train.transform(train_vectorized)\n",
    "prediction_test = lrmodel_train.transform(test_vectorized)"
   ]
  },
  {
   "cell_type": "code",
   "execution_count": 102,
   "metadata": {},
   "outputs": [
    {
     "data": {
      "text/plain": [
       "8214"
      ]
     },
     "execution_count": 102,
     "metadata": {},
     "output_type": "execute_result"
    }
   ],
   "source": [
    "prediction_train_rdd = prediction_train.select('prediction', 'position').rdd\n",
    "prediction_train_rdd.count() # dimenisons same as training, makes sense\n"
   ]
  },
  {
   "cell_type": "code",
   "execution_count": 103,
   "metadata": {},
   "outputs": [
    {
     "data": {
      "text/plain": [
       "[Row(prediction=6.0, position=6),\n",
       " Row(prediction=6.0, position=6),\n",
       " Row(prediction=6.0, position=6),\n",
       " Row(prediction=6.0, position=6),\n",
       " Row(prediction=6.0, position=6),\n",
       " Row(prediction=2.0, position=4),\n",
       " Row(prediction=4.0, position=4),\n",
       " Row(prediction=6.0, position=6),\n",
       " Row(prediction=2.0, position=2),\n",
       " Row(prediction=4.0, position=4),\n",
       " Row(prediction=1.0, position=3),\n",
       " Row(prediction=1.0, position=1),\n",
       " Row(prediction=2.0, position=2),\n",
       " Row(prediction=2.0, position=2),\n",
       " Row(prediction=3.0, position=3),\n",
       " Row(prediction=3.0, position=3),\n",
       " Row(prediction=2.0, position=2),\n",
       " Row(prediction=1.0, position=1),\n",
       " Row(prediction=6.0, position=6),\n",
       " Row(prediction=2.0, position=2)]"
      ]
     },
     "execution_count": 103,
     "metadata": {},
     "output_type": "execute_result"
    }
   ],
   "source": [
    "prediction_train_rdd.take(20)"
   ]
  },
  {
   "cell_type": "code",
   "execution_count": 104,
   "metadata": {},
   "outputs": [
    {
     "name": "stdout",
     "output_type": "stream",
     "text": [
      "Training Error = 0.0801071\n"
     ]
    }
   ],
   "source": [
    "#calculating training error \n",
    "test=MulticlassClassificationEvaluator(\n",
    "    labelCol=\"position\", predictionCol=\"prediction\", metricName=\"accuracy\")\n",
    "\n",
    "\n",
    "train_accuracy_logistic = test.evaluate(prediction_train)\n",
    "print(\"Training Error = %g\" % (1.0 - train_accuracy_logistic))"
   ]
  },
  {
   "cell_type": "code",
   "execution_count": 105,
   "metadata": {},
   "outputs": [
    {
     "name": "stdout",
     "output_type": "stream",
     "text": [
      "Test Error = 0.0839329\n"
     ]
    }
   ],
   "source": [
    "#calculating test error\n",
    "test2=MulticlassClassificationEvaluator(\n",
    "    labelCol=\"position\", predictionCol=\"prediction\", metricName=\"accuracy\")\n",
    "\n",
    "\n",
    "test_accuracy_logistic = test2.evaluate(prediction_test)\n",
    "print(\"Test Error = %g\" % (1.0 - test_accuracy_logistic))"
   ]
  },
  {
   "cell_type": "code",
   "execution_count": 106,
   "metadata": {},
   "outputs": [
    {
     "ename": "NameError",
     "evalue": "name 'train_data2' is not defined",
     "output_type": "error",
     "traceback": [
      "\u001b[0;31m---------------------------------------------------------------------------\u001b[0m",
      "\u001b[0;31mNameError\u001b[0m                                 Traceback (most recent call last)",
      "\u001b[0;32m<ipython-input-106-5b32e69ae20e>\u001b[0m in \u001b[0;36m<module>\u001b[0;34m\u001b[0m\n\u001b[1;32m      4\u001b[0m \u001b[0;34m\u001b[0m\u001b[0m\n\u001b[1;32m      5\u001b[0m \u001b[0;31m# Load and parse the data file. Note this data is in sparse format.\u001b[0m\u001b[0;34m\u001b[0m\u001b[0;34m\u001b[0m\u001b[0;34m\u001b[0m\u001b[0m\n\u001b[0;32m----> 6\u001b[0;31m \u001b[0mdata\u001b[0m \u001b[0;34m=\u001b[0m \u001b[0mtrain_data2\u001b[0m\u001b[0;34m\u001b[0m\u001b[0;34m\u001b[0m\u001b[0m\n\u001b[0m\u001b[1;32m      7\u001b[0m \u001b[0;34m\u001b[0m\u001b[0m\n\u001b[1;32m      8\u001b[0m \u001b[0;31m# Split data approximately into training (60%) and test (40%)\u001b[0m\u001b[0;34m\u001b[0m\u001b[0;34m\u001b[0m\u001b[0;34m\u001b[0m\u001b[0m\n",
      "\u001b[0;31mNameError\u001b[0m: name 'train_data2' is not defined"
     ]
    }
   ],
   "source": [
    "#this is trash for now, tho can use if you guys want to. Was doing this before logistic\n",
    "from pyspark.mllib.classification import NaiveBayes, NaiveBayesModel\n",
    "from pyspark.mllib.util import MLUtils\n",
    "\n",
    "# Load and parse the data file. Note this data is in sparse format.\n",
    "data = train_data2\n",
    "\n",
    "# Split data approximately into training (60%) and test (40%)\n",
    "training, test = data.randomSplit([0.6, 0.4])\n",
    "\n",
    "# Train a naive Bayes model.\n",
    "model = NaiveBayes.train(training, 1.0)\n",
    "\n",
    "# Make prediction and test accuracy.\n",
    "labelsAndPreds = test.map(lambda p: (p.label, model.predict(p.features)))\n",
    "accuracy = 1.0 * labelsAndPreds.filter(lambda pl: pl[0] == pl[1]).count() / test.count()\n",
    "print('model accuracy {}'.format(accuracy))\n"
   ]
  },
  {
   "cell_type": "code",
   "execution_count": null,
   "metadata": {},
   "outputs": [],
   "source": []
  },
  {
   "cell_type": "code",
   "execution_count": null,
   "metadata": {},
   "outputs": [],
   "source": []
  },
  {
   "cell_type": "markdown",
   "metadata": {},
   "source": [
    "# Question 2: Which action \"category\" has the most predictive power?\n",
    "(ie time-based Body acceleration, frequency-based Body acceleration, Gyro, angle, ect)"
   ]
  },
  {
   "cell_type": "code",
   "execution_count": null,
   "metadata": {},
   "outputs": [],
   "source": [
    "#splits the header column on dashes, and creates a data frame with each of the elements\n",
    "\n",
    "split_col = F.split(df_header['1'], '-')\n",
    "df_header = df_header.withColumn('Main', split_col.getItem(0))\n",
    "df_header = df_header.withColumn('Seconded', split_col.getItem(1)) #Kevin"
   ]
  },
  {
   "cell_type": "code",
   "execution_count": null,
   "metadata": {
    "scrolled": true
   },
   "outputs": [],
   "source": [
    "df_header.show()"
   ]
  },
  {
   "cell_type": "code",
   "execution_count": null,
   "metadata": {},
   "outputs": [],
   "source": [
    "#count the number of unique elements in the \"main\" column of the header df\n",
    "header_summary=df_header.groupBy('Main').count()\n",
    "header_summary.count()                               #Kevin\n",
    "              "
   ]
  },
  {
   "cell_type": "code",
   "execution_count": null,
   "metadata": {},
   "outputs": [],
   "source": [
    "#show the unique elements in \"main\" by count (show all 24 of them)\n",
    "    # we note that there are \"bins\" we can look at, which we specify in final_group_names below\n",
    "    # also, our code was unable to parse the \"angle\" columns directly, so we will do those separately\n",
    "header_summary_ordered = header_summary.orderBy('count',ascending = False)      #Kevin\n",
    "header_summary_ordered.show(24)"
   ]
  },
  {
   "cell_type": "code",
   "execution_count": null,
   "metadata": {},
   "outputs": [],
   "source": [
    "#create vector with the \"group names\" as entries\n",
    "    #first 17 are all the non-angle names. we only want these, since we are treating angles separately\n",
    "    \n",
    "header_split_names = header_summary_ordered.select('Main').rdd.map(lambda row : row[0]).collect()[1:17]\n",
    "final_group_names = [\"fBodyAcc\", \"tBodyGyro\", \"tBodyAcc\", \"fBodyBody\", \"tGravityAcc\"]"
   ]
  },
  {
   "cell_type": "code",
   "execution_count": null,
   "metadata": {},
   "outputs": [],
   "source": [
    "#since our regex above doesn't deal with the angle format, we treat them separately\n",
    "    #so we want to pull them out of our dataset so we can deal with everything else\n",
    "\n",
    "angle_cols = [s for s in train_x.columns if 'angle' in s]\n",
    "train_x_without_angles = train_x.select([a for a in train_x.columns if a not in angle_cols])"
   ]
  },
  {
   "cell_type": "code",
   "execution_count": null,
   "metadata": {},
   "outputs": [],
   "source": [
    "# creates a list, where each element is a data frame in one of the group names in final_group_names, plus an element for \"angle\" columns\n",
    "\n",
    "df_list = []\n",
    "for name in final_group_names:\n",
    "    selected = [s for s in train_x_without_angles.columns if name in s]\n",
    "    df_list.append(train_x_without_angles.select(selected))\n",
    "    \n",
    "    \n",
    "# we ignored angles until now, so we append the angle dataframe separately\n",
    "#train_x.select(\"column\").where(\"column like '%fBodyGyro%'\")\n",
    "angle_cols = [s for s in train_x_without_angles.columns if 'angle' in s]\n",
    "\n",
    "#add \n",
    "df_list.append(train_x_without_angles.select(angle_cols))"
   ]
  },
  {
   "cell_type": "code",
   "execution_count": null,
   "metadata": {},
   "outputs": [],
   "source": [
    "df_list[0]"
   ]
  },
  {
   "cell_type": "code",
   "execution_count": null,
   "metadata": {},
   "outputs": [],
   "source": [
    "rfSetup_split = RandomForestClassifier(labelCol=\"position\", featuresCol=\"scaledFeatures\", numTrees=1000, seed = 1)\n",
    "# Create a pipeline to go through all of these steps!\n",
    "rf_pipeline_split = Pipeline(stages=[assembler, scaler, rfSetup_split])\n"
   ]
  },
  {
   "cell_type": "code",
   "execution_count": null,
   "metadata": {
    "scrolled": true
   },
   "outputs": [],
   "source": [
    "header_summary.groupBy(\"Main\").count().rdd.values().histogram(20)   #Kevin"
   ]
  },
  {
   "cell_type": "code",
   "execution_count": null,
   "metadata": {},
   "outputs": [],
   "source": [
    "import matplotlib.pyplot\n",
    "\n",
    "header_barplot= df_header.toPandas()                    # converted to pandas since easier, RDD tricky\n",
    "header_barplot['Main'].value_counts().plot(kind='bar')  #Visualize Main Variable count\n",
    "                                                        #Kevin"
   ]
  },
  {
   "cell_type": "markdown",
   "metadata": {},
   "source": [
    "# Look for class imbalance"
   ]
  },
  {
   "cell_type": "code",
   "execution_count": null,
   "metadata": {},
   "outputs": [],
   "source": [
    "#count the number of activites done\n",
    "y_train_summary=train_y.groupBy('position').count()      \n",
    "y_train_summary.count()     # total activities                                                  #kevin"
   ]
  },
  {
   "cell_type": "code",
   "execution_count": null,
   "metadata": {},
   "outputs": [],
   "source": [
    "#look for class imbalance in how much each activity was done.\n",
    "y_train_summary.show()"
   ]
  },
  {
   "cell_type": "code",
   "execution_count": null,
   "metadata": {},
   "outputs": [],
   "source": [
    "y_train_summary_dist = y_train_summary.orderBy('count', ascending = False)\n",
    "y_train_summary_dist.show()"
   ]
  },
  {
   "cell_type": "code",
   "execution_count": null,
   "metadata": {},
   "outputs": [],
   "source": [
    "# add a column for proportion\n",
    "sum_counts = train_y.count()\n",
    "y_train_summary_dist.withColumn('Frequency (%)', F.round(y_train_summary_dist[1]/sum_counts * 100, 2)).show()\n"
   ]
  },
  {
   "cell_type": "code",
   "execution_count": null,
   "metadata": {},
   "outputs": [],
   "source": [
    "y_train_barplot= train_y.toPandas()                    # converted to pandas since easier, RDD tricky\n",
    "y_train_barplot['position'].value_counts().plot(kind='bar')      #maybe nicer if we change x axis to display activity label?"
   ]
  },
  {
   "cell_type": "code",
   "execution_count": null,
   "metadata": {},
   "outputs": [],
   "source": [
    "y_test_summary=df_test_labels.groupBy('position').count()       #0 is column name\n",
    "y_test_summary.count()     # total activities "
   ]
  },
  {
   "cell_type": "code",
   "execution_count": null,
   "metadata": {},
   "outputs": [],
   "source": [
    "import matplotlib.pyplot\n",
    "y_train_bar=y_train_barplot['position'].value_counts() #data read\n",
    "increment=[1,2,3,4,5,6]\n",
    "names=['laying','standing','sitting','walking','walking\\ndownstairs','walking\\nupstairs']\n",
    "matplotlib.pyplot.bar(increment, y_train_bar, align='center', alpha=0.5, color='c') #Barplot\n",
    "matplotlib.pyplot.xticks(increment,names)\n",
    "matplotlib.pyplot.ylabel('Counts')\n",
    "matplotlib.pyplot.xlabel('Positions')\n",
    "matplotlib.pyplot.title('Acitivity position distribution')\n",
    "matplotlib.pyplot.show()\n",
    "\n",
    "#how are the positiosn distributed?"
   ]
  },
  {
   "cell_type": "code",
   "execution_count": null,
   "metadata": {},
   "outputs": [],
   "source": [
    "y_test_summary.show()"
   ]
  },
  {
   "cell_type": "code",
   "execution_count": null,
   "metadata": {},
   "outputs": [],
   "source": [
    "y_test_summary.orderBy('count', ascending=False).show()      #ordered from biggest to smallest\n",
    "                                                            # kevin"
   ]
  },
  {
   "cell_type": "code",
   "execution_count": null,
   "metadata": {},
   "outputs": [],
   "source": [
    "y_test_barplot= df_test_labels.toPandas()                    # converted to pandas since easier, RDD tricky\n",
    "y_test_barplot['position'].value_counts().plot(kind='bar')     #Kevin\n",
    "Y_test_bar=y_test_barplot['position'].value_counts()"
   ]
  },
  {
   "cell_type": "code",
   "execution_count": null,
   "metadata": {},
   "outputs": [],
   "source": [
    "increment=[1,2,3,4,5,6]\n",
    "names=['laying','standing','sitting','walking','walking\\ndownstairs','walking\\nupstairs']\n",
    "matplotlib.pyplot.bar(increment, Y_test_bar, align='center', alpha=0.5, color='c') #Barplot\n",
    "matplotlib.pyplot.xticks(increment,names)\n",
    "matplotlib.pyplot.ylabel('Counts')\n",
    "matplotlib.pyplot.xlabel('Positions')\n",
    "matplotlib.pyplot.title('Acitivity position distribution')\n",
    "matplotlib.pyplot.show()"
   ]
  },
  {
   "cell_type": "code",
   "execution_count": null,
   "metadata": {},
   "outputs": [],
   "source": [
    "id_labels=df_complete_merge.select('id','position')\n",
    "walkdown=id_labels.filter(id_labels['position']==5).groupBy('id').count().orderBy('id', ascending=True).drop('id').toPandas() #only walking\n",
    "walkup=id_labels.filter(id_labels['position']==6).groupBy('id').count().orderBy('id',ascending=True).drop('id').toPandas()\n",
    "#the two datasets are sorted by ascending order ex: 0-30\n",
    "#the two datasets are counted already, by id\n",
    "#the two datasets contains only walking up or walking down"
   ]
  },
  {
   "cell_type": "code",
   "execution_count": null,
   "metadata": {},
   "outputs": [],
   "source": [
    "#I need help plotting the two into side by side to do comparison"
   ]
  },
  {
   "cell_type": "markdown",
   "metadata": {},
   "source": [
    "\n",
    "# Outlier Detection, Using Interquartile Range Method"
   ]
  },
  {
   "cell_type": "code",
   "execution_count": null,
   "metadata": {},
   "outputs": [],
   "source": [
    "cols = [c for c in train_x.columns]   # exclude id from features\n",
    "bounds = {} # will store lower and upper bounds for each feature              #Will use later, -Kevin"
   ]
  },
  {
   "cell_type": "code",
   "execution_count": null,
   "metadata": {},
   "outputs": [],
   "source": [
    "#this takes a while to run\n",
    "for col in cols:\n",
    "    quantiles = train_x.approxQuantile(col, [0.25, 0.75], 0.05)    #creating desired quantiles in data,\n",
    "    IQR = quantiles[1] - quantiles[0]\n",
    "\n",
    "    bounds[col] = [\n",
    "     quantiles[0] - 1.5 * IQR,\n",
    "     quantiles[1] + 1.5 * IQR\n",
    "    ]"
   ]
  },
  {
   "cell_type": "code",
   "execution_count": null,
   "metadata": {},
   "outputs": [],
   "source": [
    "bounds     #bounds for IQR, lower bound at .25 and upper bound at .75"
   ]
  },
  {
   "cell_type": "code",
   "execution_count": null,
   "metadata": {},
   "outputs": [],
   "source": [
    "# append outlier indicators to data table\n",
    "#code from preprocessing tutorial, added \".cast(\"int\"), 0 is false aka no outlier, 1 indicates outlier\n",
    "\n",
    "outliers = train_x.select(*['id'] + [\n",
    " (\n",
    " (train_x[c] < bounds[c][0]) | (train_x[c] > bounds[c][1]))\n",
    "    .cast(\"int\").alias(c + '_outlier') for c in cols\n",
    "])"
   ]
  },
  {
   "cell_type": "code",
   "execution_count": null,
   "metadata": {},
   "outputs": [],
   "source": [
    "#sums takes the sum of each column in the outliers df, since 1 indicates outlier\n",
    "sums = [F.sum(x).alias(str(x)) for x in outliers.columns]\n",
    "df_totaloutliers = outliers.select(sums).collect()[0] #assocites each column name to its sum\n",
    "df_totaloutliers"
   ]
  },
  {
   "cell_type": "code",
   "execution_count": null,
   "metadata": {},
   "outputs": [],
   "source": [
    "outliers.groupBy('id').count().show()     # of obs per subject, since is time series data, measurements taken at time interval"
   ]
  },
  {
   "cell_type": "code",
   "execution_count": null,
   "metadata": {},
   "outputs": [],
   "source": [
    "#rough draft, trying to list dict object above to sort by highest outlier value, having tough time sorting \n",
    "#sums takes the sum of each column in the outliers df, since 1 indicates outlier\n",
    "sums2 = [F.sum(x).alias(str(x)) for x in outliers.columns]\n",
    "df_totaloutliers2 = outliers.select(sums).collect()[0].asDict()\n",
    "df_totaloutliers2"
   ]
  },
  {
   "cell_type": "code",
   "execution_count": null,
   "metadata": {},
   "outputs": [],
   "source": [
    "#graphs of outliers using seaborn, columns are random, will replace with highest\n",
    "#rough draft for now\n",
    "import numpy as np; np.random.seed(42)\n",
    "import pandas as pd\n",
    "import matplotlib.pyplot as plt\n",
    "import seaborn as sns\n",
    "\n",
    "df = train_x.toPandas()\n",
    "dff = pd.DataFrame(data = np.random.random(size=(4,4)), columns = ['tBodyAcc-mean()-Z','tBodyAcc-mean()-X',' tGravityAcc-min()-Z','BodyAcc-std()-X'])\n",
    "\n",
    "sns.boxplot(x=\"variable\", y=\"value\", data=pd.melt(dff))\n",
    "plt.show()\n",
    "\n",
    "#df\n",
    "\n",
    "import seaborn as sns\n",
    "sns.set(style=\"whitegrid\")\n",
    "tips = df['tBodyAcc-mean()-Z','tBodyAcc-mean()-X',' tGravityAcc-min()-Z','BodyAcc-std()-X']\n",
    "ax = sns.boxplot(x=df['tBodyAcc-mean()-Z','tBodyAcc-mean()-X',' tGravityAcc-min()-Z','BodyAcc-std()-X'])\n",
    "\n",
    "ax = sns.boxplot(x=\"day\", y=\"total_bill\", data=tips)\n",
    "ax = sns.swarmplot(x=\"day\", y=\"total_bill\", data=tips, color=\".25\")"
   ]
  },
  {
   "cell_type": "code",
   "execution_count": null,
   "metadata": {},
   "outputs": [],
   "source": [
    "df.describe()"
   ]
  },
  {
   "cell_type": "code",
   "execution_count": null,
   "metadata": {},
   "outputs": [],
   "source": [
    "import seaborn as sns\n",
    "sns.set(style=\"whitegrid\")\n",
    "tips = df[\"BodyAcc-std()-X\"]\n",
    "#ax = sns.boxplot(x=df['tBodyAcc-mean()-Z','tBodyAcc-mean()-X',' tGravityAcc-min()-Z','BodyAcc-std()-X'])\n",
    "\n",
    "ax = sns.boxplot(data=tips)\n",
    "ax = sns.swarmplot(data=tips, color=\".25\")"
   ]
  },
  {
   "cell_type": "code",
   "execution_count": null,
   "metadata": {},
   "outputs": [],
   "source": []
  }
 ],
 "metadata": {
  "kernelspec": {
   "display_name": "Python 3",
   "language": "python",
   "name": "python3"
  },
  "language_info": {
   "codemirror_mode": {
    "name": "ipython",
    "version": 3
   },
   "file_extension": ".py",
   "mimetype": "text/x-python",
   "name": "python",
   "nbconvert_exporter": "python",
   "pygments_lexer": "ipython3",
   "version": "3.6.8"
  }
 },
 "nbformat": 4,
 "nbformat_minor": 2
}
