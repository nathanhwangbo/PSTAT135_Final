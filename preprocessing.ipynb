{
 "cells": [
  {
   "cell_type": "markdown",
   "metadata": {},
   "source": [
    "# Create SparkSession, import packages"
   ]
  },
  {
   "cell_type": "code",
   "execution_count": 1,
   "metadata": {},
   "outputs": [],
   "source": [
    "from pyspark.sql import SparkSession, SQLContext\n",
    "import pyspark.sql.types as typ\n",
    "import pyspark.sql.functions as F\n",
    "from pyspark.sql.functions import udf, col\n",
    "import os\n",
    "import pandas as pd\n",
    "import numpy as np\n",
    "import matplotlib.pyplot as plt\n",
    "\n",
    "from pyspark.ml.feature import VectorAssembler, StandardScaler, PCA\n",
    "from pyspark.ml.clustering import KMeans\n",
    "from pyspark.ml.linalg import Vectors, _convert_to_vector, VectorUDT\n",
    "from pyspark.ml import Pipeline\n",
    "from pyspark.ml.classification import RandomForestClassifier\n",
    "from pyspark.ml.evaluation import MulticlassClassificationEvaluator, ClusteringEvaluator\n",
    "\n",
    "from pyspark.mllib.linalg import Vectors, SparseVector\n",
    "from pyspark.mllib.linalg.distributed import RowMatrix\n",
    "from pyspark.mllib.tree import RandomForest\n",
    "from pyspark.mllib.util import MLUtils\n",
    "from pyspark.mllib.regression import LabeledPoint\n",
    "import scipy.sparse\n",
    "\n",
    "spark = SparkSession \\\n",
    "    .builder \\\n",
    "    .master(\"local[*]\") \\\n",
    "    .appName(\"xor\") \\\n",
    "    .config(\"spark.executor.memory\", '4g') \\\n",
    "    .config('spark.executor.cores', '4') \\\n",
    "    .config('spark.cores.max', '4') \\\n",
    "    .config(\"spark.driver.memory\",'4g') \\\n",
    "    .getOrCreate()\n",
    "\n",
    "sc = spark.sparkContext\n",
    "sqlCtx = SQLContext(sc)"
   ]
  },
  {
   "cell_type": "markdown",
   "metadata": {},
   "source": [
    "# Read in Data"
   ]
  },
  {
   "cell_type": "code",
   "execution_count": 2,
   "metadata": {},
   "outputs": [],
   "source": [
    "#read in with pandas first since the data is weirdly delimited\n",
    "#train features\n",
    "pandas_train_features = pd.read_csv(\"Data/X_train.txt\", sep='\\s+',header=None)\n",
    "#conversion to spark df\n",
    "df_train_features = sqlCtx.createDataFrame(pandas_train_features)"
   ]
  },
  {
   "cell_type": "code",
   "execution_count": 3,
   "metadata": {},
   "outputs": [],
   "source": [
    "#training labels\n",
    "pandas_train_labels = pd.read_csv(\"Data/y_train.txt\", sep='\\s+',header=None)\n",
    "pandas_train_labels.columns=['position']\n",
    "#conversion to spark df\n",
    "df_train_labels = sqlCtx.createDataFrame(pandas_train_labels)"
   ]
  },
  {
   "cell_type": "code",
   "execution_count": 4,
   "metadata": {},
   "outputs": [],
   "source": [
    "#test features\n",
    "pandas_test_features = pd.read_csv(\"Data/X_test.txt\", sep='\\s+',header=None)\n",
    "#conversion to spark df\n",
    "df_test_features = sqlCtx.createDataFrame(pandas_test_features)"
   ]
  },
  {
   "cell_type": "code",
   "execution_count": 5,
   "metadata": {},
   "outputs": [],
   "source": [
    "#test labels\n",
    "pandas_test_labels = pd.read_csv(\"Data/y_test.txt\", sep='\\s+',header=None)\n",
    "pandas_test_labels.columns=['position']\n",
    "#conversion to spark df\n",
    "df_test_labels = sqlCtx.createDataFrame(pandas_test_labels)"
   ]
  },
  {
   "cell_type": "code",
   "execution_count": 6,
   "metadata": {},
   "outputs": [],
   "source": [
    "#header\n",
    "pandas_header = pd.read_csv(\"Data/features.txt\", sep='\\s+',header=None)\n",
    "#conversion to spark df. this has an index column, so we deselect it\n",
    "df_header = sqlCtx.createDataFrame(pandas_header)\n"
   ]
  },
  {
   "cell_type": "code",
   "execution_count": 7,
   "metadata": {},
   "outputs": [],
   "source": [
    "#pull out the header names. \"id\" is an identifier, and \"position\" is the label\n",
    "df_header_names = [\"id\"] + df_header.select('1').rdd.map(lambda row : row[0]).collect() + [\"position\"]"
   ]
  },
  {
   "cell_type": "code",
   "execution_count": 8,
   "metadata": {},
   "outputs": [],
   "source": [
    "#reading subject number in\n",
    "panda_sub_train=pd.read_csv(\"Data/subject_train.txt\",sep='\\s+',header=None)\n",
    "panda_sub_train.columns=['id']\n",
    "\n",
    "panda_sub_test=pd.read_csv(\"Data/subject_test.txt\",sep='\\s+',header=None)\n",
    "panda_sub_test.columns=['id']\n",
    "df_sub_train=sqlCtx.createDataFrame(panda_sub_train)\n",
    "df_sub_test=sqlCtx.createDataFrame(panda_sub_test)"
   ]
  },
  {
   "cell_type": "markdown",
   "metadata": {},
   "source": [
    "# Merge header, id, features, and label, and split into training/test set"
   ]
  },
  {
   "cell_type": "code",
   "execution_count": 9,
   "metadata": {},
   "outputs": [],
   "source": [
    "#merge x feature files with subject id\n",
    "merged_train=pd.merge(panda_sub_train,pandas_train_features, right_index=True, left_index=True)\n",
    "merged_test=pd.merge(panda_sub_test,pandas_test_features, right_index=True, left_index=True)\n",
    "\n",
    "#transform to df\n",
    "df_merged_train_features=sqlCtx.createDataFrame(merged_train)\n",
    "df_merged_test_features=sqlCtx.createDataFrame(merged_test)"
   ]
  },
  {
   "cell_type": "code",
   "execution_count": 10,
   "metadata": {},
   "outputs": [],
   "source": [
    "#merge train files with subject id, testing and training sets\n",
    "#Dennis\n",
    "#pd.concat([df_a, df_b], axis=1) example\n",
    "mergetrain=pd.concat([merged_train,pandas_train_labels],axis=1)\n",
    "mergetest=pd.concat([merged_test,pandas_test_labels],axis=1)\n",
    "\n",
    "#combine train and test to resplit into 80-20\n",
    "combine=pd.concat([mergetrain,mergetest],axis=0)"
   ]
  },
  {
   "cell_type": "code",
   "execution_count": 11,
   "metadata": {},
   "outputs": [],
   "source": [
    "#convert into SparkDF\n",
    "df_complete_merge=sqlCtx.createDataFrame(combine)\n",
    "\n",
    "#resplit data to 80:20\n",
    "(train_data, test_data)=df_complete_merge.randomSplit(seed=314,weights=[0.8,0.2])"
   ]
  },
  {
   "cell_type": "code",
   "execution_count": 12,
   "metadata": {},
   "outputs": [],
   "source": [
    "#add headers\n",
    "#note: train_data is what we're using as our \"primary\" dataset\n",
    "train_data = train_data.toDF(*df_header_names)\n",
    "\n",
    "test_data = test_data.toDF(*df_header_names)\n"
   ]
  },
  {
   "cell_type": "code",
   "execution_count": 13,
   "metadata": {},
   "outputs": [],
   "source": [
    "##remove bandEnergy columns because they are not unique, not easily interpretable \n",
    "    #They represent the \"intensity\" of activity in the frequency domain, but this data is captured by comparing the time and frequency activity data.\n",
    "\n",
    "# first, we pull out the columns that have bandsEnergy in them\n",
    "train_band_cols = [s for s in train_data.columns if 'bandsEnergy' in s]\n",
    "test_band_cols = [s for s in test_data.columns if 'bandsEnergy' in s]\n",
    "\n",
    "# then, we pull out these columns out of the data\n",
    "train_data = train_data.select([a for a in train_data.columns if a not in train_band_cols])\n",
    "test_data = test_data.select([a for a in test_data.columns if a not in test_band_cols])\n"
   ]
  },
  {
   "cell_type": "code",
   "execution_count": 14,
   "metadata": {},
   "outputs": [],
   "source": [
    "#new header row, with the removed bandsEnergy columns\n",
    "feature_header = [s for s in train_data.columns if s not in [\"id\", \"position\"]]"
   ]
  },
  {
   "cell_type": "code",
   "execution_count": 15,
   "metadata": {},
   "outputs": [],
   "source": [
    "#split into features (x) and labels (y)\n",
    "    #note that the label is the \"position\" column\n",
    "train_x = train_data.drop(\"position\")\n",
    "train_y = train_data.select(\"position\") \n",
    "\n",
    "test_x = test_data.drop(\"position\")\n",
    "test_y = test_data.select(\"position\")"
   ]
  },
  {
   "cell_type": "code",
   "execution_count": 16,
   "metadata": {},
   "outputs": [
    {
     "name": "stdout",
     "output_type": "stream",
     "text": [
      "+---+-----------------+--------------------+-----------------+----------------+--------------------+----------------+----------------+----------------+----------------+----------------+----------------+----------------+--------------------+----------------+----------------+--------------+-------------------+--------------------+-------------------+----------------+----------------+----------------+--------------------+--------------------+--------------------+----------------------+----------------------+----------------------+----------------------+----------------------+----------------------+----------------------+----------------------+----------------------+----------------------+----------------------+----------------------+--------------------------+--------------------------+--------------------------+--------------------+--------------------+--------------------+-------------------+-------------------+-------------------+-------------------+-------------------+-------------------+--------------------+-------------------+-------------------+-------------------+-------------------+-------------------+-----------------+----------------------+----------------------+----------------------+-------------------+-------------------+-------------------+-----------------------+-----------------------+-----------------------+-------------------------+-------------------------+-------------------------+-------------------------+-------------------------+-------------------------+-------------------------+-------------------------+-------------------------+-------------------------+-------------------------+-------------------------+-----------------------------+-----------------------------+-----------------------------+---------------------+---------------------+---------------------+--------------------+--------------------+--------------------+--------------------+--------------------+--------------------+--------------------+--------------------+--------------------+--------------------+--------------------+--------------------+------------------+-----------------------+-----------------------+-----------------------+--------------------+--------------------+--------------------+------------------------+------------------------+------------------------+--------------------------+--------------------------+--------------------------+--------------------------+--------------------------+--------------------------+--------------------------+--------------------------+--------------------------+--------------------------+--------------------------+--------------------------+------------------------------+------------------------------+------------------------------+------------------+--------------------+--------------------+-----------------+-----------------+-----------------+-----------------+-----------------+-----------------+-----------------+-----------------+-----------------+--------------------+-----------------+-----------------+---------------+--------------------+--------------------+--------------------+-----------------+-----------------+-----------------+---------------------+---------------------+---------------------+-----------------------+-----------------------+-----------------------+-----------------------+-----------------------+-----------------------+-----------------------+-----------------------+-----------------------+-----------------------+-----------------------+-----------------------+---------------------------+---------------------------+---------------------------+----------------------+----------------------+----------------------+---------------------+---------------------+---------------------+---------------------+---------------------+---------------------+---------------------+---------------------+---------------------+---------------------+---------------------+---------------------+-------------------+------------------------+------------------------+------------------------+---------------------+---------------------+---------------------+-------------------------+-------------------------+-------------------------+---------------------------+---------------------------+---------------------------+---------------------------+---------------------------+---------------------------+---------------------------+---------------------------+---------------------------+---------------------------+---------------------------+---------------------------+-------------------------------+-------------------------------+-------------------------------+------------------+-----------------+-------------------+-----------------+-----------------+-----------------+--------------------+-----------------+---------------------+----------------------+----------------------+----------------------+----------------------+---------------------+--------------------+--------------------+--------------------+--------------------+--------------------+-----------------------+--------------------+------------------------+-------------------------+-------------------------+-------------------------+-------------------------+----------------------+---------------------+---------------------+---------------------+---------------------+---------------------+------------------------+---------------------+-------------------------+--------------------------+--------------------------+--------------------------+--------------------------+-------------------+------------------+------------------+------------------+------------------+------------------+---------------------+------------------+----------------------+-----------------------+-----------------------+-----------------------+-----------------------+-----------------------+----------------------+----------------------+----------------------+----------------------+----------------------+-------------------------+----------------------+--------------------------+---------------------------+---------------------------+---------------------------+---------------------------+-----------------+-----------------+-----------------+----------------+--------------------+----------------+----------------+----------------+----------------+----------------+----------------+--------------------+----------------+----------------+----------------+--------------+-------------------+-------------------+-------------------+----------------+----------------+----------------+--------------------+--------------------+--------------------+------------------+------------------+------------------+---------------------+---------------------+---------------------+---------------------+---------------------+---------------------+---------------------+---------------------+---------------------+---------------------+---------------------+---------------------+--------------------+--------------------+--------------------+--------------------+--------------------+--------------------+--------------------+--------------------+--------------------+--------------------+--------------------+--------------------+------------------+-----------------------+-----------------------+-----------------------+--------------------+--------------------+--------------------+------------------------+------------------------+------------------------+----------------------+----------------------+----------------------+-------------------------+-------------------------+-------------------------+-------------------------+-------------------------+-------------------------+-------------------------+-------------------------+-------------------------+--------------------+------------------+------------------+-----------------+-----------------+-----------------+-----------------+-----------------+-----------------+-----------------+-----------------+-----------------+-----------------+-----------------+-----------------+---------------+--------------------+--------------------+--------------------+-----------------+-----------------+-----------------+---------------------+---------------------+---------------------+-------------------+-------------------+-------------------+----------------------+----------------------+----------------------+----------------------+----------------------+----------------------+----------------------+----------------------+----------------------+------------------+-------------------+-----------------+-----------------+-----------------+-----------------+--------------------+-----------------+---------------------+-------------------+----------------------+----------------------+----------------------+--------------------------+-------------------------+-------------------------+-------------------------+-------------------------+-------------------------+----------------------------+-------------------------+-----------------------------+---------------------------+------------------------------+------------------------------+------------------------------+-----------------------+----------------------+----------------------+----------------------+----------------------+----------------------+-------------------------+----------------------+--------------------------+------------------------+---------------------------+---------------------------+---------------------------+---------------------------+--------------------------+--------------------------+--------------------------+--------------------------+--------------------------+-----------------------------+--------------------------+------------------------------+----------------------------+-------------------------------+-------------------------------+-------------------------------+---------------------------+------------------------------------+--------------------------------+------------------------------------+--------------------+--------------------+--------------------+\n",
      "| id|tBodyAcc-mean()-X|   tBodyAcc-mean()-Y|tBodyAcc-mean()-Z|tBodyAcc-std()-X|    tBodyAcc-std()-Y|tBodyAcc-std()-Z|tBodyAcc-mad()-X|tBodyAcc-mad()-Y|tBodyAcc-mad()-Z|tBodyAcc-max()-X|tBodyAcc-max()-Y|tBodyAcc-max()-Z|    tBodyAcc-min()-X|tBodyAcc-min()-Y|tBodyAcc-min()-Z|tBodyAcc-sma()|tBodyAcc-energy()-X| tBodyAcc-energy()-Y|tBodyAcc-energy()-Z|tBodyAcc-iqr()-X|tBodyAcc-iqr()-Y|tBodyAcc-iqr()-Z|tBodyAcc-entropy()-X|tBodyAcc-entropy()-Y|tBodyAcc-entropy()-Z|tBodyAcc-arCoeff()-X,1|tBodyAcc-arCoeff()-X,2|tBodyAcc-arCoeff()-X,3|tBodyAcc-arCoeff()-X,4|tBodyAcc-arCoeff()-Y,1|tBodyAcc-arCoeff()-Y,2|tBodyAcc-arCoeff()-Y,3|tBodyAcc-arCoeff()-Y,4|tBodyAcc-arCoeff()-Z,1|tBodyAcc-arCoeff()-Z,2|tBodyAcc-arCoeff()-Z,3|tBodyAcc-arCoeff()-Z,4|tBodyAcc-correlation()-X,Y|tBodyAcc-correlation()-X,Z|tBodyAcc-correlation()-Y,Z|tGravityAcc-mean()-X|tGravityAcc-mean()-Y|tGravityAcc-mean()-Z|tGravityAcc-std()-X|tGravityAcc-std()-Y|tGravityAcc-std()-Z|tGravityAcc-mad()-X|tGravityAcc-mad()-Y|tGravityAcc-mad()-Z| tGravityAcc-max()-X|tGravityAcc-max()-Y|tGravityAcc-max()-Z|tGravityAcc-min()-X|tGravityAcc-min()-Y|tGravityAcc-min()-Z|tGravityAcc-sma()|tGravityAcc-energy()-X|tGravityAcc-energy()-Y|tGravityAcc-energy()-Z|tGravityAcc-iqr()-X|tGravityAcc-iqr()-Y|tGravityAcc-iqr()-Z|tGravityAcc-entropy()-X|tGravityAcc-entropy()-Y|tGravityAcc-entropy()-Z|tGravityAcc-arCoeff()-X,1|tGravityAcc-arCoeff()-X,2|tGravityAcc-arCoeff()-X,3|tGravityAcc-arCoeff()-X,4|tGravityAcc-arCoeff()-Y,1|tGravityAcc-arCoeff()-Y,2|tGravityAcc-arCoeff()-Y,3|tGravityAcc-arCoeff()-Y,4|tGravityAcc-arCoeff()-Z,1|tGravityAcc-arCoeff()-Z,2|tGravityAcc-arCoeff()-Z,3|tGravityAcc-arCoeff()-Z,4|tGravityAcc-correlation()-X,Y|tGravityAcc-correlation()-X,Z|tGravityAcc-correlation()-Y,Z|tBodyAccJerk-mean()-X|tBodyAccJerk-mean()-Y|tBodyAccJerk-mean()-Z|tBodyAccJerk-std()-X|tBodyAccJerk-std()-Y|tBodyAccJerk-std()-Z|tBodyAccJerk-mad()-X|tBodyAccJerk-mad()-Y|tBodyAccJerk-mad()-Z|tBodyAccJerk-max()-X|tBodyAccJerk-max()-Y|tBodyAccJerk-max()-Z|tBodyAccJerk-min()-X|tBodyAccJerk-min()-Y|tBodyAccJerk-min()-Z|tBodyAccJerk-sma()|tBodyAccJerk-energy()-X|tBodyAccJerk-energy()-Y|tBodyAccJerk-energy()-Z|tBodyAccJerk-iqr()-X|tBodyAccJerk-iqr()-Y|tBodyAccJerk-iqr()-Z|tBodyAccJerk-entropy()-X|tBodyAccJerk-entropy()-Y|tBodyAccJerk-entropy()-Z|tBodyAccJerk-arCoeff()-X,1|tBodyAccJerk-arCoeff()-X,2|tBodyAccJerk-arCoeff()-X,3|tBodyAccJerk-arCoeff()-X,4|tBodyAccJerk-arCoeff()-Y,1|tBodyAccJerk-arCoeff()-Y,2|tBodyAccJerk-arCoeff()-Y,3|tBodyAccJerk-arCoeff()-Y,4|tBodyAccJerk-arCoeff()-Z,1|tBodyAccJerk-arCoeff()-Z,2|tBodyAccJerk-arCoeff()-Z,3|tBodyAccJerk-arCoeff()-Z,4|tBodyAccJerk-correlation()-X,Y|tBodyAccJerk-correlation()-X,Z|tBodyAccJerk-correlation()-Y,Z|tBodyGyro-mean()-X|  tBodyGyro-mean()-Y|  tBodyGyro-mean()-Z|tBodyGyro-std()-X|tBodyGyro-std()-Y|tBodyGyro-std()-Z|tBodyGyro-mad()-X|tBodyGyro-mad()-Y|tBodyGyro-mad()-Z|tBodyGyro-max()-X|tBodyGyro-max()-Y|tBodyGyro-max()-Z|   tBodyGyro-min()-X|tBodyGyro-min()-Y|tBodyGyro-min()-Z|tBodyGyro-sma()|tBodyGyro-energy()-X|tBodyGyro-energy()-Y|tBodyGyro-energy()-Z|tBodyGyro-iqr()-X|tBodyGyro-iqr()-Y|tBodyGyro-iqr()-Z|tBodyGyro-entropy()-X|tBodyGyro-entropy()-Y|tBodyGyro-entropy()-Z|tBodyGyro-arCoeff()-X,1|tBodyGyro-arCoeff()-X,2|tBodyGyro-arCoeff()-X,3|tBodyGyro-arCoeff()-X,4|tBodyGyro-arCoeff()-Y,1|tBodyGyro-arCoeff()-Y,2|tBodyGyro-arCoeff()-Y,3|tBodyGyro-arCoeff()-Y,4|tBodyGyro-arCoeff()-Z,1|tBodyGyro-arCoeff()-Z,2|tBodyGyro-arCoeff()-Z,3|tBodyGyro-arCoeff()-Z,4|tBodyGyro-correlation()-X,Y|tBodyGyro-correlation()-X,Z|tBodyGyro-correlation()-Y,Z|tBodyGyroJerk-mean()-X|tBodyGyroJerk-mean()-Y|tBodyGyroJerk-mean()-Z|tBodyGyroJerk-std()-X|tBodyGyroJerk-std()-Y|tBodyGyroJerk-std()-Z|tBodyGyroJerk-mad()-X|tBodyGyroJerk-mad()-Y|tBodyGyroJerk-mad()-Z|tBodyGyroJerk-max()-X|tBodyGyroJerk-max()-Y|tBodyGyroJerk-max()-Z|tBodyGyroJerk-min()-X|tBodyGyroJerk-min()-Y|tBodyGyroJerk-min()-Z|tBodyGyroJerk-sma()|tBodyGyroJerk-energy()-X|tBodyGyroJerk-energy()-Y|tBodyGyroJerk-energy()-Z|tBodyGyroJerk-iqr()-X|tBodyGyroJerk-iqr()-Y|tBodyGyroJerk-iqr()-Z|tBodyGyroJerk-entropy()-X|tBodyGyroJerk-entropy()-Y|tBodyGyroJerk-entropy()-Z|tBodyGyroJerk-arCoeff()-X,1|tBodyGyroJerk-arCoeff()-X,2|tBodyGyroJerk-arCoeff()-X,3|tBodyGyroJerk-arCoeff()-X,4|tBodyGyroJerk-arCoeff()-Y,1|tBodyGyroJerk-arCoeff()-Y,2|tBodyGyroJerk-arCoeff()-Y,3|tBodyGyroJerk-arCoeff()-Y,4|tBodyGyroJerk-arCoeff()-Z,1|tBodyGyroJerk-arCoeff()-Z,2|tBodyGyroJerk-arCoeff()-Z,3|tBodyGyroJerk-arCoeff()-Z,4|tBodyGyroJerk-correlation()-X,Y|tBodyGyroJerk-correlation()-X,Z|tBodyGyroJerk-correlation()-Y,Z|tBodyAccMag-mean()|tBodyAccMag-std()|  tBodyAccMag-mad()|tBodyAccMag-max()|tBodyAccMag-min()|tBodyAccMag-sma()|tBodyAccMag-energy()|tBodyAccMag-iqr()|tBodyAccMag-entropy()|tBodyAccMag-arCoeff()1|tBodyAccMag-arCoeff()2|tBodyAccMag-arCoeff()3|tBodyAccMag-arCoeff()4|tGravityAccMag-mean()|tGravityAccMag-std()|tGravityAccMag-mad()|tGravityAccMag-max()|tGravityAccMag-min()|tGravityAccMag-sma()|tGravityAccMag-energy()|tGravityAccMag-iqr()|tGravityAccMag-entropy()|tGravityAccMag-arCoeff()1|tGravityAccMag-arCoeff()2|tGravityAccMag-arCoeff()3|tGravityAccMag-arCoeff()4|tBodyAccJerkMag-mean()|tBodyAccJerkMag-std()|tBodyAccJerkMag-mad()|tBodyAccJerkMag-max()|tBodyAccJerkMag-min()|tBodyAccJerkMag-sma()|tBodyAccJerkMag-energy()|tBodyAccJerkMag-iqr()|tBodyAccJerkMag-entropy()|tBodyAccJerkMag-arCoeff()1|tBodyAccJerkMag-arCoeff()2|tBodyAccJerkMag-arCoeff()3|tBodyAccJerkMag-arCoeff()4|tBodyGyroMag-mean()|tBodyGyroMag-std()|tBodyGyroMag-mad()|tBodyGyroMag-max()|tBodyGyroMag-min()|tBodyGyroMag-sma()|tBodyGyroMag-energy()|tBodyGyroMag-iqr()|tBodyGyroMag-entropy()|tBodyGyroMag-arCoeff()1|tBodyGyroMag-arCoeff()2|tBodyGyroMag-arCoeff()3|tBodyGyroMag-arCoeff()4|tBodyGyroJerkMag-mean()|tBodyGyroJerkMag-std()|tBodyGyroJerkMag-mad()|tBodyGyroJerkMag-max()|tBodyGyroJerkMag-min()|tBodyGyroJerkMag-sma()|tBodyGyroJerkMag-energy()|tBodyGyroJerkMag-iqr()|tBodyGyroJerkMag-entropy()|tBodyGyroJerkMag-arCoeff()1|tBodyGyroJerkMag-arCoeff()2|tBodyGyroJerkMag-arCoeff()3|tBodyGyroJerkMag-arCoeff()4|fBodyAcc-mean()-X|fBodyAcc-mean()-Y|fBodyAcc-mean()-Z|fBodyAcc-std()-X|    fBodyAcc-std()-Y|fBodyAcc-std()-Z|fBodyAcc-mad()-X|fBodyAcc-mad()-Y|fBodyAcc-mad()-Z|fBodyAcc-max()-X|fBodyAcc-max()-Y|    fBodyAcc-max()-Z|fBodyAcc-min()-X|fBodyAcc-min()-Y|fBodyAcc-min()-Z|fBodyAcc-sma()|fBodyAcc-energy()-X|fBodyAcc-energy()-Y|fBodyAcc-energy()-Z|fBodyAcc-iqr()-X|fBodyAcc-iqr()-Y|fBodyAcc-iqr()-Z|fBodyAcc-entropy()-X|fBodyAcc-entropy()-Y|fBodyAcc-entropy()-Z|fBodyAcc-maxInds-X|fBodyAcc-maxInds-Y|fBodyAcc-maxInds-Z|fBodyAcc-meanFreq()-X|fBodyAcc-meanFreq()-Y|fBodyAcc-meanFreq()-Z|fBodyAcc-skewness()-X|fBodyAcc-kurtosis()-X|fBodyAcc-skewness()-Y|fBodyAcc-kurtosis()-Y|fBodyAcc-skewness()-Z|fBodyAcc-kurtosis()-Z|fBodyAccJerk-mean()-X|fBodyAccJerk-mean()-Y|fBodyAccJerk-mean()-Z|fBodyAccJerk-std()-X|fBodyAccJerk-std()-Y|fBodyAccJerk-std()-Z|fBodyAccJerk-mad()-X|fBodyAccJerk-mad()-Y|fBodyAccJerk-mad()-Z|fBodyAccJerk-max()-X|fBodyAccJerk-max()-Y|fBodyAccJerk-max()-Z|fBodyAccJerk-min()-X|fBodyAccJerk-min()-Y|fBodyAccJerk-min()-Z|fBodyAccJerk-sma()|fBodyAccJerk-energy()-X|fBodyAccJerk-energy()-Y|fBodyAccJerk-energy()-Z|fBodyAccJerk-iqr()-X|fBodyAccJerk-iqr()-Y|fBodyAccJerk-iqr()-Z|fBodyAccJerk-entropy()-X|fBodyAccJerk-entropy()-Y|fBodyAccJerk-entropy()-Z|fBodyAccJerk-maxInds-X|fBodyAccJerk-maxInds-Y|fBodyAccJerk-maxInds-Z|fBodyAccJerk-meanFreq()-X|fBodyAccJerk-meanFreq()-Y|fBodyAccJerk-meanFreq()-Z|fBodyAccJerk-skewness()-X|fBodyAccJerk-kurtosis()-X|fBodyAccJerk-skewness()-Y|fBodyAccJerk-kurtosis()-Y|fBodyAccJerk-skewness()-Z|fBodyAccJerk-kurtosis()-Z|  fBodyGyro-mean()-X|fBodyGyro-mean()-Y|fBodyGyro-mean()-Z|fBodyGyro-std()-X|fBodyGyro-std()-Y|fBodyGyro-std()-Z|fBodyGyro-mad()-X|fBodyGyro-mad()-Y|fBodyGyro-mad()-Z|fBodyGyro-max()-X|fBodyGyro-max()-Y|fBodyGyro-max()-Z|fBodyGyro-min()-X|fBodyGyro-min()-Y|fBodyGyro-min()-Z|fBodyGyro-sma()|fBodyGyro-energy()-X|fBodyGyro-energy()-Y|fBodyGyro-energy()-Z|fBodyGyro-iqr()-X|fBodyGyro-iqr()-Y|fBodyGyro-iqr()-Z|fBodyGyro-entropy()-X|fBodyGyro-entropy()-Y|fBodyGyro-entropy()-Z|fBodyGyro-maxInds-X|fBodyGyro-maxInds-Y|fBodyGyro-maxInds-Z|fBodyGyro-meanFreq()-X|fBodyGyro-meanFreq()-Y|fBodyGyro-meanFreq()-Z|fBodyGyro-skewness()-X|fBodyGyro-kurtosis()-X|fBodyGyro-skewness()-Y|fBodyGyro-kurtosis()-Y|fBodyGyro-skewness()-Z|fBodyGyro-kurtosis()-Z|fBodyAccMag-mean()|  fBodyAccMag-std()|fBodyAccMag-mad()|fBodyAccMag-max()|fBodyAccMag-min()|fBodyAccMag-sma()|fBodyAccMag-energy()|fBodyAccMag-iqr()|fBodyAccMag-entropy()|fBodyAccMag-maxInds|fBodyAccMag-meanFreq()|fBodyAccMag-skewness()|fBodyAccMag-kurtosis()|fBodyBodyAccJerkMag-mean()|fBodyBodyAccJerkMag-std()|fBodyBodyAccJerkMag-mad()|fBodyBodyAccJerkMag-max()|fBodyBodyAccJerkMag-min()|fBodyBodyAccJerkMag-sma()|fBodyBodyAccJerkMag-energy()|fBodyBodyAccJerkMag-iqr()|fBodyBodyAccJerkMag-entropy()|fBodyBodyAccJerkMag-maxInds|fBodyBodyAccJerkMag-meanFreq()|fBodyBodyAccJerkMag-skewness()|fBodyBodyAccJerkMag-kurtosis()|fBodyBodyGyroMag-mean()|fBodyBodyGyroMag-std()|fBodyBodyGyroMag-mad()|fBodyBodyGyroMag-max()|fBodyBodyGyroMag-min()|fBodyBodyGyroMag-sma()|fBodyBodyGyroMag-energy()|fBodyBodyGyroMag-iqr()|fBodyBodyGyroMag-entropy()|fBodyBodyGyroMag-maxInds|fBodyBodyGyroMag-meanFreq()|fBodyBodyGyroMag-skewness()|fBodyBodyGyroMag-kurtosis()|fBodyBodyGyroJerkMag-mean()|fBodyBodyGyroJerkMag-std()|fBodyBodyGyroJerkMag-mad()|fBodyBodyGyroJerkMag-max()|fBodyBodyGyroJerkMag-min()|fBodyBodyGyroJerkMag-sma()|fBodyBodyGyroJerkMag-energy()|fBodyBodyGyroJerkMag-iqr()|fBodyBodyGyroJerkMag-entropy()|fBodyBodyGyroJerkMag-maxInds|fBodyBodyGyroJerkMag-meanFreq()|fBodyBodyGyroJerkMag-skewness()|fBodyBodyGyroJerkMag-kurtosis()|angle(tBodyAccMean,gravity)|angle(tBodyAccJerkMean),gravityMean)|angle(tBodyGyroMean,gravityMean)|angle(tBodyGyroJerkMean,gravityMean)|angle(X,gravityMean)|angle(Y,gravityMean)|angle(Z,gravityMean)|\n",
      "+---+-----------------+--------------------+-----------------+----------------+--------------------+----------------+----------------+----------------+----------------+----------------+----------------+----------------+--------------------+----------------+----------------+--------------+-------------------+--------------------+-------------------+----------------+----------------+----------------+--------------------+--------------------+--------------------+----------------------+----------------------+----------------------+----------------------+----------------------+----------------------+----------------------+----------------------+----------------------+----------------------+----------------------+----------------------+--------------------------+--------------------------+--------------------------+--------------------+--------------------+--------------------+-------------------+-------------------+-------------------+-------------------+-------------------+-------------------+--------------------+-------------------+-------------------+-------------------+-------------------+-------------------+-----------------+----------------------+----------------------+----------------------+-------------------+-------------------+-------------------+-----------------------+-----------------------+-----------------------+-------------------------+-------------------------+-------------------------+-------------------------+-------------------------+-------------------------+-------------------------+-------------------------+-------------------------+-------------------------+-------------------------+-------------------------+-----------------------------+-----------------------------+-----------------------------+---------------------+---------------------+---------------------+--------------------+--------------------+--------------------+--------------------+--------------------+--------------------+--------------------+--------------------+--------------------+--------------------+--------------------+--------------------+------------------+-----------------------+-----------------------+-----------------------+--------------------+--------------------+--------------------+------------------------+------------------------+------------------------+--------------------------+--------------------------+--------------------------+--------------------------+--------------------------+--------------------------+--------------------------+--------------------------+--------------------------+--------------------------+--------------------------+--------------------------+------------------------------+------------------------------+------------------------------+------------------+--------------------+--------------------+-----------------+-----------------+-----------------+-----------------+-----------------+-----------------+-----------------+-----------------+-----------------+--------------------+-----------------+-----------------+---------------+--------------------+--------------------+--------------------+-----------------+-----------------+-----------------+---------------------+---------------------+---------------------+-----------------------+-----------------------+-----------------------+-----------------------+-----------------------+-----------------------+-----------------------+-----------------------+-----------------------+-----------------------+-----------------------+-----------------------+---------------------------+---------------------------+---------------------------+----------------------+----------------------+----------------------+---------------------+---------------------+---------------------+---------------------+---------------------+---------------------+---------------------+---------------------+---------------------+---------------------+---------------------+---------------------+-------------------+------------------------+------------------------+------------------------+---------------------+---------------------+---------------------+-------------------------+-------------------------+-------------------------+---------------------------+---------------------------+---------------------------+---------------------------+---------------------------+---------------------------+---------------------------+---------------------------+---------------------------+---------------------------+---------------------------+---------------------------+-------------------------------+-------------------------------+-------------------------------+------------------+-----------------+-------------------+-----------------+-----------------+-----------------+--------------------+-----------------+---------------------+----------------------+----------------------+----------------------+----------------------+---------------------+--------------------+--------------------+--------------------+--------------------+--------------------+-----------------------+--------------------+------------------------+-------------------------+-------------------------+-------------------------+-------------------------+----------------------+---------------------+---------------------+---------------------+---------------------+---------------------+------------------------+---------------------+-------------------------+--------------------------+--------------------------+--------------------------+--------------------------+-------------------+------------------+------------------+------------------+------------------+------------------+---------------------+------------------+----------------------+-----------------------+-----------------------+-----------------------+-----------------------+-----------------------+----------------------+----------------------+----------------------+----------------------+----------------------+-------------------------+----------------------+--------------------------+---------------------------+---------------------------+---------------------------+---------------------------+-----------------+-----------------+-----------------+----------------+--------------------+----------------+----------------+----------------+----------------+----------------+----------------+--------------------+----------------+----------------+----------------+--------------+-------------------+-------------------+-------------------+----------------+----------------+----------------+--------------------+--------------------+--------------------+------------------+------------------+------------------+---------------------+---------------------+---------------------+---------------------+---------------------+---------------------+---------------------+---------------------+---------------------+---------------------+---------------------+---------------------+--------------------+--------------------+--------------------+--------------------+--------------------+--------------------+--------------------+--------------------+--------------------+--------------------+--------------------+--------------------+------------------+-----------------------+-----------------------+-----------------------+--------------------+--------------------+--------------------+------------------------+------------------------+------------------------+----------------------+----------------------+----------------------+-------------------------+-------------------------+-------------------------+-------------------------+-------------------------+-------------------------+-------------------------+-------------------------+-------------------------+--------------------+------------------+------------------+-----------------+-----------------+-----------------+-----------------+-----------------+-----------------+-----------------+-----------------+-----------------+-----------------+-----------------+-----------------+---------------+--------------------+--------------------+--------------------+-----------------+-----------------+-----------------+---------------------+---------------------+---------------------+-------------------+-------------------+-------------------+----------------------+----------------------+----------------------+----------------------+----------------------+----------------------+----------------------+----------------------+----------------------+------------------+-------------------+-----------------+-----------------+-----------------+-----------------+--------------------+-----------------+---------------------+-------------------+----------------------+----------------------+----------------------+--------------------------+-------------------------+-------------------------+-------------------------+-------------------------+-------------------------+----------------------------+-------------------------+-----------------------------+---------------------------+------------------------------+------------------------------+------------------------------+-----------------------+----------------------+----------------------+----------------------+----------------------+----------------------+-------------------------+----------------------+--------------------------+------------------------+---------------------------+---------------------------+---------------------------+---------------------------+--------------------------+--------------------------+--------------------------+--------------------------+--------------------------+-----------------------------+--------------------------+------------------------------+----------------------------+-------------------------------+-------------------------------+-------------------------------+---------------------------+------------------------------------+--------------------------------+------------------------------------+--------------------+--------------------+--------------------+\n",
      "|  1|      -0.36120533|         -0.26812111|       0.17689637|     -0.59939182|          0.53250573|    0.0043240256|     -0.66410777|      0.50226025|     0.048471827|     -0.71708111|     -0.18286375|      0.31545297|0.022281712000000002|     -0.51352667|      0.46493267|  0.0098121886|        -0.83643755|         -0.43533989|        -0.42808703|     -0.75472288|     0.063264414|      0.01237324|         -0.46569932|         0.034280174|          0.38972103|           -0.25443534|            0.23680111|           -0.18403795|          -0.034750647|            0.12473947|           -0.25907392|            0.19037294|            0.28131232|            0.22621993|            -0.5449354|            0.67136444|  -0.06038010200000...|                0.65804699|               -0.51592157|               -0.26042397|            -0.36048|          0.71643717|           0.6629796|        -0.57217277|        -0.72466654|        -0.78630016|        -0.59893511|        -0.77322415|        -0.81194425|         -0.35176655|         0.72043391|         0.74844315|        -0.55514798|         0.57169654|         0.62982101|       0.24799053|            -0.9797757|           0.046019968|            -0.1433678|        -0.70569598|        -0.89521074|        -0.84825676|             0.31694287|             0.37734445|             0.38985316|              -0.54546512|               0.54860976|              -0.55164421|               0.55473779|              -0.73872734|               0.72911272|              -0.73708679|               0.75248045|              -0.71286733|               0.72167024|              -0.73013285|               0.73524357|                   0.89506685|                  -0.72842137|                  -0.94377526|          0.020624221|          -0.26870572|           0.23693914|         -0.64824281|         -0.25032928|         -0.61258935|         -0.66757885|         -0.32909081|         -0.64959695|         -0.66929362|         -0.37863254|         -0.66983712|          0.57290171|          0.42004954|          0.32913303|       -0.54674791|            -0.93625851|            -0.71423973|             -0.9202614|         -0.69960747|          -0.5538598|         -0.69810879|              0.37065781|              0.45000159|              0.33563244|               -0.12336882|                 0.3021674|                0.10727771|              -0.029575859|                0.11732414|               -0.35130041|               0.050962263|               0.023011927|                0.14912021|               -0.78278229|               -0.05902615|                0.49937406|                    0.48513038|                    0.29092646|                     0.7127536|       -0.23782482|0.001320818599999...|-0.09854436400000001|     -0.081294431|      -0.67023793|      -0.57189809|      -0.35190001|      -0.68857543|      -0.59437797|         -0.48731|      -0.62851398|      -0.46583044|          -0.5326113|       0.74075538|       0.45160555|    -0.44263878|         -0.58726574|         -0.94483702|         -0.90106807|      -0.66570216|      -0.71717143|      -0.69887711|         -0.033104441|           0.37631316|         -0.047418798|            -0.69322954|             0.47096462|           -0.040415276|   0.030457632000000002|            -0.22839092|             0.23263267|            0.059361673|            -0.12827747|            -0.37065369|             0.29712061|            -0.15882557|             0.18356841|                -0.21442576|                0.012155568|                -0.34968254|           -0.26163473|           -0.11985833|  -0.01243559199999...|          -0.36262562|          -0.72314441|          -0.71632539|          -0.53787074|           -0.7535493|          -0.73542326|          -0.13804501|           -0.8037736|          -0.59135059|           0.31070425|           0.67664895|           0.80563028|        -0.68914365|             -0.79500276|             -0.96109025|             -0.95836541|          -0.72094189|          -0.77806864|          -0.76373348|               0.23659732|               0.49314187|               0.42804737|                -0.57093776|                 0.21156301|                -0.27081815|                 0.38305659|                -0.14684218|                 0.29034483|                 0.25220873|                 0.11742809|                -0.30882005|                 0.16194229|       -0.00526668949999...|               -0.077588079|                    0.049985709|                    -0.39513967|                      -0.128402|      -0.062945893|       0.30788151|         0.14688483|       0.15370675|      -0.77397597|     -0.062945893|         -0.41875061|     -0.084678289|           0.86177315|           -0.36748134|            0.29475594|           -0.42905464|            0.48398864|         -0.062945893|          0.30788151|          0.14688483|          0.15370675|         -0.77397597|        -0.062945893|            -0.41875061|        -0.084678289|              0.86177315|              -0.36748134|               0.29475594|              -0.42905464|               0.48398864|           -0.56428225|          -0.33962197|           -0.4185197|          -0.38144273|          -0.79524517|          -0.56428225|             -0.86237605|          -0.68579331|               0.50716138|                0.47543607|               -0.45008436|               -0.12097238|                0.06765087|        -0.40112981|        0.27340612|       0.028860731|        0.16937681|       -0.89866955|       -0.40112981|          -0.63776232|       -0.45562801|            0.85039125|            -0.36765841|            0.065948647|             0.26021913|           -0.044180094|            -0.67562773|           -0.53941555|           -0.60892749|           -0.61052195|           -0.87732288|           -0.67562773|              -0.92610497|           -0.74336795|                0.81164951|                -0.21296005|               -0.082075265|                 0.26367754|                -0.05315479|      -0.62167946|       0.26319965|      -0.25634415|     -0.59077718|          0.56288903|     0.054977589|     -0.62975444|       0.4611068|    -0.033361042|     -0.56816883|      0.29824313|          0.12307142|      -0.8552131|     -0.64924857|     -0.58620794|   -0.17092637|        -0.91837414|         0.17790189|        -0.48738088|     -0.56019649|     -0.46572747|     -0.80115069|           0.3665561|           0.5682634|          0.27992368|              -1.0|              -1.0|              -1.0|          -0.35748385|          -0.35022485|          -0.33530726|           0.42994173|           0.22961573|          -0.13650576|          -0.49843212|         -0.028121969|          -0.30957992|          -0.63698626|          -0.21058319|          -0.57076123|         -0.69447248|         -0.36007731|         -0.65294977|         -0.58095268|         -0.31714714|         -0.65052183|         -0.81196219|          -0.5063261|         -0.67409731|         -0.99000727|         -0.67958524|         -0.90413862|        -0.4057836|            -0.93615025|            -0.71448914|            -0.92033697|         -0.54119023|         -0.41478116|         -0.73119938|              0.16476859|              0.54028383|              0.21872174|                 -0.32|                 -0.76|                 -0.72|              -0.08993761|               -0.2454903|              -0.29874883|              -0.66977208|               -0.9291341|              -0.63757674|              -0.93156171|              -0.38864907|              -0.76268756|0.005782579699999999|       -0.66275526|       -0.53699297|      -0.11375026|      -0.67722657|      -0.62303729|       0.21404412|       -0.6733466|      -0.49978662|      -0.28225064|       -0.7681102|      -0.74603092|      -0.85578125|      -0.86618865|      -0.95081732|    -0.36588267|         -0.57701739|         -0.94490666|         -0.90684705|      -0.65505056|      -0.67074685|      -0.56141799|           0.46300896|           0.42174943|           0.36733777|        -0.93333333|               -1.0|               -1.0|           -0.53933004|          -0.051106787|           -0.35401397|           -0.42495472|           -0.78454226|            -0.4686442|            -0.8236159|           -0.43521434|             -0.768333|      -0.091821255|         0.28069657|       0.11447239|       0.21520352|      -0.83680756|     -0.091821255|         -0.14018729|       -0.5730063|            0.3649981|               -1.0|           -0.45908559|            0.31811539|           0.079770692|               -0.35848249|              -0.32035278|               -0.3645191|              -0.38657216|              -0.85723676|              -0.35848249|                 -0.77693784|              -0.53313636|                   0.19254267|                       -1.0|                    0.15463256|                    0.18491024|                   -0.22751459|            -0.10202009|            0.27991626|            0.35310592|          -0.055841909|           -0.86068782|           -0.10202009|                -0.187667|           -0.38078633|                0.44082134|                    -1.0|                -0.56646563|                 -0.3245116|                -0.72622278|                -0.60822781|               -0.49217599|                -0.4730712|               -0.50500293|               -0.84466333|               -0.60822781|                  -0.89284283|               -0.56584744|                    0.34980704|                        -1.0|                    -0.52517002|                    0.063363714|                    -0.33051979|                 0.15282962|                          0.14960236|                      0.12724505|                          0.19285207|          0.50873322|         -0.49613177|         -0.50619728|\n",
      "|  1|      -0.27706634|         -0.68409659|       0.34665772|     -0.59641047|0.024682957999999998|     -0.16040449|      -0.6318195|    -0.068856732|     -0.23515959|     -0.86629617|     -0.24904654|      0.31545297|0.022281712000000002|     -0.51352667|      0.46493267|    0.27477038|        -0.85544932|0.004366232600000...|        -0.37691695|     -0.67833686|     -0.32480091|     -0.32081876|         -0.39308631|         -0.95624852|          0.91338934|           -0.26896001|            0.20532138|          -0.066560942|           -0.12728402|             0.1129031|           -0.26897443|            0.16431872|            0.32221991|            0.24121783|           -0.56418562|            0.68079386|          -0.068767727|                0.23994439|               -0.36069728|                0.31443086|         -0.57349604|          0.52510468|          0.77976328|        -0.24241051|        0.069459782|        -0.14768193|         -0.2195045|        0.059886718|         -0.1234625|         -0.36339946|         0.72043391|         0.97046306|        -0.70993531|         0.15331707|         0.62982101|       0.10805683|           -0.96519669|           -0.35193478|            0.21741493|        -0.15559809|0.07461628299999999|       -0.044933046|            -0.21910371|             0.84090842|             0.82834451|              -0.57795179|               0.58105559|              -0.58406354|               0.58714454|              -0.77030917|                 0.777454|              -0.80119481|               0.83134402|              -0.71306007|                0.7185374|                -0.723689|               0.72552848|                   0.94547065|                  -0.96216597|                  -0.99424584|           0.17061123|           -0.3848919|         -0.028640525|         -0.67369935|         -0.26985594|         -0.62029149|         -0.73476949|         -0.41290587|          -0.6911595|         -0.66929362|         -0.37863254|         -0.66983712|          0.57290171|          0.42004954|          0.32913303|       -0.61513303|            -0.94496838|            -0.72849629|            -0.92336301|         -0.81526144|         -0.75279357|         -0.79333704|              0.35508381|              0.33677066|             0.056350638|               -0.12517206|                 0.2461536|                0.15359668|                0.01649798|                0.13262278|               -0.37925685|               0.008112599|               -0.03756946|                0.16636839|               -0.79906863|      -0.08895150199999999|                0.60801529|                    0.53687527|                    0.35831794|                    0.75949723|       -0.22981397|-0.08413979199999999|          0.12658478|      -0.11708191|      -0.70508529|      -0.72542219|      -0.37048572|       -0.7601085|      -0.78358829|         -0.48731|      -0.62851398|      -0.46583044|          -0.5326113|       0.74075538|       0.52001903|    -0.53119861|         -0.61868869|         -0.95657003|         -0.96369328|      -0.55697474|      -0.88405631|      -0.89980658| 0.036005537000000004|          -0.14562395|           0.41425656|             -0.5863897|             0.34201982|            0.052675182|            0.051508498|            -0.25448232|             0.25731854|    0.08968125699999999|            -0.14268338|            -0.21997625|             0.21713603|           -0.079332337|              0.2503799|                -0.17263338|       -0.00343666119999...|                -0.25301164|            0.60049262|           -0.14450577|            0.10627918|          -0.45691937|          -0.74054968|          -0.74996313|          -0.62581771|          -0.79419614|           -0.8130164|          -0.13804501|           -0.8037736|          -0.59135059|           0.56792251|           0.67664895|           0.80563028|        -0.75869142|             -0.84832725|             -0.96578033|             -0.96740759|          -0.86124455|          -0.86002745|          -0.91987915|               0.43062641|               0.34167737|               0.24707206|                -0.46608923|                 0.10451032|                 -0.2387776|                 0.48698325|                -0.18952532|                 0.27401249|                 0.28187013|                0.093824165|                -0.28111335|                 0.12119275|                 0.01021766|                0.031360614|                     0.13681875|                    -0.52079677|                   -0.090026409|        0.29483896|     -0.040902739|        -0.18837723|       0.15370675|       0.12813182|       0.29483896|         -0.18017445|      -0.33463273|           0.81506713|           -0.37498473|            0.27724069|           -0.42631768|            0.53970046|           0.29483896|        -0.040902739|         -0.18837723|          0.15370675|          0.12813182|          0.29483896|            -0.18017445|         -0.33463273|              0.81506713|              -0.37498473|               0.27724069|              -0.42631768|               0.53970046|           -0.62540929|          -0.29310124|          -0.35618889|          -0.38144273|          -0.92438399|          -0.62540929|             -0.87170189|          -0.63685698|                 0.478213|                0.58676777|               -0.39892201|               -0.22475621|                -0.0737984|        -0.48420622|        0.25838625|       -0.02575461|        0.16937681|       -0.89866955|       -0.48420622|            -0.682044|       -0.44790095|            0.81190874|            -0.27573169|   -0.03063494700000...|              0.3292974|   -0.09252944699999999|            -0.75023599|           -0.54078957|           -0.60974821|           -0.61052195|           -0.99020751|           -0.75023599|              -0.94149963|           -0.70829173|                0.73050161|       -0.08643807699999999|                -0.16862005|                 0.20994307|       -0.02115295200000...|      -0.60838922|      0.029028661|      -0.31756454|     -0.59163789|-0.04242610099999...|     -0.14414422|     -0.59479157|    -0.020489115|    -0.068621278|     -0.59319684|     -0.32979465|         -0.27449893|     -0.88765487|     -0.52787049|     -0.91418471|   -0.25662904|        -0.91716733|         -0.4699397|        -0.63947868|     -0.53770265|     -0.40772448|     -0.81284317|          0.36938503|           0.4906483|          0.27598681|              -1.0|       -0.93333333|              -1.0|          -0.48112763| 0.055190130999999996|          -0.44797549|            0.2199727|         -0.056636833|          -0.39996689|          -0.76792148|          -0.45661858|          -0.74905969|          -0.65892981|          -0.24437788|           -0.5777608|         -0.72221064|         -0.35761019|         -0.66152622|         -0.62629541|         -0.30315394|         -0.65545036|         -0.83171041|         -0.52733389|         -0.71147777|         -0.86184636|         -0.77518901|         -0.87012781|       -0.42992886|             -0.9448944|            -0.72898754|            -0.92336108|         -0.60888835|         -0.34955903|         -0.71014508|              0.13813831|               0.5374287|              0.14259944|                 -0.24|                 -0.76|                 -0.68|             -0.068720793|              -0.24344676|              -0.26722372|              -0.61117845|              -0.92357875|              -0.62835087|              -0.93794062|                -0.430985|              -0.80293359|          0.20023571|       -0.68059349|       -0.64274198|      -0.21899757|      -0.72334622|      -0.78386911|      0.081693195|      -0.69072479|       -0.7111981|      -0.37551528|      -0.86402062|      -0.86769246|      -0.55126485|      -0.89231312|      -0.95508213|    -0.32823776|          -0.6091895|         -0.95585258|         -0.96122857|      -0.51298337|      -0.66136366|      -0.75425185|           0.62625433|           0.39489623|           0.23475662|        -0.93333333|0.09677419400000001|        -0.79310345|           0.036605456|           0.010096269|            0.26133704|           -0.47016031|           -0.81848931|           -0.66149488|           -0.94988932|           -0.55576329|           -0.86875822|         -0.220785|        -0.10278022|     -0.043057933|      -0.27849902|      -0.82489875|        -0.220785|         -0.53500982|      -0.56440966|           0.44020127|        -0.93103448|           -0.44328399|           -0.15562824|           -0.49771999|               -0.33175609|              -0.25098304|              -0.35645889|              -0.31582179|              -0.67660388|              -0.33175609|                 -0.74496604|              -0.54250787|                   0.17679454|                       -1.0|                   0.087846855|                    0.29196489|                   -0.12348309|             0.10504627|            0.14654068|            0.30882276|          -0.019796533|           0.096773496|            0.10504627|              -0.20658807|            -0.2245526|                0.55555542|             -0.94871795|                -0.19232946|                -0.39905282|                -0.74179811|                -0.61261081|               -0.49043707|               -0.49669906|               -0.55358967|               -0.67684134|               -0.61261081|                   -0.8934496|               -0.59209391|                     0.3275272|                        -1.0|                    -0.53386713|                     0.01897918|                    -0.43705914|                 0.12310816|                          0.43253974|                    -0.083445798|                         0.025647796|          0.66828427|          -0.3366412|         -0.67268482|\n",
      "|  1|      -0.23910256|-0.09690439099999999|       0.14803461|     -0.63732529|         -0.12769222|     -0.25892403|     -0.64364219|     -0.13855081|     -0.23963371|     -0.87814885|     -0.24148221|     -0.12098467|          0.26337402|     0.094907246|      0.65067851|   -0.30104549|         -0.8793803|         -0.84091233|        -0.65418973|      -0.6474996|     -0.28106071|    -0.087491445|         -0.29505171|         0.045120771|          0.57613877|           -0.46678313|            0.31092248|           -0.21102907|            0.13750163|           -0.45220896|            0.21779969|            0.14963016|          -0.041662706|           -0.39248065|            0.32613786|           -0.68095669|            0.66481929|                0.83571925|               -0.73362882|               -0.53259468|         -0.18770377|          0.70262213|          0.63722785|        -0.33694561|         -0.6855982|        -0.39074878|        -0.30789331|        -0.66781494|        -0.36523072|-0.09120730699999999|         0.71852391|          0.7636324|        -0.36104164|         0.63328245|          0.5426484|       0.42927879|           -0.90455893|          0.0088264581|           -0.19458953|        -0.21865614|        -0.64592704|         -0.3195975|             0.73789309|             0.30552471|             0.60988694|              -0.89015655|               0.89047435|              -0.89044929|               0.89027057|              -0.72388207|               0.70661628|              -0.70737813|               0.71599142|              -0.88146721|               0.88381332|              -0.88566748|                 0.883775|                   0.98876634|                  -0.99755291|                  -0.99461466|           0.11314268|          0.074806311|          -0.10382637|         -0.87257116|         -0.64257101|         -0.83199907|         -0.88941556|         -0.71904723|         -0.84656337|         -0.84159466|         -0.79501407|         -0.84435378|          0.84747568|          0.51248074|          0.82206388|       -0.81979794|            -0.99107608|            -0.93327725|            -0.98359789|          -0.9059791|         -0.84848111|         -0.89274976|             0.037542988|              0.28880404|    -0.09706433699999999|               -0.35889114|                0.21814848|               -0.16755414|      0.036318947000000004|               -0.48678698|               0.056245454|               -0.24850851|                0.49140003|               -0.54587533|                0.36387515|                -0.9169945|                0.27134394|                    0.53197399|                     0.3016418|                    0.43749837|      -0.035961192|        -0.034605486|0.058812712999999996|      -0.38879976|      -0.74479878|      -0.59595082|      -0.50876266|      -0.76564993|      -0.66962308|      -0.62240234|      -0.74219793|      -0.62944291|-0.03397885100000...|       0.83244238|       0.37734712|    -0.56537182|         -0.82944991|         -0.96713152|         -0.92323326|      -0.64700876|      -0.84230595|      -0.85761465|           0.46559491| -0.09449199300000001|            0.4986846|            -0.87332404|              0.6582089|            -0.14980686|           -0.031941383|            -0.48761345|             0.44562942|            -0.29549389|             0.12261895|            -0.39896835|             0.28257441|            -0.15468476|             0.21922271|                -0.44798739|                  0.2848592|                -0.83849353|          -0.096588812|          -0.074083925|          -0.056614254|           -0.5884292|          -0.89356735|          -0.81213818|          -0.70458894|          -0.90243816|           -0.8428486|          -0.27510694|          -0.89038995|          -0.73491917|           0.58602116|           0.90385502|           0.86777845|        -0.83510613|             -0.91400196|             -0.99408969|             -0.98137939|           -0.8393072|          -0.90802828|          -0.88848958|               0.44568592|               0.29713984|               0.18643571|                -0.70972756|                 0.37347831|                -0.32460183|                 0.36703871|                -0.37571497|                  0.3443604|                0.086997313|                -0.22939722|                -0.31953559|                 0.08730805|                0.012521041|                -0.19615308|                     0.15315889|                    -0.46641991|                    -0.35149615|       -0.36210824|       -0.1266784|        -0.15732077|      -0.36572046|      -0.83342203|      -0.36210824|          -0.7314856|      -0.13567442|           0.77204404|            -0.6890107|            0.55543572|            -0.2910512|           0.087292089|          -0.36210824|          -0.1266784|         -0.15732077|         -0.36572046|         -0.83342203|         -0.36210824|             -0.7314856|         -0.13567442|              0.77204404|               -0.6890107|               0.55543572|               -0.2910512|              0.087292089|           -0.82366323|          -0.68634475|          -0.73778608|          -0.64570763|          -0.91694953|          -0.82366323|             -0.97185957|          -0.84244775|               0.13827868|               -0.30509265|                0.37394583|                -0.2263154|      0.048878715999999996|        -0.54709337|       -0.23749421|       -0.36153495|       -0.25142193|         -0.807026|       -0.54709337|          -0.83666585|       -0.64137356|            0.82136665|            -0.76122409|             0.65643033|            -0.36124934|             0.19352352|            -0.83080792|           -0.71704468|           -0.77651208|           -0.68333473|           -0.87504519|           -0.83080792|              -0.97571781|           -0.84509732|                0.54389694|                 -0.6528703|                 0.42078327|                 0.40305044|                -0.52108643|      -0.78254802|      -0.35302765|      -0.58238308|     -0.59362341|        -0.082021234|     -0.17499567|     -0.72581267|     -0.15504091|     -0.41075292|     -0.55375198|     -0.18888282|-0.01232240399999...|     -0.93274334|     -0.95202266|     -0.98081257|   -0.55237842|        -0.93295149|        -0.61459754|        -0.71768277|     -0.84443915|     -0.69943787|     -0.85046558|        -0.029005054|          0.22494435|0.015443231000000002|              -1.0|              -1.0|              -1.0|          -0.85555911|          -0.62478591|          -0.68602377|           0.77550491|           0.67939227|        -0.0082662999|          -0.32951016|           0.43526564|           0.24232107|          -0.86668292|          -0.65948137|          -0.80855043|         -0.89167443|         -0.64779561|          -0.8546971|         -0.86039473|         -0.65743134|         -0.83057788|         -0.93098243|         -0.73989811|         -0.89244432|          -0.9895984|         -0.95569579|         -0.97781703|       -0.75344235|            -0.99106406|            -0.93329322|            -0.98361182|         -0.87707159|         -0.75204085|         -0.82067619|             -0.30172587|              0.10615776|             -0.18898099|                 -0.32|                 -0.68|                 -0.72|              -0.40218761|              -0.87995111|              -0.58193048|              -0.63530047|              -0.90537285|              -0.38460164|              -0.84390728|              -0.67760246|              -0.93703981|         -0.35137583|       -0.80542284|       -0.63205493|      -0.40513477|      -0.71526611|      -0.62155844|      -0.19005035|      -0.78161315|      -0.55965863|      -0.50770173|      -0.71384744|      -0.71609442|      -0.97374117|      -0.94877502|      -0.99783537|    -0.58524287|         -0.81239076|         -0.96685319|         -0.91691883|      -0.71222292|      -0.84013951|      -0.70907406|           0.37944809|          0.090579694|           0.19024931|               -1.0|               -1.0|               -1.0|           -0.68458634|           -0.54345589|           -0.61413546|           -0.40236174|            -0.7632935|            0.16182365|           -0.17228741|           -0.21260381|           -0.59117649|       -0.50202182|        -0.11108042|      -0.32305095|      -0.13676288|      -0.92630462|      -0.50202182|         -0.61367067|      -0.62110584|            0.1313183|               -1.0|           -0.69377653|            0.50708781|            0.28819371|               -0.72546081|              -0.64267705|              -0.69597493|              -0.67098447|              -0.85394989|              -0.72546081|                 -0.94777114|              -0.80127887|                  -0.15542519|                       -1.0|                   -0.50332465|                    0.27466805|                   -0.14261763|            -0.45857638|            -0.2351279|            -0.1671987|           -0.43276262|           -0.94522321|           -0.45857638|              -0.70767091|           -0.42621756|                 0.3182114|              -0.8974359|                -0.65314986|                -0.34349443|                -0.72522085|                -0.76196065|               -0.68522496|               -0.63982295|                -0.7231345|               -0.85551034|               -0.76196065|                  -0.95923356|               -0.60244383|                    0.14430327|                        -1.0|                    -0.69121922|                    -0.15700853|                    -0.56191796|               0.0024180696|                       -0.0023661425|                     -0.10187764|                           0.5432066|          0.37879154|         -0.48844315|         -0.48705651|\n",
      "|  1|      -0.16642569|         -0.11935251|       0.13303497|     -0.63313536|         -0.18977503|     -0.31933629|      -0.6238043|     -0.19967526|     -0.28108829|     -0.92520798|     -0.24148221|     -0.12098467|          0.26337402|     0.094907246|      0.65067851|    -0.4673472|         -0.8919004|         -0.85359674|        -0.70331816|     -0.65549242|     -0.46135566|     -0.21413871|         -0.56478929|         -0.17171626|           0.3564189|           -0.48122424|            0.32489209|           -0.20679149|            0.12019455|           -0.43959511|            0.19790926|            0.17496654|          -0.050118166|           -0.40142643|            0.34539625|           -0.70426063|             0.6669891|                0.79665129|               -0.72107513|               -0.46166534|        -0.041699844|          0.75554154|          0.54742535|        -0.85563269|        -0.96354752|        -0.89836031|         -0.8844499|        -0.97152843|        -0.92067981|        -0.091058425|         0.71852391|         0.59372508|        -0.11339119|         0.74281751|         0.54146828|       0.61378568|           -0.82686368|            0.15464938|           -0.41898295|        -0.94318801|        -0.97966857|        -0.97205399|   0.044570252000000005|            -0.26164131|            -0.33577817|              -0.87709978|                0.8791824|              -0.88094999|               0.88258649|              -0.70694805|               0.70255585|               -0.7180372|               0.74146365|              -0.87473186|                0.8854102|              -0.89568239|               0.90224357|                   0.51011115|                  -0.96785816|                  -0.54842481| -0.04350741099999...|         -0.053766392|           0.19503419|         -0.87762809|         -0.65065842|         -0.83940869|         -0.90673746|           -0.759941|         -0.87568585|         -0.84159466|         -0.79501407|         -0.84435378|          0.84747568|          0.51248074|          0.82206388|       -0.85108266|            -0.99169478|            -0.93618528|            -0.98486826|         -0.95661933|         -0.91944203|         -0.96226913|             -0.23270115|             0.040662221|             -0.14278803|               -0.36947082|                0.24029774|               -0.20661421|       0.08977603699999999|               -0.47067497|      0.022751067000000003|               -0.24417143|                0.52487077|               -0.56729225|                0.40855891|               -0.95549446|                0.33269651|                    0.53983051|                    0.36418062|                    0.50577548|      -0.059379779|          0.08809224|          0.13125568|      -0.42283371|      -0.78810663|      -0.56517871|      -0.56834982|      -0.81637261|      -0.62559899|      -0.68235859|      -0.74219793|      -0.62944291|-0.03397885100000...|       0.86892587|       0.37734712|    -0.61215013|         -0.84725277|         -0.97289875|         -0.91079216|      -0.92304903|      -0.93165956|      -0.78153087|           0.45277403|           0.39970801|           0.43811275|            -0.93319952|              0.7239153|            -0.20006502|   -0.03265210299999...|             -0.5239511|             0.49060891|            -0.34803529|             0.15453652|            -0.41599473|             0.28504032|            -0.13717669|             0.19043328|                -0.44325537|                 0.30382326|                -0.85731708|           -0.04233134|           -0.07304167|          -0.056678688|          -0.60586863|          -0.89932747|          -0.81663018|          -0.77407245|          -0.92309947|          -0.86787954|          -0.27510694|          -0.89038995|          -0.73491917|           0.58602116|           0.90385502|           0.86777845|        -0.87087349|             -0.92105213|             -0.99469876|             -0.98223411|          -0.96474037|          -0.97003649|          -0.97448846|             -0.046296598|               0.17164829|              -0.10799852|                -0.76737619|                 0.44521551|                -0.38284545|                 0.39132582|                -0.41621084|                 0.37365131|                0.067567401|                -0.25319849|                -0.32816266|                0.078443848|                0.020310387|                -0.19546325|                     0.16042956|                    -0.50276727|                    -0.40344503|       -0.51842779|      0.064073395|0.07546683900000001|      -0.36572046|      -0.98729403|      -0.51842779|         -0.76076723|       0.12828636|           0.30829357|           -0.66083594|            0.52354042|           -0.23178802|           0.029987075|          -0.51842779|         0.064073395| 0.07546683900000001|         -0.36572046|         -0.98729403|         -0.51842779|            -0.76076723|          0.12828636|              0.30829357|              -0.66083594|               0.52354042|              -0.23178802|              0.029987075|           -0.85561065|          -0.66085342|          -0.70184143|          -0.64570763|          -0.96889178|          -0.85561065|             -0.97343777|          -0.79072154|     -0.02499360799999...|               -0.32564105|                0.40600596|               -0.30185484|                0.11353491|        -0.59910183|       -0.21074593|       -0.31229498|       -0.25142193|       -0.64873824|       -0.59910183|          -0.85026918|       -0.60317325|            0.70229706|            -0.75548371|             0.63520186|            -0.32686711|             0.17917995|            -0.86875596|           -0.69583753|           -0.74699548|           -0.68333473|           -0.98939341|           -0.86875596|              -0.97769955|           -0.80502152|                0.36855309|                -0.74577641|                 0.50390343|                 0.40579536|                -0.55299433|      -0.74175973|      -0.37047418|      -0.54169783|     -0.59792408|         -0.15788015|     -0.26673644|     -0.69546198|      -0.1900231|     -0.40724441|     -0.58986322|     -0.37114543|         -0.23225607|     -0.94907357|     -0.92544256|     -0.91743593|   -0.52310733|        -0.93140916|        -0.66692461|         -0.7609098|     -0.85616032|     -0.69789835|     -0.84600331|       -0.0044360996|          0.24152176|           0.1337695|              -1.0|              -1.0|              -1.0|            -0.621766|          -0.60129805|          -0.47612452|           0.48552709|           0.21381671|          -0.23430109|          -0.62811573|           0.06210063|          -0.27125488|          -0.87009876|          -0.66911521|          -0.81513119|         -0.89850916|          -0.6535219|         -0.86326895|         -0.86306645|         -0.66911355|         -0.83554942|          -0.9367147|         -0.75411792|         -0.89799904|         -0.94636766|         -0.96888759|         -0.90252084|       -0.76076577|            -0.99172578|            -0.93620152|            -0.98492063|         -0.85650424|          -0.7700534|          -0.8031493|             -0.36131492|             0.044567017|             -0.27270496|                 -0.68|                 -0.72|                 -0.72|              -0.34633774|              -0.86852506|              -0.55169544|              -0.65714056|              -0.92745709|              -0.36972051|              -0.84997282|              -0.73264609|                -0.956195|         -0.37539089|       -0.82273127|       -0.62389734|      -0.44130719|      -0.77061732|        -0.587152|      -0.23054879|        -0.802286|      -0.54896604|      -0.58158472|      -0.81275079|      -0.64825886|      -0.96349828|      -0.92466824|      -0.98813351|     -0.6000251|         -0.83263938|         -0.97705434|         -0.90393139|       -0.6856122|      -0.84730508|      -0.68972611|           0.27951208|           0.13253721|           0.20213126|               -1.0|               -1.0|               -1.0|           -0.63525595|           -0.46446244|            -0.6427061|           -0.42393435|            -0.7836726|           -0.12560646|           -0.55059775|          -0.032808416|           -0.37161652|       -0.40526174|0.08567896300000001|      -0.22544394|      0.075332673|      -0.84105201|      -0.40526174|         -0.42883075|      -0.75509446|           0.17207902|               -1.0|           -0.55561013|            0.59053763|            0.40207181|               -0.72619041|              -0.59248301|              -0.67739848|              -0.59049142|              -0.96546941|              -0.72619041|                 -0.93927972|              -0.77165307|                  -0.22219618|                       -1.0|                   -0.59281703|                    0.52864384|                    0.22743418|            -0.44981321|           -0.20359081|           -0.15814813|           -0.33964782|           -0.93009453|           -0.44981321|              -0.68689626|           -0.51047789|                0.28658244|                    -1.0|                -0.65450373|                -0.28108101|                  -0.668047|                -0.76672615|               -0.64139664|               -0.62646918|               -0.63089011|               -0.93318728|               -0.76672615|                  -0.95296312|               -0.60167959|                    0.14592704|                        -1.0|                    -0.80068355|                     0.19603818|                    -0.12889495|                 0.13947517|                         0.039215644|                     -0.49530282|                         0.082695923|          0.27208294|         -0.53412217|         -0.39742768|\n",
      "|  1|     -0.083287063|         0.010297707|      -0.51608391|     -0.73819996|         -0.87810967|     0.057095425|     -0.72951516|     -0.90339208|       0.1959596|     -0.91333655|     -0.37336139|     -0.76047648|          0.43058251|      0.64106859|    -0.082802609|   -0.50926511|        -0.93862048|          -0.9953581|        -0.25490951|     -0.70484711|     -0.93551495|       0.3389489|         -0.38385746|          0.11423424|         -0.27045288|            0.17625362|            -0.2163518|           -0.22420297|            0.40541914|                   1.0|            -0.7962952|            0.35855015|             0.2632019|            0.13530287|           -0.31746064|             0.3489116|            -0.1436701|               -0.19736972|                0.83220742|               -0.49802643|         -0.16876892|          0.91490323|         -0.16464523|        -0.50351963|        -0.92489589|        0.041165989|        -0.48145391|        -0.92938152|        0.050721423|        -0.079814823|         0.88001315|         0.14035366|        -0.25035687|         0.89378867|        -0.31400941|      -0.10550437|           -0.90294148|            0.67960582|           -0.89464194|        -0.41346221|        -0.93882404|        0.035453999|             0.60535882|            0.026247608|            -0.48218121|              -0.86922333|               0.86838559|              -0.86718978|                0.8658244|              -0.52215338|               0.48898291|              -0.48702632|                0.4989435|              -0.87806253|               0.89387366|              -0.90941833|               0.92137086|                  -0.95511348|                   0.97692928|                  -0.98294787|           0.11674395|          -0.01798659|            0.4417175|         -0.88411618|         -0.83923653|         -0.82066281|         -0.91719047|         -0.88109091|         -0.87890478|         -0.91522093|         -0.87034671|         -0.75175543|          0.77505583|          0.81953202|           0.6140536|       -0.88942039|            -0.99254636|            -0.98564798|             -0.9812341|         -0.93716419|         -0.94711619|         -0.93616243|            -0.035489337|             -0.21939338|              0.10111522|                0.23790466|               0.022965739|               -0.13389809|             -0.0087940722|                       1.0|               -0.39775031|                0.47471067|                0.25617406|                0.12564975|               -0.28184934|               -0.19187465|                0.85633131|                    0.75553911|                   -0.13043469|                   -0.16671378|       -0.11308188|          0.11271912|           0.3234831|      -0.63499812|      -0.87574775|      -0.74018705|      -0.77923302|      -0.91311459|      -0.78554958|     -0.013996658|      -0.72586209|      -0.46162541|          0.61508097|       0.83604545|       0.60092726|    -0.70212631|         -0.93425486|         -0.98609245|         -0.94629603|      -0.91413044|      -0.96152823|      -0.84973162|          -0.58201769|           0.52330158|           0.84613362|            -0.33428298|             0.38345214|            -0.22632307|             0.10823037|             0.33614568|             -0.3289666|             0.10065166|                0.38784|           -0.041623802|            -0.16923061|             0.42933317|            -0.19568456|                 0.49596264|                -0.33751141|                 0.41528374|           -0.36091469|           -0.19322027|           -0.11898592|          -0.53690886|          -0.89167835|           -0.8153538|          -0.78868487|          -0.94102246|          -0.85627797|          -0.40144593|          -0.86570097|          -0.73813343|         -0.042438228|           0.82341392|           0.77658024|        -0.88326428|             -0.89098378|             -0.99384606|             -0.98198029|          -0.92648231|          -0.98575563|          -0.90320514|               0.10173986|              -0.23147026|               0.23548349|                -0.20590189|                  0.4497079|                 -0.1409527|                 0.24456147|                  0.2571278|               -0.094023194|               -0.012219871|                 0.17558902|                0.072422456|                -0.34596651|                 0.31034428|       -0.02058280600000...|                     0.67856966|                     0.14682884|                     0.28015946|       -0.47948386|      0.022248669|        0.043651675|      -0.23081744|      -0.95727066|      -0.47948386|         -0.75477385|       0.10433271|           0.46848274|           -0.34828893|            0.15843886|            0.11421596|  -0.05493276599999...|          -0.47948386|         0.022248669|         0.043651675|         -0.23081744|         -0.95727066|         -0.47948386|            -0.75477385|          0.10433271|              0.46848274|              -0.34828893|               0.15843886|               0.11421596|     -0.05493276599999...|           -0.88880599|          -0.75125642|          -0.81165908|          -0.74157896|          -0.97043298|          -0.88880599|              -0.9847336|          -0.90264394|             -0.016722437|                0.31365563|               -0.43683706|                0.16514037|               -0.10602073|        -0.71786906|       -0.48398982|       -0.57316244|       -0.34859787|       -0.78335852|       -0.71786906|          -0.93083433|       -0.80670111|            0.68613748|             -0.1285035|             0.02043053|             0.12963617|            -0.11885994|            -0.87959102|           -0.62769148|           -0.79086231|           -0.48653416|           -0.95582404|           -0.87959102|              -0.97086058|           -0.90870237|                0.38411812|                 0.43620562|                 -0.2032112|                 -0.3776788|                 0.13493077|      -0.82134259|      -0.84075912|      -0.31242653|     -0.71150698|         -0.91077832|      0.14621084|     -0.80274914|     -0.90420939|     -0.12959761|     -0.68999585|     -0.94659208|          0.35202961|     -0.95685098|      -0.8628741|     -0.68428073|    -0.6303106|        -0.96474579|        -0.99142061|        -0.43300127|     -0.91283433|     -0.94784461|     -0.66369821|         -0.15412077|         -0.28213423|          0.17881446|              -1.0|              -0.4|              -1.0|          -0.61751322|           0.65102098|          -0.42073118|            0.6507289|           0.48130459|          -0.65270101|          -0.92272305|           0.35324541|           0.13697594|          -0.86598151|          -0.82101674|           -0.7690232|         -0.92118199|         -0.87832216|         -0.88260826|         -0.89527146|         -0.86697377|         -0.86548616|         -0.95017426|         -0.92110942|          -0.8988344|         -0.98666104|         -0.95172915|         -0.63810522|        -0.7914262|            -0.99253754|            -0.98564916|            -0.98149748|         -0.88710737|         -0.87465145|         -0.84526552|             -0.53173434|             -0.41157097|             -0.27049167|                  0.48|                   1.0|                  -0.6|                0.3681313|               0.92583858|     0.057899372000000005|               -0.9911018|              -0.94559392|               -0.7339632|              -0.97973757|              -0.77255247|              -0.92797336|          -0.4264851|        -0.8303334|       -0.69723778|       -0.7078557|      -0.91589099|      -0.77962949|      -0.54482097|      -0.90567645|      -0.70555521|      -0.76276363|      -0.94642595|      -0.84907646|      -0.70577739|      -0.81524749|      -0.90259649|    -0.63993079|         -0.93279771|         -0.99196859|         -0.96522798|       -0.2280181|      -0.87416888|      -0.69753454|           0.56857677|           0.12328838|           0.24371636|        -0.93333333|        -0.87096774|               -1.0|            0.14216485|            0.66378501|           -0.13435853|           -0.61207742|           -0.85271789|           -0.74740014|           -0.95033332|           -0.43513448|           -0.76143024|       -0.37994767|        0.029689026|      -0.15552906|     0.0068592083|      -0.83946726|      -0.37994767|         -0.47243193|      -0.77519888|            0.1814249|               -1.0|            -0.5879413|            0.47692521|            0.28216185|               -0.78447317|              -0.71403814|              -0.70191354|              -0.79169419|              -0.85858638|              -0.78447317|                 -0.96658402|              -0.84927725|                  -0.13483841|                       -1.0|                     -0.527563|                   -0.14313968|                   -0.63734608|            -0.49524998|           -0.56555304|           -0.46299941|           -0.63479672|           -0.72079099|           -0.49524998|              -0.86547203|           -0.35785668|                0.46115683|              -0.8974359|       -0.07662620099999999|                -0.56181733|                -0.81111439|                -0.61014116|               -0.67951417|               -0.64054137|               -0.77360885|               -0.93132159|               -0.61014116|                  -0.92977879|               -0.73227492|                    0.32511511|                 -0.96825397|                    -0.10207138|                    -0.45380746|                    -0.83752157|                -0.07884902|                          0.13932619|                     -0.17344642|                          0.44403169|          0.36427666|          -0.8048647|          0.14403351|\n",
      "+---+-----------------+--------------------+-----------------+----------------+--------------------+----------------+----------------+----------------+----------------+----------------+----------------+----------------+--------------------+----------------+----------------+--------------+-------------------+--------------------+-------------------+----------------+----------------+----------------+--------------------+--------------------+--------------------+----------------------+----------------------+----------------------+----------------------+----------------------+----------------------+----------------------+----------------------+----------------------+----------------------+----------------------+----------------------+--------------------------+--------------------------+--------------------------+--------------------+--------------------+--------------------+-------------------+-------------------+-------------------+-------------------+-------------------+-------------------+--------------------+-------------------+-------------------+-------------------+-------------------+-------------------+-----------------+----------------------+----------------------+----------------------+-------------------+-------------------+-------------------+-----------------------+-----------------------+-----------------------+-------------------------+-------------------------+-------------------------+-------------------------+-------------------------+-------------------------+-------------------------+-------------------------+-------------------------+-------------------------+-------------------------+-------------------------+-----------------------------+-----------------------------+-----------------------------+---------------------+---------------------+---------------------+--------------------+--------------------+--------------------+--------------------+--------------------+--------------------+--------------------+--------------------+--------------------+--------------------+--------------------+--------------------+------------------+-----------------------+-----------------------+-----------------------+--------------------+--------------------+--------------------+------------------------+------------------------+------------------------+--------------------------+--------------------------+--------------------------+--------------------------+--------------------------+--------------------------+--------------------------+--------------------------+--------------------------+--------------------------+--------------------------+--------------------------+------------------------------+------------------------------+------------------------------+------------------+--------------------+--------------------+-----------------+-----------------+-----------------+-----------------+-----------------+-----------------+-----------------+-----------------+-----------------+--------------------+-----------------+-----------------+---------------+--------------------+--------------------+--------------------+-----------------+-----------------+-----------------+---------------------+---------------------+---------------------+-----------------------+-----------------------+-----------------------+-----------------------+-----------------------+-----------------------+-----------------------+-----------------------+-----------------------+-----------------------+-----------------------+-----------------------+---------------------------+---------------------------+---------------------------+----------------------+----------------------+----------------------+---------------------+---------------------+---------------------+---------------------+---------------------+---------------------+---------------------+---------------------+---------------------+---------------------+---------------------+---------------------+-------------------+------------------------+------------------------+------------------------+---------------------+---------------------+---------------------+-------------------------+-------------------------+-------------------------+---------------------------+---------------------------+---------------------------+---------------------------+---------------------------+---------------------------+---------------------------+---------------------------+---------------------------+---------------------------+---------------------------+---------------------------+-------------------------------+-------------------------------+-------------------------------+------------------+-----------------+-------------------+-----------------+-----------------+-----------------+--------------------+-----------------+---------------------+----------------------+----------------------+----------------------+----------------------+---------------------+--------------------+--------------------+--------------------+--------------------+--------------------+-----------------------+--------------------+------------------------+-------------------------+-------------------------+-------------------------+-------------------------+----------------------+---------------------+---------------------+---------------------+---------------------+---------------------+------------------------+---------------------+-------------------------+--------------------------+--------------------------+--------------------------+--------------------------+-------------------+------------------+------------------+------------------+------------------+------------------+---------------------+------------------+----------------------+-----------------------+-----------------------+-----------------------+-----------------------+-----------------------+----------------------+----------------------+----------------------+----------------------+----------------------+-------------------------+----------------------+--------------------------+---------------------------+---------------------------+---------------------------+---------------------------+-----------------+-----------------+-----------------+----------------+--------------------+----------------+----------------+----------------+----------------+----------------+----------------+--------------------+----------------+----------------+----------------+--------------+-------------------+-------------------+-------------------+----------------+----------------+----------------+--------------------+--------------------+--------------------+------------------+------------------+------------------+---------------------+---------------------+---------------------+---------------------+---------------------+---------------------+---------------------+---------------------+---------------------+---------------------+---------------------+---------------------+--------------------+--------------------+--------------------+--------------------+--------------------+--------------------+--------------------+--------------------+--------------------+--------------------+--------------------+--------------------+------------------+-----------------------+-----------------------+-----------------------+--------------------+--------------------+--------------------+------------------------+------------------------+------------------------+----------------------+----------------------+----------------------+-------------------------+-------------------------+-------------------------+-------------------------+-------------------------+-------------------------+-------------------------+-------------------------+-------------------------+--------------------+------------------+------------------+-----------------+-----------------+-----------------+-----------------+-----------------+-----------------+-----------------+-----------------+-----------------+-----------------+-----------------+-----------------+---------------+--------------------+--------------------+--------------------+-----------------+-----------------+-----------------+---------------------+---------------------+---------------------+-------------------+-------------------+-------------------+----------------------+----------------------+----------------------+----------------------+----------------------+----------------------+----------------------+----------------------+----------------------+------------------+-------------------+-----------------+-----------------+-----------------+-----------------+--------------------+-----------------+---------------------+-------------------+----------------------+----------------------+----------------------+--------------------------+-------------------------+-------------------------+-------------------------+-------------------------+-------------------------+----------------------------+-------------------------+-----------------------------+---------------------------+------------------------------+------------------------------+------------------------------+-----------------------+----------------------+----------------------+----------------------+----------------------+----------------------+-------------------------+----------------------+--------------------------+------------------------+---------------------------+---------------------------+---------------------------+---------------------------+--------------------------+--------------------------+--------------------------+--------------------------+--------------------------+-----------------------------+--------------------------+------------------------------+----------------------------+-------------------------------+-------------------------------+-------------------------------+---------------------------+------------------------------------+--------------------------------+------------------------------------+--------------------+--------------------+--------------------+\n",
      "only showing top 5 rows\n",
      "\n"
     ]
    }
   ],
   "source": [
    "train_x.show(5)"
   ]
  },
  {
   "cell_type": "markdown",
   "metadata": {},
   "source": [
    "# Data exploration (looking for NA, summary stats, counts, )"
   ]
  },
  {
   "cell_type": "code",
   "execution_count": 17,
   "metadata": {},
   "outputs": [
    {
     "name": "stdout",
     "output_type": "stream",
     "text": [
      "+---+-----------------+-----------------+-----------------+----------------+----------------+----------------+----------------+----------------+----------------+----------------+----------------+----------------+----------------+----------------+----------------+--------------+-------------------+-------------------+-------------------+----------------+----------------+----------------+--------------------+--------------------+--------------------+----------------------+----------------------+----------------------+----------------------+----------------------+----------------------+----------------------+----------------------+----------------------+----------------------+----------------------+----------------------+--------------------------+--------------------------+--------------------------+--------------------+--------------------+--------------------+-------------------+-------------------+-------------------+-------------------+-------------------+-------------------+-------------------+-------------------+-------------------+-------------------+-------------------+-------------------+-----------------+----------------------+----------------------+----------------------+-------------------+-------------------+-------------------+-----------------------+-----------------------+-----------------------+-------------------------+-------------------------+-------------------------+-------------------------+-------------------------+-------------------------+-------------------------+-------------------------+-------------------------+-------------------------+-------------------------+-------------------------+-----------------------------+-----------------------------+-----------------------------+---------------------+---------------------+---------------------+--------------------+--------------------+--------------------+--------------------+--------------------+--------------------+--------------------+--------------------+--------------------+--------------------+--------------------+--------------------+------------------+-----------------------+-----------------------+-----------------------+--------------------+--------------------+--------------------+------------------------+------------------------+------------------------+--------------------------+--------------------------+--------------------------+--------------------------+--------------------------+--------------------------+--------------------------+--------------------------+--------------------------+--------------------------+--------------------------+--------------------------+------------------------------+------------------------------+------------------------------+------------------+------------------+------------------+-----------------+-----------------+-----------------+-----------------+-----------------+-----------------+-----------------+-----------------+-----------------+-----------------+-----------------+-----------------+---------------+--------------------+--------------------+--------------------+-----------------+-----------------+-----------------+---------------------+---------------------+---------------------+-----------------------+-----------------------+-----------------------+-----------------------+-----------------------+-----------------------+-----------------------+-----------------------+-----------------------+-----------------------+-----------------------+-----------------------+---------------------------+---------------------------+---------------------------+----------------------+----------------------+----------------------+---------------------+---------------------+---------------------+---------------------+---------------------+---------------------+---------------------+---------------------+---------------------+---------------------+---------------------+---------------------+-------------------+------------------------+------------------------+------------------------+---------------------+---------------------+---------------------+-------------------------+-------------------------+-------------------------+---------------------------+---------------------------+---------------------------+---------------------------+---------------------------+---------------------------+---------------------------+---------------------------+---------------------------+---------------------------+---------------------------+---------------------------+-------------------------------+-------------------------------+-------------------------------+------------------+-----------------+-----------------+-----------------+-----------------+-----------------+--------------------+-----------------+---------------------+----------------------+----------------------+----------------------+----------------------+---------------------+--------------------+--------------------+--------------------+--------------------+--------------------+-----------------------+--------------------+------------------------+-------------------------+-------------------------+-------------------------+-------------------------+----------------------+---------------------+---------------------+---------------------+---------------------+---------------------+------------------------+---------------------+-------------------------+--------------------------+--------------------------+--------------------------+--------------------------+-------------------+------------------+------------------+------------------+------------------+------------------+---------------------+------------------+----------------------+-----------------------+-----------------------+-----------------------+-----------------------+-----------------------+----------------------+----------------------+----------------------+----------------------+----------------------+-------------------------+----------------------+--------------------------+---------------------------+---------------------------+---------------------------+---------------------------+-----------------+-----------------+-----------------+----------------+----------------+----------------+----------------+----------------+----------------+----------------+----------------+----------------+----------------+----------------+----------------+--------------+-------------------+-------------------+-------------------+----------------+----------------+----------------+--------------------+--------------------+--------------------+------------------+------------------+------------------+---------------------+---------------------+---------------------+---------------------+---------------------+---------------------+---------------------+---------------------+---------------------+---------------------+---------------------+---------------------+--------------------+--------------------+--------------------+--------------------+--------------------+--------------------+--------------------+--------------------+--------------------+--------------------+--------------------+--------------------+------------------+-----------------------+-----------------------+-----------------------+--------------------+--------------------+--------------------+------------------------+------------------------+------------------------+----------------------+----------------------+----------------------+-------------------------+-------------------------+-------------------------+-------------------------+-------------------------+-------------------------+-------------------------+-------------------------+-------------------------+------------------+------------------+------------------+-----------------+-----------------+-----------------+-----------------+-----------------+-----------------+-----------------+-----------------+-----------------+-----------------+-----------------+-----------------+---------------+--------------------+--------------------+--------------------+-----------------+-----------------+-----------------+---------------------+---------------------+---------------------+-------------------+-------------------+-------------------+----------------------+----------------------+----------------------+----------------------+----------------------+----------------------+----------------------+----------------------+----------------------+------------------+-----------------+-----------------+-----------------+-----------------+-----------------+--------------------+-----------------+---------------------+-------------------+----------------------+----------------------+----------------------+--------------------------+-------------------------+-------------------------+-------------------------+-------------------------+-------------------------+----------------------------+-------------------------+-----------------------------+---------------------------+------------------------------+------------------------------+------------------------------+-----------------------+----------------------+----------------------+----------------------+----------------------+----------------------+-------------------------+----------------------+--------------------------+------------------------+---------------------------+---------------------------+---------------------------+---------------------------+--------------------------+--------------------------+--------------------------+--------------------------+--------------------------+-----------------------------+--------------------------+------------------------------+----------------------------+-------------------------------+-------------------------------+-------------------------------+---------------------------+------------------------------------+--------------------------------+------------------------------------+--------------------+--------------------+--------------------+\n",
      "| id|tBodyAcc-mean()-X|tBodyAcc-mean()-Y|tBodyAcc-mean()-Z|tBodyAcc-std()-X|tBodyAcc-std()-Y|tBodyAcc-std()-Z|tBodyAcc-mad()-X|tBodyAcc-mad()-Y|tBodyAcc-mad()-Z|tBodyAcc-max()-X|tBodyAcc-max()-Y|tBodyAcc-max()-Z|tBodyAcc-min()-X|tBodyAcc-min()-Y|tBodyAcc-min()-Z|tBodyAcc-sma()|tBodyAcc-energy()-X|tBodyAcc-energy()-Y|tBodyAcc-energy()-Z|tBodyAcc-iqr()-X|tBodyAcc-iqr()-Y|tBodyAcc-iqr()-Z|tBodyAcc-entropy()-X|tBodyAcc-entropy()-Y|tBodyAcc-entropy()-Z|tBodyAcc-arCoeff()-X,1|tBodyAcc-arCoeff()-X,2|tBodyAcc-arCoeff()-X,3|tBodyAcc-arCoeff()-X,4|tBodyAcc-arCoeff()-Y,1|tBodyAcc-arCoeff()-Y,2|tBodyAcc-arCoeff()-Y,3|tBodyAcc-arCoeff()-Y,4|tBodyAcc-arCoeff()-Z,1|tBodyAcc-arCoeff()-Z,2|tBodyAcc-arCoeff()-Z,3|tBodyAcc-arCoeff()-Z,4|tBodyAcc-correlation()-X,Y|tBodyAcc-correlation()-X,Z|tBodyAcc-correlation()-Y,Z|tGravityAcc-mean()-X|tGravityAcc-mean()-Y|tGravityAcc-mean()-Z|tGravityAcc-std()-X|tGravityAcc-std()-Y|tGravityAcc-std()-Z|tGravityAcc-mad()-X|tGravityAcc-mad()-Y|tGravityAcc-mad()-Z|tGravityAcc-max()-X|tGravityAcc-max()-Y|tGravityAcc-max()-Z|tGravityAcc-min()-X|tGravityAcc-min()-Y|tGravityAcc-min()-Z|tGravityAcc-sma()|tGravityAcc-energy()-X|tGravityAcc-energy()-Y|tGravityAcc-energy()-Z|tGravityAcc-iqr()-X|tGravityAcc-iqr()-Y|tGravityAcc-iqr()-Z|tGravityAcc-entropy()-X|tGravityAcc-entropy()-Y|tGravityAcc-entropy()-Z|tGravityAcc-arCoeff()-X,1|tGravityAcc-arCoeff()-X,2|tGravityAcc-arCoeff()-X,3|tGravityAcc-arCoeff()-X,4|tGravityAcc-arCoeff()-Y,1|tGravityAcc-arCoeff()-Y,2|tGravityAcc-arCoeff()-Y,3|tGravityAcc-arCoeff()-Y,4|tGravityAcc-arCoeff()-Z,1|tGravityAcc-arCoeff()-Z,2|tGravityAcc-arCoeff()-Z,3|tGravityAcc-arCoeff()-Z,4|tGravityAcc-correlation()-X,Y|tGravityAcc-correlation()-X,Z|tGravityAcc-correlation()-Y,Z|tBodyAccJerk-mean()-X|tBodyAccJerk-mean()-Y|tBodyAccJerk-mean()-Z|tBodyAccJerk-std()-X|tBodyAccJerk-std()-Y|tBodyAccJerk-std()-Z|tBodyAccJerk-mad()-X|tBodyAccJerk-mad()-Y|tBodyAccJerk-mad()-Z|tBodyAccJerk-max()-X|tBodyAccJerk-max()-Y|tBodyAccJerk-max()-Z|tBodyAccJerk-min()-X|tBodyAccJerk-min()-Y|tBodyAccJerk-min()-Z|tBodyAccJerk-sma()|tBodyAccJerk-energy()-X|tBodyAccJerk-energy()-Y|tBodyAccJerk-energy()-Z|tBodyAccJerk-iqr()-X|tBodyAccJerk-iqr()-Y|tBodyAccJerk-iqr()-Z|tBodyAccJerk-entropy()-X|tBodyAccJerk-entropy()-Y|tBodyAccJerk-entropy()-Z|tBodyAccJerk-arCoeff()-X,1|tBodyAccJerk-arCoeff()-X,2|tBodyAccJerk-arCoeff()-X,3|tBodyAccJerk-arCoeff()-X,4|tBodyAccJerk-arCoeff()-Y,1|tBodyAccJerk-arCoeff()-Y,2|tBodyAccJerk-arCoeff()-Y,3|tBodyAccJerk-arCoeff()-Y,4|tBodyAccJerk-arCoeff()-Z,1|tBodyAccJerk-arCoeff()-Z,2|tBodyAccJerk-arCoeff()-Z,3|tBodyAccJerk-arCoeff()-Z,4|tBodyAccJerk-correlation()-X,Y|tBodyAccJerk-correlation()-X,Z|tBodyAccJerk-correlation()-Y,Z|tBodyGyro-mean()-X|tBodyGyro-mean()-Y|tBodyGyro-mean()-Z|tBodyGyro-std()-X|tBodyGyro-std()-Y|tBodyGyro-std()-Z|tBodyGyro-mad()-X|tBodyGyro-mad()-Y|tBodyGyro-mad()-Z|tBodyGyro-max()-X|tBodyGyro-max()-Y|tBodyGyro-max()-Z|tBodyGyro-min()-X|tBodyGyro-min()-Y|tBodyGyro-min()-Z|tBodyGyro-sma()|tBodyGyro-energy()-X|tBodyGyro-energy()-Y|tBodyGyro-energy()-Z|tBodyGyro-iqr()-X|tBodyGyro-iqr()-Y|tBodyGyro-iqr()-Z|tBodyGyro-entropy()-X|tBodyGyro-entropy()-Y|tBodyGyro-entropy()-Z|tBodyGyro-arCoeff()-X,1|tBodyGyro-arCoeff()-X,2|tBodyGyro-arCoeff()-X,3|tBodyGyro-arCoeff()-X,4|tBodyGyro-arCoeff()-Y,1|tBodyGyro-arCoeff()-Y,2|tBodyGyro-arCoeff()-Y,3|tBodyGyro-arCoeff()-Y,4|tBodyGyro-arCoeff()-Z,1|tBodyGyro-arCoeff()-Z,2|tBodyGyro-arCoeff()-Z,3|tBodyGyro-arCoeff()-Z,4|tBodyGyro-correlation()-X,Y|tBodyGyro-correlation()-X,Z|tBodyGyro-correlation()-Y,Z|tBodyGyroJerk-mean()-X|tBodyGyroJerk-mean()-Y|tBodyGyroJerk-mean()-Z|tBodyGyroJerk-std()-X|tBodyGyroJerk-std()-Y|tBodyGyroJerk-std()-Z|tBodyGyroJerk-mad()-X|tBodyGyroJerk-mad()-Y|tBodyGyroJerk-mad()-Z|tBodyGyroJerk-max()-X|tBodyGyroJerk-max()-Y|tBodyGyroJerk-max()-Z|tBodyGyroJerk-min()-X|tBodyGyroJerk-min()-Y|tBodyGyroJerk-min()-Z|tBodyGyroJerk-sma()|tBodyGyroJerk-energy()-X|tBodyGyroJerk-energy()-Y|tBodyGyroJerk-energy()-Z|tBodyGyroJerk-iqr()-X|tBodyGyroJerk-iqr()-Y|tBodyGyroJerk-iqr()-Z|tBodyGyroJerk-entropy()-X|tBodyGyroJerk-entropy()-Y|tBodyGyroJerk-entropy()-Z|tBodyGyroJerk-arCoeff()-X,1|tBodyGyroJerk-arCoeff()-X,2|tBodyGyroJerk-arCoeff()-X,3|tBodyGyroJerk-arCoeff()-X,4|tBodyGyroJerk-arCoeff()-Y,1|tBodyGyroJerk-arCoeff()-Y,2|tBodyGyroJerk-arCoeff()-Y,3|tBodyGyroJerk-arCoeff()-Y,4|tBodyGyroJerk-arCoeff()-Z,1|tBodyGyroJerk-arCoeff()-Z,2|tBodyGyroJerk-arCoeff()-Z,3|tBodyGyroJerk-arCoeff()-Z,4|tBodyGyroJerk-correlation()-X,Y|tBodyGyroJerk-correlation()-X,Z|tBodyGyroJerk-correlation()-Y,Z|tBodyAccMag-mean()|tBodyAccMag-std()|tBodyAccMag-mad()|tBodyAccMag-max()|tBodyAccMag-min()|tBodyAccMag-sma()|tBodyAccMag-energy()|tBodyAccMag-iqr()|tBodyAccMag-entropy()|tBodyAccMag-arCoeff()1|tBodyAccMag-arCoeff()2|tBodyAccMag-arCoeff()3|tBodyAccMag-arCoeff()4|tGravityAccMag-mean()|tGravityAccMag-std()|tGravityAccMag-mad()|tGravityAccMag-max()|tGravityAccMag-min()|tGravityAccMag-sma()|tGravityAccMag-energy()|tGravityAccMag-iqr()|tGravityAccMag-entropy()|tGravityAccMag-arCoeff()1|tGravityAccMag-arCoeff()2|tGravityAccMag-arCoeff()3|tGravityAccMag-arCoeff()4|tBodyAccJerkMag-mean()|tBodyAccJerkMag-std()|tBodyAccJerkMag-mad()|tBodyAccJerkMag-max()|tBodyAccJerkMag-min()|tBodyAccJerkMag-sma()|tBodyAccJerkMag-energy()|tBodyAccJerkMag-iqr()|tBodyAccJerkMag-entropy()|tBodyAccJerkMag-arCoeff()1|tBodyAccJerkMag-arCoeff()2|tBodyAccJerkMag-arCoeff()3|tBodyAccJerkMag-arCoeff()4|tBodyGyroMag-mean()|tBodyGyroMag-std()|tBodyGyroMag-mad()|tBodyGyroMag-max()|tBodyGyroMag-min()|tBodyGyroMag-sma()|tBodyGyroMag-energy()|tBodyGyroMag-iqr()|tBodyGyroMag-entropy()|tBodyGyroMag-arCoeff()1|tBodyGyroMag-arCoeff()2|tBodyGyroMag-arCoeff()3|tBodyGyroMag-arCoeff()4|tBodyGyroJerkMag-mean()|tBodyGyroJerkMag-std()|tBodyGyroJerkMag-mad()|tBodyGyroJerkMag-max()|tBodyGyroJerkMag-min()|tBodyGyroJerkMag-sma()|tBodyGyroJerkMag-energy()|tBodyGyroJerkMag-iqr()|tBodyGyroJerkMag-entropy()|tBodyGyroJerkMag-arCoeff()1|tBodyGyroJerkMag-arCoeff()2|tBodyGyroJerkMag-arCoeff()3|tBodyGyroJerkMag-arCoeff()4|fBodyAcc-mean()-X|fBodyAcc-mean()-Y|fBodyAcc-mean()-Z|fBodyAcc-std()-X|fBodyAcc-std()-Y|fBodyAcc-std()-Z|fBodyAcc-mad()-X|fBodyAcc-mad()-Y|fBodyAcc-mad()-Z|fBodyAcc-max()-X|fBodyAcc-max()-Y|fBodyAcc-max()-Z|fBodyAcc-min()-X|fBodyAcc-min()-Y|fBodyAcc-min()-Z|fBodyAcc-sma()|fBodyAcc-energy()-X|fBodyAcc-energy()-Y|fBodyAcc-energy()-Z|fBodyAcc-iqr()-X|fBodyAcc-iqr()-Y|fBodyAcc-iqr()-Z|fBodyAcc-entropy()-X|fBodyAcc-entropy()-Y|fBodyAcc-entropy()-Z|fBodyAcc-maxInds-X|fBodyAcc-maxInds-Y|fBodyAcc-maxInds-Z|fBodyAcc-meanFreq()-X|fBodyAcc-meanFreq()-Y|fBodyAcc-meanFreq()-Z|fBodyAcc-skewness()-X|fBodyAcc-kurtosis()-X|fBodyAcc-skewness()-Y|fBodyAcc-kurtosis()-Y|fBodyAcc-skewness()-Z|fBodyAcc-kurtosis()-Z|fBodyAccJerk-mean()-X|fBodyAccJerk-mean()-Y|fBodyAccJerk-mean()-Z|fBodyAccJerk-std()-X|fBodyAccJerk-std()-Y|fBodyAccJerk-std()-Z|fBodyAccJerk-mad()-X|fBodyAccJerk-mad()-Y|fBodyAccJerk-mad()-Z|fBodyAccJerk-max()-X|fBodyAccJerk-max()-Y|fBodyAccJerk-max()-Z|fBodyAccJerk-min()-X|fBodyAccJerk-min()-Y|fBodyAccJerk-min()-Z|fBodyAccJerk-sma()|fBodyAccJerk-energy()-X|fBodyAccJerk-energy()-Y|fBodyAccJerk-energy()-Z|fBodyAccJerk-iqr()-X|fBodyAccJerk-iqr()-Y|fBodyAccJerk-iqr()-Z|fBodyAccJerk-entropy()-X|fBodyAccJerk-entropy()-Y|fBodyAccJerk-entropy()-Z|fBodyAccJerk-maxInds-X|fBodyAccJerk-maxInds-Y|fBodyAccJerk-maxInds-Z|fBodyAccJerk-meanFreq()-X|fBodyAccJerk-meanFreq()-Y|fBodyAccJerk-meanFreq()-Z|fBodyAccJerk-skewness()-X|fBodyAccJerk-kurtosis()-X|fBodyAccJerk-skewness()-Y|fBodyAccJerk-kurtosis()-Y|fBodyAccJerk-skewness()-Z|fBodyAccJerk-kurtosis()-Z|fBodyGyro-mean()-X|fBodyGyro-mean()-Y|fBodyGyro-mean()-Z|fBodyGyro-std()-X|fBodyGyro-std()-Y|fBodyGyro-std()-Z|fBodyGyro-mad()-X|fBodyGyro-mad()-Y|fBodyGyro-mad()-Z|fBodyGyro-max()-X|fBodyGyro-max()-Y|fBodyGyro-max()-Z|fBodyGyro-min()-X|fBodyGyro-min()-Y|fBodyGyro-min()-Z|fBodyGyro-sma()|fBodyGyro-energy()-X|fBodyGyro-energy()-Y|fBodyGyro-energy()-Z|fBodyGyro-iqr()-X|fBodyGyro-iqr()-Y|fBodyGyro-iqr()-Z|fBodyGyro-entropy()-X|fBodyGyro-entropy()-Y|fBodyGyro-entropy()-Z|fBodyGyro-maxInds-X|fBodyGyro-maxInds-Y|fBodyGyro-maxInds-Z|fBodyGyro-meanFreq()-X|fBodyGyro-meanFreq()-Y|fBodyGyro-meanFreq()-Z|fBodyGyro-skewness()-X|fBodyGyro-kurtosis()-X|fBodyGyro-skewness()-Y|fBodyGyro-kurtosis()-Y|fBodyGyro-skewness()-Z|fBodyGyro-kurtosis()-Z|fBodyAccMag-mean()|fBodyAccMag-std()|fBodyAccMag-mad()|fBodyAccMag-max()|fBodyAccMag-min()|fBodyAccMag-sma()|fBodyAccMag-energy()|fBodyAccMag-iqr()|fBodyAccMag-entropy()|fBodyAccMag-maxInds|fBodyAccMag-meanFreq()|fBodyAccMag-skewness()|fBodyAccMag-kurtosis()|fBodyBodyAccJerkMag-mean()|fBodyBodyAccJerkMag-std()|fBodyBodyAccJerkMag-mad()|fBodyBodyAccJerkMag-max()|fBodyBodyAccJerkMag-min()|fBodyBodyAccJerkMag-sma()|fBodyBodyAccJerkMag-energy()|fBodyBodyAccJerkMag-iqr()|fBodyBodyAccJerkMag-entropy()|fBodyBodyAccJerkMag-maxInds|fBodyBodyAccJerkMag-meanFreq()|fBodyBodyAccJerkMag-skewness()|fBodyBodyAccJerkMag-kurtosis()|fBodyBodyGyroMag-mean()|fBodyBodyGyroMag-std()|fBodyBodyGyroMag-mad()|fBodyBodyGyroMag-max()|fBodyBodyGyroMag-min()|fBodyBodyGyroMag-sma()|fBodyBodyGyroMag-energy()|fBodyBodyGyroMag-iqr()|fBodyBodyGyroMag-entropy()|fBodyBodyGyroMag-maxInds|fBodyBodyGyroMag-meanFreq()|fBodyBodyGyroMag-skewness()|fBodyBodyGyroMag-kurtosis()|fBodyBodyGyroJerkMag-mean()|fBodyBodyGyroJerkMag-std()|fBodyBodyGyroJerkMag-mad()|fBodyBodyGyroJerkMag-max()|fBodyBodyGyroJerkMag-min()|fBodyBodyGyroJerkMag-sma()|fBodyBodyGyroJerkMag-energy()|fBodyBodyGyroJerkMag-iqr()|fBodyBodyGyroJerkMag-entropy()|fBodyBodyGyroJerkMag-maxInds|fBodyBodyGyroJerkMag-meanFreq()|fBodyBodyGyroJerkMag-skewness()|fBodyBodyGyroJerkMag-kurtosis()|angle(tBodyAccMean,gravity)|angle(tBodyAccJerkMean),gravityMean)|angle(tBodyGyroMean,gravityMean)|angle(tBodyGyroJerkMean,gravityMean)|angle(X,gravityMean)|angle(Y,gravityMean)|angle(Z,gravityMean)|\n",
      "+---+-----------------+-----------------+-----------------+----------------+----------------+----------------+----------------+----------------+----------------+----------------+----------------+----------------+----------------+----------------+----------------+--------------+-------------------+-------------------+-------------------+----------------+----------------+----------------+--------------------+--------------------+--------------------+----------------------+----------------------+----------------------+----------------------+----------------------+----------------------+----------------------+----------------------+----------------------+----------------------+----------------------+----------------------+--------------------------+--------------------------+--------------------------+--------------------+--------------------+--------------------+-------------------+-------------------+-------------------+-------------------+-------------------+-------------------+-------------------+-------------------+-------------------+-------------------+-------------------+-------------------+-----------------+----------------------+----------------------+----------------------+-------------------+-------------------+-------------------+-----------------------+-----------------------+-----------------------+-------------------------+-------------------------+-------------------------+-------------------------+-------------------------+-------------------------+-------------------------+-------------------------+-------------------------+-------------------------+-------------------------+-------------------------+-----------------------------+-----------------------------+-----------------------------+---------------------+---------------------+---------------------+--------------------+--------------------+--------------------+--------------------+--------------------+--------------------+--------------------+--------------------+--------------------+--------------------+--------------------+--------------------+------------------+-----------------------+-----------------------+-----------------------+--------------------+--------------------+--------------------+------------------------+------------------------+------------------------+--------------------------+--------------------------+--------------------------+--------------------------+--------------------------+--------------------------+--------------------------+--------------------------+--------------------------+--------------------------+--------------------------+--------------------------+------------------------------+------------------------------+------------------------------+------------------+------------------+------------------+-----------------+-----------------+-----------------+-----------------+-----------------+-----------------+-----------------+-----------------+-----------------+-----------------+-----------------+-----------------+---------------+--------------------+--------------------+--------------------+-----------------+-----------------+-----------------+---------------------+---------------------+---------------------+-----------------------+-----------------------+-----------------------+-----------------------+-----------------------+-----------------------+-----------------------+-----------------------+-----------------------+-----------------------+-----------------------+-----------------------+---------------------------+---------------------------+---------------------------+----------------------+----------------------+----------------------+---------------------+---------------------+---------------------+---------------------+---------------------+---------------------+---------------------+---------------------+---------------------+---------------------+---------------------+---------------------+-------------------+------------------------+------------------------+------------------------+---------------------+---------------------+---------------------+-------------------------+-------------------------+-------------------------+---------------------------+---------------------------+---------------------------+---------------------------+---------------------------+---------------------------+---------------------------+---------------------------+---------------------------+---------------------------+---------------------------+---------------------------+-------------------------------+-------------------------------+-------------------------------+------------------+-----------------+-----------------+-----------------+-----------------+-----------------+--------------------+-----------------+---------------------+----------------------+----------------------+----------------------+----------------------+---------------------+--------------------+--------------------+--------------------+--------------------+--------------------+-----------------------+--------------------+------------------------+-------------------------+-------------------------+-------------------------+-------------------------+----------------------+---------------------+---------------------+---------------------+---------------------+---------------------+------------------------+---------------------+-------------------------+--------------------------+--------------------------+--------------------------+--------------------------+-------------------+------------------+------------------+------------------+------------------+------------------+---------------------+------------------+----------------------+-----------------------+-----------------------+-----------------------+-----------------------+-----------------------+----------------------+----------------------+----------------------+----------------------+----------------------+-------------------------+----------------------+--------------------------+---------------------------+---------------------------+---------------------------+---------------------------+-----------------+-----------------+-----------------+----------------+----------------+----------------+----------------+----------------+----------------+----------------+----------------+----------------+----------------+----------------+----------------+--------------+-------------------+-------------------+-------------------+----------------+----------------+----------------+--------------------+--------------------+--------------------+------------------+------------------+------------------+---------------------+---------------------+---------------------+---------------------+---------------------+---------------------+---------------------+---------------------+---------------------+---------------------+---------------------+---------------------+--------------------+--------------------+--------------------+--------------------+--------------------+--------------------+--------------------+--------------------+--------------------+--------------------+--------------------+--------------------+------------------+-----------------------+-----------------------+-----------------------+--------------------+--------------------+--------------------+------------------------+------------------------+------------------------+----------------------+----------------------+----------------------+-------------------------+-------------------------+-------------------------+-------------------------+-------------------------+-------------------------+-------------------------+-------------------------+-------------------------+------------------+------------------+------------------+-----------------+-----------------+-----------------+-----------------+-----------------+-----------------+-----------------+-----------------+-----------------+-----------------+-----------------+-----------------+---------------+--------------------+--------------------+--------------------+-----------------+-----------------+-----------------+---------------------+---------------------+---------------------+-------------------+-------------------+-------------------+----------------------+----------------------+----------------------+----------------------+----------------------+----------------------+----------------------+----------------------+----------------------+------------------+-----------------+-----------------+-----------------+-----------------+-----------------+--------------------+-----------------+---------------------+-------------------+----------------------+----------------------+----------------------+--------------------------+-------------------------+-------------------------+-------------------------+-------------------------+-------------------------+----------------------------+-------------------------+-----------------------------+---------------------------+------------------------------+------------------------------+------------------------------+-----------------------+----------------------+----------------------+----------------------+----------------------+----------------------+-------------------------+----------------------+--------------------------+------------------------+---------------------------+---------------------------+---------------------------+---------------------------+--------------------------+--------------------------+--------------------------+--------------------------+--------------------------+-----------------------------+--------------------------+------------------------------+----------------------------+-------------------------------+-------------------------------+-------------------------------+---------------------------+------------------------------------+--------------------------------+------------------------------------+--------------------+--------------------+--------------------+\n",
      "|  0|                0|                0|                0|               0|               0|               0|               0|               0|               0|               0|               0|               0|               0|               0|               0|             0|                  0|                  0|                  0|               0|               0|               0|                   0|                   0|                   0|                     0|                     0|                     0|                     0|                     0|                     0|                     0|                     0|                     0|                     0|                     0|                     0|                         0|                         0|                         0|                   0|                   0|                   0|                  0|                  0|                  0|                  0|                  0|                  0|                  0|                  0|                  0|                  0|                  0|                  0|                0|                     0|                     0|                     0|                  0|                  0|                  0|                      0|                      0|                      0|                        0|                        0|                        0|                        0|                        0|                        0|                        0|                        0|                        0|                        0|                        0|                        0|                            0|                            0|                            0|                    0|                    0|                    0|                   0|                   0|                   0|                   0|                   0|                   0|                   0|                   0|                   0|                   0|                   0|                   0|                 0|                      0|                      0|                      0|                   0|                   0|                   0|                       0|                       0|                       0|                         0|                         0|                         0|                         0|                         0|                         0|                         0|                         0|                         0|                         0|                         0|                         0|                             0|                             0|                             0|                 0|                 0|                 0|                0|                0|                0|                0|                0|                0|                0|                0|                0|                0|                0|                0|              0|                   0|                   0|                   0|                0|                0|                0|                    0|                    0|                    0|                      0|                      0|                      0|                      0|                      0|                      0|                      0|                      0|                      0|                      0|                      0|                      0|                          0|                          0|                          0|                     0|                     0|                     0|                    0|                    0|                    0|                    0|                    0|                    0|                    0|                    0|                    0|                    0|                    0|                    0|                  0|                       0|                       0|                       0|                    0|                    0|                    0|                        0|                        0|                        0|                          0|                          0|                          0|                          0|                          0|                          0|                          0|                          0|                          0|                          0|                          0|                          0|                              0|                              0|                              0|                 0|                0|                0|                0|                0|                0|                   0|                0|                    0|                     0|                     0|                     0|                     0|                    0|                   0|                   0|                   0|                   0|                   0|                      0|                   0|                       0|                        0|                        0|                        0|                        0|                     0|                    0|                    0|                    0|                    0|                    0|                       0|                    0|                        0|                         0|                         0|                         0|                         0|                  0|                 0|                 0|                 0|                 0|                 0|                    0|                 0|                     0|                      0|                      0|                      0|                      0|                      0|                     0|                     0|                     0|                     0|                     0|                        0|                     0|                         0|                          0|                          0|                          0|                          0|                0|                0|                0|               0|               0|               0|               0|               0|               0|               0|               0|               0|               0|               0|               0|             0|                  0|                  0|                  0|               0|               0|               0|                   0|                   0|                   0|                 0|                 0|                 0|                    0|                    0|                    0|                    0|                    0|                    0|                    0|                    0|                    0|                    0|                    0|                    0|                   0|                   0|                   0|                   0|                   0|                   0|                   0|                   0|                   0|                   0|                   0|                   0|                 0|                      0|                      0|                      0|                   0|                   0|                   0|                       0|                       0|                       0|                     0|                     0|                     0|                        0|                        0|                        0|                        0|                        0|                        0|                        0|                        0|                        0|                 0|                 0|                 0|                0|                0|                0|                0|                0|                0|                0|                0|                0|                0|                0|                0|              0|                   0|                   0|                   0|                0|                0|                0|                    0|                    0|                    0|                  0|                  0|                  0|                     0|                     0|                     0|                     0|                     0|                     0|                     0|                     0|                     0|                 0|                0|                0|                0|                0|                0|                   0|                0|                    0|                  0|                     0|                     0|                     0|                         0|                        0|                        0|                        0|                        0|                        0|                           0|                        0|                            0|                          0|                             0|                             0|                             0|                      0|                     0|                     0|                     0|                     0|                     0|                        0|                     0|                         0|                       0|                          0|                          0|                          0|                          0|                         0|                         0|                         0|                         0|                         0|                            0|                         0|                             0|                           0|                              0|                              0|                              0|                          0|                                   0|                               0|                                   0|                   0|                   0|                   0|\n",
      "+---+-----------------+-----------------+-----------------+----------------+----------------+----------------+----------------+----------------+----------------+----------------+----------------+----------------+----------------+----------------+----------------+--------------+-------------------+-------------------+-------------------+----------------+----------------+----------------+--------------------+--------------------+--------------------+----------------------+----------------------+----------------------+----------------------+----------------------+----------------------+----------------------+----------------------+----------------------+----------------------+----------------------+----------------------+--------------------------+--------------------------+--------------------------+--------------------+--------------------+--------------------+-------------------+-------------------+-------------------+-------------------+-------------------+-------------------+-------------------+-------------------+-------------------+-------------------+-------------------+-------------------+-----------------+----------------------+----------------------+----------------------+-------------------+-------------------+-------------------+-----------------------+-----------------------+-----------------------+-------------------------+-------------------------+-------------------------+-------------------------+-------------------------+-------------------------+-------------------------+-------------------------+-------------------------+-------------------------+-------------------------+-------------------------+-----------------------------+-----------------------------+-----------------------------+---------------------+---------------------+---------------------+--------------------+--------------------+--------------------+--------------------+--------------------+--------------------+--------------------+--------------------+--------------------+--------------------+--------------------+--------------------+------------------+-----------------------+-----------------------+-----------------------+--------------------+--------------------+--------------------+------------------------+------------------------+------------------------+--------------------------+--------------------------+--------------------------+--------------------------+--------------------------+--------------------------+--------------------------+--------------------------+--------------------------+--------------------------+--------------------------+--------------------------+------------------------------+------------------------------+------------------------------+------------------+------------------+------------------+-----------------+-----------------+-----------------+-----------------+-----------------+-----------------+-----------------+-----------------+-----------------+-----------------+-----------------+-----------------+---------------+--------------------+--------------------+--------------------+-----------------+-----------------+-----------------+---------------------+---------------------+---------------------+-----------------------+-----------------------+-----------------------+-----------------------+-----------------------+-----------------------+-----------------------+-----------------------+-----------------------+-----------------------+-----------------------+-----------------------+---------------------------+---------------------------+---------------------------+----------------------+----------------------+----------------------+---------------------+---------------------+---------------------+---------------------+---------------------+---------------------+---------------------+---------------------+---------------------+---------------------+---------------------+---------------------+-------------------+------------------------+------------------------+------------------------+---------------------+---------------------+---------------------+-------------------------+-------------------------+-------------------------+---------------------------+---------------------------+---------------------------+---------------------------+---------------------------+---------------------------+---------------------------+---------------------------+---------------------------+---------------------------+---------------------------+---------------------------+-------------------------------+-------------------------------+-------------------------------+------------------+-----------------+-----------------+-----------------+-----------------+-----------------+--------------------+-----------------+---------------------+----------------------+----------------------+----------------------+----------------------+---------------------+--------------------+--------------------+--------------------+--------------------+--------------------+-----------------------+--------------------+------------------------+-------------------------+-------------------------+-------------------------+-------------------------+----------------------+---------------------+---------------------+---------------------+---------------------+---------------------+------------------------+---------------------+-------------------------+--------------------------+--------------------------+--------------------------+--------------------------+-------------------+------------------+------------------+------------------+------------------+------------------+---------------------+------------------+----------------------+-----------------------+-----------------------+-----------------------+-----------------------+-----------------------+----------------------+----------------------+----------------------+----------------------+----------------------+-------------------------+----------------------+--------------------------+---------------------------+---------------------------+---------------------------+---------------------------+-----------------+-----------------+-----------------+----------------+----------------+----------------+----------------+----------------+----------------+----------------+----------------+----------------+----------------+----------------+----------------+--------------+-------------------+-------------------+-------------------+----------------+----------------+----------------+--------------------+--------------------+--------------------+------------------+------------------+------------------+---------------------+---------------------+---------------------+---------------------+---------------------+---------------------+---------------------+---------------------+---------------------+---------------------+---------------------+---------------------+--------------------+--------------------+--------------------+--------------------+--------------------+--------------------+--------------------+--------------------+--------------------+--------------------+--------------------+--------------------+------------------+-----------------------+-----------------------+-----------------------+--------------------+--------------------+--------------------+------------------------+------------------------+------------------------+----------------------+----------------------+----------------------+-------------------------+-------------------------+-------------------------+-------------------------+-------------------------+-------------------------+-------------------------+-------------------------+-------------------------+------------------+------------------+------------------+-----------------+-----------------+-----------------+-----------------+-----------------+-----------------+-----------------+-----------------+-----------------+-----------------+-----------------+-----------------+---------------+--------------------+--------------------+--------------------+-----------------+-----------------+-----------------+---------------------+---------------------+---------------------+-------------------+-------------------+-------------------+----------------------+----------------------+----------------------+----------------------+----------------------+----------------------+----------------------+----------------------+----------------------+------------------+-----------------+-----------------+-----------------+-----------------+-----------------+--------------------+-----------------+---------------------+-------------------+----------------------+----------------------+----------------------+--------------------------+-------------------------+-------------------------+-------------------------+-------------------------+-------------------------+----------------------------+-------------------------+-----------------------------+---------------------------+------------------------------+------------------------------+------------------------------+-----------------------+----------------------+----------------------+----------------------+----------------------+----------------------+-------------------------+----------------------+--------------------------+------------------------+---------------------------+---------------------------+---------------------------+---------------------------+--------------------------+--------------------------+--------------------------+--------------------------+--------------------------+-----------------------------+--------------------------+------------------------------+----------------------------+-------------------------------+-------------------------------+-------------------------------+---------------------------+------------------------------------+--------------------------------+------------------------------------+--------------------+--------------------+--------------------+\n",
      "\n"
     ]
    }
   ],
   "source": [
    "#check for missing values\n",
    "from pyspark.sql.functions import isnan, when, count, col\n",
    "train_x.select([count(when(isnan(c), c)).alias(c) for c in train_x.columns]).show()\n",
    "\n",
    "#we note that there are no missing values\n"
   ]
  },
  {
   "cell_type": "code",
   "execution_count": 18,
   "metadata": {},
   "outputs": [
    {
     "name": "stdout",
     "output_type": "stream",
     "text": [
      "+-------+-------------------+--------------------+--------------------+-------------------+\n",
      "|summary|  tBodyAcc-mean()-X|   tBodyAcc-mean()-Y|   tBodyAcc-mean()-Z|   tBodyAcc-std()-X|\n",
      "+-------+-------------------+--------------------+--------------------+-------------------+\n",
      "|  count|               8214|                8214|                8214|               8214|\n",
      "|   mean| 0.2741672598077674|-0.01782892635303...|-0.10915220003803862|-0.6073341095553922|\n",
      "| stddev|0.06700302726138603| 0.03591625355986128| 0.05274787651955511|  0.437108344479308|\n",
      "|    min|               -1.0|         -0.68409659|         -0.92598834|               -1.0|\n",
      "|    max|                1.0|                 1.0|                 1.0|                1.0|\n",
      "+-------+-------------------+--------------------+--------------------+-------------------+\n",
      "\n"
     ]
    }
   ],
   "source": [
    "#getting an idea of what the data looks like by computing a summary\n",
    "train_x.select(train_x.columns[1:5]).describe().show()"
   ]
  },
  {
   "cell_type": "code",
   "execution_count": 19,
   "metadata": {
    "scrolled": true
   },
   "outputs": [
    {
     "name": "stdout",
     "output_type": "stream",
     "text": [
      "+------------------+----------------+-----------------+---------------+----------+\n",
      "|train_features_obs|train_labels_obs|test_features_obs|test_labels_obs|header_obs|\n",
      "+------------------+----------------+-----------------+---------------+----------+\n",
      "|              7352|            7352|             2947|           2947|       561|\n",
      "+------------------+----------------+-----------------+---------------+----------+\n",
      "\n"
     ]
    }
   ],
   "source": [
    "#look at the data by seeing how many rows there are\n",
    "ds = pd.DataFrame(index=[1], columns=['train_features_obs','train_labels_obs','test_features_obs','test_labels_obs', 'header_obs'])\n",
    "ds['train_features_obs'] = df_train_features.count()\n",
    "ds['train_labels_obs'] = df_train_labels.count()\n",
    "ds['test_features_obs'] = df_test_features.count()\n",
    "ds['test_labels_obs'] = df_test_labels.count()\n",
    "ds['header_obs']= df_header.count()\n",
    "ds=sqlCtx.createDataFrame(ds)\n",
    "ds.show()                #data frame to show how many obs in each file\n",
    "                        \n"
   ]
  },
  {
   "cell_type": "markdown",
   "metadata": {},
   "source": [
    "# Outlier Detection, Using Interquartile Range Method"
   ]
  },
  {
   "cell_type": "code",
   "execution_count": 61,
   "metadata": {},
   "outputs": [],
   "source": [
    "cols = [c for c in train_x.columns]   # exclude id from features\n",
    "bounds = {} # will store lower and upper bounds for each feature              #Will use later, -Kevin"
   ]
  },
  {
   "cell_type": "code",
   "execution_count": 62,
   "metadata": {},
   "outputs": [
    {
     "name": "stderr",
     "output_type": "stream",
     "text": [
      "ERROR:py4j.java_gateway:An error occurred while trying to connect to the Java server (127.0.0.1:38875)\n",
      "Traceback (most recent call last):\n",
      "  File \"/usr/local/spark/python/lib/py4j-0.10.7-src.zip/py4j/java_gateway.py\", line 929, in _get_connection\n",
      "    connection = self.deque.pop()\n",
      "IndexError: pop from an empty deque\n",
      "\n",
      "During handling of the above exception, another exception occurred:\n",
      "\n",
      "Traceback (most recent call last):\n",
      "  File \"/usr/local/spark/python/lib/py4j-0.10.7-src.zip/py4j/java_gateway.py\", line 1067, in start\n",
      "    self.socket.connect((self.address, self.port))\n",
      "ConnectionRefusedError: [Errno 111] Connection refused\n"
     ]
    },
    {
     "ename": "Py4JNetworkError",
     "evalue": "An error occurred while trying to connect to the Java server (127.0.0.1:38875)",
     "output_type": "error",
     "traceback": [
      "\u001b[0;31m---------------------------------------------------------------------------\u001b[0m",
      "\u001b[0;31mIndexError\u001b[0m                                Traceback (most recent call last)",
      "\u001b[0;32m/usr/local/spark/python/lib/py4j-0.10.7-src.zip/py4j/java_gateway.py\u001b[0m in \u001b[0;36m_get_connection\u001b[0;34m(self)\u001b[0m\n\u001b[1;32m    928\u001b[0m         \u001b[0;32mtry\u001b[0m\u001b[0;34m:\u001b[0m\u001b[0;34m\u001b[0m\u001b[0;34m\u001b[0m\u001b[0m\n\u001b[0;32m--> 929\u001b[0;31m             \u001b[0mconnection\u001b[0m \u001b[0;34m=\u001b[0m \u001b[0mself\u001b[0m\u001b[0;34m.\u001b[0m\u001b[0mdeque\u001b[0m\u001b[0;34m.\u001b[0m\u001b[0mpop\u001b[0m\u001b[0;34m(\u001b[0m\u001b[0;34m)\u001b[0m\u001b[0;34m\u001b[0m\u001b[0;34m\u001b[0m\u001b[0m\n\u001b[0m\u001b[1;32m    930\u001b[0m         \u001b[0;32mexcept\u001b[0m \u001b[0mIndexError\u001b[0m\u001b[0;34m:\u001b[0m\u001b[0;34m\u001b[0m\u001b[0;34m\u001b[0m\u001b[0m\n",
      "\u001b[0;31mIndexError\u001b[0m: pop from an empty deque",
      "\nDuring handling of the above exception, another exception occurred:\n",
      "\u001b[0;31mConnectionRefusedError\u001b[0m                    Traceback (most recent call last)",
      "\u001b[0;32m/usr/local/spark/python/lib/py4j-0.10.7-src.zip/py4j/java_gateway.py\u001b[0m in \u001b[0;36mstart\u001b[0;34m(self)\u001b[0m\n\u001b[1;32m   1066\u001b[0m         \u001b[0;32mtry\u001b[0m\u001b[0;34m:\u001b[0m\u001b[0;34m\u001b[0m\u001b[0;34m\u001b[0m\u001b[0m\n\u001b[0;32m-> 1067\u001b[0;31m             \u001b[0mself\u001b[0m\u001b[0;34m.\u001b[0m\u001b[0msocket\u001b[0m\u001b[0;34m.\u001b[0m\u001b[0mconnect\u001b[0m\u001b[0;34m(\u001b[0m\u001b[0;34m(\u001b[0m\u001b[0mself\u001b[0m\u001b[0;34m.\u001b[0m\u001b[0maddress\u001b[0m\u001b[0;34m,\u001b[0m \u001b[0mself\u001b[0m\u001b[0;34m.\u001b[0m\u001b[0mport\u001b[0m\u001b[0;34m)\u001b[0m\u001b[0;34m)\u001b[0m\u001b[0;34m\u001b[0m\u001b[0;34m\u001b[0m\u001b[0m\n\u001b[0m\u001b[1;32m   1068\u001b[0m             \u001b[0mself\u001b[0m\u001b[0;34m.\u001b[0m\u001b[0mstream\u001b[0m \u001b[0;34m=\u001b[0m \u001b[0mself\u001b[0m\u001b[0;34m.\u001b[0m\u001b[0msocket\u001b[0m\u001b[0;34m.\u001b[0m\u001b[0mmakefile\u001b[0m\u001b[0;34m(\u001b[0m\u001b[0;34m\"rb\"\u001b[0m\u001b[0;34m)\u001b[0m\u001b[0;34m\u001b[0m\u001b[0;34m\u001b[0m\u001b[0m\n",
      "\u001b[0;31mConnectionRefusedError\u001b[0m: [Errno 111] Connection refused",
      "\nDuring handling of the above exception, another exception occurred:\n",
      "\u001b[0;31mPy4JNetworkError\u001b[0m                          Traceback (most recent call last)",
      "\u001b[0;32m<ipython-input-62-868c5619c654>\u001b[0m in \u001b[0;36m<module>\u001b[0;34m\u001b[0m\n\u001b[1;32m      1\u001b[0m \u001b[0;31m#this takes a while to run\u001b[0m\u001b[0;34m\u001b[0m\u001b[0;34m\u001b[0m\u001b[0;34m\u001b[0m\u001b[0m\n\u001b[1;32m      2\u001b[0m \u001b[0;32mfor\u001b[0m \u001b[0mcol\u001b[0m \u001b[0;32min\u001b[0m \u001b[0mcols\u001b[0m\u001b[0;34m:\u001b[0m\u001b[0;34m\u001b[0m\u001b[0;34m\u001b[0m\u001b[0m\n\u001b[0;32m----> 3\u001b[0;31m     \u001b[0mquantiles\u001b[0m \u001b[0;34m=\u001b[0m \u001b[0mtrain_x\u001b[0m\u001b[0;34m.\u001b[0m\u001b[0mapproxQuantile\u001b[0m\u001b[0;34m(\u001b[0m\u001b[0mcol\u001b[0m\u001b[0;34m,\u001b[0m \u001b[0;34m[\u001b[0m\u001b[0;36m0.25\u001b[0m\u001b[0;34m,\u001b[0m \u001b[0;36m0.75\u001b[0m\u001b[0;34m]\u001b[0m\u001b[0;34m,\u001b[0m \u001b[0;36m0.05\u001b[0m\u001b[0;34m)\u001b[0m    \u001b[0;31m#creating desired quantiles in data,\u001b[0m\u001b[0;34m\u001b[0m\u001b[0;34m\u001b[0m\u001b[0m\n\u001b[0m\u001b[1;32m      4\u001b[0m     \u001b[0mIQR\u001b[0m \u001b[0;34m=\u001b[0m \u001b[0mquantiles\u001b[0m\u001b[0;34m[\u001b[0m\u001b[0;36m1\u001b[0m\u001b[0;34m]\u001b[0m \u001b[0;34m-\u001b[0m \u001b[0mquantiles\u001b[0m\u001b[0;34m[\u001b[0m\u001b[0;36m0\u001b[0m\u001b[0;34m]\u001b[0m\u001b[0;34m\u001b[0m\u001b[0;34m\u001b[0m\u001b[0m\n\u001b[1;32m      5\u001b[0m \u001b[0;34m\u001b[0m\u001b[0m\n",
      "\u001b[0;32m/usr/local/spark/python/pyspark/sql/dataframe.py\u001b[0m in \u001b[0;36mapproxQuantile\u001b[0;34m(self, col, probabilities, relativeError)\u001b[0m\n\u001b[1;32m   1867\u001b[0m             \u001b[0;32mif\u001b[0m \u001b[0;32mnot\u001b[0m \u001b[0misinstance\u001b[0m\u001b[0;34m(\u001b[0m\u001b[0mc\u001b[0m\u001b[0;34m,\u001b[0m \u001b[0mbasestring\u001b[0m\u001b[0;34m)\u001b[0m\u001b[0;34m:\u001b[0m\u001b[0;34m\u001b[0m\u001b[0;34m\u001b[0m\u001b[0m\n\u001b[1;32m   1868\u001b[0m                 \u001b[0;32mraise\u001b[0m \u001b[0mValueError\u001b[0m\u001b[0;34m(\u001b[0m\u001b[0;34m\"columns should be strings, but got %r\"\u001b[0m \u001b[0;34m%\u001b[0m \u001b[0mtype\u001b[0m\u001b[0;34m(\u001b[0m\u001b[0mc\u001b[0m\u001b[0;34m)\u001b[0m\u001b[0;34m)\u001b[0m\u001b[0;34m\u001b[0m\u001b[0;34m\u001b[0m\u001b[0m\n\u001b[0;32m-> 1869\u001b[0;31m         \u001b[0mcol\u001b[0m \u001b[0;34m=\u001b[0m \u001b[0m_to_list\u001b[0m\u001b[0;34m(\u001b[0m\u001b[0mself\u001b[0m\u001b[0;34m.\u001b[0m\u001b[0m_sc\u001b[0m\u001b[0;34m,\u001b[0m \u001b[0mcol\u001b[0m\u001b[0;34m)\u001b[0m\u001b[0;34m\u001b[0m\u001b[0;34m\u001b[0m\u001b[0m\n\u001b[0m\u001b[1;32m   1870\u001b[0m \u001b[0;34m\u001b[0m\u001b[0m\n\u001b[1;32m   1871\u001b[0m         \u001b[0;32mif\u001b[0m \u001b[0;32mnot\u001b[0m \u001b[0misinstance\u001b[0m\u001b[0;34m(\u001b[0m\u001b[0mprobabilities\u001b[0m\u001b[0;34m,\u001b[0m \u001b[0;34m(\u001b[0m\u001b[0mlist\u001b[0m\u001b[0;34m,\u001b[0m \u001b[0mtuple\u001b[0m\u001b[0;34m)\u001b[0m\u001b[0;34m)\u001b[0m\u001b[0;34m:\u001b[0m\u001b[0;34m\u001b[0m\u001b[0;34m\u001b[0m\u001b[0m\n",
      "\u001b[0;32m/usr/local/spark/python/pyspark/sql/column.py\u001b[0m in \u001b[0;36m_to_list\u001b[0;34m(sc, cols, converter)\u001b[0m\n\u001b[1;32m     76\u001b[0m     \u001b[0;32mif\u001b[0m \u001b[0mconverter\u001b[0m\u001b[0;34m:\u001b[0m\u001b[0;34m\u001b[0m\u001b[0;34m\u001b[0m\u001b[0m\n\u001b[1;32m     77\u001b[0m         \u001b[0mcols\u001b[0m \u001b[0;34m=\u001b[0m \u001b[0;34m[\u001b[0m\u001b[0mconverter\u001b[0m\u001b[0;34m(\u001b[0m\u001b[0mc\u001b[0m\u001b[0;34m)\u001b[0m \u001b[0;32mfor\u001b[0m \u001b[0mc\u001b[0m \u001b[0;32min\u001b[0m \u001b[0mcols\u001b[0m\u001b[0;34m]\u001b[0m\u001b[0;34m\u001b[0m\u001b[0;34m\u001b[0m\u001b[0m\n\u001b[0;32m---> 78\u001b[0;31m     \u001b[0;32mreturn\u001b[0m \u001b[0msc\u001b[0m\u001b[0;34m.\u001b[0m\u001b[0m_jvm\u001b[0m\u001b[0;34m.\u001b[0m\u001b[0mPythonUtils\u001b[0m\u001b[0;34m.\u001b[0m\u001b[0mtoList\u001b[0m\u001b[0;34m(\u001b[0m\u001b[0mcols\u001b[0m\u001b[0;34m)\u001b[0m\u001b[0;34m\u001b[0m\u001b[0;34m\u001b[0m\u001b[0m\n\u001b[0m\u001b[1;32m     79\u001b[0m \u001b[0;34m\u001b[0m\u001b[0m\n\u001b[1;32m     80\u001b[0m \u001b[0;34m\u001b[0m\u001b[0m\n",
      "\u001b[0;32m/usr/local/spark/python/lib/py4j-0.10.7-src.zip/py4j/java_gateway.py\u001b[0m in \u001b[0;36m__getattr__\u001b[0;34m(self, name)\u001b[0m\n\u001b[1;32m   1647\u001b[0m             \u001b[0mproto\u001b[0m\u001b[0;34m.\u001b[0m\u001b[0mREFLECTION_COMMAND_NAME\u001b[0m \u001b[0;34m+\u001b[0m\u001b[0;34m\u001b[0m\u001b[0;34m\u001b[0m\u001b[0m\n\u001b[1;32m   1648\u001b[0m             \u001b[0mproto\u001b[0m\u001b[0;34m.\u001b[0m\u001b[0mREFL_GET_UNKNOWN_SUB_COMMAND_NAME\u001b[0m \u001b[0;34m+\u001b[0m \u001b[0mname\u001b[0m \u001b[0;34m+\u001b[0m \u001b[0;34m\"\\n\"\u001b[0m \u001b[0;34m+\u001b[0m \u001b[0mself\u001b[0m\u001b[0;34m.\u001b[0m\u001b[0m_id\u001b[0m \u001b[0;34m+\u001b[0m\u001b[0;34m\u001b[0m\u001b[0;34m\u001b[0m\u001b[0m\n\u001b[0;32m-> 1649\u001b[0;31m             \"\\n\" + proto.END_COMMAND_PART)\n\u001b[0m\u001b[1;32m   1650\u001b[0m         \u001b[0;32mif\u001b[0m \u001b[0manswer\u001b[0m \u001b[0;34m==\u001b[0m \u001b[0mproto\u001b[0m\u001b[0;34m.\u001b[0m\u001b[0mSUCCESS_PACKAGE\u001b[0m\u001b[0;34m:\u001b[0m\u001b[0;34m\u001b[0m\u001b[0;34m\u001b[0m\u001b[0m\n\u001b[1;32m   1651\u001b[0m             \u001b[0;32mreturn\u001b[0m \u001b[0mJavaPackage\u001b[0m\u001b[0;34m(\u001b[0m\u001b[0mname\u001b[0m\u001b[0;34m,\u001b[0m \u001b[0mself\u001b[0m\u001b[0;34m.\u001b[0m\u001b[0m_gateway_client\u001b[0m\u001b[0;34m,\u001b[0m \u001b[0mjvm_id\u001b[0m\u001b[0;34m=\u001b[0m\u001b[0mself\u001b[0m\u001b[0;34m.\u001b[0m\u001b[0m_id\u001b[0m\u001b[0;34m)\u001b[0m\u001b[0;34m\u001b[0m\u001b[0;34m\u001b[0m\u001b[0m\n",
      "\u001b[0;32m/usr/local/spark/python/lib/py4j-0.10.7-src.zip/py4j/java_gateway.py\u001b[0m in \u001b[0;36msend_command\u001b[0;34m(self, command, retry, binary)\u001b[0m\n\u001b[1;32m    981\u001b[0m          \u001b[0;32mif\u001b[0m\u001b[0;31m \u001b[0m\u001b[0;31m`\u001b[0m\u001b[0mbinary\u001b[0m\u001b[0;31m`\u001b[0m \u001b[0;32mis\u001b[0m\u001b[0;31m \u001b[0m\u001b[0;31m`\u001b[0m\u001b[0;32mTrue\u001b[0m\u001b[0;31m`\u001b[0m\u001b[0;34m.\u001b[0m\u001b[0;34m\u001b[0m\u001b[0;34m\u001b[0m\u001b[0m\n\u001b[1;32m    982\u001b[0m         \"\"\"\n\u001b[0;32m--> 983\u001b[0;31m         \u001b[0mconnection\u001b[0m \u001b[0;34m=\u001b[0m \u001b[0mself\u001b[0m\u001b[0;34m.\u001b[0m\u001b[0m_get_connection\u001b[0m\u001b[0;34m(\u001b[0m\u001b[0;34m)\u001b[0m\u001b[0;34m\u001b[0m\u001b[0;34m\u001b[0m\u001b[0m\n\u001b[0m\u001b[1;32m    984\u001b[0m         \u001b[0;32mtry\u001b[0m\u001b[0;34m:\u001b[0m\u001b[0;34m\u001b[0m\u001b[0;34m\u001b[0m\u001b[0m\n\u001b[1;32m    985\u001b[0m             \u001b[0mresponse\u001b[0m \u001b[0;34m=\u001b[0m \u001b[0mconnection\u001b[0m\u001b[0;34m.\u001b[0m\u001b[0msend_command\u001b[0m\u001b[0;34m(\u001b[0m\u001b[0mcommand\u001b[0m\u001b[0;34m)\u001b[0m\u001b[0;34m\u001b[0m\u001b[0;34m\u001b[0m\u001b[0m\n",
      "\u001b[0;32m/usr/local/spark/python/lib/py4j-0.10.7-src.zip/py4j/java_gateway.py\u001b[0m in \u001b[0;36m_get_connection\u001b[0;34m(self)\u001b[0m\n\u001b[1;32m    929\u001b[0m             \u001b[0mconnection\u001b[0m \u001b[0;34m=\u001b[0m \u001b[0mself\u001b[0m\u001b[0;34m.\u001b[0m\u001b[0mdeque\u001b[0m\u001b[0;34m.\u001b[0m\u001b[0mpop\u001b[0m\u001b[0;34m(\u001b[0m\u001b[0;34m)\u001b[0m\u001b[0;34m\u001b[0m\u001b[0;34m\u001b[0m\u001b[0m\n\u001b[1;32m    930\u001b[0m         \u001b[0;32mexcept\u001b[0m \u001b[0mIndexError\u001b[0m\u001b[0;34m:\u001b[0m\u001b[0;34m\u001b[0m\u001b[0;34m\u001b[0m\u001b[0m\n\u001b[0;32m--> 931\u001b[0;31m             \u001b[0mconnection\u001b[0m \u001b[0;34m=\u001b[0m \u001b[0mself\u001b[0m\u001b[0;34m.\u001b[0m\u001b[0m_create_connection\u001b[0m\u001b[0;34m(\u001b[0m\u001b[0;34m)\u001b[0m\u001b[0;34m\u001b[0m\u001b[0;34m\u001b[0m\u001b[0m\n\u001b[0m\u001b[1;32m    932\u001b[0m         \u001b[0;32mreturn\u001b[0m \u001b[0mconnection\u001b[0m\u001b[0;34m\u001b[0m\u001b[0;34m\u001b[0m\u001b[0m\n\u001b[1;32m    933\u001b[0m \u001b[0;34m\u001b[0m\u001b[0m\n",
      "\u001b[0;32m/usr/local/spark/python/lib/py4j-0.10.7-src.zip/py4j/java_gateway.py\u001b[0m in \u001b[0;36m_create_connection\u001b[0;34m(self)\u001b[0m\n\u001b[1;32m    935\u001b[0m         connection = GatewayConnection(\n\u001b[1;32m    936\u001b[0m             self.gateway_parameters, self.gateway_property)\n\u001b[0;32m--> 937\u001b[0;31m         \u001b[0mconnection\u001b[0m\u001b[0;34m.\u001b[0m\u001b[0mstart\u001b[0m\u001b[0;34m(\u001b[0m\u001b[0;34m)\u001b[0m\u001b[0;34m\u001b[0m\u001b[0;34m\u001b[0m\u001b[0m\n\u001b[0m\u001b[1;32m    938\u001b[0m         \u001b[0;32mreturn\u001b[0m \u001b[0mconnection\u001b[0m\u001b[0;34m\u001b[0m\u001b[0;34m\u001b[0m\u001b[0m\n\u001b[1;32m    939\u001b[0m \u001b[0;34m\u001b[0m\u001b[0m\n",
      "\u001b[0;32m/usr/local/spark/python/lib/py4j-0.10.7-src.zip/py4j/java_gateway.py\u001b[0m in \u001b[0;36mstart\u001b[0;34m(self)\u001b[0m\n\u001b[1;32m   1077\u001b[0m                 \u001b[0;34m\"server ({0}:{1})\"\u001b[0m\u001b[0;34m.\u001b[0m\u001b[0mformat\u001b[0m\u001b[0;34m(\u001b[0m\u001b[0mself\u001b[0m\u001b[0;34m.\u001b[0m\u001b[0maddress\u001b[0m\u001b[0;34m,\u001b[0m \u001b[0mself\u001b[0m\u001b[0;34m.\u001b[0m\u001b[0mport\u001b[0m\u001b[0;34m)\u001b[0m\u001b[0;34m\u001b[0m\u001b[0;34m\u001b[0m\u001b[0m\n\u001b[1;32m   1078\u001b[0m             \u001b[0mlogger\u001b[0m\u001b[0;34m.\u001b[0m\u001b[0mexception\u001b[0m\u001b[0;34m(\u001b[0m\u001b[0mmsg\u001b[0m\u001b[0;34m)\u001b[0m\u001b[0;34m\u001b[0m\u001b[0;34m\u001b[0m\u001b[0m\n\u001b[0;32m-> 1079\u001b[0;31m             \u001b[0;32mraise\u001b[0m \u001b[0mPy4JNetworkError\u001b[0m\u001b[0;34m(\u001b[0m\u001b[0mmsg\u001b[0m\u001b[0;34m,\u001b[0m \u001b[0me\u001b[0m\u001b[0;34m)\u001b[0m\u001b[0;34m\u001b[0m\u001b[0;34m\u001b[0m\u001b[0m\n\u001b[0m\u001b[1;32m   1080\u001b[0m \u001b[0;34m\u001b[0m\u001b[0m\n\u001b[1;32m   1081\u001b[0m     \u001b[0;32mdef\u001b[0m \u001b[0m_authenticate_connection\u001b[0m\u001b[0;34m(\u001b[0m\u001b[0mself\u001b[0m\u001b[0;34m)\u001b[0m\u001b[0;34m:\u001b[0m\u001b[0;34m\u001b[0m\u001b[0;34m\u001b[0m\u001b[0m\n",
      "\u001b[0;31mPy4JNetworkError\u001b[0m: An error occurred while trying to connect to the Java server (127.0.0.1:38875)"
     ]
    }
   ],
   "source": [
    "#this takes a while to run\n",
    "for col in cols:\n",
    "    quantiles = train_x.approxQuantile(col, [0.25, 0.75], 0.05)    #creating desired quantiles in data,\n",
    "    IQR = quantiles[1] - quantiles[0]\n",
    "\n",
    "    bounds[col] = [\n",
    "     quantiles[0] - 1.5 * IQR,\n",
    "     quantiles[1] + 1.5 * IQR\n",
    "    ]"
   ]
  },
  {
   "cell_type": "code",
   "execution_count": 22,
   "metadata": {},
   "outputs": [
    {
     "data": {
      "text/plain": [
       "{'id': [-16.0, 48.0],\n",
       " 'tBodyAcc-mean()-X': [0.23388843000000004, 0.31446834999999995],\n",
       " 'tBodyAcc-mean()-Y': [-0.0414654545, 0.004829941500000004],\n",
       " 'tBodyAcc-mean()-Z': [-0.15029236499999998, -0.07074232500000001],\n",
       " 'tBodyAcc-std()-X': [-2.029651965, 0.738089515],\n",
       " 'tBodyAcc-std()-Y': [-2.2925430925000003, 1.2210964875000003],\n",
       " 'tBodyAcc-std()-Z': [-1.973055295, 0.6819611449999999],\n",
       " 'tBodyAcc-mad()-X': [-1.962138355, 0.622710485],\n",
       " 'tBodyAcc-mad()-Y': [-2.2552387549999997, 1.158896165],\n",
       " 'tBodyAcc-mad()-Z': [-1.97170428, 0.6802958],\n",
       " 'tBodyAcc-max()-X': [-2.232497049, 1.227455215],\n",
       " 'tBodyAcc-max()-Y': [-1.2695919404999998, 0.6187320875],\n",
       " 'tBodyAcc-max()-Z': [-1.4645553850000002, 0.2775628950000001],\n",
       " 'tBodyAcc-min()-X': [-0.771046725, 1.808720995],\n",
       " 'tBodyAcc-min()-Y': [-0.763212335, 1.549274825],\n",
       " 'tBodyAcc-min()-Z': [-0.26405258000000004, 1.49315302],\n",
       " 'tBodyAcc-sma()': [-2.2214652999999998, 1.08713606],\n",
       " 'tBodyAcc-energy()-X': [-1.37174132, -0.3802219600000001],\n",
       " 'tBodyAcc-energy()-Y': [-1.240478095, -0.5985068549999999],\n",
       " 'tBodyAcc-energy()-Z': [-1.32588243, -0.45516642999999984],\n",
       " 'tBodyAcc-iqr()-X': [-1.8350235650000002, 0.40820567500000016],\n",
       " 'tBodyAcc-iqr()-Y': [-1.927356905, 0.599436895],\n",
       " 'tBodyAcc-iqr()-Z': [-1.901896425, 0.564656335],\n",
       " 'tBodyAcc-entropy()-X': [-1.81200222, 1.5524673],\n",
       " 'tBodyAcc-entropy()-Y': [-1.737119925, 1.462195075],\n",
       " 'tBodyAcc-entropy()-Z': [-1.41145619, 1.05833493],\n",
       " 'tBodyAcc-arCoeff()-X,1': [-1.0419738025, 0.7688289775],\n",
       " 'tBodyAcc-arCoeff()-X,2': [-0.55276278, 0.732303236],\n",
       " 'tBodyAcc-arCoeff()-X,3': [-0.611631775, 0.539372505],\n",
       " 'tBodyAcc-arCoeff()-X,4': [-0.4529187400000001, 0.6762951960000001],\n",
       " 'tBodyAcc-arCoeff()-Y,1': [-0.71690192, 0.62705248],\n",
       " 'tBodyAcc-arCoeff()-Y,2': [-0.542814525, 0.5763809550000001],\n",
       " 'tBodyAcc-arCoeff()-Y,3': [-0.318428805, 0.6199468029999999],\n",
       " 'tBodyAcc-arCoeff()-Y,4': [-0.565226425, 0.512954735],\n",
       " 'tBodyAcc-arCoeff()-Z,1': [-0.776092875, 0.767454845],\n",
       " 'tBodyAcc-arCoeff()-Z,2': [-0.51160293, 0.55752011],\n",
       " 'tBodyAcc-arCoeff()-Z,3': [-0.528400565, 0.584725555],\n",
       " 'tBodyAcc-arCoeff()-Z,4': [-0.675079802, 0.46689207],\n",
       " 'tBodyAcc-correlation()-X,Y': [-0.9629325445000001, 0.6293545875000001],\n",
       " 'tBodyAcc-correlation()-X,Z': [-0.9778190204999999, 0.5279668475],\n",
       " 'tBodyAcc-correlation()-Y,Z': [-0.8374589599999999, 1.0582003199999999],\n",
       " 'tGravityAcc-mean()-X': [0.6132008099999999, 1.1540516900000002],\n",
       " 'tGravityAcc-mean()-Y': [-0.694940989, 0.49019503499999995],\n",
       " 'tGravityAcc-mean()-Z': [-0.5168461, 0.5639438999999999],\n",
       " 'tGravityAcc-std()-X': [-1.0381466849999998, -0.9230972050000001],\n",
       " 'tGravityAcc-std()-Y': [-1.0478423000000001, -0.89571294],\n",
       " 'tGravityAcc-std()-Z': [-1.06128745, -0.8627823299999999],\n",
       " 'tGravityAcc-mad()-X': [-1.03711981, -0.9249753300000001],\n",
       " 'tGravityAcc-mad()-Y': [-1.046369525, -0.899209245],\n",
       " 'tGravityAcc-mad()-Z': [-1.058892325, -0.867295085],\n",
       " 'tGravityAcc-max()-X': [0.5643985, 1.07786562],\n",
       " 'tGravityAcc-max()-Y': [-0.6834554650000001, 0.4551763350000001],\n",
       " 'tGravityAcc-max()-Z': [-0.50432743, 0.5572270500000001],\n",
       " 'tGravityAcc-min()-X': [0.60170755, 1.17760547],\n",
       " 'tGravityAcc-min()-Y': [-0.677481294, 0.49771637],\n",
       " 'tGravityAcc-min()-Z': [-0.52005463, 0.53859825],\n",
       " 'tGravityAcc-sma()': [-1.228513495, 0.969824545],\n",
       " 'tGravityAcc-energy()-X': [0.025072555000000052, 1.373088675],\n",
       " 'tGravityAcc-energy()-Y': [-1.2276052400000002, -0.5484786799999999],\n",
       " 'tGravityAcc-energy()-Z': [-1.2503982999999999, -0.5632581400000001],\n",
       " 'tGravityAcc-iqr()-X': [-1.0334212150000002, -0.9316086949999999],\n",
       " 'tGravityAcc-iqr()-Y': [-1.0436975450000001, -0.906417745],\n",
       " 'tGravityAcc-iqr()-Z': [-1.052018275, -0.8816361549999999],\n",
       " 'tGravityAcc-entropy()-X': [-1.8606268, 0.43437800000000004],\n",
       " 'tGravityAcc-entropy()-Y': [-1.0, -1.0],\n",
       " 'tGravityAcc-entropy()-Z': [-1.8097261900000001, 0.34954365000000015],\n",
       " 'tGravityAcc-arCoeff()-X,1': [-1.037857955, -0.004702154999999986],\n",
       " 'tGravityAcc-arCoeff()-X,2': [0.013604545000000023, 1.064268985],\n",
       " 'tGravityAcc-arCoeff()-X,3': [-1.163500275, -0.04466471500000002],\n",
       " 'tGravityAcc-arCoeff()-X,4': [0.05092357499999983, 1.1924486550000002],\n",
       " 'tGravityAcc-arCoeff()-Y,1': [-1.09640051, 0.3647366900000001],\n",
       " 'tGravityAcc-arCoeff()-Y,2': [-0.40698086499999997, 1.036716615],\n",
       " 'tGravityAcc-arCoeff()-Y,3': [-1.0771589699999997, 0.30534726999999984],\n",
       " 'tGravityAcc-arCoeff()-Y,4': [-0.26596960999999997, 1.07905519],\n",
       " 'tGravityAcc-arCoeff()-Z,1': [-1.10769335, 0.21567104999999998],\n",
       " 'tGravityAcc-arCoeff()-Z,2': [-0.192854405, 1.094932915],\n",
       " 'tGravityAcc-arCoeff()-Z,3': [-1.12052493, 0.12564955000000005],\n",
       " 'tGravityAcc-arCoeff()-Z,4': [-0.14713768500000002, 1.1391969149999999],\n",
       " 'tGravityAcc-correlation()-X,Y': [-2.2655684600000003, 2.6119049800000003],\n",
       " 'tGravityAcc-correlation()-X,Z': [-2.77749126, 2.49007682],\n",
       " 'tGravityAcc-correlation()-Y,Z': [-2.499548475, 2.616576925],\n",
       " 'tBodyAccJerk-mean()-X': [0.037570081000000026, 0.11153244899999998],\n",
       " 'tBodyAccJerk-mean()-Y': [-0.06916675050000001, 0.0817650295],\n",
       " 'tBodyAccJerk-mean()-Z': [-0.0930143455, 0.0832134025],\n",
       " 'tBodyAccJerk-std()-X': [-1.9697904999999998, 0.6407190999999999],\n",
       " 'tBodyAccJerk-std()-Y': [-2.07281761, 0.8284371099999999],\n",
       " 'tBodyAccJerk-std()-Z': [-1.5817515349999998, -0.00019365500000023683],\n",
       " 'tBodyAccJerk-mad()-X': [-1.9970402950000001, 0.6861479850000001],\n",
       " 'tBodyAccJerk-mad()-Y': [-2.120643945, 0.912712655],\n",
       " 'tBodyAccJerk-mad()-Z': [-1.600584065, 0.03445149499999989],\n",
       " 'tBodyAccJerk-max()-X': [-1.6992303149999999, 0.18894468499999995],\n",
       " 'tBodyAccJerk-max()-Y': [-1.637180195, 0.08896968500000002],\n",
       " 'tBodyAccJerk-max()-Z': [-1.3886891399999999, -0.3236629000000001],\n",
       " 'tBodyAccJerk-min()-X': [-0.8575148450000001, 2.0949180750000003],\n",
       " 'tBodyAccJerk-min()-Y': [-0.552522805, 1.9094796349999998],\n",
       " 'tBodyAccJerk-min()-Z': [-0.18818788499999994, 1.6888242349999998],\n",
       " 'tBodyAccJerk-sma()': [-1.9885324450000001, 0.6757924750000002],\n",
       " 'tBodyAccJerk-energy()-X': [-1.33237476, -0.4457641200000001],\n",
       " 'tBodyAccJerk-energy()-Y': [-1.4178633500000002, -0.3028607099999999],\n",
       " 'tBodyAccJerk-energy()-Z': [-1.130780755, -0.7814152750000001],\n",
       " 'tBodyAccJerk-iqr()-X': [-2.026558625, 0.7387476549999998],\n",
       " 'tBodyAccJerk-iqr()-Y': [-1.92701267, 0.5887296500000001],\n",
       " 'tBodyAccJerk-iqr()-Z': [-1.5547246650000002, -0.0381474249999999],\n",
       " 'tBodyAccJerk-entropy()-X': [-2.66413853, 2.51316339],\n",
       " 'tBodyAccJerk-entropy()-Y': [-2.6488343700000003, 2.4780148300000002],\n",
       " 'tBodyAccJerk-entropy()-Z': [-2.472946115, 2.219671365],\n",
       " 'tBodyAccJerk-arCoeff()-X,1': [-1.046679635, 0.805807445],\n",
       " 'tBodyAccJerk-arCoeff()-X,2': [-0.2618696474999999, 0.5877820764999999],\n",
       " 'tBodyAccJerk-arCoeff()-X,3': [-0.5148836525, 0.6353833275],\n",
       " 'tBodyAccJerk-arCoeff()-X,4': [-0.37749239824999997, 0.60432081495],\n",
       " 'tBodyAccJerk-arCoeff()-Y,1': [-0.818657325, 0.6445998350000001],\n",
       " 'tBodyAccJerk-arCoeff()-Y,2': [-0.432503295, 0.552861081],\n",
       " 'tBodyAccJerk-arCoeff()-Y,3': [-0.3834327125, 0.7254802195],\n",
       " 'tBodyAccJerk-arCoeff()-Y,4': [-0.15497420999999997, 0.77025811],\n",
       " 'tBodyAccJerk-arCoeff()-Z,1': [-0.80149838, 0.7168655399999999],\n",
       " 'tBodyAccJerk-arCoeff()-Z,2': [-0.36268047999999997, 0.525678192],\n",
       " 'tBodyAccJerk-arCoeff()-Z,3': [-0.5510483599999999, 0.5423146799999999],\n",
       " 'tBodyAccJerk-arCoeff()-Z,4': [-0.4485678325, 0.7051578034999999],\n",
       " 'tBodyAccJerk-correlation()-X,Y': [-0.7512504090000001, 0.441192735],\n",
       " 'tBodyAccJerk-correlation()-X,Z': [-0.8003987750000001, 0.7610233450000001],\n",
       " 'tBodyAccJerk-correlation()-Y,Z': [-0.623457285, 0.757800995],\n",
       " 'tBodyGyro-mean()-X': [-0.08764320549999999, 0.02325436649999999],\n",
       " 'tBodyGyro-mean()-Y': [-0.16435533200000002, 0.005681579999999999],\n",
       " 'tBodyGyro-mean()-Z': [0.012716517499999982, 0.1572104735],\n",
       " 'tBodyGyro-std()-X': [-1.67902209, 0.16891910999999993],\n",
       " 'tBodyGyro-std()-Y': [-1.72870109, 0.2674499499999999],\n",
       " 'tBodyGyro-std()-Z': [-1.897143735, 0.537082225],\n",
       " 'tBodyGyro-mad()-X': [-1.6678945399999998, 0.14764665999999982],\n",
       " 'tBodyGyro-mad()-Y': [-1.703640075, 0.221986205],\n",
       " 'tBodyGyro-mad()-Z': [-1.86527015, 0.48112601],\n",
       " 'tBodyGyro-max()-X': [-1.47931922, 0.12679814000000006],\n",
       " 'tBodyGyro-max()-Y': [-1.43916479, -0.12606334999999996],\n",
       " 'tBodyGyro-max()-Z': [-1.435051505, 0.39344077499999996],\n",
       " 'tBodyGyro-min()-X': [-0.099026585, 1.3960176149999999],\n",
       " 'tBodyGyro-min()-Y': [0.1118353700000001, 1.37809393],\n",
       " 'tBodyGyro-min()-Z': [-0.42523866, 1.56607534],\n",
       " 'tBodyGyro-sma()': [-2.0353120049999998, 0.787327475],\n",
       " 'tBodyGyro-energy()-X': [-1.21093313, -0.6480607300000001],\n",
       " 'tBodyGyro-energy()-Y': [-1.205589265, -0.6565607450000002],\n",
       " 'tBodyGyro-energy()-Z': [-1.2801324, -0.5323753599999999],\n",
       " 'tBodyGyro-iqr()-X': [-1.6654251899999999, 0.13918984999999995],\n",
       " 'tBodyGyro-iqr()-Y': [-1.6463785249999998, 0.11852239499999984],\n",
       " 'tBodyGyro-iqr()-Z': [-1.7008138099999999, 0.19737578999999983],\n",
       " 'tBodyGyro-entropy()-X': [-1.474889455, 1.1240154649999998],\n",
       " 'tBodyGyro-entropy()-Y': [-1.06499819, 0.87100077],\n",
       " 'tBodyGyro-entropy()-Z': [-1.5390612100000003, 1.3595409500000002],\n",
       " 'tBodyGyro-arCoeff()-X,1': [-0.9409989674999999, 0.45340657249999994],\n",
       " 'tBodyGyro-arCoeff()-X,2': [-0.44841852, 0.72020412],\n",
       " 'tBodyGyro-arCoeff()-X,3': [-0.40436373449999996, 0.6534929127],\n",
       " 'tBodyGyro-arCoeff()-X,4': [-0.698954194, 0.50674155],\n",
       " 'tBodyGyro-arCoeff()-Y,1': [-0.729505517, 0.28630271500000004],\n",
       " 'tBodyGyro-arCoeff()-Y,2': [-0.3070611775, 0.6252559545],\n",
       " 'tBodyGyro-arCoeff()-Y,3': [-0.6022606435, 0.49080091249999996],\n",
       " 'tBodyGyro-arCoeff()-Y,4': [-0.41985629799999996, 0.6849444668],\n",
       " 'tBodyGyro-arCoeff()-Z,1': [-1.0111094399999998, 0.7700227999999999],\n",
       " 'tBodyGyro-arCoeff()-Z,2': [-0.7974672400000001, 0.8915087600000001],\n",
       " 'tBodyGyro-arCoeff()-Z,3': [-0.71723843, 0.67726237],\n",
       " 'tBodyGyro-arCoeff()-Z,4': [-0.49452088499999997, 0.7552653789999999],\n",
       " 'tBodyGyro-correlation()-X,Y': [-1.156771408, 0.75266104],\n",
       " 'tBodyGyro-correlation()-X,Z': [-0.9620725400000001, 0.9142019400000001],\n",
       " 'tBodyGyro-correlation()-Y,Z': [-1.17173401, 0.92407207],\n",
       " 'tBodyGyroJerk-mean()-X': [-0.1501234935, -0.05148849749999998],\n",
       " 'tBodyGyroJerk-mean()-Y': [-0.09514285349999999, 0.0077486544999999935],\n",
       " 'tBodyGyroJerk-mean()-Z': [-0.12711963350000002, 0.009097218500000025],\n",
       " 'tBodyGyroJerk-std()-X': [-1.6877309450000002, 0.1726276550000001],\n",
       " 'tBodyGyroJerk-std()-Y': [-1.490729205, -0.16007580499999996],\n",
       " 'tBodyGyroJerk-std()-Z': [-1.6688555899999997, 0.13477256999999987],\n",
       " 'tBodyGyroJerk-mad()-X': [-1.6956849150000002, 0.18495792500000008],\n",
       " 'tBodyGyroJerk-mad()-Y': [-1.47393228, -0.18969388000000004],\n",
       " 'tBodyGyroJerk-mad()-Z': [-1.6663613050000001, 0.12980753499999997],\n",
       " 'tBodyGyroJerk-max()-X': [-1.61555713, 0.05306022999999993],\n",
       " 'tBodyGyroJerk-max()-Y': [-1.4110520450000001, -0.2939256849999998],\n",
       " 'tBodyGyroJerk-max()-Z': [-1.6100657049999998, 0.04167625499999994],\n",
       " 'tBodyGyroJerk-min()-X': [-0.09379832499999985, 1.637959795],\n",
       " 'tBodyGyroJerk-min()-Y': [0.2635182499999999, 1.4294451300000002],\n",
       " 'tBodyGyroJerk-min()-Z': [0.10113526500000003, 1.5268661049999999],\n",
       " 'tBodyGyroJerk-sma()': [-1.610745395, 0.037896644999999896],\n",
       " 'tBodyGyroJerk-energy()-X': [-1.1713248749999998, -0.7142204350000001],\n",
       " 'tBodyGyroJerk-energy()-Y': [-1.0880580850000001, -0.853091645],\n",
       " 'tBodyGyroJerk-energy()-Z': [-1.1607026999999999, -0.7319695],\n",
       " 'tBodyGyroJerk-iqr()-X': [-1.667297295, 0.13639514499999994],\n",
       " 'tBodyGyroJerk-iqr()-Y': [-1.4558750599999999, -0.22164649999999997],\n",
       " 'tBodyGyroJerk-iqr()-Z': [-1.6278502499999998, 0.06443622999999998],\n",
       " 'tBodyGyroJerk-entropy()-X': [-2.19302801, 2.1526147900000003],\n",
       " 'tBodyGyroJerk-entropy()-Y': [-2.035518445, 2.059830955],\n",
       " 'tBodyGyroJerk-entropy()-Z': [-2.32845643, 2.26513277],\n",
       " 'tBodyGyroJerk-arCoeff()-X,1': [-0.7038199955, 0.5154476725],\n",
       " 'tBodyGyroJerk-arCoeff()-X,2': [-0.38163590000000003, 0.44410146000000006],\n",
       " 'tBodyGyroJerk-arCoeff()-X,3': [-0.32873254, 0.6393485000000001],\n",
       " 'tBodyGyroJerk-arCoeff()-X,4': [-0.3288030875, 0.6501293724999999],\n",
       " 'tBodyGyroJerk-arCoeff()-Y,1': [-0.7080166145, 0.3409268375],\n",
       " 'tBodyGyroJerk-arCoeff()-Y,2': [-0.17417905250000001, 0.5567667275],\n",
       " 'tBodyGyroJerk-arCoeff()-Y,3': [-0.42637117500000005, 0.570353825],\n",
       " 'tBodyGyroJerk-arCoeff()-Y,4': [-0.5035972025, 0.6535685775],\n",
       " 'tBodyGyroJerk-arCoeff()-Z,1': [-1.046655945, 0.9196165749999999],\n",
       " 'tBodyGyroJerk-arCoeff()-Z,2': [-0.5256580224999999, 0.6135599815],\n",
       " 'tBodyGyroJerk-arCoeff()-Z,3': [-0.5143567425000001, 0.6822514215000001],\n",
       " 'tBodyGyroJerk-arCoeff()-Z,4': [-0.59358921, 0.63267607],\n",
       " 'tBodyGyroJerk-correlation()-X,Y': [-0.656111265, 0.702037095],\n",
       " 'tBodyGyroJerk-correlation()-X,Z': [-0.59895275, 0.66340741],\n",
       " 'tBodyGyroJerk-correlation()-Y,Z': [-0.7507188225, 0.46767867750000003],\n",
       " 'tBodyAccMag-mean()': [-2.22861233, 1.09886407],\n",
       " 'tBodyAccMag-std()': [-2.03647483, 0.77870389],\n",
       " 'tBodyAccMag-mad()': [-1.912101025, 0.5662909349999998],\n",
       " 'tBodyAccMag-max()': [-2.109545515, 0.9069062050000001],\n",
       " 'tBodyAccMag-min()': [-1.3962068749999998, -0.31891659500000014],\n",
       " 'tBodyAccMag-sma()': [-2.22861233, 1.09886407],\n",
       " 'tBodyAccMag-energy()': [-1.56585963, -0.05571859000000001],\n",
       " 'tBodyAccMag-iqr()': [-1.725064275, 0.25161648500000006],\n",
       " 'tBodyAccMag-entropy()': [-2.50452904, 2.76345192],\n",
       " 'tBodyAccMag-arCoeff()1': [-0.859816108, 0.67363306],\n",
       " 'tBodyAccMag-arCoeff()2': [-0.59968961, 0.6085185499999999],\n",
       " 'tBodyAccMag-arCoeff()3': [-0.562883385, 0.6649871350000001],\n",
       " 'tBodyAccMag-arCoeff()4': [-0.6954969365, 0.5598882275],\n",
       " 'tGravityAccMag-mean()': [-2.22861233, 1.09886407],\n",
       " 'tGravityAccMag-std()': [-2.03647483, 0.77870389],\n",
       " 'tGravityAccMag-mad()': [-1.912101025, 0.5662909349999998],\n",
       " 'tGravityAccMag-max()': [-2.109545515, 0.9069062050000001],\n",
       " 'tGravityAccMag-min()': [-1.3962068749999998, -0.31891659500000014],\n",
       " 'tGravityAccMag-sma()': [-2.22861233, 1.09886407],\n",
       " 'tGravityAccMag-energy()': [-1.56585963, -0.05571859000000001],\n",
       " 'tGravityAccMag-iqr()': [-1.725064275, 0.25161648500000006],\n",
       " 'tGravityAccMag-entropy()': [-2.50452904, 2.76345192],\n",
       " 'tGravityAccMag-arCoeff()1': [-0.859816108, 0.67363306],\n",
       " 'tGravityAccMag-arCoeff()2': [-0.59968961, 0.6085185499999999],\n",
       " 'tGravityAccMag-arCoeff()3': [-0.562883385, 0.6649871350000001],\n",
       " 'tGravityAccMag-arCoeff()4': [-0.6954969365, 0.5598882275],\n",
       " 'tBodyAccJerkMag-mean()': [-1.98761074, 0.6746329400000001],\n",
       " 'tBodyAccJerkMag-std()': [-1.9953613149999998, 0.6849132849999997],\n",
       " 'tBodyAccJerkMag-mad()': [-1.9478309200000001, 0.6041610800000001],\n",
       " 'tBodyAccJerkMag-max()': [-1.9471290300000001, 0.6083561700000001],\n",
       " 'tBodyAccJerkMag-min()': [-1.4723690550000001, -0.1668717349999999],\n",
       " 'tBodyAccJerkMag-sma()': [-1.98761074, 0.6746329400000001],\n",
       " 'tBodyAccJerkMag-energy()': [-1.3723099200000002, -0.3789570399999999],\n",
       " 'tBodyAccJerkMag-iqr()': [-1.80352486, 0.36174465999999994],\n",
       " 'tBodyAccJerkMag-entropy()': [-3.0130137649999993, 2.9076884349999994],\n",
       " 'tBodyAccJerkMag-arCoeff()1': [-0.5565726200000001, 0.707097492],\n",
       " 'tBodyAccJerkMag-arCoeff()2': [-0.667300155, 0.568660685],\n",
       " 'tBodyAccJerkMag-arCoeff()3': [-0.68229582, 0.47041498000000004],\n",
       " 'tBodyAccJerkMag-arCoeff()4': [-0.68130784, 0.5774819999999999],\n",
       " 'tBodyGyroMag-mean()': [-2.0262651, 0.7729179400000001],\n",
       " 'tBodyGyroMag-std()': [-1.797043425, 0.394404615],\n",
       " 'tBodyGyroMag-mad()': [-1.8833499050000002, 0.5435032550000001],\n",
       " 'tBodyGyroMag-max()': [-1.731958405, 0.27555315500000005],\n",
       " 'tBodyGyroMag-min()': [-1.623756715, 0.07249516500000008],\n",
       " 'tBodyGyroMag-sma()': [-2.0262651, 0.7729179400000001],\n",
       " 'tBodyGyroMag-energy()': [-1.4020686450000002, -0.3287390849999998],\n",
       " 'tBodyGyroMag-iqr()': [-1.8155202750000001, 0.4206623250000001],\n",
       " 'tBodyGyroMag-entropy()': [-1.299611035, 1.783533325],\n",
       " 'tBodyGyroMag-arCoeff()1': [-0.788662325, 0.716235795],\n",
       " 'tBodyGyroMag-arCoeff()2': [-0.754599868, 0.56610258],\n",
       " 'tBodyGyroMag-arCoeff()3': [-0.50576331, 0.6900544019999999],\n",
       " 'tBodyGyroMag-arCoeff()4': [-0.6515917115000001, 0.5290822125],\n",
       " 'tBodyGyroJerkMag-mean()': [-1.611391325, 0.039657355000000005],\n",
       " 'tBodyGyroJerkMag-std()': [-1.5329459349999999, -0.08958717500000013],\n",
       " 'tBodyGyroJerkMag-mad()': [-1.5081989400000002, -0.1332182999999998],\n",
       " 'tBodyGyroJerkMag-max()': [-1.49334186, -0.15473402000000003],\n",
       " 'tBodyGyroJerkMag-min()': [-1.4333070600000002, -0.25055593999999987],\n",
       " 'tBodyGyroJerkMag-sma()': [-1.611391325, 0.039657355000000005],\n",
       " 'tBodyGyroJerkMag-energy()': [-1.1321045499999998, -0.7796470300000001],\n",
       " 'tBodyGyroJerkMag-iqr()': [-1.48498645, -0.17455532999999995],\n",
       " 'tBodyGyroJerkMag-entropy()': [-2.6498224849999996, 2.9136132349999997],\n",
       " 'tBodyGyroJerkMag-arCoeff()1': [-0.310553575, 0.856613265],\n",
       " 'tBodyGyroJerkMag-arCoeff()2': [-0.743054805, 0.255036035],\n",
       " 'tBodyGyroJerkMag-arCoeff()3': [-0.5873126465, 0.4448378775],\n",
       " 'tBodyGyroJerkMag-arCoeff()4': [-0.7179102815, 0.46163308250000007],\n",
       " 'fBodyAcc-mean()-X': [-2.018589575, 0.7220515850000001],\n",
       " 'fBodyAcc-mean()-Y': [-2.227992705, 1.104584295],\n",
       " 'fBodyAcc-mean()-Z': [-1.844371415, 0.4549599849999999],\n",
       " 'fBodyAcc-std()-X': [-2.031546015, 0.7396476249999999],\n",
       " 'fBodyAcc-std()-Y': [-2.244516375, 1.142151825],\n",
       " 'fBodyAcc-std()-Z': [-1.926389375, 0.607410505],\n",
       " 'fBodyAcc-mad()-X': [-2.0980380699999994, 0.8538978499999996],\n",
       " 'fBodyAcc-mad()-Y': [-2.279630905, 1.187982895],\n",
       " 'fBodyAcc-mad()-Z': [-1.9334547599999998, 0.6095470799999998],\n",
       " 'fBodyAcc-max()-X': [-1.872507725, 0.470218395],\n",
       " 'fBodyAcc-max()-Y': [-1.85195107, 0.47850989],\n",
       " 'fBodyAcc-max()-Z': [-1.820915495, 0.4438677449999999],\n",
       " 'fBodyAcc-min()-X': [-1.2318597949999999, -0.5979975150000001],\n",
       " 'fBodyAcc-min()-Y': [-1.1932443350000002, -0.6549008550000001],\n",
       " 'fBodyAcc-min()-Z': [-1.12449597, -0.76895661],\n",
       " 'fBodyAcc-sma()': [-2.2413865050000004, 1.109789455],\n",
       " 'fBodyAcc-energy()-X': [-1.37044543, -0.38240495],\n",
       " 'fBodyAcc-energy()-Y': [-1.6182891000000001, 0.03198321999999998],\n",
       " 'fBodyAcc-energy()-Z': [-1.3629192950000002, -0.39346997499999986],\n",
       " 'fBodyAcc-iqr()-X': [-1.896034635, 0.5217915649999999],\n",
       " 'fBodyAcc-iqr()-Y': [-1.935754925, 0.5968077549999999],\n",
       " 'fBodyAcc-iqr()-Z': [-1.5872429650000002, 0.026051475000000046],\n",
       " 'fBodyAcc-entropy()-X': [-3.1382369750000003, 2.7067765050000006],\n",
       " 'fBodyAcc-entropy()-Y': [-2.900074205, 2.512396075],\n",
       " 'fBodyAcc-entropy()-Z': [-2.57528211, 2.13243573],\n",
       " 'fBodyAcc-maxInds-X': [-1.38709678, -0.35483869999999995],\n",
       " 'fBodyAcc-maxInds-Y': [-1.4000000049999999, -0.333333325],\n",
       " 'fBodyAcc-maxInds-Z': [-1.3461538450000001, -0.4230769249999999],\n",
       " 'fBodyAcc-meanFreq()-X': [-0.950306287, 0.482766745],\n",
       " 'fBodyAcc-meanFreq()-Y': [-0.586826085, 0.585860995],\n",
       " 'fBodyAcc-meanFreq()-Z': [-0.64751916, 0.73661404],\n",
       " 'fBodyAcc-skewness()-X': [-1.3374120189999998, 0.934666325],\n",
       " 'fBodyAcc-kurtosis()-X': [-1.69420927, 0.5813780099999999],\n",
       " 'fBodyAcc-skewness()-Y': [-1.0646943049999997, 0.3663917349999999],\n",
       " 'fBodyAcc-kurtosis()-Y': [-1.35134387, -0.020193630000000018],\n",
       " 'fBodyAcc-skewness()-Z': [-1.3428533115000003, 0.7542258125000002],\n",
       " 'fBodyAcc-kurtosis()-Z': [-1.5354421350000003, 0.4153674250000001],\n",
       " 'fBodyAccJerk-mean()-X': [-1.91319916, 0.54629572],\n",
       " 'fBodyAccJerk-mean()-Y': [-2.0214269899999997, 0.7432555699999999],\n",
       " 'fBodyAccJerk-mean()-Z': [-1.6214339549999999, 0.07133088499999984],\n",
       " 'fBodyAccJerk-std()-X': [-1.93638697, 0.58312711],\n",
       " 'fBodyAccJerk-std()-Y': [-2.066809595, 0.814850205],\n",
       " 'fBodyAccJerk-std()-Z': [-1.53085622, -0.08622942],\n",
       " 'fBodyAccJerk-mad()-X': [-2.103216145, 0.867325975],\n",
       " 'fBodyAccJerk-mad()-Y': [-2.030447415, 0.754239025],\n",
       " 'fBodyAccJerk-mad()-Z': [-1.570415595, -0.01708995499999999],\n",
       " 'fBodyAccJerk-max()-X': [-1.768356715, 0.29881124499999995],\n",
       " 'fBodyAccJerk-max()-Y': [-1.837187895, 0.428212785],\n",
       " 'fBodyAccJerk-max()-Z': [-1.46937107, -0.18940362999999993],\n",
       " 'fBodyAccJerk-min()-X': [-1.187767455, -0.6728344549999999],\n",
       " 'fBodyAccJerk-min()-Y': [-1.2138427399999998, -0.61931442],\n",
       " 'fBodyAccJerk-min()-Z': [-1.1443244049999999, -0.728040525],\n",
       " 'fBodyAccJerk-sma()': [-2.0545309499999997, 0.7899343299999999],\n",
       " 'fBodyAccJerk-energy()-X': [-1.3327497849999999, -0.4451390250000001],\n",
       " 'fBodyAccJerk-energy()-Y': [-1.4172887799999998, -0.30382542],\n",
       " 'fBodyAccJerk-energy()-Z': [-1.13069356, -0.7815616400000001],\n",
       " 'fBodyAccJerk-iqr()-X': [-1.94560007, 0.60605225],\n",
       " 'fBodyAccJerk-iqr()-Y': [-1.7474860099999998, 0.27815543],\n",
       " 'fBodyAccJerk-iqr()-Z': [-1.5235363149999999, -0.08737011500000014],\n",
       " 'fBodyAccJerk-entropy()-X': [-3.2237818750000002, 2.7063031250000003],\n",
       " 'fBodyAccJerk-entropy()-Y': [-3.223223245, 2.7053720749999997],\n",
       " 'fBodyAccJerk-entropy()-Z': [-2.84987977, 2.08313295],\n",
       " 'fBodyAccJerk-maxInds-X': [-1.3400000000000003, 0.42000000000000015],\n",
       " 'fBodyAccJerk-maxInds-Y': [-0.9800000000000001, 0.14],\n",
       " 'fBodyAccJerk-maxInds-Z': [-0.96, 0.31999999999999995],\n",
       " 'fBodyAccJerk-meanFreq()-X': [-0.997532115, 0.871868965],\n",
       " 'fBodyAccJerk-meanFreq()-Y': [-0.998687552, 0.53872496],\n",
       " 'fBodyAccJerk-meanFreq()-Z': [-0.909138726, 0.64464585],\n",
       " 'fBodyAccJerk-skewness()-X': [-0.934135095, 0.23283198500000002],\n",
       " 'fBodyAccJerk-kurtosis()-X': [-1.131007105, -0.38879978500000006],\n",
       " 'fBodyAccJerk-skewness()-Y': [-0.8508388749999998, -0.0018729150000001415],\n",
       " 'fBodyAccJerk-kurtosis()-Y': [-1.0897482, -0.61679588],\n",
       " 'fBodyAccJerk-skewness()-Z': [-0.9604104449999998, -0.08116616500000012],\n",
       " 'fBodyAccJerk-kurtosis()-Z': [-1.1008384400000002, -0.60175852],\n",
       " 'fBodyGyro-mean()-X': [-1.82066681, 0.40923167000000005],\n",
       " 'fBodyGyro-mean()-Y': [-1.684909325, 0.18467215500000012],\n",
       " 'fBodyGyro-mean()-Z': [-1.9279707899999998, 0.58808345],\n",
       " 'fBodyGyro-std()-X': [-1.6233274500000001, 0.07363999000000021],\n",
       " 'fBodyGyro-std()-Y': [-1.7342973750000001, 0.2804550650000002],\n",
       " 'fBodyGyro-std()-Z': [-1.781215705, 0.34102601499999996],\n",
       " 'fBodyGyro-mad()-X': [-1.7777095749999998, 0.335562865],\n",
       " 'fBodyGyro-mad()-Y': [-1.6641844900000002, 0.1517084700000001],\n",
       " 'fBodyGyro-mad()-Z': [-1.942736905, 0.6129360150000001],\n",
       " 'fBodyGyro-max()-X': [-1.5938655699999997, 0.023371229999999854],\n",
       " 'fBodyGyro-max()-Y': [-1.541492115, -0.04968119500000012],\n",
       " 'fBodyGyro-max()-Z': [-1.547686865, -0.05629282499999999],\n",
       " 'fBodyGyro-min()-X': [-1.111067535, -0.8065472549999999],\n",
       " 'fBodyGyro-min()-Y': [-1.1474148199999998, -0.7392137000000001],\n",
       " 'fBodyGyro-min()-Z': [-1.142202745, -0.7482212650000001],\n",
       " 'fBodyGyro-sma()': [-1.889802165, 0.5281779550000001],\n",
       " 'fBodyGyro-energy()-X': [-1.1706383049999998, -0.7152711450000001],\n",
       " 'fBodyGyro-energy()-Y': [-1.202839775, -0.661270695],\n",
       " 'fBodyGyro-energy()-Z': [-1.2946884650000001, -0.508337145],\n",
       " 'fBodyGyro-iqr()-X': [-1.71236229, 0.21799835],\n",
       " 'fBodyGyro-iqr()-Y': [-1.5711956849999997, -0.01896420500000018],\n",
       " 'fBodyGyro-iqr()-Z': [-1.7535137650000001, 0.2845290750000001],\n",
       " 'fBodyGyro-entropy()-X': [-2.4511113, 2.24997942],\n",
       " 'fBodyGyro-entropy()-Y': [-2.353252525, 2.277983115],\n",
       " 'fBodyGyro-entropy()-Z': [-2.508007415, 2.177133265],\n",
       " 'fBodyGyro-maxInds-X': [-1.100000005, -0.8333333249999999],\n",
       " 'fBodyGyro-maxInds-Y': [-1.38709678, -0.35483869999999995],\n",
       " 'fBodyGyro-maxInds-Z': [-1.4137931049999999, -0.3103448250000001],\n",
       " 'fBodyGyro-meanFreq()-X': [-0.7447823034999999, 0.4971118124999999],\n",
       " 'fBodyGyro-meanFreq()-Y': [-0.9126770199999998, 0.51869194],\n",
       " 'fBodyGyro-meanFreq()-Z': [-0.739579583, 0.582759225],\n",
       " 'fBodyGyro-skewness()-X': [-0.997875211, 0.581583245],\n",
       " 'fBodyGyro-kurtosis()-X': [-1.32989907, 0.22730004999999998],\n",
       " 'fBodyGyro-skewness()-Y': [-1.0927708245, 0.6202471875],\n",
       " 'fBodyGyro-kurtosis()-Y': [-1.407173545, 0.16787257500000008],\n",
       " 'fBodyGyro-skewness()-Z': [-1.1040890184999999, 0.5543232174999999],\n",
       " 'fBodyGyro-kurtosis()-Z': [-1.368663605, 0.132729875],\n",
       " 'fBodyAccMag-mean()': [-2.0806071250000002, 0.8453354750000002],\n",
       " 'fBodyAccMag-std()': [-1.82854523, 0.42966125000000005],\n",
       " 'fBodyAccMag-mad()': [-2.013066045, 0.7421208749999999],\n",
       " 'fBodyAccMag-max()': [-1.55659719, -0.03341470999999996],\n",
       " 'fBodyAccMag-min()': [-1.1746325249999998, -0.6855095250000001],\n",
       " 'fBodyAccMag-sma()': [-2.0806071250000002, 0.8453354750000002],\n",
       " 'fBodyAccMag-energy()': [-1.39819089, -0.33533753],\n",
       " 'fBodyAccMag-iqr()': [-1.768408795, 0.31507012500000003],\n",
       " 'fBodyAccMag-entropy()': [-2.878127795, 2.467595125],\n",
       " 'fBodyAccMag-maxInds': [-1.62068965, 0.03448275000000012],\n",
       " 'fBodyAccMag-meanFreq()': [-0.57062419, 0.687820498],\n",
       " 'fBodyAccMag-skewness()': [-1.045103, 0.22762339999999992],\n",
       " 'fBodyAccMag-kurtosis()': [-1.2332181599999998, -0.18506256000000004],\n",
       " 'fBodyBodyAccJerkMag-mean()': [-2.0177411000000003, 0.7247858600000001],\n",
       " 'fBodyBodyAccJerkMag-std()': [-1.902635665, 0.5306321350000001],\n",
       " 'fBodyBodyAccJerkMag-mad()': [-2.0205219100000003, 0.73383081],\n",
       " 'fBodyBodyAccJerkMag-max()': [-1.79485367, 0.34599280999999993],\n",
       " 'fBodyBodyAccJerkMag-min()': [-1.3640455000000002, -0.3567009399999998],\n",
       " 'fBodyBodyAccJerkMag-sma()': [-2.0177411000000003, 0.7247858600000001],\n",
       " 'fBodyBodyAccJerkMag-energy()': [-1.35407575, -0.40945238999999994],\n",
       " 'fBodyBodyAccJerkMag-iqr()': [-1.84840889, 0.44604191],\n",
       " 'fBodyBodyAccJerkMag-entropy()': [-2.964766105, 2.2746101750000003],\n",
       " 'fBodyBodyAccJerkMag-maxInds': [-1.11111112, -0.73015872],\n",
       " 'fBodyBodyAccJerkMag-meanFreq()': [-0.49695740125000004, 0.8106615447500001],\n",
       " 'fBodyBodyAccJerkMag-skewness()': [-1.30797857, 0.59900727],\n",
       " 'fBodyBodyAccJerkMag-kurtosis()': [-1.4350099100000002, 0.060119850000000086],\n",
       " 'fBodyBodyGyroMag-mean()': [-1.7384917349999998, 0.28209622499999987],\n",
       " 'fBodyBodyGyroMag-std()': [-1.6754364800000001, 0.19034576000000014],\n",
       " 'fBodyBodyGyroMag-mad()': [-1.75557839, 0.32183608999999996],\n",
       " 'fBodyBodyGyroMag-max()': [-1.553627295, -0.017280695000000068],\n",
       " 'fBodyBodyGyroMag-min()': [-1.19118763, -0.6643351499999999],\n",
       " 'fBodyBodyGyroMag-sma()': [-1.7384917349999998, 0.28209622499999987],\n",
       " 'fBodyBodyGyroMag-energy()': [-1.2470576850000001, -0.5871905249999999],\n",
       " 'fBodyBodyGyroMag-iqr()': [-1.677295355, 0.17139244499999995],\n",
       " 'fBodyBodyGyroMag-entropy()': [-2.353542345, 2.200845695],\n",
       " 'fBodyBodyGyroMag-maxInds': [-1.230769225, -0.6153846249999999],\n",
       " 'fBodyBodyGyroMag-meanFreq()': [-0.78223638, 0.67236954],\n",
       " 'fBodyBodyGyroMag-skewness()': [-1.0271640249999998, 0.40497265499999996],\n",
       " 'fBodyBodyGyroMag-kurtosis()': [-1.270169445, -0.01707756499999996],\n",
       " 'fBodyBodyGyroJerkMag-mean()': [-1.530194735, -0.09416749499999988],\n",
       " 'fBodyBodyGyroJerkMag-std()': [-1.469072265, -0.19666110499999984],\n",
       " 'fBodyBodyGyroJerkMag-mad()': [-1.531107725, -0.09139576500000013],\n",
       " 'fBodyBodyGyroJerkMag-max()': [-1.398471135, -0.3171750149999999],\n",
       " 'fBodyBodyGyroJerkMag-min()': [-1.22260625, -0.6108602500000002],\n",
       " 'fBodyBodyGyroJerkMag-sma()': [-1.530194735, -0.09416749499999988],\n",
       " 'fBodyBodyGyroJerkMag-energy()': [-1.1035004050000001, -0.827340125],\n",
       " 'fBodyBodyGyroJerkMag-iqr()': [-1.5331196450000002, -0.08688120499999996],\n",
       " 'fBodyBodyGyroJerkMag-entropy()': [-2.7833565200000003, 2.1763892400000002],\n",
       " 'fBodyBodyGyroJerkMag-maxInds': [-1.11111112, -0.73015872],\n",
       " 'fBodyBodyGyroJerkMag-meanFreq()': [-0.45640864999999997, 0.6917900379999999],\n",
       " 'fBodyBodyGyroJerkMag-skewness()': [-1.0832708249999998, 0.41336385499999984],\n",
       " 'fBodyBodyGyroJerkMag-kurtosis()': [-1.2973012099999999,\n",
       "  -0.07001169000000013],\n",
       " 'angle(tBodyAccMean,gravity)': [-0.44525438, 0.44688706],\n",
       " 'angle(tBodyAccJerkMean),gravityMean)': [-1.02911634, 0.98279414],\n",
       " 'angle(tBodyGyroMean,gravityMean)': [-1.82712799, 1.7826667299999999],\n",
       " 'angle(tBodyGyroJerkMean,gravityMean)': [-1.3911373200000001,\n",
       "  1.3114815600000003],\n",
       " 'angle(X,gravityMean)': [-1.175971855, -0.21318077499999993],\n",
       " 'angle(Y,gravityMean)': [-0.326599665, 0.587501415],\n",
       " 'angle(Z,gravityMean)': [-0.426408201, 0.385566415]}"
      ]
     },
     "execution_count": 22,
     "metadata": {},
     "output_type": "execute_result"
    }
   ],
   "source": [
    "bounds     #bounds for IQR, lower bound at .25 and upper bound at .75"
   ]
  },
  {
   "cell_type": "code",
   "execution_count": 23,
   "metadata": {},
   "outputs": [],
   "source": [
    "# append outlier indicators to data table\n",
    "#code from preprocessing tutorial, added \".cast(\"int\"), 0 is false aka no outlier, 1 indicates outlier\n",
    "\n",
    "outliers = train_x.select(*['id'] + [\n",
    " (\n",
    " (train_x[c] < bounds[c][0]) | (train_x[c] > bounds[c][1]))\n",
    "    .cast(\"int\").alias(c + '_outlier') for c in cols\n",
    "])"
   ]
  },
  {
   "cell_type": "code",
   "execution_count": 24,
   "metadata": {},
   "outputs": [
    {
     "data": {
      "text/plain": [
       "{'id': 132397,\n",
       " 'id_outlier': 0,\n",
       " 'tBodyAcc-mean()-X_outlier': 2412,\n",
       " 'tBodyAcc-mean()-Y_outlier': 1642,\n",
       " 'tBodyAcc-mean()-Z_outlier': 1545,\n",
       " 'tBodyAcc-std()-X_outlier': 8,\n",
       " 'tBodyAcc-std()-Y_outlier': 0,\n",
       " 'tBodyAcc-std()-Z_outlier': 24,\n",
       " 'tBodyAcc-mad()-X_outlier': 17,\n",
       " 'tBodyAcc-mad()-Y_outlier': 0,\n",
       " 'tBodyAcc-mad()-Z_outlier': 13,\n",
       " 'tBodyAcc-max()-X_outlier': 0,\n",
       " 'tBodyAcc-max()-Y_outlier': 12,\n",
       " 'tBodyAcc-max()-Z_outlier': 44,\n",
       " 'tBodyAcc-min()-X_outlier': 4,\n",
       " 'tBodyAcc-min()-Y_outlier': 13,\n",
       " 'tBodyAcc-min()-Z_outlier': 64,\n",
       " 'tBodyAcc-sma()_outlier': 0,\n",
       " 'tBodyAcc-energy()-X_outlier': 561,\n",
       " 'tBodyAcc-energy()-Y_outlier': 180,\n",
       " 'tBodyAcc-energy()-Z_outlier': 407,\n",
       " 'tBodyAcc-iqr()-X_outlier': 35,\n",
       " 'tBodyAcc-iqr()-Y_outlier': 3,\n",
       " 'tBodyAcc-iqr()-Z_outlier': 10,\n",
       " 'tBodyAcc-entropy()-X_outlier': 0,\n",
       " 'tBodyAcc-entropy()-Y_outlier': 0,\n",
       " 'tBodyAcc-entropy()-Z_outlier': 0,\n",
       " 'tBodyAcc-arCoeff()-X,1_outlier': 5,\n",
       " 'tBodyAcc-arCoeff()-X,2_outlier': 75,\n",
       " 'tBodyAcc-arCoeff()-X,3_outlier': 200,\n",
       " 'tBodyAcc-arCoeff()-X,4_outlier': 144,\n",
       " 'tBodyAcc-arCoeff()-Y,1_outlier': 18,\n",
       " 'tBodyAcc-arCoeff()-Y,2_outlier': 80,\n",
       " 'tBodyAcc-arCoeff()-Y,3_outlier': 263,\n",
       " 'tBodyAcc-arCoeff()-Y,4_outlier': 109,\n",
       " 'tBodyAcc-arCoeff()-Z,1_outlier': 15,\n",
       " 'tBodyAcc-arCoeff()-Z,2_outlier': 117,\n",
       " 'tBodyAcc-arCoeff()-Z,3_outlier': 177,\n",
       " 'tBodyAcc-arCoeff()-Z,4_outlier': 111,\n",
       " 'tBodyAcc-correlation()-X,Y_outlier': 353,\n",
       " 'tBodyAcc-correlation()-X,Z_outlier': 170,\n",
       " 'tBodyAcc-correlation()-Y,Z_outlier': 87,\n",
       " 'tGravityAcc-mean()-X_outlier': 1583,\n",
       " 'tGravityAcc-mean()-Y_outlier': 1260,\n",
       " 'tGravityAcc-mean()-Z_outlier': 1105,\n",
       " 'tGravityAcc-std()-X_outlier': 735,\n",
       " 'tGravityAcc-std()-Y_outlier': 716,\n",
       " 'tGravityAcc-std()-Z_outlier': 776,\n",
       " 'tGravityAcc-mad()-X_outlier': 734,\n",
       " 'tGravityAcc-mad()-Y_outlier': 749,\n",
       " 'tGravityAcc-mad()-Z_outlier': 800,\n",
       " 'tGravityAcc-max()-X_outlier': 1592,\n",
       " 'tGravityAcc-max()-Y_outlier': 1283,\n",
       " 'tGravityAcc-max()-Z_outlier': 1103,\n",
       " 'tGravityAcc-min()-X_outlier': 1588,\n",
       " 'tGravityAcc-min()-Y_outlier': 1262,\n",
       " 'tGravityAcc-min()-Z_outlier': 1131,\n",
       " 'tGravityAcc-sma()_outlier': 3,\n",
       " 'tGravityAcc-energy()-X_outlier': 1579,\n",
       " 'tGravityAcc-energy()-Y_outlier': 1334,\n",
       " 'tGravityAcc-energy()-Z_outlier': 1245,\n",
       " 'tGravityAcc-iqr()-X_outlier': 812,\n",
       " 'tGravityAcc-iqr()-Y_outlier': 765,\n",
       " 'tGravityAcc-iqr()-Z_outlier': 873,\n",
       " 'tGravityAcc-entropy()-X_outlier': 48,\n",
       " 'tGravityAcc-entropy()-Y_outlier': 2205,\n",
       " 'tGravityAcc-entropy()-Z_outlier': 137,\n",
       " 'tGravityAcc-arCoeff()-X,1_outlier': 130,\n",
       " 'tGravityAcc-arCoeff()-X,2_outlier': 100,\n",
       " 'tGravityAcc-arCoeff()-X,3_outlier': 87,\n",
       " 'tGravityAcc-arCoeff()-X,4_outlier': 70,\n",
       " 'tGravityAcc-arCoeff()-Y,1_outlier': 78,\n",
       " 'tGravityAcc-arCoeff()-Y,2_outlier': 71,\n",
       " 'tGravityAcc-arCoeff()-Y,3_outlier': 132,\n",
       " 'tGravityAcc-arCoeff()-Y,4_outlier': 131,\n",
       " 'tGravityAcc-arCoeff()-Z,1_outlier': 66,\n",
       " 'tGravityAcc-arCoeff()-Z,2_outlier': 64,\n",
       " 'tGravityAcc-arCoeff()-Z,3_outlier': 79,\n",
       " 'tGravityAcc-arCoeff()-Z,4_outlier': 61,\n",
       " 'tGravityAcc-correlation()-X,Y_outlier': 0,\n",
       " 'tGravityAcc-correlation()-X,Z_outlier': 0,\n",
       " 'tGravityAcc-correlation()-Y,Z_outlier': 0,\n",
       " 'tBodyAccJerk-mean()-X_outlier': 3447,\n",
       " 'tBodyAccJerk-mean()-Y_outlier': 2903,\n",
       " 'tBodyAccJerk-mean()-Z_outlier': 2594,\n",
       " 'tBodyAccJerk-std()-X_outlier': 9,\n",
       " 'tBodyAccJerk-std()-Y_outlier': 1,\n",
       " 'tBodyAccJerk-std()-Z_outlier': 107,\n",
       " 'tBodyAccJerk-mad()-X_outlier': 7,\n",
       " 'tBodyAccJerk-mad()-Y_outlier': 2,\n",
       " 'tBodyAccJerk-mad()-Z_outlier': 99,\n",
       " 'tBodyAccJerk-max()-X_outlier': 177,\n",
       " 'tBodyAccJerk-max()-Y_outlier': 74,\n",
       " 'tBodyAccJerk-max()-Z_outlier': 293,\n",
       " 'tBodyAccJerk-min()-X_outlier': 6,\n",
       " 'tBodyAccJerk-min()-Y_outlier': 23,\n",
       " 'tBodyAccJerk-min()-Z_outlier': 52,\n",
       " 'tBodyAccJerk-sma()_outlier': 5,\n",
       " 'tBodyAccJerk-energy()-X_outlier': 474,\n",
       " 'tBodyAccJerk-energy()-Y_outlier': 348,\n",
       " 'tBodyAccJerk-energy()-Z_outlier': 740,\n",
       " 'tBodyAccJerk-iqr()-X_outlier': 8,\n",
       " 'tBodyAccJerk-iqr()-Y_outlier': 7,\n",
       " 'tBodyAccJerk-iqr()-Z_outlier': 98,\n",
       " 'tBodyAccJerk-entropy()-X_outlier': 0,\n",
       " 'tBodyAccJerk-entropy()-Y_outlier': 0,\n",
       " 'tBodyAccJerk-entropy()-Z_outlier': 0,\n",
       " 'tBodyAccJerk-arCoeff()-X,1_outlier': 4,\n",
       " 'tBodyAccJerk-arCoeff()-X,2_outlier': 285,\n",
       " 'tBodyAccJerk-arCoeff()-X,3_outlier': 163,\n",
       " 'tBodyAccJerk-arCoeff()-X,4_outlier': 103,\n",
       " 'tBodyAccJerk-arCoeff()-Y,1_outlier': 13,\n",
       " 'tBodyAccJerk-arCoeff()-Y,2_outlier': 263,\n",
       " 'tBodyAccJerk-arCoeff()-Y,3_outlier': 174,\n",
       " 'tBodyAccJerk-arCoeff()-Y,4_outlier': 182,\n",
       " 'tBodyAccJerk-arCoeff()-Z,1_outlier': 6,\n",
       " 'tBodyAccJerk-arCoeff()-Z,2_outlier': 241,\n",
       " 'tBodyAccJerk-arCoeff()-Z,3_outlier': 125,\n",
       " 'tBodyAccJerk-arCoeff()-Z,4_outlier': 152,\n",
       " 'tBodyAccJerk-correlation()-X,Y_outlier': 184,\n",
       " 'tBodyAccJerk-correlation()-X,Z_outlier': 60,\n",
       " 'tBodyAccJerk-correlation()-Y,Z_outlier': 108,\n",
       " 'tBodyGyro-mean()-X_outlier': 2893,\n",
       " 'tBodyGyro-mean()-Y_outlier': 2323,\n",
       " 'tBodyGyro-mean()-Z_outlier': 2123,\n",
       " 'tBodyGyro-std()-X_outlier': 39,\n",
       " 'tBodyGyro-std()-Y_outlier': 120,\n",
       " 'tBodyGyro-std()-Z_outlier': 46,\n",
       " 'tBodyGyro-mad()-X_outlier': 37,\n",
       " 'tBodyGyro-mad()-Y_outlier': 102,\n",
       " 'tBodyGyro-mad()-Z_outlier': 62,\n",
       " 'tBodyGyro-max()-X_outlier': 66,\n",
       " 'tBodyGyro-max()-Y_outlier': 287,\n",
       " 'tBodyGyro-max()-Z_outlier': 81,\n",
       " 'tBodyGyro-min()-X_outlier': 87,\n",
       " 'tBodyGyro-min()-Y_outlier': 102,\n",
       " 'tBodyGyro-min()-Z_outlier': 48,\n",
       " 'tBodyGyro-sma()_outlier': 2,\n",
       " 'tBodyGyro-energy()-X_outlier': 484,\n",
       " 'tBodyGyro-energy()-Y_outlier': 874,\n",
       " 'tBodyGyro-energy()-Z_outlier': 341,\n",
       " 'tBodyGyro-iqr()-X_outlier': 45,\n",
       " 'tBodyGyro-iqr()-Y_outlier': 145,\n",
       " 'tBodyGyro-iqr()-Z_outlier': 105,\n",
       " 'tBodyGyro-entropy()-X_outlier': 0,\n",
       " 'tBodyGyro-entropy()-Y_outlier': 15,\n",
       " 'tBodyGyro-entropy()-Z_outlier': 0,\n",
       " 'tBodyGyro-arCoeff()-X,1_outlier': 63,\n",
       " 'tBodyGyro-arCoeff()-X,2_outlier': 72,\n",
       " 'tBodyGyro-arCoeff()-X,3_outlier': 206,\n",
       " 'tBodyGyro-arCoeff()-X,4_outlier': 125,\n",
       " 'tBodyGyro-arCoeff()-Y,1_outlier': 115,\n",
       " 'tBodyGyro-arCoeff()-Y,2_outlier': 120,\n",
       " 'tBodyGyro-arCoeff()-Y,3_outlier': 176,\n",
       " 'tBodyGyro-arCoeff()-Y,4_outlier': 107,\n",
       " 'tBodyGyro-arCoeff()-Z,1_outlier': 7,\n",
       " 'tBodyGyro-arCoeff()-Z,2_outlier': 6,\n",
       " 'tBodyGyro-arCoeff()-Z,3_outlier': 50,\n",
       " 'tBodyGyro-arCoeff()-Z,4_outlier': 138,\n",
       " 'tBodyGyro-correlation()-X,Y_outlier': 113,\n",
       " 'tBodyGyro-correlation()-X,Z_outlier': 147,\n",
       " 'tBodyGyro-correlation()-Y,Z_outlier': 23,\n",
       " 'tBodyGyroJerk-mean()-X_outlier': 3040,\n",
       " 'tBodyGyroJerk-mean()-Y_outlier': 2799,\n",
       " 'tBodyGyroJerk-mean()-Z_outlier': 2721,\n",
       " 'tBodyGyroJerk-std()-X_outlier': 46,\n",
       " 'tBodyGyroJerk-std()-Y_outlier': 279,\n",
       " 'tBodyGyroJerk-std()-Z_outlier': 71,\n",
       " 'tBodyGyroJerk-mad()-X_outlier': 41,\n",
       " 'tBodyGyroJerk-mad()-Y_outlier': 244,\n",
       " 'tBodyGyroJerk-mad()-Z_outlier': 42,\n",
       " 'tBodyGyroJerk-max()-X_outlier': 81,\n",
       " 'tBodyGyroJerk-max()-Y_outlier': 374,\n",
       " 'tBodyGyroJerk-max()-Z_outlier': 152,\n",
       " 'tBodyGyroJerk-min()-X_outlier': 76,\n",
       " 'tBodyGyroJerk-min()-Y_outlier': 279,\n",
       " 'tBodyGyroJerk-min()-Z_outlier': 135,\n",
       " 'tBodyGyroJerk-sma()_outlier': 41,\n",
       " 'tBodyGyroJerk-energy()-X_outlier': 596,\n",
       " 'tBodyGyroJerk-energy()-Y_outlier': 979,\n",
       " 'tBodyGyroJerk-energy()-Z_outlier': 639,\n",
       " 'tBodyGyroJerk-iqr()-X_outlier': 57,\n",
       " 'tBodyGyroJerk-iqr()-Y_outlier': 231,\n",
       " 'tBodyGyroJerk-iqr()-Z_outlier': 43,\n",
       " 'tBodyGyroJerk-entropy()-X_outlier': 0,\n",
       " 'tBodyGyroJerk-entropy()-Y_outlier': 0,\n",
       " 'tBodyGyroJerk-entropy()-Z_outlier': 0,\n",
       " 'tBodyGyroJerk-arCoeff()-X,1_outlier': 107,\n",
       " 'tBodyGyroJerk-arCoeff()-X,2_outlier': 260,\n",
       " 'tBodyGyroJerk-arCoeff()-X,3_outlier': 196,\n",
       " 'tBodyGyroJerk-arCoeff()-X,4_outlier': 166,\n",
       " 'tBodyGyroJerk-arCoeff()-Y,1_outlier': 98,\n",
       " 'tBodyGyroJerk-arCoeff()-Y,2_outlier': 300,\n",
       " 'tBodyGyroJerk-arCoeff()-Y,3_outlier': 122,\n",
       " 'tBodyGyroJerk-arCoeff()-Y,4_outlier': 156,\n",
       " 'tBodyGyroJerk-arCoeff()-Z,1_outlier': 7,\n",
       " 'tBodyGyroJerk-arCoeff()-Z,2_outlier': 118,\n",
       " 'tBodyGyroJerk-arCoeff()-Z,3_outlier': 121,\n",
       " 'tBodyGyroJerk-arCoeff()-Z,4_outlier': 91,\n",
       " 'tBodyGyroJerk-correlation()-X,Y_outlier': 110,\n",
       " 'tBodyGyroJerk-correlation()-X,Z_outlier': 160,\n",
       " 'tBodyGyroJerk-correlation()-Y,Z_outlier': 195,\n",
       " 'tBodyAccMag-mean()_outlier': 0,\n",
       " 'tBodyAccMag-std()_outlier': 4,\n",
       " 'tBodyAccMag-mad()_outlier': 5,\n",
       " 'tBodyAccMag-max()_outlier': 2,\n",
       " 'tBodyAccMag-min()_outlier': 62,\n",
       " 'tBodyAccMag-sma()_outlier': 0,\n",
       " 'tBodyAccMag-energy()_outlier': 134,\n",
       " 'tBodyAccMag-iqr()_outlier': 20,\n",
       " 'tBodyAccMag-entropy()_outlier': 0,\n",
       " 'tBodyAccMag-arCoeff()1_outlier': 20,\n",
       " 'tBodyAccMag-arCoeff()2_outlier': 62,\n",
       " 'tBodyAccMag-arCoeff()3_outlier': 135,\n",
       " 'tBodyAccMag-arCoeff()4_outlier': 125,\n",
       " 'tGravityAccMag-mean()_outlier': 0,\n",
       " 'tGravityAccMag-std()_outlier': 4,\n",
       " 'tGravityAccMag-mad()_outlier': 5,\n",
       " 'tGravityAccMag-max()_outlier': 2,\n",
       " 'tGravityAccMag-min()_outlier': 62,\n",
       " 'tGravityAccMag-sma()_outlier': 0,\n",
       " 'tGravityAccMag-energy()_outlier': 134,\n",
       " 'tGravityAccMag-iqr()_outlier': 20,\n",
       " 'tGravityAccMag-entropy()_outlier': 0,\n",
       " 'tGravityAccMag-arCoeff()1_outlier': 20,\n",
       " 'tGravityAccMag-arCoeff()2_outlier': 62,\n",
       " 'tGravityAccMag-arCoeff()3_outlier': 135,\n",
       " 'tGravityAccMag-arCoeff()4_outlier': 125,\n",
       " 'tBodyAccJerkMag-mean()_outlier': 4,\n",
       " 'tBodyAccJerkMag-std()_outlier': 11,\n",
       " 'tBodyAccJerkMag-mad()_outlier': 8,\n",
       " 'tBodyAccJerkMag-max()_outlier': 13,\n",
       " 'tBodyAccJerkMag-min()_outlier': 185,\n",
       " 'tBodyAccJerkMag-sma()_outlier': 4,\n",
       " 'tBodyAccJerkMag-energy()_outlier': 232,\n",
       " 'tBodyAccJerkMag-iqr()_outlier': 13,\n",
       " 'tBodyAccJerkMag-entropy()_outlier': 0,\n",
       " 'tBodyAccJerkMag-arCoeff()1_outlier': 58,\n",
       " 'tBodyAccJerkMag-arCoeff()2_outlier': 100,\n",
       " 'tBodyAccJerkMag-arCoeff()3_outlier': 161,\n",
       " 'tBodyAccJerkMag-arCoeff()4_outlier': 145,\n",
       " 'tBodyGyroMag-mean()_outlier': 6,\n",
       " 'tBodyGyroMag-std()_outlier': 50,\n",
       " 'tBodyGyroMag-mad()_outlier': 34,\n",
       " 'tBodyGyroMag-max()_outlier': 52,\n",
       " 'tBodyGyroMag-min()_outlier': 162,\n",
       " 'tBodyGyroMag-sma()_outlier': 6,\n",
       " 'tBodyGyroMag-energy()_outlier': 265,\n",
       " 'tBodyGyroMag-iqr()_outlier': 31,\n",
       " 'tBodyGyroMag-entropy()_outlier': 0,\n",
       " 'tBodyGyroMag-arCoeff()1_outlier': 65,\n",
       " 'tBodyGyroMag-arCoeff()2_outlier': 130,\n",
       " 'tBodyGyroMag-arCoeff()3_outlier': 178,\n",
       " 'tBodyGyroMag-arCoeff()4_outlier': 167,\n",
       " 'tBodyGyroJerkMag-mean()_outlier': 71,\n",
       " 'tBodyGyroJerkMag-std()_outlier': 208,\n",
       " 'tBodyGyroJerkMag-mad()_outlier': 160,\n",
       " 'tBodyGyroJerkMag-max()_outlier': 280,\n",
       " 'tBodyGyroJerkMag-min()_outlier': 271,\n",
       " 'tBodyGyroJerkMag-sma()_outlier': 71,\n",
       " 'tBodyGyroJerkMag-energy()_outlier': 682,\n",
       " 'tBodyGyroJerkMag-iqr()_outlier': 114,\n",
       " 'tBodyGyroJerkMag-entropy()_outlier': 0,\n",
       " 'tBodyGyroJerkMag-arCoeff()1_outlier': 152,\n",
       " 'tBodyGyroJerkMag-arCoeff()2_outlier': 186,\n",
       " 'tBodyGyroJerkMag-arCoeff()3_outlier': 239,\n",
       " 'tBodyGyroJerkMag-arCoeff()4_outlier': 205,\n",
       " 'fBodyAcc-mean()-X_outlier': 6,\n",
       " 'fBodyAcc-mean()-Y_outlier': 0,\n",
       " 'fBodyAcc-mean()-Z_outlier': 29,\n",
       " 'fBodyAcc-std()-X_outlier': 12,\n",
       " 'fBodyAcc-std()-Y_outlier': 0,\n",
       " 'fBodyAcc-std()-Z_outlier': 47,\n",
       " 'fBodyAcc-mad()-X_outlier': 3,\n",
       " 'fBodyAcc-mad()-Y_outlier': 0,\n",
       " 'fBodyAcc-mad()-Z_outlier': 19,\n",
       " 'fBodyAcc-max()-X_outlier': 76,\n",
       " 'fBodyAcc-max()-Y_outlier': 13,\n",
       " 'fBodyAcc-max()-Z_outlier': 99,\n",
       " 'fBodyAcc-min()-X_outlier': 939,\n",
       " 'fBodyAcc-min()-Y_outlier': 832,\n",
       " 'fBodyAcc-min()-Z_outlier': 930,\n",
       " 'fBodyAcc-sma()_outlier': 0,\n",
       " 'fBodyAcc-energy()-X_outlier': 562,\n",
       " 'fBodyAcc-energy()-Y_outlier': 181,\n",
       " 'fBodyAcc-energy()-Z_outlier': 399,\n",
       " 'fBodyAcc-iqr()-X_outlier': 43,\n",
       " 'fBodyAcc-iqr()-Y_outlier': 12,\n",
       " 'fBodyAcc-iqr()-Z_outlier': 125,\n",
       " 'fBodyAcc-entropy()-X_outlier': 0,\n",
       " 'fBodyAcc-entropy()-Y_outlier': 0,\n",
       " 'fBodyAcc-entropy()-Z_outlier': 0,\n",
       " 'fBodyAcc-maxInds-X_outlier': 589,\n",
       " 'fBodyAcc-maxInds-Y_outlier': 450,\n",
       " 'fBodyAcc-maxInds-Z_outlier': 505,\n",
       " 'fBodyAcc-meanFreq()-X_outlier': 30,\n",
       " 'fBodyAcc-meanFreq()-Y_outlier': 133,\n",
       " 'fBodyAcc-meanFreq()-Z_outlier': 129,\n",
       " 'fBodyAcc-skewness()-X_outlier': 24,\n",
       " 'fBodyAcc-kurtosis()-X_outlier': 236,\n",
       " 'fBodyAcc-skewness()-Y_outlier': 644,\n",
       " 'fBodyAcc-kurtosis()-Y_outlier': 854,\n",
       " 'fBodyAcc-skewness()-Z_outlier': 81,\n",
       " 'fBodyAcc-kurtosis()-Z_outlier': 355,\n",
       " 'fBodyAccJerk-mean()-X_outlier': 12,\n",
       " 'fBodyAccJerk-mean()-Y_outlier': 0,\n",
       " 'fBodyAccJerk-mean()-Z_outlier': 103,\n",
       " 'fBodyAccJerk-std()-X_outlier': 9,\n",
       " 'fBodyAccJerk-std()-Y_outlier': 2,\n",
       " 'fBodyAccJerk-std()-Z_outlier': 127,\n",
       " 'fBodyAccJerk-mad()-X_outlier': 5,\n",
       " 'fBodyAccJerk-mad()-Y_outlier': 2,\n",
       " 'fBodyAccJerk-mad()-Z_outlier': 109,\n",
       " 'fBodyAccJerk-max()-X_outlier': 23,\n",
       " 'fBodyAccJerk-max()-Y_outlier': 27,\n",
       " 'fBodyAccJerk-max()-Z_outlier': 168,\n",
       " 'fBodyAccJerk-min()-X_outlier': 1008,\n",
       " 'fBodyAccJerk-min()-Y_outlier': 1014,\n",
       " 'fBodyAccJerk-min()-Z_outlier': 1168,\n",
       " 'fBodyAccJerk-sma()_outlier': 5,\n",
       " 'fBodyAccJerk-energy()-X_outlier': 475,\n",
       " 'fBodyAccJerk-energy()-Y_outlier': 349,\n",
       " 'fBodyAccJerk-energy()-Z_outlier': 741,\n",
       " 'fBodyAccJerk-iqr()-X_outlier': 34,\n",
       " 'fBodyAccJerk-iqr()-Y_outlier': 12,\n",
       " 'fBodyAccJerk-iqr()-Z_outlier': 145,\n",
       " 'fBodyAccJerk-entropy()-X_outlier': 0,\n",
       " 'fBodyAccJerk-entropy()-Y_outlier': 0,\n",
       " 'fBodyAccJerk-entropy()-Z_outlier': 0,\n",
       " 'fBodyAccJerk-maxInds-X_outlier': 36,\n",
       " 'fBodyAccJerk-maxInds-Y_outlier': 318,\n",
       " 'fBodyAccJerk-maxInds-Z_outlier': 208,\n",
       " 'fBodyAccJerk-meanFreq()-X_outlier': 2,\n",
       " 'fBodyAccJerk-meanFreq()-Y_outlier': 11,\n",
       " 'fBodyAccJerk-meanFreq()-Z_outlier': 11,\n",
       " 'fBodyAccJerk-skewness()-X_outlier': 287,\n",
       " 'fBodyAccJerk-kurtosis()-X_outlier': 628,\n",
       " 'fBodyAccJerk-skewness()-Y_outlier': 251,\n",
       " 'fBodyAccJerk-kurtosis()-Y_outlier': 574,\n",
       " 'fBodyAccJerk-skewness()-Z_outlier': 334,\n",
       " 'fBodyAccJerk-kurtosis()-Z_outlier': 614,\n",
       " 'fBodyGyro-mean()-X_outlier': 31,\n",
       " 'fBodyGyro-mean()-Y_outlier': 124,\n",
       " 'fBodyGyro-mean()-Z_outlier': 20,\n",
       " 'fBodyGyro-std()-X_outlier': 50,\n",
       " 'fBodyGyro-std()-Y_outlier': 142,\n",
       " 'fBodyGyro-std()-Z_outlier': 73,\n",
       " 'fBodyGyro-mad()-X_outlier': 26,\n",
       " 'fBodyGyro-mad()-Y_outlier': 131,\n",
       " 'fBodyGyro-mad()-Z_outlier': 26,\n",
       " 'fBodyGyro-max()-X_outlier': 164,\n",
       " 'fBodyGyro-max()-Y_outlier': 378,\n",
       " 'fBodyGyro-max()-Z_outlier': 137,\n",
       " 'fBodyGyro-min()-X_outlier': 840,\n",
       " 'fBodyGyro-min()-Y_outlier': 977,\n",
       " 'fBodyGyro-min()-Z_outlier': 851,\n",
       " 'fBodyGyro-sma()_outlier': 10,\n",
       " 'fBodyGyro-energy()-X_outlier': 609,\n",
       " 'fBodyGyro-energy()-Y_outlier': 884,\n",
       " 'fBodyGyro-energy()-Z_outlier': 334,\n",
       " 'fBodyGyro-iqr()-X_outlier': 81,\n",
       " 'fBodyGyro-iqr()-Y_outlier': 219,\n",
       " 'fBodyGyro-iqr()-Z_outlier': 98,\n",
       " 'fBodyGyro-entropy()-X_outlier': 0,\n",
       " 'fBodyGyro-entropy()-Y_outlier': 0,\n",
       " 'fBodyGyro-entropy()-Z_outlier': 0,\n",
       " 'fBodyGyro-maxInds-X_outlier': 1753,\n",
       " 'fBodyGyro-maxInds-Y_outlier': 622,\n",
       " 'fBodyGyro-maxInds-Z_outlier': 289,\n",
       " 'fBodyGyro-meanFreq()-X_outlier': 140,\n",
       " 'fBodyGyro-meanFreq()-Y_outlier': 65,\n",
       " 'fBodyGyro-meanFreq()-Z_outlier': 102,\n",
       " 'fBodyGyro-skewness()-X_outlier': 153,\n",
       " 'fBodyGyro-kurtosis()-X_outlier': 372,\n",
       " 'fBodyGyro-skewness()-Y_outlier': 222,\n",
       " 'fBodyGyro-kurtosis()-Y_outlier': 595,\n",
       " 'fBodyGyro-skewness()-Z_outlier': 161,\n",
       " 'fBodyGyro-kurtosis()-Z_outlier': 468,\n",
       " 'fBodyAccMag-mean()_outlier': 8,\n",
       " 'fBodyAccMag-std()_outlier': 6,\n",
       " 'fBodyAccMag-mad()_outlier': 5,\n",
       " 'fBodyAccMag-max()_outlier': 53,\n",
       " 'fBodyAccMag-min()_outlier': 773,\n",
       " 'fBodyAccMag-sma()_outlier': 8,\n",
       " 'fBodyAccMag-energy()_outlier': 504,\n",
       " 'fBodyAccMag-iqr()_outlier': 33,\n",
       " 'fBodyAccMag-entropy()_outlier': 0,\n",
       " 'fBodyAccMag-maxInds_outlier': 95,\n",
       " 'fBodyAccMag-meanFreq()_outlier': 152,\n",
       " 'fBodyAccMag-skewness()_outlier': 564,\n",
       " 'fBodyAccMag-kurtosis()_outlier': 793,\n",
       " 'fBodyBodyAccJerkMag-mean()_outlier': 7,\n",
       " 'fBodyBodyAccJerkMag-std()_outlier': 16,\n",
       " 'fBodyBodyAccJerkMag-mad()_outlier': 12,\n",
       " 'fBodyBodyAccJerkMag-max()_outlier': 48,\n",
       " 'fBodyBodyAccJerkMag-min()_outlier': 639,\n",
       " 'fBodyBodyAccJerkMag-sma()_outlier': 7,\n",
       " 'fBodyBodyAccJerkMag-energy()_outlier': 461,\n",
       " 'fBodyBodyAccJerkMag-iqr()_outlier': 23,\n",
       " 'fBodyBodyAccJerkMag-entropy()_outlier': 0,\n",
       " 'fBodyBodyAccJerkMag-maxInds_outlier': 608,\n",
       " 'fBodyBodyAccJerkMag-meanFreq()_outlier': 61,\n",
       " 'fBodyBodyAccJerkMag-skewness()_outlier': 109,\n",
       " 'fBodyBodyAccJerkMag-kurtosis()_outlier': 550,\n",
       " 'fBodyBodyGyroMag-mean()_outlier': 57,\n",
       " 'fBodyBodyGyroMag-std()_outlier': 73,\n",
       " 'fBodyBodyGyroMag-mad()_outlier': 54,\n",
       " 'fBodyBodyGyroMag-max()_outlier': 149,\n",
       " 'fBodyBodyGyroMag-min()_outlier': 666,\n",
       " 'fBodyBodyGyroMag-sma()_outlier': 57,\n",
       " 'fBodyBodyGyroMag-energy()_outlier': 532,\n",
       " 'fBodyBodyGyroMag-iqr()_outlier': 79,\n",
       " 'fBodyBodyGyroMag-entropy()_outlier': 0,\n",
       " 'fBodyBodyGyroMag-maxInds_outlier': 660,\n",
       " 'fBodyBodyGyroMag-meanFreq()_outlier': 69,\n",
       " 'fBodyBodyGyroMag-skewness()_outlier': 386,\n",
       " 'fBodyBodyGyroMag-kurtosis()_outlier': 645,\n",
       " 'fBodyBodyGyroJerkMag-mean()_outlier': 202,\n",
       " 'fBodyBodyGyroJerkMag-std()_outlier': 268,\n",
       " 'fBodyBodyGyroJerkMag-mad()_outlier': 244,\n",
       " 'fBodyBodyGyroJerkMag-max()_outlier': 388,\n",
       " 'fBodyBodyGyroJerkMag-min()_outlier': 765,\n",
       " 'fBodyBodyGyroJerkMag-sma()_outlier': 202,\n",
       " 'fBodyBodyGyroJerkMag-energy()_outlier': 797,\n",
       " 'fBodyBodyGyroJerkMag-iqr()_outlier': 214,\n",
       " 'fBodyBodyGyroJerkMag-entropy()_outlier': 0,\n",
       " 'fBodyBodyGyroJerkMag-maxInds_outlier': 444,\n",
       " 'fBodyBodyGyroJerkMag-meanFreq()_outlier': 227,\n",
       " 'fBodyBodyGyroJerkMag-skewness()_outlier': 251,\n",
       " 'fBodyBodyGyroJerkMag-kurtosis()_outlier': 566,\n",
       " 'angle(tBodyAccMean,gravity)_outlier': 1656,\n",
       " 'angle(tBodyAccJerkMean),gravityMean)_outlier': 7,\n",
       " 'angle(tBodyGyroMean,gravityMean)_outlier': 0,\n",
       " 'angle(tBodyGyroJerkMean,gravityMean)_outlier': 0,\n",
       " 'angle(X,gravityMean)_outlier': 1568,\n",
       " 'angle(Y,gravityMean)_outlier': 1083,\n",
       " 'angle(Z,gravityMean)_outlier': 1055}"
      ]
     },
     "execution_count": 24,
     "metadata": {},
     "output_type": "execute_result"
    }
   ],
   "source": [
    "#sums takes the sum of each column in the outliers df, since 1 indicates outlier\n",
    "sums = [F.sum(x).alias(str(x)) for x in outliers.columns]\n",
    "df_totaloutliers = outliers.select(sums).collect()[0].asDict() #assocites each column name to its sum\n",
    "df_totaloutliers"
   ]
  },
  {
   "cell_type": "markdown",
   "metadata": {},
   "source": [
    "# Scale the Data"
   ]
  },
  {
   "cell_type": "code",
   "execution_count": 20,
   "metadata": {},
   "outputs": [],
   "source": [
    "# Vectorize the data for modeling\n",
    "#exclude 1st column (id) and last column (position)\n",
    "assembler = VectorAssembler(inputCols = train_data.columns[1:-1], outputCol = \"features\")\n",
    "train_vectorized = assembler.transform(train_data)\n",
    "train_vectorized = train_vectorized.select(\"id\",\"features\", \"position\")\n",
    "\n",
    "test_vectorized = assembler.transform(test_data)\n",
    "test_vectorized = test_vectorized.select(\"id\", \"features\", \"position\")"
   ]
  },
  {
   "cell_type": "code",
   "execution_count": 21,
   "metadata": {},
   "outputs": [],
   "source": [
    "# scale the features\n",
    "    # we don't scale mean, since our data is not all on the same scale\n",
    "scaler = StandardScaler(\n",
    "    inputCol=\"features\",\n",
    "    outputCol=\"scaledFeatures\",\n",
    "    withStd=True,\n",
    "    withMean=False)\n",
    "\n",
    "scalerModel_train = scaler.fit(train_vectorized)\n",
    "\n",
    "#change train_x_vectorized to also be scaled\n",
    "#comments are if we want to rename the column to just be \"features\" instead of \"scaledFeatures\"\n",
    "train_vectorized = scalerModel_train.transform(train_vectorized)#.drop('features')\\\n",
    "                     #.withColumnRenamed('scaledFeatures', 'features')\n",
    "test_vectorized = scalerModel_train.transform(test_vectorized)"
   ]
  },
  {
   "cell_type": "markdown",
   "metadata": {},
   "source": [
    "# Trying PCA"
   ]
  },
  {
   "cell_type": "code",
   "execution_count": 22,
   "metadata": {},
   "outputs": [],
   "source": [
    "# PCA For scree plot\n",
    "pca_10 = PCA(k=10, inputCol=\"scaledFeatures\", outputCol=\"pcaFeatures\")\n",
    "pca_train_10 = pca_10.fit(train_vectorized)\n",
    "\n",
    "#compute the pve\n",
    "train_pve_10 = pca_train_10.explainedVariance.cumsum()\n",
    "\n",
    "#map data to the space mapped by the first 10 pc\n",
    "train_10 = pca_train_10.transform(train_vectorized).select(\"pcaFeatures\", \"position\")"
   ]
  },
  {
   "cell_type": "code",
   "execution_count": 23,
   "metadata": {},
   "outputs": [
    {
     "data": {
      "image/png": "[encoded data removed]",
      "text/plain": [
       "<Figure size 432x288 with 1 Axes>"
      ]
     },
     "metadata": {
      "needs_background": "light"
     },
     "output_type": "display_data"
    }
   ],
   "source": [
    "# Scree Plot\n",
    "\n",
    "number_of_pc = np.arange(1,11)\n",
    "plt.plot(number_of_pc, train_pve_10, 'ro-', linewidth = 3)\n",
    "plt.title('Scree Plot')\n",
    "plt.xlabel(\"Prinicipal Components\")\n",
    "plt.ylabel(\"Cumulative Proportion of Variance Explained\")\n",
    "plt.show()"
   ]
  },
  {
   "cell_type": "code",
   "execution_count": 24,
   "metadata": {},
   "outputs": [],
   "source": [
    "# PCA for plotting and cluster analysis\n",
    "pca_2 = PCA(k=2, inputCol=\"scaledFeatures\", outputCol=\"pcaFeatures\")\n",
    "pca_train_2 = pca_2.fit(train_vectorized)\n",
    "\n",
    "#compute the pve\n",
    "train_pve_2 = pca_train_2.explainedVariance.cumsum()\n",
    "\n",
    "#map data to the space mapped by the first 5 pc\n",
    "train_2 = pca_train_2.transform(train_vectorized).select(\"pcaFeatures\")"
   ]
  },
  {
   "cell_type": "code",
   "execution_count": 1,
   "metadata": {},
   "outputs": [
    {
     "ename": "NameError",
     "evalue": "name 'np' is not defined",
     "output_type": "error",
     "traceback": [
      "\u001b[0;31m---------------------------------------------------------------------------\u001b[0m",
      "\u001b[0;31mNameError\u001b[0m                                 Traceback (most recent call last)",
      "\u001b[0;32m<ipython-input-1-4c0b4797db80>\u001b[0m in \u001b[0;36m<module>\u001b[0;34m\u001b[0m\n\u001b[0;32m----> 1\u001b[0;31m \u001b[0mtrain_pc1\u001b[0m \u001b[0;34m=\u001b[0m \u001b[0mnp\u001b[0m\u001b[0;34m.\u001b[0m\u001b[0marray\u001b[0m\u001b[0;34m(\u001b[0m\u001b[0mtrain_2\u001b[0m\u001b[0;34m.\u001b[0m\u001b[0mrdd\u001b[0m\u001b[0;34m.\u001b[0m\u001b[0mmap\u001b[0m\u001b[0;34m(\u001b[0m\u001b[0;32mlambda\u001b[0m \u001b[0mx\u001b[0m\u001b[0;34m:\u001b[0m \u001b[0;34m(\u001b[0m\u001b[0mx\u001b[0m\u001b[0;34m[\u001b[0m\u001b[0;36m0\u001b[0m\u001b[0;34m]\u001b[0m\u001b[0;34m[\u001b[0m\u001b[0;36m0\u001b[0m\u001b[0;34m]\u001b[0m\u001b[0;34m)\u001b[0m\u001b[0;34m)\u001b[0m\u001b[0;34m.\u001b[0m\u001b[0mcollect\u001b[0m\u001b[0;34m(\u001b[0m\u001b[0;34m)\u001b[0m\u001b[0;34m)\u001b[0m\u001b[0;34m\u001b[0m\u001b[0;34m\u001b[0m\u001b[0m\n\u001b[0m\u001b[1;32m      2\u001b[0m \u001b[0mtrain_pc2\u001b[0m \u001b[0;34m=\u001b[0m \u001b[0mnp\u001b[0m\u001b[0;34m.\u001b[0m\u001b[0marray\u001b[0m\u001b[0;34m(\u001b[0m\u001b[0mtrain_2\u001b[0m\u001b[0;34m.\u001b[0m\u001b[0mrdd\u001b[0m\u001b[0;34m.\u001b[0m\u001b[0mmap\u001b[0m\u001b[0;34m(\u001b[0m\u001b[0;32mlambda\u001b[0m \u001b[0mx\u001b[0m\u001b[0;34m:\u001b[0m \u001b[0;34m(\u001b[0m\u001b[0mx\u001b[0m\u001b[0;34m[\u001b[0m\u001b[0;36m0\u001b[0m\u001b[0;34m]\u001b[0m\u001b[0;34m[\u001b[0m\u001b[0;36m1\u001b[0m\u001b[0;34m]\u001b[0m\u001b[0;34m)\u001b[0m\u001b[0;34m)\u001b[0m\u001b[0;34m.\u001b[0m\u001b[0mcollect\u001b[0m\u001b[0;34m(\u001b[0m\u001b[0;34m)\u001b[0m\u001b[0;34m)\u001b[0m\u001b[0;34m\u001b[0m\u001b[0;34m\u001b[0m\u001b[0m\n",
      "\u001b[0;31mNameError\u001b[0m: name 'np' is not defined"
     ]
    }
   ],
   "source": [
    "train_pc1 = np.array(train_2.rdd.map(lambda x: (x[0][0])).collect())\n",
    "train_pc2 = np.array(train_2.rdd.map(lambda x: (x[0][1])).collect())"
   ]
  },
  {
   "cell_type": "code",
   "execution_count": 2,
   "metadata": {},
   "outputs": [
    {
     "ename": "NameError",
     "evalue": "name 'plt' is not defined",
     "output_type": "error",
     "traceback": [
      "\u001b[0;31m---------------------------------------------------------------------------\u001b[0m",
      "\u001b[0;31mNameError\u001b[0m                                 Traceback (most recent call last)",
      "\u001b[0;32m<ipython-input-2-36133c4324ba>\u001b[0m in \u001b[0;36m<module>\u001b[0;34m\u001b[0m\n\u001b[1;32m      1\u001b[0m \u001b[0;31m#plot the first pc on x axis, second pc on y axix\u001b[0m\u001b[0;34m\u001b[0m\u001b[0;34m\u001b[0m\u001b[0;34m\u001b[0m\u001b[0m\n\u001b[0;32m----> 2\u001b[0;31m \u001b[0mplt\u001b[0m\u001b[0;34m.\u001b[0m\u001b[0mscatter\u001b[0m\u001b[0;34m(\u001b[0m\u001b[0mtrain_pc1\u001b[0m\u001b[0;34m,\u001b[0m\u001b[0mtrain_pc2\u001b[0m\u001b[0;34m,\u001b[0m\u001b[0mc\u001b[0m\u001b[0;34m=\u001b[0m\u001b[0;34m'y'\u001b[0m\u001b[0;34m)\u001b[0m\u001b[0;34m\u001b[0m\u001b[0;34m\u001b[0m\u001b[0m\n\u001b[0m\u001b[1;32m      3\u001b[0m \u001b[0mplt\u001b[0m\u001b[0;34m.\u001b[0m\u001b[0mtitle\u001b[0m\u001b[0;34m(\u001b[0m\u001b[0;34m'PC Plot'\u001b[0m\u001b[0;34m)\u001b[0m\u001b[0;34m\u001b[0m\u001b[0;34m\u001b[0m\u001b[0m\n\u001b[1;32m      4\u001b[0m \u001b[0mplt\u001b[0m\u001b[0;34m.\u001b[0m\u001b[0mxlabel\u001b[0m\u001b[0;34m(\u001b[0m\u001b[0;34m\"Principal Component 1\"\u001b[0m\u001b[0;34m)\u001b[0m\u001b[0;34m\u001b[0m\u001b[0;34m\u001b[0m\u001b[0m\n\u001b[1;32m      5\u001b[0m \u001b[0mplt\u001b[0m\u001b[0;34m.\u001b[0m\u001b[0mylabel\u001b[0m\u001b[0;34m(\u001b[0m\u001b[0;34m\"Principal Component 2\"\u001b[0m\u001b[0;34m)\u001b[0m\u001b[0;34m\u001b[0m\u001b[0;34m\u001b[0m\u001b[0m\n",
      "\u001b[0;31mNameError\u001b[0m: name 'plt' is not defined"
     ]
    }
   ],
   "source": [
    "#plot the first pc on x axis, second pc on y axix\n",
    "plt.scatter(train_pc1,train_pc2,c='y')\n",
    "plt.title('PC Plot')\n",
    "plt.xlabel(\"Principal Component 1\")\n",
    "plt.ylabel(\"Principal Component 2\")\n",
    "plt.show()"
   ]
  },
  {
   "cell_type": "code",
   "execution_count": 3,
   "metadata": {},
   "outputs": [
    {
     "ename": "NameError",
     "evalue": "name 'KMeans' is not defined",
     "output_type": "error",
     "traceback": [
      "\u001b[0;31m---------------------------------------------------------------------------\u001b[0m",
      "\u001b[0;31mNameError\u001b[0m                                 Traceback (most recent call last)",
      "\u001b[0;32m<ipython-input-3-c9e097fa72ba>\u001b[0m in \u001b[0;36m<module>\u001b[0;34m\u001b[0m\n\u001b[1;32m      1\u001b[0m \u001b[0;31m#create kmeans.\u001b[0m\u001b[0;34m\u001b[0m\u001b[0;34m\u001b[0m\u001b[0;34m\u001b[0m\u001b[0m\n\u001b[0;32m----> 2\u001b[0;31m \u001b[0mkmeans6\u001b[0m \u001b[0;34m=\u001b[0m \u001b[0mKMeans\u001b[0m\u001b[0;34m(\u001b[0m\u001b[0;34m)\u001b[0m\u001b[0;34m.\u001b[0m\u001b[0msetK\u001b[0m\u001b[0;34m(\u001b[0m\u001b[0;36m6\u001b[0m\u001b[0;34m)\u001b[0m\u001b[0;34m.\u001b[0m\u001b[0msetSeed\u001b[0m\u001b[0;34m(\u001b[0m\u001b[0;36m1\u001b[0m\u001b[0;34m)\u001b[0m\u001b[0;34m\u001b[0m\u001b[0;34m\u001b[0m\u001b[0m\n\u001b[0m\u001b[1;32m      3\u001b[0m \u001b[0mkmeans2\u001b[0m \u001b[0;34m=\u001b[0m \u001b[0mKMeans\u001b[0m\u001b[0;34m(\u001b[0m\u001b[0;34m)\u001b[0m\u001b[0;34m.\u001b[0m\u001b[0msetK\u001b[0m\u001b[0;34m(\u001b[0m\u001b[0;36m2\u001b[0m\u001b[0;34m)\u001b[0m\u001b[0;34m.\u001b[0m\u001b[0msetSeed\u001b[0m\u001b[0;34m(\u001b[0m\u001b[0;36m1\u001b[0m\u001b[0;34m)\u001b[0m\u001b[0;34m\u001b[0m\u001b[0;34m\u001b[0m\u001b[0m\n",
      "\u001b[0;31mNameError\u001b[0m: name 'KMeans' is not defined"
     ]
    }
   ],
   "source": [
    "#create kmeans.\n",
    "kmeans6 = KMeans().setK(6).setSeed(1)\n",
    "kmeans2 = KMeans().setK(2).setSeed(1)"
   ]
  },
  {
   "cell_type": "code",
   "execution_count": 4,
   "metadata": {},
   "outputs": [
    {
     "ename": "NameError",
     "evalue": "name 'train_2' is not defined",
     "output_type": "error",
     "traceback": [
      "\u001b[0;31m---------------------------------------------------------------------------\u001b[0m",
      "\u001b[0;31mNameError\u001b[0m                                 Traceback (most recent call last)",
      "\u001b[0;32m<ipython-input-4-802c39797bf4>\u001b[0m in \u001b[0;36m<module>\u001b[0;34m\u001b[0m\n\u001b[1;32m      1\u001b[0m \u001b[0;31m#kmeans needs a column named features, so we rename them\u001b[0m\u001b[0;34m\u001b[0m\u001b[0;34m\u001b[0m\u001b[0;34m\u001b[0m\u001b[0m\n\u001b[0;32m----> 2\u001b[0;31m \u001b[0mtrain_2\u001b[0m \u001b[0;34m=\u001b[0m \u001b[0mtrain_2\u001b[0m\u001b[0;34m.\u001b[0m\u001b[0mwithColumnRenamed\u001b[0m\u001b[0;34m(\u001b[0m\u001b[0;34m'pcaFeatures'\u001b[0m\u001b[0;34m,\u001b[0m \u001b[0;34m'features'\u001b[0m\u001b[0;34m)\u001b[0m\u001b[0;34m\u001b[0m\u001b[0;34m\u001b[0m\u001b[0m\n\u001b[0m\u001b[1;32m      3\u001b[0m \u001b[0mtrain_2kmeans6\u001b[0m \u001b[0;34m=\u001b[0m \u001b[0mkmeans6\u001b[0m\u001b[0;34m.\u001b[0m\u001b[0mfit\u001b[0m\u001b[0;34m(\u001b[0m\u001b[0mtrain_2\u001b[0m\u001b[0;34m.\u001b[0m\u001b[0mselect\u001b[0m\u001b[0;34m(\u001b[0m\u001b[0;34m'features'\u001b[0m\u001b[0;34m)\u001b[0m\u001b[0;34m)\u001b[0m\u001b[0;34m\u001b[0m\u001b[0;34m\u001b[0m\u001b[0m\n\u001b[1;32m      4\u001b[0m \u001b[0mtrain_2kmeans2\u001b[0m \u001b[0;34m=\u001b[0m \u001b[0mkmeans2\u001b[0m\u001b[0;34m.\u001b[0m\u001b[0mfit\u001b[0m\u001b[0;34m(\u001b[0m\u001b[0mtrain_2\u001b[0m\u001b[0;34m.\u001b[0m\u001b[0mselect\u001b[0m\u001b[0;34m(\u001b[0m\u001b[0;34m'features'\u001b[0m\u001b[0;34m)\u001b[0m\u001b[0;34m)\u001b[0m\u001b[0;34m\u001b[0m\u001b[0;34m\u001b[0m\u001b[0m\n",
      "\u001b[0;31mNameError\u001b[0m: name 'train_2' is not defined"
     ]
    }
   ],
   "source": [
    "#kmeans needs a column named features, so we rename them\n",
    "train_2 = train_2.withColumnRenamed('pcaFeatures', 'features')\n",
    "train_2kmeans6 = kmeans6.fit(train_2.select('features'))\n",
    "train_2kmeans2 = kmeans2.fit(train_2.select('features'))"
   ]
  },
  {
   "cell_type": "code",
   "execution_count": 5,
   "metadata": {},
   "outputs": [
    {
     "ename": "NameError",
     "evalue": "name 'train_2kmeans6' is not defined",
     "output_type": "error",
     "traceback": [
      "\u001b[0;31m---------------------------------------------------------------------------\u001b[0m",
      "\u001b[0;31mNameError\u001b[0m                                 Traceback (most recent call last)",
      "\u001b[0;32m<ipython-input-5-0614bfe5102a>\u001b[0m in \u001b[0;36m<module>\u001b[0;34m\u001b[0m\n\u001b[1;32m      1\u001b[0m \u001b[0;31m#apply the model to the data and extract the data\u001b[0m\u001b[0;34m\u001b[0m\u001b[0;34m\u001b[0m\u001b[0;34m\u001b[0m\u001b[0m\n\u001b[0;32m----> 2\u001b[0;31m \u001b[0mtrain_2_cluster6_w_pred\u001b[0m \u001b[0;34m=\u001b[0m \u001b[0mtrain_2kmeans6\u001b[0m\u001b[0;34m.\u001b[0m\u001b[0mtransform\u001b[0m\u001b[0;34m(\u001b[0m\u001b[0mtrain_2\u001b[0m\u001b[0;34m)\u001b[0m\u001b[0;34m\u001b[0m\u001b[0;34m\u001b[0m\u001b[0m\n\u001b[0m\u001b[1;32m      3\u001b[0m \u001b[0mtrain_2cluster6_label\u001b[0m \u001b[0;34m=\u001b[0m \u001b[0mnp\u001b[0m\u001b[0;34m.\u001b[0m\u001b[0marray\u001b[0m\u001b[0;34m(\u001b[0m\u001b[0mtrain_2_cluster6_w_pred\u001b[0m\u001b[0;34m.\u001b[0m\u001b[0mselect\u001b[0m\u001b[0;34m(\u001b[0m\u001b[0;34m'prediction'\u001b[0m\u001b[0;34m)\u001b[0m\u001b[0;34m.\u001b[0m\u001b[0mrdd\u001b[0m\u001b[0;34m.\u001b[0m\u001b[0mmap\u001b[0m\u001b[0;34m(\u001b[0m\u001b[0;32mlambda\u001b[0m \u001b[0mx\u001b[0m\u001b[0;34m:\u001b[0m \u001b[0mx\u001b[0m\u001b[0;34m[\u001b[0m\u001b[0;36m0\u001b[0m\u001b[0;34m]\u001b[0m\u001b[0;34m)\u001b[0m\u001b[0;34m.\u001b[0m\u001b[0mcollect\u001b[0m\u001b[0;34m(\u001b[0m\u001b[0;34m)\u001b[0m\u001b[0;34m)\u001b[0m\u001b[0;34m\u001b[0m\u001b[0;34m\u001b[0m\u001b[0m\n\u001b[1;32m      4\u001b[0m \u001b[0;34m\u001b[0m\u001b[0m\n\u001b[1;32m      5\u001b[0m \u001b[0mtrain_2_cluster2_w_pred\u001b[0m \u001b[0;34m=\u001b[0m \u001b[0mtrain_2kmeans2\u001b[0m\u001b[0;34m.\u001b[0m\u001b[0mtransform\u001b[0m\u001b[0;34m(\u001b[0m\u001b[0mtrain_2\u001b[0m\u001b[0;34m)\u001b[0m\u001b[0;34m\u001b[0m\u001b[0;34m\u001b[0m\u001b[0m\n",
      "\u001b[0;31mNameError\u001b[0m: name 'train_2kmeans6' is not defined"
     ]
    }
   ],
   "source": [
    "#apply the model to the data and extract the data\n",
    "train_2_cluster6_w_pred = train_2kmeans6.transform(train_2)\n",
    "train_2cluster6_label = np.array(train_2_cluster6_w_pred.select('prediction').rdd.map(lambda x: x[0]).collect())\n",
    "\n",
    "train_2_cluster2_w_pred = train_2kmeans2.transform(train_2)\n",
    "train_2cluster2_label = np.array(train_2_cluster2_w_pred.select('prediction').rdd.map(lambda x: x[0]).collect())"
   ]
  },
  {
   "cell_type": "code",
   "execution_count": 6,
   "metadata": {},
   "outputs": [
    {
     "ename": "NameError",
     "evalue": "name 'KMeans' is not defined",
     "output_type": "error",
     "traceback": [
      "\u001b[0;31m---------------------------------------------------------------------------\u001b[0m",
      "\u001b[0;31mNameError\u001b[0m                                 Traceback (most recent call last)",
      "\u001b[0;32m<ipython-input-6-d674c2c57336>\u001b[0m in \u001b[0;36m<module>\u001b[0;34m\u001b[0m\n\u001b[1;32m      5\u001b[0m \u001b[0mcluster_silhouettes\u001b[0m \u001b[0;34m=\u001b[0m \u001b[0;34m[\u001b[0m\u001b[0;34m]\u001b[0m\u001b[0;34m\u001b[0m\u001b[0;34m\u001b[0m\u001b[0m\n\u001b[1;32m      6\u001b[0m \u001b[0;32mfor\u001b[0m \u001b[0mi\u001b[0m \u001b[0;32min\u001b[0m \u001b[0mrange\u001b[0m\u001b[0;34m(\u001b[0m\u001b[0;36m2\u001b[0m\u001b[0;34m,\u001b[0m\u001b[0;36m11\u001b[0m\u001b[0;34m)\u001b[0m\u001b[0;34m:\u001b[0m\u001b[0;34m\u001b[0m\u001b[0;34m\u001b[0m\u001b[0m\n\u001b[0;32m----> 7\u001b[0;31m     \u001b[0mkmeans\u001b[0m \u001b[0;34m=\u001b[0m \u001b[0mKMeans\u001b[0m\u001b[0;34m(\u001b[0m\u001b[0;34m)\u001b[0m\u001b[0;34m.\u001b[0m\u001b[0msetK\u001b[0m\u001b[0;34m(\u001b[0m\u001b[0mi\u001b[0m\u001b[0;34m)\u001b[0m\u001b[0;34m.\u001b[0m\u001b[0msetSeed\u001b[0m\u001b[0;34m(\u001b[0m\u001b[0;36m1\u001b[0m\u001b[0;34m)\u001b[0m\u001b[0;34m\u001b[0m\u001b[0;34m\u001b[0m\u001b[0m\n\u001b[0m\u001b[1;32m      8\u001b[0m     \u001b[0mtrain_w_kmeans\u001b[0m \u001b[0;34m=\u001b[0m \u001b[0mkmeans\u001b[0m\u001b[0;34m.\u001b[0m\u001b[0mfit\u001b[0m\u001b[0;34m(\u001b[0m\u001b[0mtrain_2\u001b[0m\u001b[0;34m.\u001b[0m\u001b[0mselect\u001b[0m\u001b[0;34m(\u001b[0m\u001b[0;34m\"features\"\u001b[0m\u001b[0;34m)\u001b[0m\u001b[0;34m)\u001b[0m\u001b[0;34m\u001b[0m\u001b[0;34m\u001b[0m\u001b[0m\n\u001b[1;32m      9\u001b[0m     \u001b[0mtrain_w_cluster\u001b[0m \u001b[0;34m=\u001b[0m \u001b[0mtrain_w_kmeans\u001b[0m\u001b[0;34m.\u001b[0m\u001b[0mtransform\u001b[0m\u001b[0;34m(\u001b[0m\u001b[0mtrain_2\u001b[0m\u001b[0;34m)\u001b[0m\u001b[0;34m\u001b[0m\u001b[0;34m\u001b[0m\u001b[0m\n",
      "\u001b[0;31mNameError\u001b[0m: name 'KMeans' is not defined"
     ]
    }
   ],
   "source": [
    "#avg silhouette is a measure of how closely the data matches its assigned cluster, and its closest neighboring cluster.\n",
    "    #values range from -1 to 1, where 1 is best, and -1 is worst.\n",
    "\n",
    "#cluster_silhouettes will hold the avg silhouette values for k = 2,3,...,10 clusters.\n",
    "cluster_silhouettes = []\n",
    "for i in range(2,11):\n",
    "    kmeans = KMeans().setK(i).setSeed(1)\n",
    "    train_w_kmeans = kmeans.fit(train_2.select(\"features\"))\n",
    "    train_w_cluster = train_w_kmeans.transform(train_2)\n",
    "    cluster_eval= ClusteringEvaluator(predictionCol=\"prediction\")\n",
    "    silhouette = cluster_eval.evaluate(train_w_cluster)\n",
    "    cluster_silhouettes.append((i, silhouette))"
   ]
  },
  {
   "cell_type": "code",
   "execution_count": 7,
   "metadata": {},
   "outputs": [
    {
     "data": {
      "text/plain": [
       "[]"
      ]
     },
     "execution_count": 7,
     "metadata": {},
     "output_type": "execute_result"
    }
   ],
   "source": [
    "cluster_silhouettes\n",
    "#this suggests that 2 is the ideal number of clusters, which matches our expectation."
   ]
  },
  {
   "cell_type": "code",
   "execution_count": 8,
   "metadata": {},
   "outputs": [
    {
     "ename": "NameError",
     "evalue": "name 'np' is not defined",
     "output_type": "error",
     "traceback": [
      "\u001b[0;31m---------------------------------------------------------------------------\u001b[0m",
      "\u001b[0;31mNameError\u001b[0m                                 Traceback (most recent call last)",
      "\u001b[0;32m<ipython-input-8-d6d33598ea3f>\u001b[0m in \u001b[0;36m<module>\u001b[0;34m\u001b[0m\n\u001b[1;32m      1\u001b[0m \u001b[0;31m# eval plot for kmeans\u001b[0m\u001b[0;34m\u001b[0m\u001b[0;34m\u001b[0m\u001b[0;34m\u001b[0m\u001b[0m\n\u001b[0;32m----> 2\u001b[0;31m \u001b[0mk\u001b[0m \u001b[0;34m=\u001b[0m \u001b[0mnp\u001b[0m\u001b[0;34m.\u001b[0m\u001b[0marange\u001b[0m\u001b[0;34m(\u001b[0m\u001b[0;36m2\u001b[0m\u001b[0;34m,\u001b[0m\u001b[0;36m11\u001b[0m\u001b[0;34m)\u001b[0m\u001b[0;34m\u001b[0m\u001b[0;34m\u001b[0m\u001b[0m\n\u001b[0m\u001b[1;32m      3\u001b[0m \u001b[0msilhouette\u001b[0m \u001b[0;34m=\u001b[0m \u001b[0;34m[\u001b[0m\u001b[0msil\u001b[0m\u001b[0;34m[\u001b[0m\u001b[0;36m1\u001b[0m\u001b[0;34m]\u001b[0m \u001b[0;32mfor\u001b[0m \u001b[0msil\u001b[0m \u001b[0;32min\u001b[0m \u001b[0mcluster_silhouettes\u001b[0m\u001b[0;34m]\u001b[0m\u001b[0;34m\u001b[0m\u001b[0;34m\u001b[0m\u001b[0m\n\u001b[1;32m      4\u001b[0m \u001b[0mplt\u001b[0m\u001b[0;34m.\u001b[0m\u001b[0mplot\u001b[0m\u001b[0;34m(\u001b[0m\u001b[0mk\u001b[0m\u001b[0;34m,\u001b[0m \u001b[0msilhouette\u001b[0m\u001b[0;34m,\u001b[0m \u001b[0;34m'ro-'\u001b[0m\u001b[0;34m,\u001b[0m \u001b[0mlinewidth\u001b[0m \u001b[0;34m=\u001b[0m \u001b[0;36m3\u001b[0m\u001b[0;34m)\u001b[0m\u001b[0;34m\u001b[0m\u001b[0;34m\u001b[0m\u001b[0m\n\u001b[1;32m      5\u001b[0m \u001b[0mplt\u001b[0m\u001b[0;34m.\u001b[0m\u001b[0mtitle\u001b[0m\u001b[0;34m(\u001b[0m\u001b[0;34m'K-Means Evaluation'\u001b[0m\u001b[0;34m)\u001b[0m\u001b[0;34m\u001b[0m\u001b[0;34m\u001b[0m\u001b[0m\n",
      "\u001b[0;31mNameError\u001b[0m: name 'np' is not defined"
     ]
    }
   ],
   "source": [
    "# eval plot for kmeans\n",
    "k = np.arange(2,11)\n",
    "silhouette = [sil[1] for sil in cluster_silhouettes]\n",
    "plt.plot(k, silhouette, 'ro-', linewidth = 3)\n",
    "plt.title('K-Means Evaluation')\n",
    "plt.xlabel(\"k\")\n",
    "plt.ylabel(\"Silhouette\")\n",
    "plt.show()"
   ]
  },
  {
   "cell_type": "code",
   "execution_count": 9,
   "metadata": {},
   "outputs": [
    {
     "ename": "NameError",
     "evalue": "name 'plt' is not defined",
     "output_type": "error",
     "traceback": [
      "\u001b[0;31m---------------------------------------------------------------------------\u001b[0m",
      "\u001b[0;31mNameError\u001b[0m                                 Traceback (most recent call last)",
      "\u001b[0;32m<ipython-input-9-f1e6a851ee8a>\u001b[0m in \u001b[0;36m<module>\u001b[0;34m\u001b[0m\n\u001b[1;32m      1\u001b[0m \u001b[0;31m#plot the pc data based on the cluster assignments (k = 2)\u001b[0m\u001b[0;34m\u001b[0m\u001b[0;34m\u001b[0m\u001b[0;34m\u001b[0m\u001b[0m\n\u001b[0;32m----> 2\u001b[0;31m \u001b[0mplt\u001b[0m\u001b[0;34m.\u001b[0m\u001b[0mscatter\u001b[0m\u001b[0;34m(\u001b[0m\u001b[0mtrain_pc1\u001b[0m\u001b[0;34m,\u001b[0m\u001b[0mtrain_pc2\u001b[0m\u001b[0;34m,\u001b[0m\u001b[0mc\u001b[0m\u001b[0;34m=\u001b[0m\u001b[0mtrain_2cluster2_label\u001b[0m\u001b[0;34m)\u001b[0m\u001b[0;34m\u001b[0m\u001b[0;34m\u001b[0m\u001b[0m\n\u001b[0m\u001b[1;32m      3\u001b[0m \u001b[0mplt\u001b[0m\u001b[0;34m.\u001b[0m\u001b[0mtitle\u001b[0m\u001b[0;34m(\u001b[0m\u001b[0;34m'K-Means (K=2)'\u001b[0m\u001b[0;34m)\u001b[0m\u001b[0;34m\u001b[0m\u001b[0;34m\u001b[0m\u001b[0m\n\u001b[1;32m      4\u001b[0m \u001b[0mplt\u001b[0m\u001b[0;34m.\u001b[0m\u001b[0mxlabel\u001b[0m\u001b[0;34m(\u001b[0m\u001b[0;34m\"Principal Component 1\"\u001b[0m\u001b[0;34m)\u001b[0m\u001b[0;34m\u001b[0m\u001b[0;34m\u001b[0m\u001b[0m\n\u001b[1;32m      5\u001b[0m \u001b[0mplt\u001b[0m\u001b[0;34m.\u001b[0m\u001b[0mylabel\u001b[0m\u001b[0;34m(\u001b[0m\u001b[0;34m\"Principal Component 2\"\u001b[0m\u001b[0;34m)\u001b[0m\u001b[0;34m\u001b[0m\u001b[0;34m\u001b[0m\u001b[0m\n",
      "\u001b[0;31mNameError\u001b[0m: name 'plt' is not defined"
     ]
    }
   ],
   "source": [
    "#plot the pc data based on the cluster assignments (k = 2)\n",
    "plt.scatter(train_pc1,train_pc2,c=train_2cluster2_label)\n",
    "plt.title('K-Means (K=2)')\n",
    "plt.xlabel(\"Principal Component 1\")\n",
    "plt.ylabel(\"Principal Component 2\")\n",
    "plt.show()"
   ]
  },
  {
   "cell_type": "code",
   "execution_count": 10,
   "metadata": {},
   "outputs": [
    {
     "ename": "NameError",
     "evalue": "name 'plt' is not defined",
     "output_type": "error",
     "traceback": [
      "\u001b[0;31m---------------------------------------------------------------------------\u001b[0m",
      "\u001b[0;31mNameError\u001b[0m                                 Traceback (most recent call last)",
      "\u001b[0;32m<ipython-input-10-79cbcd1b8cc6>\u001b[0m in \u001b[0;36m<module>\u001b[0;34m\u001b[0m\n\u001b[1;32m      1\u001b[0m \u001b[0;31m#plot the pc data based on the cluster assignments (k = 6)\u001b[0m\u001b[0;34m\u001b[0m\u001b[0;34m\u001b[0m\u001b[0;34m\u001b[0m\u001b[0m\n\u001b[0;32m----> 2\u001b[0;31m \u001b[0mplt\u001b[0m\u001b[0;34m.\u001b[0m\u001b[0mscatter\u001b[0m\u001b[0;34m(\u001b[0m\u001b[0mtrain_pc1\u001b[0m\u001b[0;34m,\u001b[0m\u001b[0mtrain_pc2\u001b[0m\u001b[0;34m,\u001b[0m\u001b[0mc\u001b[0m\u001b[0;34m=\u001b[0m\u001b[0mtrain_2cluster6_label\u001b[0m\u001b[0;34m)\u001b[0m\u001b[0;34m\u001b[0m\u001b[0;34m\u001b[0m\u001b[0m\n\u001b[0m\u001b[1;32m      3\u001b[0m \u001b[0mplt\u001b[0m\u001b[0;34m.\u001b[0m\u001b[0mtitle\u001b[0m\u001b[0;34m(\u001b[0m\u001b[0;34m'K-Means (K=6)'\u001b[0m\u001b[0;34m)\u001b[0m\u001b[0;34m\u001b[0m\u001b[0;34m\u001b[0m\u001b[0m\n\u001b[1;32m      4\u001b[0m \u001b[0mplt\u001b[0m\u001b[0;34m.\u001b[0m\u001b[0mxlabel\u001b[0m\u001b[0;34m(\u001b[0m\u001b[0;34m\"Principal Component 1\"\u001b[0m\u001b[0;34m)\u001b[0m\u001b[0;34m\u001b[0m\u001b[0;34m\u001b[0m\u001b[0m\n\u001b[1;32m      5\u001b[0m \u001b[0mplt\u001b[0m\u001b[0;34m.\u001b[0m\u001b[0mylabel\u001b[0m\u001b[0;34m(\u001b[0m\u001b[0;34m\"Principal Component 2\"\u001b[0m\u001b[0;34m)\u001b[0m\u001b[0;34m\u001b[0m\u001b[0;34m\u001b[0m\u001b[0m\n",
      "\u001b[0;31mNameError\u001b[0m: name 'plt' is not defined"
     ]
    }
   ],
   "source": [
    "#plot the pc data based on the cluster assignments (k = 6)\n",
    "plt.scatter(train_pc1,train_pc2,c=train_2cluster6_label)\n",
    "plt.title('K-Means (K=6)')\n",
    "plt.xlabel(\"Principal Component 1\")\n",
    "plt.ylabel(\"Principal Component 2\")\n",
    "plt.show()"
   ]
  },
  {
   "cell_type": "code",
   "execution_count": 11,
   "metadata": {},
   "outputs": [
    {
     "ename": "NameError",
     "evalue": "name 'pca_train_2' is not defined",
     "output_type": "error",
     "traceback": [
      "\u001b[0;31m---------------------------------------------------------------------------\u001b[0m",
      "\u001b[0;31mNameError\u001b[0m                                 Traceback (most recent call last)",
      "\u001b[0;32m<ipython-input-11-d37674b5f8b5>\u001b[0m in \u001b[0;36m<module>\u001b[0;34m\u001b[0m\n\u001b[1;32m      3\u001b[0m \u001b[0mcdict\u001b[0m \u001b[0;34m=\u001b[0m \u001b[0;34m{\u001b[0m\u001b[0;36m1\u001b[0m\u001b[0;34m:\u001b[0m \u001b[0;34m'red'\u001b[0m\u001b[0;34m,\u001b[0m \u001b[0;36m2\u001b[0m\u001b[0;34m:\u001b[0m \u001b[0;34m'green'\u001b[0m\u001b[0;34m,\u001b[0m \u001b[0;36m3\u001b[0m\u001b[0;34m:\u001b[0m \u001b[0;34m'blue'\u001b[0m\u001b[0;34m,\u001b[0m \u001b[0;36m4\u001b[0m\u001b[0;34m:\u001b[0m \u001b[0;34m'lawngreen'\u001b[0m\u001b[0;34m,\u001b[0m \u001b[0;36m5\u001b[0m\u001b[0;34m:\u001b[0m \u001b[0;34m'purple'\u001b[0m\u001b[0;34m,\u001b[0m \u001b[0;36m6\u001b[0m\u001b[0;34m:\u001b[0m \u001b[0;34m'orange'\u001b[0m\u001b[0;34m}\u001b[0m\u001b[0;34m\u001b[0m\u001b[0;34m\u001b[0m\u001b[0m\n\u001b[1;32m      4\u001b[0m \u001b[0mlabeldict\u001b[0m \u001b[0;34m=\u001b[0m \u001b[0;34m{\u001b[0m\u001b[0;36m1\u001b[0m\u001b[0;34m:\u001b[0m \u001b[0;34m'laying'\u001b[0m\u001b[0;34m,\u001b[0m \u001b[0;36m2\u001b[0m\u001b[0;34m:\u001b[0m \u001b[0;34m'standing'\u001b[0m\u001b[0;34m,\u001b[0m \u001b[0;36m3\u001b[0m\u001b[0;34m:\u001b[0m \u001b[0;34m'sitting'\u001b[0m\u001b[0;34m,\u001b[0m \u001b[0;36m4\u001b[0m\u001b[0;34m:\u001b[0m \u001b[0;34m'walking'\u001b[0m\u001b[0;34m,\u001b[0m \u001b[0;36m5\u001b[0m\u001b[0;34m:\u001b[0m \u001b[0;34m'walking downstairs'\u001b[0m\u001b[0;34m,\u001b[0m \u001b[0;36m6\u001b[0m\u001b[0;34m:\u001b[0m \u001b[0;34m'walking upstairs'\u001b[0m\u001b[0;34m}\u001b[0m\u001b[0;34m\u001b[0m\u001b[0;34m\u001b[0m\u001b[0m\n\u001b[0;32m----> 5\u001b[0;31m \u001b[0mtrain_2_labels\u001b[0m \u001b[0;34m=\u001b[0m \u001b[0mpca_train_2\u001b[0m\u001b[0;34m.\u001b[0m\u001b[0mtransform\u001b[0m\u001b[0;34m(\u001b[0m\u001b[0mtrain_vectorized\u001b[0m\u001b[0;34m)\u001b[0m\u001b[0;34m.\u001b[0m\u001b[0mselect\u001b[0m\u001b[0;34m(\u001b[0m\u001b[0;34m\"position\"\u001b[0m\u001b[0;34m)\u001b[0m\u001b[0;34m.\u001b[0m\u001b[0mrdd\u001b[0m\u001b[0;34m.\u001b[0m\u001b[0mmap\u001b[0m\u001b[0;34m(\u001b[0m\u001b[0;32mlambda\u001b[0m \u001b[0mx\u001b[0m \u001b[0;34m:\u001b[0m \u001b[0mx\u001b[0m\u001b[0;34m[\u001b[0m\u001b[0;36m0\u001b[0m\u001b[0;34m]\u001b[0m\u001b[0;34m)\u001b[0m\u001b[0;34m.\u001b[0m\u001b[0mcollect\u001b[0m\u001b[0;34m(\u001b[0m\u001b[0;34m)\u001b[0m\u001b[0;34m\u001b[0m\u001b[0;34m\u001b[0m\u001b[0m\n\u001b[0m\u001b[1;32m      6\u001b[0m \u001b[0;34m\u001b[0m\u001b[0m\n\u001b[1;32m      7\u001b[0m \u001b[0mfig\u001b[0m\u001b[0;34m,\u001b[0m \u001b[0max\u001b[0m \u001b[0;34m=\u001b[0m \u001b[0mplt\u001b[0m\u001b[0;34m.\u001b[0m\u001b[0msubplots\u001b[0m\u001b[0;34m(\u001b[0m\u001b[0;34m)\u001b[0m\u001b[0;34m\u001b[0m\u001b[0;34m\u001b[0m\u001b[0m\n",
      "\u001b[0;31mNameError\u001b[0m: name 'pca_train_2' is not defined"
     ]
    }
   ],
   "source": [
    "#plot the pc data based on true labels\n",
    "\n",
    "cdict = {1: 'red', 2: 'green', 3: 'blue', 4: 'lawngreen', 5: 'purple', 6: 'orange'}\n",
    "labeldict = {1: 'laying', 2: 'standing', 3: 'sitting', 4: 'walking', 5: 'walking downstairs', 6: 'walking upstairs'}\n",
    "train_2_labels = pca_train_2.transform(train_vectorized).select(\"position\").rdd.map(lambda x : x[0]).collect()\n",
    "\n",
    "fig, ax = plt.subplots()\n",
    "for g in np.unique(train_2_labels):\n",
    "    ix = np.where(train_2_labels == g) \n",
    "    ax.scatter(train_pc1[ix], train_pc2[ix], c = cdict[g], label = labeldict[g], s = 20, alpha = 0.5)\n",
    "ax.legend()\n",
    "plt.title(\"True Labels\")\n",
    "plt.xlabel(\"Principal Component 1\")\n",
    "plt.ylabel(\"Principal Component 2\")\n",
    "plt.show()"
   ]
  },
  {
   "cell_type": "code",
   "execution_count": 12,
   "metadata": {},
   "outputs": [],
   "source": [
    "#this function can be used to evaluate our models: it will return the misclassification error by class\n",
    "def confusion_matrix(df):\n",
    "    misclass = []\n",
    "    for i in range(1,7):\n",
    "        truth = df.select(\"position\").filter(\"position == %g\" %i).count()\n",
    "        true_pos = df.select(\"position\", \"prediction\").filter(\"position == %g\" %i).filter(\"prediction == %g\" %i).count()\n",
    "        misclass.append((labeldict[i],1.0 - true_pos/truth))\n",
    "    \n",
    "    return misclass"
   ]
  },
  {
   "cell_type": "markdown",
   "metadata": {},
   "source": [
    "# Random Forest (on whole training set)"
   ]
  },
  {
   "cell_type": "code",
   "execution_count": 13,
   "metadata": {},
   "outputs": [
    {
     "ename": "NameError",
     "evalue": "name 'RandomForestClassifier' is not defined",
     "output_type": "error",
     "traceback": [
      "\u001b[0;31m---------------------------------------------------------------------------\u001b[0m",
      "\u001b[0;31mNameError\u001b[0m                                 Traceback (most recent call last)",
      "\u001b[0;32m<ipython-input-13-f3e7bef68b43>\u001b[0m in \u001b[0;36m<module>\u001b[0;34m\u001b[0m\n\u001b[1;32m      1\u001b[0m \u001b[0;31m#random forest parameters\u001b[0m\u001b[0;34m\u001b[0m\u001b[0;34m\u001b[0m\u001b[0;34m\u001b[0m\u001b[0m\n\u001b[0;32m----> 2\u001b[0;31m \u001b[0mrfSetup_full\u001b[0m \u001b[0;34m=\u001b[0m \u001b[0mRandomForestClassifier\u001b[0m\u001b[0;34m(\u001b[0m\u001b[0mlabelCol\u001b[0m\u001b[0;34m=\u001b[0m\u001b[0;34m\"position\"\u001b[0m\u001b[0;34m,\u001b[0m \u001b[0mfeaturesCol\u001b[0m\u001b[0;34m=\u001b[0m\u001b[0;34m\"scaledFeatures\"\u001b[0m\u001b[0;34m,\u001b[0m \u001b[0mnumTrees\u001b[0m\u001b[0;34m=\u001b[0m\u001b[0;36m500\u001b[0m\u001b[0;34m,\u001b[0m\u001b[0mseed\u001b[0m \u001b[0;34m=\u001b[0m \u001b[0;36m1\u001b[0m\u001b[0;34m)\u001b[0m\u001b[0;34m\u001b[0m\u001b[0;34m\u001b[0m\u001b[0m\n\u001b[0m",
      "\u001b[0;31mNameError\u001b[0m: name 'RandomForestClassifier' is not defined"
     ]
    }
   ],
   "source": [
    "#random forest parameters\n",
    "rfSetup_full = RandomForestClassifier(labelCol=\"position\", featuresCol=\"scaledFeatures\", numTrees=500,seed = 1)\n"
   ]
  },
  {
   "cell_type": "code",
   "execution_count": null,
   "metadata": {},
   "outputs": [],
   "source": [
    "#fit the model on the full training set\n",
    "rfModel_full = rfSetup_full.fit(train_vectorized) "
   ]
  },
  {
   "cell_type": "code",
   "execution_count": null,
   "metadata": {},
   "outputs": [],
   "source": [
    "#run the model on the full training set\n",
    "train_full_pred_rf = rfModel_full.transform(train_vectorized)"
   ]
  },
  {
   "cell_type": "code",
   "execution_count": null,
   "metadata": {},
   "outputs": [],
   "source": [
    "#create evaluator for the rf models\n",
    "evaluator_rf = MulticlassClassificationEvaluator(\n",
    "    labelCol=\"position\", predictionCol=\"prediction\", metricName=\"accuracy\")\n"
   ]
  },
  {
   "cell_type": "code",
   "execution_count": null,
   "metadata": {},
   "outputs": [],
   "source": [
    "#compute training error\n",
    "train_full_accuracy_rf = evaluator_rf.evaluate(train_full_pred_rf)\n",
    "print(\"Training Error = %g\" % (1.0 - train_full_accuracy_rf))"
   ]
  },
  {
   "cell_type": "code",
   "execution_count": null,
   "metadata": {},
   "outputs": [],
   "source": [
    "#run the model on the full test set and compute test error\n",
    "test_full_pred_rf = rfModel_full.transform(test_vectorized)\n",
    "test_accuracy_rf = evaluator_rf.evaluate(test_full_pred_rf)\n",
    "print(\"Test Error = %g\" % (1.0 - test_accuracy_rf))"
   ]
  },
  {
   "cell_type": "code",
   "execution_count": null,
   "metadata": {},
   "outputs": [],
   "source": [
    "#pulling out feature importance from the model, which is the average across trees in the forest\n",
    "    #normalizes the features to sum to 1\n",
    "    # note that if all features were equally powerful predictors\n",
    "        #each would have a feature importance of 0.00229885, since this model has 435 predictors\n",
    "feature_importance = rfModel_full.featureImportances"
   ]
  },
  {
   "cell_type": "code",
   "execution_count": null,
   "metadata": {},
   "outputs": [],
   "source": [
    "#changing the indices from numbers to be the name of the header\n",
    "feature_importance.indices = feature_header"
   ]
  },
  {
   "cell_type": "code",
   "execution_count": null,
   "metadata": {},
   "outputs": [],
   "source": [
    "#turns the sparse vector dictionary form to a tuple, with (index, importance)\n",
    "feature_importance = list(zip(feature_importance.indices, feature_importance.values))"
   ]
  },
  {
   "cell_type": "code",
   "execution_count": null,
   "metadata": {},
   "outputs": [],
   "source": [
    "#sort the values so the highest shows up first\n",
    "importance_values = sorted(feature_importance, key = lambda tup: tup[1], reverse=True)"
   ]
  },
  {
   "cell_type": "code",
   "execution_count": null,
   "metadata": {},
   "outputs": [],
   "source": [
    "#this gives the 50 most important variables according to our random forest model.\n",
    "importance_values[0:50]"
   ]
  },
  {
   "cell_type": "markdown",
   "metadata": {},
   "source": [
    "# Random Forest (on 10 pc)"
   ]
  },
  {
   "cell_type": "code",
   "execution_count": 53,
   "metadata": {},
   "outputs": [],
   "source": [
    "# training a model on the training set\n",
    "rfSetup_pca = RandomForestClassifier(labelCol=\"position\", featuresCol=\"pcaFeatures\", numTrees=1000, seed = 1)\n",
    "rfModel_10pc = rfSetup_pca.fit(train_10)"
   ]
  },
  {
   "cell_type": "code",
   "execution_count": 54,
   "metadata": {},
   "outputs": [],
   "source": [
    "#run model on training set\n",
    "train_10pc_pred_rf = rfModel_10pc.transform(train_10)"
   ]
  },
  {
   "cell_type": "code",
   "execution_count": 55,
   "metadata": {},
   "outputs": [
    {
     "name": "stdout",
     "output_type": "stream",
     "text": [
      "Training Error with 10 pc = 0.178232\n"
     ]
    }
   ],
   "source": [
    "#evaluate training model\n",
    "train_10pc_accuracy_rf = evaluator_rf.evaluate(train_10pc_pred_rf)\n",
    "print(\"Training Error with 10 pc = %g\" % (1.0 - train_10pc_accuracy_rf))"
   ]
  },
  {
   "cell_type": "code",
   "execution_count": 56,
   "metadata": {},
   "outputs": [],
   "source": [
    "# Create a pipeline to go through all of these steps!\n",
    "\n",
    "\n",
    "rf_pipeline_pca = Pipeline(stages=[assembler, scaler, pca_10, rfSetup_pca])"
   ]
  },
  {
   "cell_type": "code",
   "execution_count": 57,
   "metadata": {},
   "outputs": [
    {
     "name": "stderr",
     "output_type": "stream",
     "text": [
      "----------------------------------------\n",
      "Exception happened during processing of request from ('127.0.0.1', 58746)\n",
      "ERROR:root:Exception while sending command.\n",
      "Traceback (most recent call last):\n",
      "  File \"/usr/local/spark/python/lib/py4j-0.10.7-src.zip/py4j/java_gateway.py\", line 1159, in send_command\n",
      "    raise Py4JNetworkError(\"Answer from Java side is empty\")\n",
      "py4j.protocol.Py4JNetworkError: Answer from Java side is empty\n",
      "\n",
      "During handling of the above exception, another exception occurred:\n",
      "\n",
      "Traceback (most recent call last):\n",
      "  File \"/usr/local/spark/python/lib/py4j-0.10.7-src.zip/py4j/java_gateway.py\", line 985, in send_command\n",
      "    response = connection.send_command(command)\n",
      "  File \"/usr/local/spark/python/lib/py4j-0.10.7-src.zip/py4j/java_gateway.py\", line 1164, in send_command\n",
      "    \"Error while receiving\", e, proto.ERROR_ON_RECEIVE)\n",
      "py4j.protocol.Py4JNetworkError: Error while receiving\n",
      "Traceback (most recent call last):\n",
      "  File \"/opt/conda/lib/python3.6/socketserver.py\", line 320, in _handle_request_noblock\n",
      "    self.process_request(request, client_address)\n",
      "  File \"/opt/conda/lib/python3.6/socketserver.py\", line 351, in process_request\n",
      "    self.finish_request(request, client_address)\n",
      "  File \"/opt/conda/lib/python3.6/socketserver.py\", line 364, in finish_request\n",
      "    self.RequestHandlerClass(request, client_address, self)\n",
      "  File \"/opt/conda/lib/python3.6/socketserver.py\", line 724, in __init__\n",
      "    self.handle()\n",
      "  File \"/usr/local/spark/python/pyspark/accumulators.py\", line 268, in handle\n",
      "    poll(accum_updates)\n",
      "  File \"/usr/local/spark/python/pyspark/accumulators.py\", line 241, in poll\n",
      "    if func():\n",
      "  File \"/usr/local/spark/python/pyspark/accumulators.py\", line 245, in accum_updates\n",
      "    num_updates = read_int(self.rfile)\n",
      "  File \"/usr/local/spark/python/pyspark/serializers.py\", line 714, in read_int\n",
      "    raise EOFError\n",
      "EOFError\n",
      "----------------------------------------\n"
     ]
    },
    {
     "ename": "Py4JError",
     "evalue": "An error occurred while calling o25339.fit",
     "output_type": "error",
     "traceback": [
      "\u001b[0;31m---------------------------------------------------------------------------\u001b[0m",
      "\u001b[0;31mPy4JError\u001b[0m                                 Traceback (most recent call last)",
      "\u001b[0;32m<ipython-input-57-62ef7f097aff>\u001b[0m in \u001b[0;36m<module>\u001b[0;34m\u001b[0m\n\u001b[0;32m----> 1\u001b[0;31m \u001b[0mrf_model_pca\u001b[0m \u001b[0;34m=\u001b[0m \u001b[0mrf_pipeline_pca\u001b[0m\u001b[0;34m.\u001b[0m\u001b[0mfit\u001b[0m\u001b[0;34m(\u001b[0m\u001b[0mtrain_data\u001b[0m\u001b[0;34m)\u001b[0m\u001b[0;34m\u001b[0m\u001b[0;34m\u001b[0m\u001b[0m\n\u001b[0m",
      "\u001b[0;32m/usr/local/spark/python/pyspark/ml/base.py\u001b[0m in \u001b[0;36mfit\u001b[0;34m(self, dataset, params)\u001b[0m\n\u001b[1;32m    130\u001b[0m                 \u001b[0;32mreturn\u001b[0m \u001b[0mself\u001b[0m\u001b[0;34m.\u001b[0m\u001b[0mcopy\u001b[0m\u001b[0;34m(\u001b[0m\u001b[0mparams\u001b[0m\u001b[0;34m)\u001b[0m\u001b[0;34m.\u001b[0m\u001b[0m_fit\u001b[0m\u001b[0;34m(\u001b[0m\u001b[0mdataset\u001b[0m\u001b[0;34m)\u001b[0m\u001b[0;34m\u001b[0m\u001b[0;34m\u001b[0m\u001b[0m\n\u001b[1;32m    131\u001b[0m             \u001b[0;32melse\u001b[0m\u001b[0;34m:\u001b[0m\u001b[0;34m\u001b[0m\u001b[0;34m\u001b[0m\u001b[0m\n\u001b[0;32m--> 132\u001b[0;31m                 \u001b[0;32mreturn\u001b[0m \u001b[0mself\u001b[0m\u001b[0;34m.\u001b[0m\u001b[0m_fit\u001b[0m\u001b[0;34m(\u001b[0m\u001b[0mdataset\u001b[0m\u001b[0;34m)\u001b[0m\u001b[0;34m\u001b[0m\u001b[0;34m\u001b[0m\u001b[0m\n\u001b[0m\u001b[1;32m    133\u001b[0m         \u001b[0;32melse\u001b[0m\u001b[0;34m:\u001b[0m\u001b[0;34m\u001b[0m\u001b[0;34m\u001b[0m\u001b[0m\n\u001b[1;32m    134\u001b[0m             raise ValueError(\"Params must be either a param map or a list/tuple of param maps, \"\n",
      "\u001b[0;32m/usr/local/spark/python/pyspark/ml/pipeline.py\u001b[0m in \u001b[0;36m_fit\u001b[0;34m(self, dataset)\u001b[0m\n\u001b[1;32m    107\u001b[0m                     \u001b[0mdataset\u001b[0m \u001b[0;34m=\u001b[0m \u001b[0mstage\u001b[0m\u001b[0;34m.\u001b[0m\u001b[0mtransform\u001b[0m\u001b[0;34m(\u001b[0m\u001b[0mdataset\u001b[0m\u001b[0;34m)\u001b[0m\u001b[0;34m\u001b[0m\u001b[0;34m\u001b[0m\u001b[0m\n\u001b[1;32m    108\u001b[0m                 \u001b[0;32melse\u001b[0m\u001b[0;34m:\u001b[0m  \u001b[0;31m# must be an Estimator\u001b[0m\u001b[0;34m\u001b[0m\u001b[0;34m\u001b[0m\u001b[0m\n\u001b[0;32m--> 109\u001b[0;31m                     \u001b[0mmodel\u001b[0m \u001b[0;34m=\u001b[0m \u001b[0mstage\u001b[0m\u001b[0;34m.\u001b[0m\u001b[0mfit\u001b[0m\u001b[0;34m(\u001b[0m\u001b[0mdataset\u001b[0m\u001b[0;34m)\u001b[0m\u001b[0;34m\u001b[0m\u001b[0;34m\u001b[0m\u001b[0m\n\u001b[0m\u001b[1;32m    110\u001b[0m                     \u001b[0mtransformers\u001b[0m\u001b[0;34m.\u001b[0m\u001b[0mappend\u001b[0m\u001b[0;34m(\u001b[0m\u001b[0mmodel\u001b[0m\u001b[0;34m)\u001b[0m\u001b[0;34m\u001b[0m\u001b[0;34m\u001b[0m\u001b[0m\n\u001b[1;32m    111\u001b[0m                     \u001b[0;32mif\u001b[0m \u001b[0mi\u001b[0m \u001b[0;34m<\u001b[0m \u001b[0mindexOfLastEstimator\u001b[0m\u001b[0;34m:\u001b[0m\u001b[0;34m\u001b[0m\u001b[0;34m\u001b[0m\u001b[0m\n",
      "\u001b[0;32m/usr/local/spark/python/pyspark/ml/base.py\u001b[0m in \u001b[0;36mfit\u001b[0;34m(self, dataset, params)\u001b[0m\n\u001b[1;32m    130\u001b[0m                 \u001b[0;32mreturn\u001b[0m \u001b[0mself\u001b[0m\u001b[0;34m.\u001b[0m\u001b[0mcopy\u001b[0m\u001b[0;34m(\u001b[0m\u001b[0mparams\u001b[0m\u001b[0;34m)\u001b[0m\u001b[0;34m.\u001b[0m\u001b[0m_fit\u001b[0m\u001b[0;34m(\u001b[0m\u001b[0mdataset\u001b[0m\u001b[0;34m)\u001b[0m\u001b[0;34m\u001b[0m\u001b[0;34m\u001b[0m\u001b[0m\n\u001b[1;32m    131\u001b[0m             \u001b[0;32melse\u001b[0m\u001b[0;34m:\u001b[0m\u001b[0;34m\u001b[0m\u001b[0;34m\u001b[0m\u001b[0m\n\u001b[0;32m--> 132\u001b[0;31m                 \u001b[0;32mreturn\u001b[0m \u001b[0mself\u001b[0m\u001b[0;34m.\u001b[0m\u001b[0m_fit\u001b[0m\u001b[0;34m(\u001b[0m\u001b[0mdataset\u001b[0m\u001b[0;34m)\u001b[0m\u001b[0;34m\u001b[0m\u001b[0;34m\u001b[0m\u001b[0m\n\u001b[0m\u001b[1;32m    133\u001b[0m         \u001b[0;32melse\u001b[0m\u001b[0;34m:\u001b[0m\u001b[0;34m\u001b[0m\u001b[0;34m\u001b[0m\u001b[0m\n\u001b[1;32m    134\u001b[0m             raise ValueError(\"Params must be either a param map or a list/tuple of param maps, \"\n",
      "\u001b[0;32m/usr/local/spark/python/pyspark/ml/wrapper.py\u001b[0m in \u001b[0;36m_fit\u001b[0;34m(self, dataset)\u001b[0m\n\u001b[1;32m    293\u001b[0m \u001b[0;34m\u001b[0m\u001b[0m\n\u001b[1;32m    294\u001b[0m     \u001b[0;32mdef\u001b[0m \u001b[0m_fit\u001b[0m\u001b[0;34m(\u001b[0m\u001b[0mself\u001b[0m\u001b[0;34m,\u001b[0m \u001b[0mdataset\u001b[0m\u001b[0;34m)\u001b[0m\u001b[0;34m:\u001b[0m\u001b[0;34m\u001b[0m\u001b[0;34m\u001b[0m\u001b[0m\n\u001b[0;32m--> 295\u001b[0;31m         \u001b[0mjava_model\u001b[0m \u001b[0;34m=\u001b[0m \u001b[0mself\u001b[0m\u001b[0;34m.\u001b[0m\u001b[0m_fit_java\u001b[0m\u001b[0;34m(\u001b[0m\u001b[0mdataset\u001b[0m\u001b[0;34m)\u001b[0m\u001b[0;34m\u001b[0m\u001b[0;34m\u001b[0m\u001b[0m\n\u001b[0m\u001b[1;32m    296\u001b[0m         \u001b[0mmodel\u001b[0m \u001b[0;34m=\u001b[0m \u001b[0mself\u001b[0m\u001b[0;34m.\u001b[0m\u001b[0m_create_model\u001b[0m\u001b[0;34m(\u001b[0m\u001b[0mjava_model\u001b[0m\u001b[0;34m)\u001b[0m\u001b[0;34m\u001b[0m\u001b[0;34m\u001b[0m\u001b[0m\n\u001b[1;32m    297\u001b[0m         \u001b[0;32mreturn\u001b[0m \u001b[0mself\u001b[0m\u001b[0;34m.\u001b[0m\u001b[0m_copyValues\u001b[0m\u001b[0;34m(\u001b[0m\u001b[0mmodel\u001b[0m\u001b[0;34m)\u001b[0m\u001b[0;34m\u001b[0m\u001b[0;34m\u001b[0m\u001b[0m\n",
      "\u001b[0;32m/usr/local/spark/python/pyspark/ml/wrapper.py\u001b[0m in \u001b[0;36m_fit_java\u001b[0;34m(self, dataset)\u001b[0m\n\u001b[1;32m    290\u001b[0m         \"\"\"\n\u001b[1;32m    291\u001b[0m         \u001b[0mself\u001b[0m\u001b[0;34m.\u001b[0m\u001b[0m_transfer_params_to_java\u001b[0m\u001b[0;34m(\u001b[0m\u001b[0;34m)\u001b[0m\u001b[0;34m\u001b[0m\u001b[0;34m\u001b[0m\u001b[0m\n\u001b[0;32m--> 292\u001b[0;31m         \u001b[0;32mreturn\u001b[0m \u001b[0mself\u001b[0m\u001b[0;34m.\u001b[0m\u001b[0m_java_obj\u001b[0m\u001b[0;34m.\u001b[0m\u001b[0mfit\u001b[0m\u001b[0;34m(\u001b[0m\u001b[0mdataset\u001b[0m\u001b[0;34m.\u001b[0m\u001b[0m_jdf\u001b[0m\u001b[0;34m)\u001b[0m\u001b[0;34m\u001b[0m\u001b[0;34m\u001b[0m\u001b[0m\n\u001b[0m\u001b[1;32m    293\u001b[0m \u001b[0;34m\u001b[0m\u001b[0m\n\u001b[1;32m    294\u001b[0m     \u001b[0;32mdef\u001b[0m \u001b[0m_fit\u001b[0m\u001b[0;34m(\u001b[0m\u001b[0mself\u001b[0m\u001b[0;34m,\u001b[0m \u001b[0mdataset\u001b[0m\u001b[0;34m)\u001b[0m\u001b[0;34m:\u001b[0m\u001b[0;34m\u001b[0m\u001b[0;34m\u001b[0m\u001b[0m\n",
      "\u001b[0;32m/usr/local/spark/python/lib/py4j-0.10.7-src.zip/py4j/java_gateway.py\u001b[0m in \u001b[0;36m__call__\u001b[0;34m(self, *args)\u001b[0m\n\u001b[1;32m   1255\u001b[0m         \u001b[0manswer\u001b[0m \u001b[0;34m=\u001b[0m \u001b[0mself\u001b[0m\u001b[0;34m.\u001b[0m\u001b[0mgateway_client\u001b[0m\u001b[0;34m.\u001b[0m\u001b[0msend_command\u001b[0m\u001b[0;34m(\u001b[0m\u001b[0mcommand\u001b[0m\u001b[0;34m)\u001b[0m\u001b[0;34m\u001b[0m\u001b[0;34m\u001b[0m\u001b[0m\n\u001b[1;32m   1256\u001b[0m         return_value = get_return_value(\n\u001b[0;32m-> 1257\u001b[0;31m             answer, self.gateway_client, self.target_id, self.name)\n\u001b[0m\u001b[1;32m   1258\u001b[0m \u001b[0;34m\u001b[0m\u001b[0m\n\u001b[1;32m   1259\u001b[0m         \u001b[0;32mfor\u001b[0m \u001b[0mtemp_arg\u001b[0m \u001b[0;32min\u001b[0m \u001b[0mtemp_args\u001b[0m\u001b[0;34m:\u001b[0m\u001b[0;34m\u001b[0m\u001b[0;34m\u001b[0m\u001b[0m\n",
      "\u001b[0;32m/usr/local/spark/python/pyspark/sql/utils.py\u001b[0m in \u001b[0;36mdeco\u001b[0;34m(*a, **kw)\u001b[0m\n\u001b[1;32m     61\u001b[0m     \u001b[0;32mdef\u001b[0m \u001b[0mdeco\u001b[0m\u001b[0;34m(\u001b[0m\u001b[0;34m*\u001b[0m\u001b[0ma\u001b[0m\u001b[0;34m,\u001b[0m \u001b[0;34m**\u001b[0m\u001b[0mkw\u001b[0m\u001b[0;34m)\u001b[0m\u001b[0;34m:\u001b[0m\u001b[0;34m\u001b[0m\u001b[0;34m\u001b[0m\u001b[0m\n\u001b[1;32m     62\u001b[0m         \u001b[0;32mtry\u001b[0m\u001b[0;34m:\u001b[0m\u001b[0;34m\u001b[0m\u001b[0;34m\u001b[0m\u001b[0m\n\u001b[0;32m---> 63\u001b[0;31m             \u001b[0;32mreturn\u001b[0m \u001b[0mf\u001b[0m\u001b[0;34m(\u001b[0m\u001b[0;34m*\u001b[0m\u001b[0ma\u001b[0m\u001b[0;34m,\u001b[0m \u001b[0;34m**\u001b[0m\u001b[0mkw\u001b[0m\u001b[0;34m)\u001b[0m\u001b[0;34m\u001b[0m\u001b[0;34m\u001b[0m\u001b[0m\n\u001b[0m\u001b[1;32m     64\u001b[0m         \u001b[0;32mexcept\u001b[0m \u001b[0mpy4j\u001b[0m\u001b[0;34m.\u001b[0m\u001b[0mprotocol\u001b[0m\u001b[0;34m.\u001b[0m\u001b[0mPy4JJavaError\u001b[0m \u001b[0;32mas\u001b[0m \u001b[0me\u001b[0m\u001b[0;34m:\u001b[0m\u001b[0;34m\u001b[0m\u001b[0;34m\u001b[0m\u001b[0m\n\u001b[1;32m     65\u001b[0m             \u001b[0ms\u001b[0m \u001b[0;34m=\u001b[0m \u001b[0me\u001b[0m\u001b[0;34m.\u001b[0m\u001b[0mjava_exception\u001b[0m\u001b[0;34m.\u001b[0m\u001b[0mtoString\u001b[0m\u001b[0;34m(\u001b[0m\u001b[0;34m)\u001b[0m\u001b[0;34m\u001b[0m\u001b[0;34m\u001b[0m\u001b[0m\n",
      "\u001b[0;32m/usr/local/spark/python/lib/py4j-0.10.7-src.zip/py4j/protocol.py\u001b[0m in \u001b[0;36mget_return_value\u001b[0;34m(answer, gateway_client, target_id, name)\u001b[0m\n\u001b[1;32m    334\u001b[0m             raise Py4JError(\n\u001b[1;32m    335\u001b[0m                 \u001b[0;34m\"An error occurred while calling {0}{1}{2}\"\u001b[0m\u001b[0;34m.\u001b[0m\u001b[0;34m\u001b[0m\u001b[0;34m\u001b[0m\u001b[0m\n\u001b[0;32m--> 336\u001b[0;31m                 format(target_id, \".\", name))\n\u001b[0m\u001b[1;32m    337\u001b[0m     \u001b[0;32melse\u001b[0m\u001b[0;34m:\u001b[0m\u001b[0;34m\u001b[0m\u001b[0;34m\u001b[0m\u001b[0m\n\u001b[1;32m    338\u001b[0m         \u001b[0mtype\u001b[0m \u001b[0;34m=\u001b[0m \u001b[0manswer\u001b[0m\u001b[0;34m[\u001b[0m\u001b[0;36m1\u001b[0m\u001b[0;34m]\u001b[0m\u001b[0;34m\u001b[0m\u001b[0;34m\u001b[0m\u001b[0m\n",
      "\u001b[0;31mPy4JError\u001b[0m: An error occurred while calling o25339.fit"
     ]
    },
    {
     "name": "stderr",
     "output_type": "stream",
     "text": [
      "ERROR:root:Exception while sending command.\n",
      "Traceback (most recent call last):\n",
      "  File \"/usr/local/spark/python/lib/py4j-0.10.7-src.zip/py4j/java_gateway.py\", line 1159, in send_command\n",
      "    raise Py4JNetworkError(\"Answer from Java side is empty\")\n",
      "py4j.protocol.Py4JNetworkError: Answer from Java side is empty\n",
      "\n",
      "During handling of the above exception, another exception occurred:\n",
      "\n",
      "Traceback (most recent call last):\n",
      "  File \"/usr/local/spark/python/lib/py4j-0.10.7-src.zip/py4j/java_gateway.py\", line 985, in send_command\n",
      "    response = connection.send_command(command)\n",
      "  File \"/usr/local/spark/python/lib/py4j-0.10.7-src.zip/py4j/java_gateway.py\", line 1164, in send_command\n",
      "    \"Error while receiving\", e, proto.ERROR_ON_RECEIVE)\n",
      "py4j.protocol.Py4JNetworkError: Error while receiving\n",
      "ERROR:py4j.java_gateway:An error occurred while trying to connect to the Java server (127.0.0.1:38875)\n",
      "Traceback (most recent call last):\n",
      "  File \"/usr/local/spark/python/lib/py4j-0.10.7-src.zip/py4j/java_gateway.py\", line 929, in _get_connection\n",
      "    connection = self.deque.pop()\n",
      "IndexError: pop from an empty deque\n",
      "\n",
      "During handling of the above exception, another exception occurred:\n",
      "\n",
      "Traceback (most recent call last):\n",
      "  File \"/usr/local/spark/python/lib/py4j-0.10.7-src.zip/py4j/java_gateway.py\", line 1067, in start\n",
      "    self.socket.connect((self.address, self.port))\n",
      "ConnectionRefusedError: [Errno 111] Connection refused\n",
      "ERROR:py4j.java_gateway:An error occurred while trying to connect to the Java server (127.0.0.1:38875)\n",
      "Traceback (most recent call last):\n",
      "  File \"/usr/local/spark/python/lib/py4j-0.10.7-src.zip/py4j/java_gateway.py\", line 929, in _get_connection\n",
      "    connection = self.deque.pop()\n",
      "IndexError: pop from an empty deque\n",
      "\n",
      "During handling of the above exception, another exception occurred:\n",
      "\n",
      "Traceback (most recent call last):\n",
      "  File \"/usr/local/spark/python/lib/py4j-0.10.7-src.zip/py4j/java_gateway.py\", line 1067, in start\n",
      "    self.socket.connect((self.address, self.port))\n",
      "ConnectionRefusedError: [Errno 111] Connection refused\n",
      "ERROR:py4j.java_gateway:An error occurred while trying to connect to the Java server (127.0.0.1:38875)\n",
      "Traceback (most recent call last):\n",
      "  File \"/usr/local/spark/python/lib/py4j-0.10.7-src.zip/py4j/java_gateway.py\", line 929, in _get_connection\n",
      "    connection = self.deque.pop()\n",
      "IndexError: pop from an empty deque\n",
      "\n",
      "During handling of the above exception, another exception occurred:\n",
      "\n",
      "Traceback (most recent call last):\n",
      "  File \"/usr/local/spark/python/lib/py4j-0.10.7-src.zip/py4j/java_gateway.py\", line 1067, in start\n",
      "    self.socket.connect((self.address, self.port))\n",
      "ConnectionRefusedError: [Errno 111] Connection refused\n",
      "ERROR:py4j.java_gateway:An error occurred while trying to connect to the Java server (127.0.0.1:38875)\n",
      "Traceback (most recent call last):\n",
      "  File \"/usr/local/spark/python/lib/py4j-0.10.7-src.zip/py4j/java_gateway.py\", line 929, in _get_connection\n",
      "    connection = self.deque.pop()\n",
      "IndexError: pop from an empty deque\n",
      "\n",
      "During handling of the above exception, another exception occurred:\n",
      "\n",
      "Traceback (most recent call last):\n",
      "  File \"/usr/local/spark/python/lib/py4j-0.10.7-src.zip/py4j/java_gateway.py\", line 1067, in start\n",
      "    self.socket.connect((self.address, self.port))\n",
      "ConnectionRefusedError: [Errno 111] Connection refused\n",
      "ERROR:py4j.java_gateway:An error occurred while trying to connect to the Java server (127.0.0.1:38875)\n",
      "Traceback (most recent call last):\n",
      "  File \"/usr/local/spark/python/lib/py4j-0.10.7-src.zip/py4j/java_gateway.py\", line 929, in _get_connection\n",
      "    connection = self.deque.pop()\n",
      "IndexError: pop from an empty deque\n",
      "\n",
      "During handling of the above exception, another exception occurred:\n",
      "\n",
      "Traceback (most recent call last):\n",
      "  File \"/usr/local/spark/python/lib/py4j-0.10.7-src.zip/py4j/java_gateway.py\", line 1067, in start\n",
      "    self.socket.connect((self.address, self.port))\n",
      "ConnectionRefusedError: [Errno 111] Connection refused\n",
      "ERROR:py4j.java_gateway:An error occurred while trying to connect to the Java server (127.0.0.1:38875)\n",
      "Traceback (most recent call last):\n",
      "  File \"/usr/local/spark/python/lib/py4j-0.10.7-src.zip/py4j/java_gateway.py\", line 929, in _get_connection\n",
      "    connection = self.deque.pop()\n",
      "IndexError: pop from an empty deque\n",
      "\n",
      "During handling of the above exception, another exception occurred:\n",
      "\n",
      "Traceback (most recent call last):\n",
      "  File \"/usr/local/spark/python/lib/py4j-0.10.7-src.zip/py4j/java_gateway.py\", line 1067, in start\n",
      "    self.socket.connect((self.address, self.port))\n",
      "ConnectionRefusedError: [Errno 111] Connection refused\n",
      "ERROR:py4j.java_gateway:An error occurred while trying to connect to the Java server (127.0.0.1:38875)\n",
      "Traceback (most recent call last):\n",
      "  File \"/usr/local/spark/python/lib/py4j-0.10.7-src.zip/py4j/java_gateway.py\", line 929, in _get_connection\n",
      "    connection = self.deque.pop()\n",
      "IndexError: pop from an empty deque\n",
      "\n",
      "During handling of the above exception, another exception occurred:\n",
      "\n",
      "Traceback (most recent call last):\n",
      "  File \"/usr/local/spark/python/lib/py4j-0.10.7-src.zip/py4j/java_gateway.py\", line 1067, in start\n",
      "    self.socket.connect((self.address, self.port))\n",
      "ConnectionRefusedError: [Errno 111] Connection refused\n",
      "ERROR:py4j.java_gateway:An error occurred while trying to connect to the Java server (127.0.0.1:38875)\n",
      "Traceback (most recent call last):\n",
      "  File \"/usr/local/spark/python/lib/py4j-0.10.7-src.zip/py4j/java_gateway.py\", line 929, in _get_connection\n",
      "    connection = self.deque.pop()\n",
      "IndexError: pop from an empty deque\n",
      "\n",
      "During handling of the above exception, another exception occurred:\n",
      "\n",
      "Traceback (most recent call last):\n",
      "  File \"/usr/local/spark/python/lib/py4j-0.10.7-src.zip/py4j/java_gateway.py\", line 1067, in start\n",
      "    self.socket.connect((self.address, self.port))\n",
      "ConnectionRefusedError: [Errno 111] Connection refused\n",
      "ERROR:py4j.java_gateway:An error occurred while trying to connect to the Java server (127.0.0.1:38875)\n",
      "Traceback (most recent call last):\n",
      "  File \"/usr/local/spark/python/lib/py4j-0.10.7-src.zip/py4j/java_gateway.py\", line 929, in _get_connection\n",
      "    connection = self.deque.pop()\n",
      "IndexError: pop from an empty deque\n",
      "\n",
      "During handling of the above exception, another exception occurred:\n",
      "\n",
      "Traceback (most recent call last):\n",
      "  File \"/usr/local/spark/python/lib/py4j-0.10.7-src.zip/py4j/java_gateway.py\", line 1067, in start\n",
      "    self.socket.connect((self.address, self.port))\n",
      "ConnectionRefusedError: [Errno 111] Connection refused\n",
      "ERROR:py4j.java_gateway:An error occurred while trying to connect to the Java server (127.0.0.1:38875)\n",
      "Traceback (most recent call last):\n",
      "  File \"/usr/local/spark/python/lib/py4j-0.10.7-src.zip/py4j/java_gateway.py\", line 929, in _get_connection\n",
      "    connection = self.deque.pop()\n",
      "IndexError: pop from an empty deque\n",
      "\n",
      "During handling of the above exception, another exception occurred:\n",
      "\n",
      "Traceback (most recent call last):\n",
      "  File \"/usr/local/spark/python/lib/py4j-0.10.7-src.zip/py4j/java_gateway.py\", line 1067, in start\n",
      "    self.socket.connect((self.address, self.port))\n",
      "ConnectionRefusedError: [Errno 111] Connection refused\n",
      "ERROR:py4j.java_gateway:An error occurred while trying to connect to the Java server (127.0.0.1:38875)\n",
      "Traceback (most recent call last):\n",
      "  File \"/usr/local/spark/python/lib/py4j-0.10.7-src.zip/py4j/java_gateway.py\", line 929, in _get_connection\n",
      "    connection = self.deque.pop()\n",
      "IndexError: pop from an empty deque\n",
      "\n",
      "During handling of the above exception, another exception occurred:\n",
      "\n",
      "Traceback (most recent call last):\n",
      "  File \"/usr/local/spark/python/lib/py4j-0.10.7-src.zip/py4j/java_gateway.py\", line 1067, in start\n",
      "    self.socket.connect((self.address, self.port))\n",
      "ConnectionRefusedError: [Errno 111] Connection refused\n",
      "ERROR:py4j.java_gateway:An error occurred while trying to connect to the Java server (127.0.0.1:38875)\n",
      "Traceback (most recent call last):\n",
      "  File \"/usr/local/spark/python/lib/py4j-0.10.7-src.zip/py4j/java_gateway.py\", line 929, in _get_connection\n",
      "    connection = self.deque.pop()\n",
      "IndexError: pop from an empty deque\n",
      "\n",
      "During handling of the above exception, another exception occurred:\n",
      "\n",
      "Traceback (most recent call last):\n",
      "  File \"/usr/local/spark/python/lib/py4j-0.10.7-src.zip/py4j/java_gateway.py\", line 1067, in start\n",
      "    self.socket.connect((self.address, self.port))\n",
      "ConnectionRefusedError: [Errno 111] Connection refused\n"
     ]
    },
    {
     "name": "stderr",
     "output_type": "stream",
     "text": [
      "ERROR:py4j.java_gateway:An error occurred while trying to connect to the Java server (127.0.0.1:38875)\n",
      "Traceback (most recent call last):\n",
      "  File \"/usr/local/spark/python/lib/py4j-0.10.7-src.zip/py4j/java_gateway.py\", line 929, in _get_connection\n",
      "    connection = self.deque.pop()\n",
      "IndexError: pop from an empty deque\n",
      "\n",
      "During handling of the above exception, another exception occurred:\n",
      "\n",
      "Traceback (most recent call last):\n",
      "  File \"/usr/local/spark/python/lib/py4j-0.10.7-src.zip/py4j/java_gateway.py\", line 1067, in start\n",
      "    self.socket.connect((self.address, self.port))\n",
      "ConnectionRefusedError: [Errno 111] Connection refused\n",
      "ERROR:py4j.java_gateway:An error occurred while trying to connect to the Java server (127.0.0.1:38875)\n",
      "Traceback (most recent call last):\n",
      "  File \"/usr/local/spark/python/lib/py4j-0.10.7-src.zip/py4j/java_gateway.py\", line 929, in _get_connection\n",
      "    connection = self.deque.pop()\n",
      "IndexError: pop from an empty deque\n",
      "\n",
      "During handling of the above exception, another exception occurred:\n",
      "\n",
      "Traceback (most recent call last):\n",
      "  File \"/usr/local/spark/python/lib/py4j-0.10.7-src.zip/py4j/java_gateway.py\", line 1067, in start\n",
      "    self.socket.connect((self.address, self.port))\n",
      "ConnectionRefusedError: [Errno 111] Connection refused\n",
      "ERROR:py4j.java_gateway:An error occurred while trying to connect to the Java server (127.0.0.1:38875)\n",
      "Traceback (most recent call last):\n",
      "  File \"/usr/local/spark/python/lib/py4j-0.10.7-src.zip/py4j/java_gateway.py\", line 929, in _get_connection\n",
      "    connection = self.deque.pop()\n",
      "IndexError: pop from an empty deque\n",
      "\n",
      "During handling of the above exception, another exception occurred:\n",
      "\n",
      "Traceback (most recent call last):\n",
      "  File \"/usr/local/spark/python/lib/py4j-0.10.7-src.zip/py4j/java_gateway.py\", line 1067, in start\n",
      "    self.socket.connect((self.address, self.port))\n",
      "ConnectionRefusedError: [Errno 111] Connection refused\n",
      "ERROR:py4j.java_gateway:An error occurred while trying to connect to the Java server (127.0.0.1:38875)\n",
      "Traceback (most recent call last):\n",
      "  File \"/usr/local/spark/python/lib/py4j-0.10.7-src.zip/py4j/java_gateway.py\", line 929, in _get_connection\n",
      "    connection = self.deque.pop()\n",
      "IndexError: pop from an empty deque\n",
      "\n",
      "During handling of the above exception, another exception occurred:\n",
      "\n",
      "Traceback (most recent call last):\n",
      "  File \"/usr/local/spark/python/lib/py4j-0.10.7-src.zip/py4j/java_gateway.py\", line 1067, in start\n",
      "    self.socket.connect((self.address, self.port))\n",
      "ConnectionRefusedError: [Errno 111] Connection refused\n",
      "ERROR:py4j.java_gateway:An error occurred while trying to connect to the Java server (127.0.0.1:38875)\n",
      "Traceback (most recent call last):\n",
      "  File \"/usr/local/spark/python/lib/py4j-0.10.7-src.zip/py4j/java_gateway.py\", line 929, in _get_connection\n",
      "    connection = self.deque.pop()\n",
      "IndexError: pop from an empty deque\n",
      "\n",
      "During handling of the above exception, another exception occurred:\n",
      "\n",
      "Traceback (most recent call last):\n",
      "  File \"/usr/local/spark/python/lib/py4j-0.10.7-src.zip/py4j/java_gateway.py\", line 1067, in start\n",
      "    self.socket.connect((self.address, self.port))\n",
      "ConnectionRefusedError: [Errno 111] Connection refused\n",
      "ERROR:py4j.java_gateway:An error occurred while trying to connect to the Java server (127.0.0.1:38875)\n",
      "Traceback (most recent call last):\n",
      "  File \"/usr/local/spark/python/lib/py4j-0.10.7-src.zip/py4j/java_gateway.py\", line 929, in _get_connection\n",
      "    connection = self.deque.pop()\n",
      "IndexError: pop from an empty deque\n",
      "\n",
      "During handling of the above exception, another exception occurred:\n",
      "\n",
      "Traceback (most recent call last):\n",
      "  File \"/usr/local/spark/python/lib/py4j-0.10.7-src.zip/py4j/java_gateway.py\", line 1067, in start\n",
      "    self.socket.connect((self.address, self.port))\n",
      "ConnectionRefusedError: [Errno 111] Connection refused\n",
      "ERROR:py4j.java_gateway:An error occurred while trying to connect to the Java server (127.0.0.1:38875)\n",
      "Traceback (most recent call last):\n",
      "  File \"/usr/local/spark/python/lib/py4j-0.10.7-src.zip/py4j/java_gateway.py\", line 929, in _get_connection\n",
      "    connection = self.deque.pop()\n",
      "IndexError: pop from an empty deque\n",
      "\n",
      "During handling of the above exception, another exception occurred:\n",
      "\n",
      "Traceback (most recent call last):\n",
      "  File \"/usr/local/spark/python/lib/py4j-0.10.7-src.zip/py4j/java_gateway.py\", line 1067, in start\n",
      "    self.socket.connect((self.address, self.port))\n",
      "ConnectionRefusedError: [Errno 111] Connection refused\n",
      "ERROR:py4j.java_gateway:An error occurred while trying to connect to the Java server (127.0.0.1:38875)\n",
      "Traceback (most recent call last):\n",
      "  File \"/usr/local/spark/python/lib/py4j-0.10.7-src.zip/py4j/java_gateway.py\", line 929, in _get_connection\n",
      "    connection = self.deque.pop()\n",
      "IndexError: pop from an empty deque\n",
      "\n",
      "During handling of the above exception, another exception occurred:\n",
      "\n",
      "Traceback (most recent call last):\n",
      "  File \"/usr/local/spark/python/lib/py4j-0.10.7-src.zip/py4j/java_gateway.py\", line 1067, in start\n",
      "    self.socket.connect((self.address, self.port))\n",
      "ConnectionRefusedError: [Errno 111] Connection refused\n",
      "ERROR:py4j.java_gateway:An error occurred while trying to connect to the Java server (127.0.0.1:38875)\n",
      "Traceback (most recent call last):\n",
      "  File \"/usr/local/spark/python/lib/py4j-0.10.7-src.zip/py4j/java_gateway.py\", line 929, in _get_connection\n",
      "    connection = self.deque.pop()\n",
      "IndexError: pop from an empty deque\n",
      "\n",
      "During handling of the above exception, another exception occurred:\n",
      "\n",
      "Traceback (most recent call last):\n",
      "  File \"/usr/local/spark/python/lib/py4j-0.10.7-src.zip/py4j/java_gateway.py\", line 1067, in start\n",
      "    self.socket.connect((self.address, self.port))\n",
      "ConnectionRefusedError: [Errno 111] Connection refused\n"
     ]
    }
   ],
   "source": [
    "rf_model_pca = rf_pipeline_pca.fit(train_data)"
   ]
  },
  {
   "cell_type": "code",
   "execution_count": null,
   "metadata": {},
   "outputs": [],
   "source": [
    "#run the pipeline on the test data\n",
    "test_10pc_pred_rf = rf_model_pca.transform(test_data)"
   ]
  },
  {
   "cell_type": "code",
   "execution_count": null,
   "metadata": {},
   "outputs": [],
   "source": [
    "#evaluate the performance on the test set\n",
    "test_10pc_accuracy_rf = evaluator_rf.evaluate(test_10pc_pred_rf)\n",
    "print(\"Testing Error with 10 pc = %g\" % (1.0 - test_10pc_accuracy_rf))"
   ]
  },
  {
   "cell_type": "code",
   "execution_count": null,
   "metadata": {},
   "outputs": [],
   "source": [
    "#look at error by class\n",
    "confusion_matrix(test_10pc_pred_rf)"
   ]
  },
  {
   "cell_type": "code",
   "execution_count": null,
   "metadata": {},
   "outputs": [],
   "source": [
    "#Scores for Random Forest on 10 PC\n",
    "f1_score=MulticlassClassificationEvaluator(\n",
    "    labelCol=\"position\", predictionCol=\"prediction\", metricName=\"f1\")\n",
    "f1 = f1_score.evaluate(test_10pc_pred_rf)\n",
    "print(\"Random Forest,10 PC Test Set F1 Score = %g\" % (f1))\n",
    "\n",
    "recall_score=MulticlassClassificationEvaluator(\n",
    "    labelCol=\"position\", predictionCol=\"prediction\", metricName=\"weightedRecall\")\n",
    "recall = recall_score.evaluate(test_10pc_pred_rf)\n",
    "print(\"Random Forest, 10 PC Test Set Recall Score = %g\" % (recall))\n",
    "\n",
    "precision_score=MulticlassClassificationEvaluator(\n",
    "    labelCol=\"position\", predictionCol=\"prediction\", metricName=\"weightedPrecision\")\n",
    "precision = precision_score.evaluate(test_10pc_pred_rf)\n",
    "print(\"Random Forest, 10 PC Test Set Precision Score = %g\" % (precision))"
   ]
  },
  {
   "cell_type": "markdown",
   "metadata": {},
   "source": [
    "# Multinomial Logistic Regression"
   ]
  },
  {
   "cell_type": "code",
   "execution_count": 60,
   "metadata": {},
   "outputs": [
    {
     "name": "stderr",
     "output_type": "stream",
     "text": [
      "ERROR:py4j.java_gateway:An error occurred while trying to connect to the Java server (127.0.0.1:38875)\n",
      "Traceback (most recent call last):\n",
      "  File \"/usr/local/spark/python/lib/py4j-0.10.7-src.zip/py4j/java_gateway.py\", line 929, in _get_connection\n",
      "    connection = self.deque.pop()\n",
      "IndexError: pop from an empty deque\n",
      "\n",
      "During handling of the above exception, another exception occurred:\n",
      "\n",
      "Traceback (most recent call last):\n",
      "  File \"/usr/local/spark/python/lib/py4j-0.10.7-src.zip/py4j/java_gateway.py\", line 1067, in start\n",
      "    self.socket.connect((self.address, self.port))\n",
      "ConnectionRefusedError: [Errno 111] Connection refused\n"
     ]
    },
    {
     "ename": "Py4JNetworkError",
     "evalue": "An error occurred while trying to connect to the Java server (127.0.0.1:38875)",
     "output_type": "error",
     "traceback": [
      "\u001b[0;31m---------------------------------------------------------------------------\u001b[0m",
      "\u001b[0;31mIndexError\u001b[0m                                Traceback (most recent call last)",
      "\u001b[0;32m/usr/local/spark/python/lib/py4j-0.10.7-src.zip/py4j/java_gateway.py\u001b[0m in \u001b[0;36m_get_connection\u001b[0;34m(self)\u001b[0m\n\u001b[1;32m    928\u001b[0m         \u001b[0;32mtry\u001b[0m\u001b[0;34m:\u001b[0m\u001b[0;34m\u001b[0m\u001b[0;34m\u001b[0m\u001b[0m\n\u001b[0;32m--> 929\u001b[0;31m             \u001b[0mconnection\u001b[0m \u001b[0;34m=\u001b[0m \u001b[0mself\u001b[0m\u001b[0;34m.\u001b[0m\u001b[0mdeque\u001b[0m\u001b[0;34m.\u001b[0m\u001b[0mpop\u001b[0m\u001b[0;34m(\u001b[0m\u001b[0;34m)\u001b[0m\u001b[0;34m\u001b[0m\u001b[0;34m\u001b[0m\u001b[0m\n\u001b[0m\u001b[1;32m    930\u001b[0m         \u001b[0;32mexcept\u001b[0m \u001b[0mIndexError\u001b[0m\u001b[0;34m:\u001b[0m\u001b[0;34m\u001b[0m\u001b[0;34m\u001b[0m\u001b[0m\n",
      "\u001b[0;31mIndexError\u001b[0m: pop from an empty deque",
      "\nDuring handling of the above exception, another exception occurred:\n",
      "\u001b[0;31mConnectionRefusedError\u001b[0m                    Traceback (most recent call last)",
      "\u001b[0;32m/usr/local/spark/python/lib/py4j-0.10.7-src.zip/py4j/java_gateway.py\u001b[0m in \u001b[0;36mstart\u001b[0;34m(self)\u001b[0m\n\u001b[1;32m   1066\u001b[0m         \u001b[0;32mtry\u001b[0m\u001b[0;34m:\u001b[0m\u001b[0;34m\u001b[0m\u001b[0;34m\u001b[0m\u001b[0m\n\u001b[0;32m-> 1067\u001b[0;31m             \u001b[0mself\u001b[0m\u001b[0;34m.\u001b[0m\u001b[0msocket\u001b[0m\u001b[0;34m.\u001b[0m\u001b[0mconnect\u001b[0m\u001b[0;34m(\u001b[0m\u001b[0;34m(\u001b[0m\u001b[0mself\u001b[0m\u001b[0;34m.\u001b[0m\u001b[0maddress\u001b[0m\u001b[0;34m,\u001b[0m \u001b[0mself\u001b[0m\u001b[0;34m.\u001b[0m\u001b[0mport\u001b[0m\u001b[0;34m)\u001b[0m\u001b[0;34m)\u001b[0m\u001b[0;34m\u001b[0m\u001b[0;34m\u001b[0m\u001b[0m\n\u001b[0m\u001b[1;32m   1068\u001b[0m             \u001b[0mself\u001b[0m\u001b[0;34m.\u001b[0m\u001b[0mstream\u001b[0m \u001b[0;34m=\u001b[0m \u001b[0mself\u001b[0m\u001b[0;34m.\u001b[0m\u001b[0msocket\u001b[0m\u001b[0;34m.\u001b[0m\u001b[0mmakefile\u001b[0m\u001b[0;34m(\u001b[0m\u001b[0;34m\"rb\"\u001b[0m\u001b[0;34m)\u001b[0m\u001b[0;34m\u001b[0m\u001b[0;34m\u001b[0m\u001b[0m\n",
      "\u001b[0;31mConnectionRefusedError\u001b[0m: [Errno 111] Connection refused",
      "\nDuring handling of the above exception, another exception occurred:\n",
      "\u001b[0;31mPy4JNetworkError\u001b[0m                          Traceback (most recent call last)",
      "\u001b[0;32m<ipython-input-60-4e7a5b092476>\u001b[0m in \u001b[0;36m<module>\u001b[0;34m\u001b[0m\n\u001b[1;32m      5\u001b[0m \u001b[0;34m\u001b[0m\u001b[0m\n\u001b[1;32m      6\u001b[0m \u001b[0;34m\u001b[0m\u001b[0m\n\u001b[0;32m----> 7\u001b[0;31m \u001b[0mlr_basic\u001b[0m \u001b[0;34m=\u001b[0m \u001b[0mLogisticRegression\u001b[0m\u001b[0;34m(\u001b[0m\u001b[0mfeaturesCol\u001b[0m\u001b[0;34m=\u001b[0m\u001b[0;34m'scaledFeatures'\u001b[0m\u001b[0;34m,\u001b[0m \u001b[0mlabelCol\u001b[0m \u001b[0;34m=\u001b[0m \u001b[0;34m'position'\u001b[0m\u001b[0;34m,\u001b[0m \u001b[0mmaxIter\u001b[0m\u001b[0;34m=\u001b[0m\u001b[0;36m10\u001b[0m\u001b[0;34m,\u001b[0m \u001b[0mregParam\u001b[0m\u001b[0;34m=\u001b[0m\u001b[0;36m0.3\u001b[0m\u001b[0;34m,\u001b[0m \u001b[0melasticNetParam\u001b[0m\u001b[0;34m=\u001b[0m\u001b[0;36m0.8\u001b[0m\u001b[0;34m)\u001b[0m\u001b[0;34m\u001b[0m\u001b[0;34m\u001b[0m\u001b[0m\n\u001b[0m\u001b[1;32m      8\u001b[0m \u001b[0;31m# Fit the model with default Parameters\u001b[0m\u001b[0;34m\u001b[0m\u001b[0;34m\u001b[0m\u001b[0;34m\u001b[0m\u001b[0m\n\u001b[1;32m      9\u001b[0m \u001b[0mlr_basictrain\u001b[0m \u001b[0;34m=\u001b[0m \u001b[0mlr_basic\u001b[0m\u001b[0;34m.\u001b[0m\u001b[0mfit\u001b[0m\u001b[0;34m(\u001b[0m\u001b[0mtrain_vectorized\u001b[0m\u001b[0;34m)\u001b[0m\u001b[0;34m\u001b[0m\u001b[0;34m\u001b[0m\u001b[0m\n",
      "\u001b[0;32m/usr/local/spark/python/pyspark/__init__.py\u001b[0m in \u001b[0;36mwrapper\u001b[0;34m(self, *args, **kwargs)\u001b[0m\n\u001b[1;32m    108\u001b[0m             \u001b[0;32mraise\u001b[0m \u001b[0mTypeError\u001b[0m\u001b[0;34m(\u001b[0m\u001b[0;34m\"Method %s forces keyword arguments.\"\u001b[0m \u001b[0;34m%\u001b[0m \u001b[0mfunc\u001b[0m\u001b[0;34m.\u001b[0m\u001b[0m__name__\u001b[0m\u001b[0;34m)\u001b[0m\u001b[0;34m\u001b[0m\u001b[0;34m\u001b[0m\u001b[0m\n\u001b[1;32m    109\u001b[0m         \u001b[0mself\u001b[0m\u001b[0;34m.\u001b[0m\u001b[0m_input_kwargs\u001b[0m \u001b[0;34m=\u001b[0m \u001b[0mkwargs\u001b[0m\u001b[0;34m\u001b[0m\u001b[0;34m\u001b[0m\u001b[0m\n\u001b[0;32m--> 110\u001b[0;31m         \u001b[0;32mreturn\u001b[0m \u001b[0mfunc\u001b[0m\u001b[0;34m(\u001b[0m\u001b[0mself\u001b[0m\u001b[0;34m,\u001b[0m \u001b[0;34m**\u001b[0m\u001b[0mkwargs\u001b[0m\u001b[0;34m)\u001b[0m\u001b[0;34m\u001b[0m\u001b[0;34m\u001b[0m\u001b[0m\n\u001b[0m\u001b[1;32m    111\u001b[0m     \u001b[0;32mreturn\u001b[0m \u001b[0mwrapper\u001b[0m\u001b[0;34m\u001b[0m\u001b[0;34m\u001b[0m\u001b[0m\n\u001b[1;32m    112\u001b[0m \u001b[0;34m\u001b[0m\u001b[0m\n",
      "\u001b[0;32m/usr/local/spark/python/pyspark/ml/classification.py\u001b[0m in \u001b[0;36m__init__\u001b[0;34m(self, featuresCol, labelCol, predictionCol, maxIter, regParam, elasticNetParam, tol, fitIntercept, threshold, thresholds, probabilityCol, rawPredictionCol, standardization, weightCol, aggregationDepth, family, lowerBoundsOnCoefficients, upperBoundsOnCoefficients, lowerBoundsOnIntercepts, upperBoundsOnIntercepts)\u001b[0m\n\u001b[1;32m    310\u001b[0m         \u001b[0msuper\u001b[0m\u001b[0;34m(\u001b[0m\u001b[0mLogisticRegression\u001b[0m\u001b[0;34m,\u001b[0m \u001b[0mself\u001b[0m\u001b[0;34m)\u001b[0m\u001b[0;34m.\u001b[0m\u001b[0m__init__\u001b[0m\u001b[0;34m(\u001b[0m\u001b[0;34m)\u001b[0m\u001b[0;34m\u001b[0m\u001b[0;34m\u001b[0m\u001b[0m\n\u001b[1;32m    311\u001b[0m         self._java_obj = self._new_java_obj(\n\u001b[0;32m--> 312\u001b[0;31m             \"org.apache.spark.ml.classification.LogisticRegression\", self.uid)\n\u001b[0m\u001b[1;32m    313\u001b[0m         \u001b[0mself\u001b[0m\u001b[0;34m.\u001b[0m\u001b[0m_setDefault\u001b[0m\u001b[0;34m(\u001b[0m\u001b[0mmaxIter\u001b[0m\u001b[0;34m=\u001b[0m\u001b[0;36m100\u001b[0m\u001b[0;34m,\u001b[0m \u001b[0mregParam\u001b[0m\u001b[0;34m=\u001b[0m\u001b[0;36m0.0\u001b[0m\u001b[0;34m,\u001b[0m \u001b[0mtol\u001b[0m\u001b[0;34m=\u001b[0m\u001b[0;36m1E-6\u001b[0m\u001b[0;34m,\u001b[0m \u001b[0mthreshold\u001b[0m\u001b[0;34m=\u001b[0m\u001b[0;36m0.5\u001b[0m\u001b[0;34m,\u001b[0m \u001b[0mfamily\u001b[0m\u001b[0;34m=\u001b[0m\u001b[0;34m\"auto\"\u001b[0m\u001b[0;34m)\u001b[0m\u001b[0;34m\u001b[0m\u001b[0;34m\u001b[0m\u001b[0m\n\u001b[1;32m    314\u001b[0m         \u001b[0mkwargs\u001b[0m \u001b[0;34m=\u001b[0m \u001b[0mself\u001b[0m\u001b[0;34m.\u001b[0m\u001b[0m_input_kwargs\u001b[0m\u001b[0;34m\u001b[0m\u001b[0;34m\u001b[0m\u001b[0m\n",
      "\u001b[0;32m/usr/local/spark/python/pyspark/ml/wrapper.py\u001b[0m in \u001b[0;36m_new_java_obj\u001b[0;34m(java_class, *args)\u001b[0m\n\u001b[1;32m     63\u001b[0m         \u001b[0mjava_obj\u001b[0m \u001b[0;34m=\u001b[0m \u001b[0m_jvm\u001b[0m\u001b[0;34m(\u001b[0m\u001b[0;34m)\u001b[0m\u001b[0;34m\u001b[0m\u001b[0;34m\u001b[0m\u001b[0m\n\u001b[1;32m     64\u001b[0m         \u001b[0;32mfor\u001b[0m \u001b[0mname\u001b[0m \u001b[0;32min\u001b[0m \u001b[0mjava_class\u001b[0m\u001b[0;34m.\u001b[0m\u001b[0msplit\u001b[0m\u001b[0;34m(\u001b[0m\u001b[0;34m\".\"\u001b[0m\u001b[0;34m)\u001b[0m\u001b[0;34m:\u001b[0m\u001b[0;34m\u001b[0m\u001b[0;34m\u001b[0m\u001b[0m\n\u001b[0;32m---> 65\u001b[0;31m             \u001b[0mjava_obj\u001b[0m \u001b[0;34m=\u001b[0m \u001b[0mgetattr\u001b[0m\u001b[0;34m(\u001b[0m\u001b[0mjava_obj\u001b[0m\u001b[0;34m,\u001b[0m \u001b[0mname\u001b[0m\u001b[0;34m)\u001b[0m\u001b[0;34m\u001b[0m\u001b[0;34m\u001b[0m\u001b[0m\n\u001b[0m\u001b[1;32m     66\u001b[0m         \u001b[0mjava_args\u001b[0m \u001b[0;34m=\u001b[0m \u001b[0;34m[\u001b[0m\u001b[0m_py2java\u001b[0m\u001b[0;34m(\u001b[0m\u001b[0msc\u001b[0m\u001b[0;34m,\u001b[0m \u001b[0marg\u001b[0m\u001b[0;34m)\u001b[0m \u001b[0;32mfor\u001b[0m \u001b[0marg\u001b[0m \u001b[0;32min\u001b[0m \u001b[0margs\u001b[0m\u001b[0;34m]\u001b[0m\u001b[0;34m\u001b[0m\u001b[0;34m\u001b[0m\u001b[0m\n\u001b[1;32m     67\u001b[0m         \u001b[0;32mreturn\u001b[0m \u001b[0mjava_obj\u001b[0m\u001b[0;34m(\u001b[0m\u001b[0;34m*\u001b[0m\u001b[0mjava_args\u001b[0m\u001b[0;34m)\u001b[0m\u001b[0;34m\u001b[0m\u001b[0;34m\u001b[0m\u001b[0m\n",
      "\u001b[0;32m/usr/local/spark/python/lib/py4j-0.10.7-src.zip/py4j/java_gateway.py\u001b[0m in \u001b[0;36m__getattr__\u001b[0;34m(self, name)\u001b[0m\n\u001b[1;32m   1647\u001b[0m             \u001b[0mproto\u001b[0m\u001b[0;34m.\u001b[0m\u001b[0mREFLECTION_COMMAND_NAME\u001b[0m \u001b[0;34m+\u001b[0m\u001b[0;34m\u001b[0m\u001b[0;34m\u001b[0m\u001b[0m\n\u001b[1;32m   1648\u001b[0m             \u001b[0mproto\u001b[0m\u001b[0;34m.\u001b[0m\u001b[0mREFL_GET_UNKNOWN_SUB_COMMAND_NAME\u001b[0m \u001b[0;34m+\u001b[0m \u001b[0mname\u001b[0m \u001b[0;34m+\u001b[0m \u001b[0;34m\"\\n\"\u001b[0m \u001b[0;34m+\u001b[0m \u001b[0mself\u001b[0m\u001b[0;34m.\u001b[0m\u001b[0m_id\u001b[0m \u001b[0;34m+\u001b[0m\u001b[0;34m\u001b[0m\u001b[0;34m\u001b[0m\u001b[0m\n\u001b[0;32m-> 1649\u001b[0;31m             \"\\n\" + proto.END_COMMAND_PART)\n\u001b[0m\u001b[1;32m   1650\u001b[0m         \u001b[0;32mif\u001b[0m \u001b[0manswer\u001b[0m \u001b[0;34m==\u001b[0m \u001b[0mproto\u001b[0m\u001b[0;34m.\u001b[0m\u001b[0mSUCCESS_PACKAGE\u001b[0m\u001b[0;34m:\u001b[0m\u001b[0;34m\u001b[0m\u001b[0;34m\u001b[0m\u001b[0m\n\u001b[1;32m   1651\u001b[0m             \u001b[0;32mreturn\u001b[0m \u001b[0mJavaPackage\u001b[0m\u001b[0;34m(\u001b[0m\u001b[0mname\u001b[0m\u001b[0;34m,\u001b[0m \u001b[0mself\u001b[0m\u001b[0;34m.\u001b[0m\u001b[0m_gateway_client\u001b[0m\u001b[0;34m,\u001b[0m \u001b[0mjvm_id\u001b[0m\u001b[0;34m=\u001b[0m\u001b[0mself\u001b[0m\u001b[0;34m.\u001b[0m\u001b[0m_id\u001b[0m\u001b[0;34m)\u001b[0m\u001b[0;34m\u001b[0m\u001b[0;34m\u001b[0m\u001b[0m\n",
      "\u001b[0;32m/usr/local/spark/python/lib/py4j-0.10.7-src.zip/py4j/java_gateway.py\u001b[0m in \u001b[0;36msend_command\u001b[0;34m(self, command, retry, binary)\u001b[0m\n\u001b[1;32m    981\u001b[0m          \u001b[0;32mif\u001b[0m\u001b[0;31m \u001b[0m\u001b[0;31m`\u001b[0m\u001b[0mbinary\u001b[0m\u001b[0;31m`\u001b[0m \u001b[0;32mis\u001b[0m\u001b[0;31m \u001b[0m\u001b[0;31m`\u001b[0m\u001b[0;32mTrue\u001b[0m\u001b[0;31m`\u001b[0m\u001b[0;34m.\u001b[0m\u001b[0;34m\u001b[0m\u001b[0;34m\u001b[0m\u001b[0m\n\u001b[1;32m    982\u001b[0m         \"\"\"\n\u001b[0;32m--> 983\u001b[0;31m         \u001b[0mconnection\u001b[0m \u001b[0;34m=\u001b[0m \u001b[0mself\u001b[0m\u001b[0;34m.\u001b[0m\u001b[0m_get_connection\u001b[0m\u001b[0;34m(\u001b[0m\u001b[0;34m)\u001b[0m\u001b[0;34m\u001b[0m\u001b[0;34m\u001b[0m\u001b[0m\n\u001b[0m\u001b[1;32m    984\u001b[0m         \u001b[0;32mtry\u001b[0m\u001b[0;34m:\u001b[0m\u001b[0;34m\u001b[0m\u001b[0;34m\u001b[0m\u001b[0m\n\u001b[1;32m    985\u001b[0m             \u001b[0mresponse\u001b[0m \u001b[0;34m=\u001b[0m \u001b[0mconnection\u001b[0m\u001b[0;34m.\u001b[0m\u001b[0msend_command\u001b[0m\u001b[0;34m(\u001b[0m\u001b[0mcommand\u001b[0m\u001b[0;34m)\u001b[0m\u001b[0;34m\u001b[0m\u001b[0;34m\u001b[0m\u001b[0m\n",
      "\u001b[0;32m/usr/local/spark/python/lib/py4j-0.10.7-src.zip/py4j/java_gateway.py\u001b[0m in \u001b[0;36m_get_connection\u001b[0;34m(self)\u001b[0m\n\u001b[1;32m    929\u001b[0m             \u001b[0mconnection\u001b[0m \u001b[0;34m=\u001b[0m \u001b[0mself\u001b[0m\u001b[0;34m.\u001b[0m\u001b[0mdeque\u001b[0m\u001b[0;34m.\u001b[0m\u001b[0mpop\u001b[0m\u001b[0;34m(\u001b[0m\u001b[0;34m)\u001b[0m\u001b[0;34m\u001b[0m\u001b[0;34m\u001b[0m\u001b[0m\n\u001b[1;32m    930\u001b[0m         \u001b[0;32mexcept\u001b[0m \u001b[0mIndexError\u001b[0m\u001b[0;34m:\u001b[0m\u001b[0;34m\u001b[0m\u001b[0;34m\u001b[0m\u001b[0m\n\u001b[0;32m--> 931\u001b[0;31m             \u001b[0mconnection\u001b[0m \u001b[0;34m=\u001b[0m \u001b[0mself\u001b[0m\u001b[0;34m.\u001b[0m\u001b[0m_create_connection\u001b[0m\u001b[0;34m(\u001b[0m\u001b[0;34m)\u001b[0m\u001b[0;34m\u001b[0m\u001b[0;34m\u001b[0m\u001b[0m\n\u001b[0m\u001b[1;32m    932\u001b[0m         \u001b[0;32mreturn\u001b[0m \u001b[0mconnection\u001b[0m\u001b[0;34m\u001b[0m\u001b[0;34m\u001b[0m\u001b[0m\n\u001b[1;32m    933\u001b[0m \u001b[0;34m\u001b[0m\u001b[0m\n",
      "\u001b[0;32m/usr/local/spark/python/lib/py4j-0.10.7-src.zip/py4j/java_gateway.py\u001b[0m in \u001b[0;36m_create_connection\u001b[0;34m(self)\u001b[0m\n\u001b[1;32m    935\u001b[0m         connection = GatewayConnection(\n\u001b[1;32m    936\u001b[0m             self.gateway_parameters, self.gateway_property)\n\u001b[0;32m--> 937\u001b[0;31m         \u001b[0mconnection\u001b[0m\u001b[0;34m.\u001b[0m\u001b[0mstart\u001b[0m\u001b[0;34m(\u001b[0m\u001b[0;34m)\u001b[0m\u001b[0;34m\u001b[0m\u001b[0;34m\u001b[0m\u001b[0m\n\u001b[0m\u001b[1;32m    938\u001b[0m         \u001b[0;32mreturn\u001b[0m \u001b[0mconnection\u001b[0m\u001b[0;34m\u001b[0m\u001b[0;34m\u001b[0m\u001b[0m\n\u001b[1;32m    939\u001b[0m \u001b[0;34m\u001b[0m\u001b[0m\n",
      "\u001b[0;32m/usr/local/spark/python/lib/py4j-0.10.7-src.zip/py4j/java_gateway.py\u001b[0m in \u001b[0;36mstart\u001b[0;34m(self)\u001b[0m\n\u001b[1;32m   1077\u001b[0m                 \u001b[0;34m\"server ({0}:{1})\"\u001b[0m\u001b[0;34m.\u001b[0m\u001b[0mformat\u001b[0m\u001b[0;34m(\u001b[0m\u001b[0mself\u001b[0m\u001b[0;34m.\u001b[0m\u001b[0maddress\u001b[0m\u001b[0;34m,\u001b[0m \u001b[0mself\u001b[0m\u001b[0;34m.\u001b[0m\u001b[0mport\u001b[0m\u001b[0;34m)\u001b[0m\u001b[0;34m\u001b[0m\u001b[0;34m\u001b[0m\u001b[0m\n\u001b[1;32m   1078\u001b[0m             \u001b[0mlogger\u001b[0m\u001b[0;34m.\u001b[0m\u001b[0mexception\u001b[0m\u001b[0;34m(\u001b[0m\u001b[0mmsg\u001b[0m\u001b[0;34m)\u001b[0m\u001b[0;34m\u001b[0m\u001b[0;34m\u001b[0m\u001b[0m\n\u001b[0;32m-> 1079\u001b[0;31m             \u001b[0;32mraise\u001b[0m \u001b[0mPy4JNetworkError\u001b[0m\u001b[0;34m(\u001b[0m\u001b[0mmsg\u001b[0m\u001b[0;34m,\u001b[0m \u001b[0me\u001b[0m\u001b[0;34m)\u001b[0m\u001b[0;34m\u001b[0m\u001b[0;34m\u001b[0m\u001b[0m\n\u001b[0m\u001b[1;32m   1080\u001b[0m \u001b[0;34m\u001b[0m\u001b[0m\n\u001b[1;32m   1081\u001b[0m     \u001b[0;32mdef\u001b[0m \u001b[0m_authenticate_connection\u001b[0m\u001b[0;34m(\u001b[0m\u001b[0mself\u001b[0m\u001b[0;34m)\u001b[0m\u001b[0;34m:\u001b[0m\u001b[0;34m\u001b[0m\u001b[0;34m\u001b[0m\u001b[0m\n",
      "\u001b[0;31mPy4JNetworkError\u001b[0m: An error occurred while trying to connect to the Java server (127.0.0.1:38875)"
     ]
    }
   ],
   "source": [
    "#New classifier -Kevin, Defualt version\n",
    "#code from spark documentation\n",
    "from pyspark.ml.classification import LogisticRegression\n",
    "\n",
    "\n",
    "\n",
    "lr_basic = LogisticRegression(featuresCol='scaledFeatures', labelCol = 'position', maxIter=10, regParam=0.3, elasticNetParam=0.8)\n",
    "# Fit the model with default Parameters\n",
    "lr_basictrain = lr_basic.fit(train_vectorized)\n",
    "\n",
    "# Print the coefficients and intercept for multinomial logistic regression\n",
    "print(\"Coefficients: \\n\" + str(lr_basictrain.coefficientMatrix))\n",
    "print(\"Intercept: \" + str(lr_basictrain.interceptVector))\n",
    " \n",
    "lr_pred_train = lr_basictrain.transform(train_vectorized) #prediction with train data\n",
    "lr_pred_test = lr_basictrain.transform(test_vectorized) #prediction with test data\n",
    "\n",
    "test=MulticlassClassificationEvaluator(\n",
    "    labelCol=\"position\", predictionCol=\"prediction\", metricName=\"accuracy\")\n",
    "\n",
    "\n",
    "train_misclass = test.evaluate(lr_pred_train)\n",
    "print(\"Training Error = %g\" % (1.0 - train_misclass))\n"
   ]
  },
  {
   "cell_type": "code",
   "execution_count": null,
   "metadata": {},
   "outputs": [],
   "source": [
    "#Model metrics for Logistic Regression with default parameters\n",
    "f1_score=MulticlassClassificationEvaluator(\n",
    "    labelCol=\"position\", predictionCol=\"prediction\", metricName=\"f1\")\n",
    "f1 = f1_score.evaluate(lr_pred_train)\n",
    "print(\"Train Set F1 Score = %g\" % (f1))\n",
    "\n",
    "recall_score=MulticlassClassificationEvaluator(\n",
    "    labelCol=\"position\", predictionCol=\"prediction\", metricName=\"weightedRecall\")\n",
    "recall = recall_score.evaluate(lr_pred_train)\n",
    "print(\"Train Set Recall Score = %g\" % (recall))\n",
    "\n",
    "precision_score=MulticlassClassificationEvaluator(\n",
    "    labelCol=\"position\", predictionCol=\"prediction\", metricName=\"weightedPrecision\")\n",
    "precision = precision_score.evaluate(lr_pred_train)\n",
    "print(\"Train Set Precision Score = %g\" % (precision))\n",
    "\n",
    "\n",
    "#param for metric name in evaluation (supports \"f1\" (default), \"weightedPrecision\", \"weightedRecall\", \"accuracy\")"
   ]
  },
  {
   "cell_type": "markdown",
   "metadata": {},
   "source": [
    "# HyperParameter Tuning"
   ]
  },
  {
   "cell_type": "code",
   "execution_count": null,
   "metadata": {},
   "outputs": [],
   "source": [
    "#Logistic Pipleine for Parameter Tuning\n",
    "lr_base = LogisticRegression(featuresCol='scaledFeatures', labelCol = 'position') \n",
    "logistic_pipeline = Pipeline(stages=[assembler, scaler, lr_base]) #Pipeline"
   ]
  },
  {
   "cell_type": "code",
   "execution_count": null,
   "metadata": {
    "scrolled": true
   },
   "outputs": [],
   "source": [
    "from pyspark.ml.tuning import CrossValidator, ParamGridBuilder\n",
    "\n",
    "#Grid of Parameters, Crossvalidation will select the best parameters\n",
    "paramGrid = ParamGridBuilder()\\\n",
    "    .addGrid(lr_base.maxIter, [10, 50, 100]) \\\n",
    "    .addGrid(lr_base.regParam, [0.1, 0.01]) \\\n",
    "    .addGrid(lr_base.elasticNetParam, [0.0, 0.5, 1.0])\\\n",
    "    .build()\n",
    "\n",
    "crossval = CrossValidator(estimator=logistic_pipeline,\n",
    "                          estimatorParamMaps=paramGrid,\n",
    "                          evaluator=MulticlassClassificationEvaluator(labelCol = 'position', predictionCol='prediction',metricName='accuracy'),\n",
    "                          numFolds=5)  # using 5 folds\n",
    "\n"
   ]
  },
  {
   "cell_type": "code",
   "execution_count": null,
   "metadata": {},
   "outputs": [],
   "source": [
    "# Run cross-validation, and choose the best set of parameters with Train Data. \n",
    "#Trains a total 90 models\n",
    "cvModel = crossval.fit(train_data)\n"
   ]
  },
  {
   "cell_type": "code",
   "execution_count": null,
   "metadata": {},
   "outputs": [],
   "source": [
    "# Make predictions on test documents. cvModel uses the best model found (lrModel).\n",
    "Cvtest_predict = cvModel.transform(test_data)\n",
    "selected = Cvtest_predict.select(\"position\", \"prediction\")\n",
    "for row in selected.collect():\n",
    "    print(row)\n",
    "    "
   ]
  },
  {
   "cell_type": "code",
   "execution_count": null,
   "metadata": {},
   "outputs": [],
   "source": [
    "# Make predictions on TRAIN documents. cvModel uses the best model found (lrModel).\n",
    "Cvtrain_predict = cvModel.transform(train_data)\n",
    "selected_train = Cvtrain_predict.select(\"position\", \"prediction\")\n",
    "for row in selected.collect():\n",
    "    print(row)\n",
    "    "
   ]
  },
  {
   "cell_type": "code",
   "execution_count": null,
   "metadata": {},
   "outputs": [],
   "source": [
    "#Best parameters chosen from cross validated model\n",
    "x=cvModel.bestModel.stages[-1]._java_obj.parent().getRegParam()\n",
    "y=cvModel.bestModel.stages[-1]._java_obj.parent().getElasticNetParam()\n",
    "z=cvModel.bestModel.stages[-1]._java_obj.parent().getMaxIter()\n",
    "\n",
    "print(\"The Best RegParam is:\" + str(x))\n",
    "print(\"The Best ElasticNetParam is: \" + str(y))\n",
    "print(\"The Best MaxIter is: \" + str(z))\n",
    "print(\"We note that the model chosen is a Ridge Model\")"
   ]
  },
  {
   "cell_type": "code",
   "execution_count": null,
   "metadata": {},
   "outputs": [],
   "source": [
    "#confusion matrix miss-accuracy per class\n",
    "confusion_matrix(Cvtrain_predict)"
   ]
  },
  {
   "cell_type": "code",
   "execution_count": null,
   "metadata": {},
   "outputs": [],
   "source": [
    "#calculating training error \n",
    "test=MulticlassClassificationEvaluator(\n",
    "    labelCol=\"position\", predictionCol=\"prediction\", metricName=\"accuracy\")\n",
    "CvTrain_error = test.evaluate(Cvtrain_predict)\n",
    "print(\"Training Error = %g\" % (1.0 - CvTrain_error))\n"
   ]
  },
  {
   "cell_type": "code",
   "execution_count": null,
   "metadata": {},
   "outputs": [],
   "source": [
    "#calculating test error \n",
    "test=MulticlassClassificationEvaluator(\n",
    "    labelCol=\"position\", predictionCol=\"prediction\", metricName=\"accuracy\")\n",
    "CvTest_error = test.evaluate(Cvtest_predict)\n",
    "print(\"Test Error = %g\" % (1.0 - CvTest_error))"
   ]
  },
  {
   "cell_type": "code",
   "execution_count": null,
   "metadata": {},
   "outputs": [],
   "source": [
    "#Metrics for Tuned model\n",
    "\n",
    "f1_score=MulticlassClassificationEvaluator(\n",
    "    labelCol=\"position\", predictionCol=\"prediction\", metricName=\"f1\")\n",
    "f1 = f1_score.evaluate(Cvtest_predict)\n",
    "print(\"Test Set F1 Score = %g\" % (f1))\n",
    "\n",
    "recall_score=MulticlassClassificationEvaluator(\n",
    "    labelCol=\"position\", predictionCol=\"prediction\", metricName=\"weightedRecall\")\n",
    "recall = recall_score.evaluate(Cvtest_predict)\n",
    "print(\"Test Set Recall Score = %g\" % (recall))\n",
    "\n",
    "precision_score=MulticlassClassificationEvaluator(\n",
    "    labelCol=\"position\", predictionCol=\"prediction\", metricName=\"weightedPrecision\")\n",
    "precision = precision_score.evaluate(Cvtest_predict)\n",
    "print(\"Test Set Precision Score = %g\" % (precision))\n",
    "\n",
    "\n",
    "#param for metric name in evaluation (supports \"f1\" (default), \"weightedPrecision\", \"weightedRecall\", \"accuracy\")"
   ]
  },
  {
   "cell_type": "markdown",
   "metadata": {},
   "source": [
    "# One Vs Rest"
   ]
  },
  {
   "cell_type": "code",
   "execution_count": null,
   "metadata": {},
   "outputs": [],
   "source": [
    "from pyspark.ml.classification import LogisticRegression, OneVsRest\n",
    "from pyspark.ml.evaluation import MulticlassClassificationEvaluator\n",
    "\n",
    "train_vectorized = train_vectorized.withColumnRenamed('labels', \"label\")\n",
    "test_vectorized = train_vectorized.withColumnRenamed('labels', \"label\")\n",
    "\n",
    "lr = LogisticRegression(featuresCol='features', labelCol = 'position',maxIter=10, tol=1E-6, fitIntercept=True)\n",
    "ovr = OneVsRest(classifier=lr)\n",
    "ovrModel = ovr.fit(train_vectorized)\n",
    "predictions = ovrModel.transform(test_vectorized)\n",
    "\n",
    "evaluator = MulticlassClassificationEvaluator(metricName=\"accuracy\")\n",
    "accuracy = evaluator.evaluate(predictions)\n",
    "print(\"Test Error = %g\" % (1.0 - accuracy))\n",
    "\n",
    "train_vectorized = train_vectorized.withColumnRenamed('label', \"position\")\n",
    "test_vectorized = train_vectorized.withColumnRenamed('label', \"position\")"
   ]
  },
  {
   "cell_type": "markdown",
   "metadata": {},
   "source": [
    "# Question 2: Which action \"category\" has the most predictive power?\n",
    "(ie time-based Body acceleration, frequency-based Body acceleration, Gyro, angle, ect)"
   ]
  },
  {
   "cell_type": "code",
   "execution_count": null,
   "metadata": {},
   "outputs": [],
   "source": [
    "#splits the header column on dashes, and creates a data frame with each of the elements\n",
    "\n",
    "split_col = F.split(df_header['1'], '-')\n",
    "df_header = df_header.withColumn('Main', split_col.getItem(0))\n",
    "df_header = df_header.withColumn('Seconded', split_col.getItem(1)) #Kevin"
   ]
  },
  {
   "cell_type": "code",
   "execution_count": null,
   "metadata": {
    "scrolled": true
   },
   "outputs": [],
   "source": [
    "df_header.show()"
   ]
  },
  {
   "cell_type": "code",
   "execution_count": null,
   "metadata": {},
   "outputs": [],
   "source": [
    "#count the number of unique elements in the \"main\" column of the header df\n",
    "header_summary=df_header.groupBy('Main').count()\n",
    "header_summary.count()                               #Kevin\n",
    "              "
   ]
  },
  {
   "cell_type": "code",
   "execution_count": null,
   "metadata": {},
   "outputs": [],
   "source": [
    "#show the unique elements in \"main\" by count (show all 24 of them)\n",
    "    # we note that there are \"bins\" we can look at, which we specify in final_group_names below\n",
    "    # also, our code was unable to parse the \"angle\" columns directly, so we will do those separately\n",
    "header_summary_ordered = header_summary.orderBy('count',ascending = False)      #Kevin\n",
    "header_summary_ordered.show(24)"
   ]
  },
  {
   "cell_type": "code",
   "execution_count": null,
   "metadata": {},
   "outputs": [],
   "source": [
    "#create vector with the \"group names\" as entries\n",
    "    #first 17 are all the non-angle names. we only want these, since we are treating angles separately\n",
    "    \n",
    "header_split_names = header_summary_ordered.select('Main').rdd.map(lambda row : row[0]).collect()[1:17]\n",
    "final_group_names = [\"fBodyAcc\", \"tBodyGyro\", \"tBodyAcc\", \"fBodyBody\", \"tGravityAcc\"]"
   ]
  },
  {
   "cell_type": "code",
   "execution_count": null,
   "metadata": {},
   "outputs": [],
   "source": [
    "#since our regex above doesn't deal with the angle format, we treat them separately\n",
    "    #so we want to pull them out of our dataset so we can deal with everything else first\n",
    "\n",
    "angle_cols = [s for s in train_data.columns if 'angle' in s]\n",
    "train_data_without_angles = train_data.select([a for a in train_data.columns if a not in angle_cols])"
   ]
  },
  {
   "cell_type": "code",
   "execution_count": null,
   "metadata": {},
   "outputs": [],
   "source": [
    "# creates a list, where each element is a data frame in one of the group names in final_group_names, plus an element for \"angle\" columns\n",
    "\n",
    "df_list = []\n",
    "for name in final_group_names:\n",
    "    selected = [s for s in train_data_without_angles.columns if name in s] + [\"position\"]\n",
    "    df_list.append(train_data_without_angles.select(selected))\n",
    "    \n",
    "    \n",
    "# we ignored angles until now, so we append the angle dataframe separately\n",
    "#train_x.select(\"column\").where(\"column like '%fBodyGyro%'\")\n",
    "angle_cols = [s for s in train_data.columns if 'angle' in s] + [\"position\"]\n",
    "\n",
    "#add \n",
    "df_list.append(train_data.select(angle_cols))\n",
    "final_group_names.append(\"angle\")"
   ]
  },
  {
   "cell_type": "code",
   "execution_count": null,
   "metadata": {},
   "outputs": [],
   "source": [
    "#run a random forest on each of the category dataframes, and evaluate their predictive performance\n",
    "    #this tells us roughly how important each \"category\" is\n",
    "\n",
    "category_accuracy = []\n",
    "rfSetup_split = RandomForestClassifier(labelCol=\"position\", featuresCol=\"scaledFeatures\", numTrees=100, seed = 1)\n",
    "assembler_split = VectorAssembler(inputCols = df_list[0].columns[0:-1], outputCol = \"features\")\n",
    "\n",
    "for i in range(6):    \n",
    "    assembler_split = VectorAssembler(inputCols = df_list[i].columns[0:-1], outputCol = \"features\")\n",
    "    train_split = assembler_split.transform(df_list[i])\n",
    "    train_split = train_split.select(\"features\", \"position\")\n",
    "\n",
    "    #using the same standardScalar setup as the full dataset (scaler) \n",
    "    scalerModel_train_split = scaler.fit(train_split)\n",
    "    train_split = scalerModel_train_split.transform(train_split)\n",
    "\n",
    "    rfModel_split = rfSetup_split.fit(train_split)\n",
    "\n",
    "    train_split_pred_rf = rfModel_split.transform(train_split)\n",
    "    train_split_accuracy_rf = evaluator_rf.evaluate(train_split_pred_rf)\n",
    "    category_accuracy.append((1.0 - train_split_accuracy_rf, final_group_names[i]))"
   ]
  },
  {
   "cell_type": "code",
   "execution_count": null,
   "metadata": {},
   "outputs": [],
   "source": [
    "category_accuracy"
   ]
  },
  {
   "cell_type": "code",
   "execution_count": null,
   "metadata": {
    "scrolled": true
   },
   "outputs": [],
   "source": [
    "header_summary.groupBy(\"Main\").count().rdd.values().histogram(20)   #Kevin"
   ]
  },
  {
   "cell_type": "code",
   "execution_count": null,
   "metadata": {},
   "outputs": [],
   "source": [
    "import matplotlib.pyplot\n",
    "\n",
    "header_barplot= df_header.toPandas()                    # converted to pandas since easier, RDD tricky\n",
    "header_barplot['Main'].value_counts().plot(kind='bar')  #Visualize Main Variable count\n",
    "                                                        #Kevin"
   ]
  },
  {
   "cell_type": "markdown",
   "metadata": {},
   "source": [
    "# Look for class imbalance"
   ]
  },
  {
   "cell_type": "code",
   "execution_count": null,
   "metadata": {},
   "outputs": [],
   "source": [
    "#count the number of activites done\n",
    "y_train_summary=train_y.groupBy('position').count()      \n",
    "y_train_summary.count()     # total activities                                                  #kevin"
   ]
  },
  {
   "cell_type": "code",
   "execution_count": null,
   "metadata": {},
   "outputs": [],
   "source": [
    "#look for class imbalance in how much each activity was done.\n",
    "y_train_summary.show()"
   ]
  },
  {
   "cell_type": "code",
   "execution_count": null,
   "metadata": {},
   "outputs": [],
   "source": [
    "y_train_summary_dist = y_train_summary.orderBy('count', ascending = False)\n",
    "y_train_summary_dist.show()"
   ]
  },
  {
   "cell_type": "code",
   "execution_count": null,
   "metadata": {},
   "outputs": [],
   "source": [
    "# add a column for proportion\n",
    "sum_counts = train_y.count()\n",
    "y_train_summary_dist.withColumn('Frequency (%)', F.round(y_train_summary_dist[1]/sum_counts * 100, 2)).show()\n"
   ]
  },
  {
   "cell_type": "code",
   "execution_count": null,
   "metadata": {},
   "outputs": [],
   "source": [
    "y_train_barplot= train_y.toPandas()                    # converted to pandas since easier, RDD tricky\n",
    "y_train_barplot['position'].value_counts().plot(kind='bar')      #maybe nicer if we change x axis to display activity label?"
   ]
  },
  {
   "cell_type": "code",
   "execution_count": null,
   "metadata": {},
   "outputs": [],
   "source": [
    "y_test_summary=df_test_labels.groupBy('position').count()       #0 is column name\n",
    "y_test_summary.count()     # total activities "
   ]
  },
  {
   "cell_type": "code",
   "execution_count": null,
   "metadata": {},
   "outputs": [],
   "source": [
    "import matplotlib.pyplot\n",
    "y_train_bar=y_train_barplot['position'].value_counts() #data read\n",
    "increment=[1,2,3,4,5,6]\n",
    "names=['laying','standing','sitting','walking','walking\\ndownstairs','walking\\nupstairs']\n",
    "matplotlib.pyplot.bar(increment, y_train_bar, align='center', alpha=0.5, color='c') #Barplot\n",
    "matplotlib.pyplot.xticks(increment,names)\n",
    "matplotlib.pyplot.ylabel('Counts')\n",
    "matplotlib.pyplot.xlabel('Positions')\n",
    "matplotlib.pyplot.title('Acitivity position distribution')\n",
    "matplotlib.pyplot.show()\n",
    "\n",
    "#how are the positiosn distributed?"
   ]
  },
  {
   "cell_type": "code",
   "execution_count": null,
   "metadata": {},
   "outputs": [],
   "source": [
    "y_test_summary.show()"
   ]
  },
  {
   "cell_type": "code",
   "execution_count": null,
   "metadata": {},
   "outputs": [],
   "source": [
    "y_test_summary.orderBy('count', ascending=False).show()      #ordered from biggest to smallest\n",
    "                                                            # kevin"
   ]
  },
  {
   "cell_type": "code",
   "execution_count": null,
   "metadata": {},
   "outputs": [],
   "source": [
    "y_test_barplot= df_test_labels.toPandas()                    # converted to pandas since easier, RDD tricky\n",
    "y_test_barplot['position'].value_counts().plot(kind='bar')     #Kevin\n",
    "Y_test_bar=y_test_barplot['position'].value_counts()"
   ]
  },
  {
   "cell_type": "code",
   "execution_count": null,
   "metadata": {},
   "outputs": [],
   "source": [
    "increment=[1,2,3,4,5,6]\n",
    "names=['laying','standing','sitting','walking','walking\\ndownstairs','walking\\nupstairs']\n",
    "matplotlib.pyplot.bar(increment, Y_test_bar, align='center', alpha=0.5, color='c') #Barplot\n",
    "matplotlib.pyplot.xticks(increment,names)\n",
    "matplotlib.pyplot.ylabel('Counts')\n",
    "matplotlib.pyplot.xlabel('Positions')\n",
    "matplotlib.pyplot.title('Acitivity position distribution')\n",
    "matplotlib.pyplot.show()"
   ]
  },
  {
   "cell_type": "code",
   "execution_count": null,
   "metadata": {},
   "outputs": [],
   "source": [
    "id_labels=df_complete_merge.select('id','position')\n",
    "walkdown=id_labels.filter(id_labels['position']==5).groupBy('id').count().orderBy('id', ascending=True).drop('id').toPandas() #only walking\n",
    "walkup=id_labels.filter(id_labels['position']==6).groupBy('id').count().orderBy('id',ascending=True).drop('id').toPandas()\n",
    "#the two datasets are sorted by ascending order ex: 0-30\n",
    "#the two datasets are counted already, by id\n",
    "#the two datasets contains only walking up or walking down"
   ]
  }
 ],
 "metadata": {
  "kernelspec": {
   "display_name": "Python 3",
   "language": "python",
   "name": "python3"
  },
  "language_info": {
   "codemirror_mode": {
    "name": "ipython",
    "version": 3
   },
   "file_extension": ".py",
   "mimetype": "text/x-python",
   "name": "python",
   "nbconvert_exporter": "python",
   "pygments_lexer": "ipython3",
   "version": "3.6.8"
  }
 },
 "nbformat": 4,
 "nbformat_minor": 2
}
