{
 "cells": [
  {
   "cell_type": "markdown",
   "metadata": {},
   "source": [
    "# Create SparkSession, import packages"
   ]
  },
  {
   "cell_type": "markdown",
   "metadata": {},
   "source": [
    "### To update git hub\n",
    "### git pull\n",
    "### git add *\n",
    "### git commit -m \"Insert you change message\"\n",
    "### git push origin master"
   ]
  },
  {
   "cell_type": "markdown",
   "metadata": {},
   "source": [
    "# To Do:\n",
    "* combine the data with the features file, to get a header\n",
    "* do variable selection and transformation\n",
    "* spit out a final `.csv` to use for modeling"
   ]
  },
  {
   "cell_type": "markdown",
   "metadata": {},
   "source": [
    "# Ideas\n",
    "* look at the data via kmeans with 6 clusters?\n",
    "* compute AUC on each variable to see which are important? (after regressing on the var)\n",
    "* create variables that are combinations of other variables\n",
    "* look for outliers and then run pca before clustering?\n",
    "* run multinomial regression with elastic net? (with k-fold cv)\n",
    "* or maybe try neural nets?\n",
    "* something time series?\n"
   ]
  },
  {
   "cell_type": "code",
   "execution_count": 116,
   "metadata": {},
   "outputs": [],
   "source": [
    "from pyspark.sql import SparkSession, SQLContext\n",
    "import pyspark.sql.types as typ\n",
    "import pyspark.sql.functions as F\n",
    "import os\n",
    "import pandas as pd\n",
    "from pyspark.mllib.linalg import Vectors\n",
    "from pyspark.mllib.linalg.distributed import RowMatrix\n",
    "\n",
    "spark = SparkSession \\\n",
    "    .builder \\\n",
    "    .master(\"local[*]\") \\\n",
    "    .appName(\"xor\") \\\n",
    "    .config(\"spark.executor.memory\", '2g') \\\n",
    "    .config('spark.executor.cores', '1') \\\n",
    "    .config('spark.cores.max', '1') \\\n",
    "    .config(\"spark.driver.memory\",'1g') \\\n",
    "    .getOrCreate()\n",
    "\n",
    "sc = spark.sparkContext\n",
    "sqlCtx = SQLContext(sc)"
   ]
  },
  {
   "cell_type": "markdown",
   "metadata": {},
   "source": [
    "# Read in Data"
   ]
  },
  {
   "cell_type": "code",
   "execution_count": 23,
   "metadata": {},
   "outputs": [],
   "source": [
    "#read in with pandas first since the data is weirdly delimited\n",
    "#train features\n",
    "pandas_train_features = pd.read_csv(\"Data/X_train.txt\", sep='\\s+',header=None)\n",
    "#conversion to spark df\n",
    "df_train_features = sqlCtx.createDataFrame(pandas_train_features)"
   ]
  },
  {
   "cell_type": "code",
   "execution_count": 24,
   "metadata": {},
   "outputs": [],
   "source": [
    "#training labels\n",
    "pandas_train_labels = pd.read_csv(\"Data/y_train.txt\", sep='\\s+',header=None)\n",
    "pandas_train_labels.columns=['position']\n",
    "#conversion to spark df\n",
    "df_train_labels = sqlCtx.createDataFrame(pandas_train_labels)"
   ]
  },
  {
   "cell_type": "code",
   "execution_count": 25,
   "metadata": {},
   "outputs": [],
   "source": [
    "#test features\n",
    "pandas_test_features = pd.read_csv(\"Data/X_test.txt\", sep='\\s+',header=None)\n",
    "#conversion to spark df\n",
    "df_test_features = sqlCtx.createDataFrame(pandas_test_features)"
   ]
  },
  {
   "cell_type": "code",
   "execution_count": 26,
   "metadata": {},
   "outputs": [],
   "source": [
    "#test labels\n",
    "pandas_test_labels = pd.read_csv(\"Data/y_test.txt\", sep='\\s+',header=None)\n",
    "pandas_test_labels.columns=['position']\n",
    "#conversion to spark df\n",
    "df_test_labels = sqlCtx.createDataFrame(pandas_test_labels)"
   ]
  },
  {
   "cell_type": "code",
   "execution_count": 27,
   "metadata": {},
   "outputs": [],
   "source": [
    "#header\n",
    "pandas_header = pd.read_csv(\"Data/features.txt\", sep='\\s+',header=None)\n",
    "#conversion to spark df. this has an index column, so we deselect it\n",
    "df_header = sqlCtx.createDataFrame(pandas_header)\n"
   ]
  },
  {
   "cell_type": "code",
   "execution_count": 28,
   "metadata": {},
   "outputs": [],
   "source": [
    "#pull out the header names. \"id\" is an identifier, and \"position\" is the label\n",
    "df_header_names = [\"id\"] + df_header.select('1').rdd.map(lambda row : row[0]).collect() + [\"position\"]"
   ]
  },
  {
   "cell_type": "code",
   "execution_count": 29,
   "metadata": {},
   "outputs": [],
   "source": [
    "#reading subject number in\n",
    "panda_sub_train=pd.read_csv(\"Data/subject_train.txt\",sep='\\s+',header=None)\n",
    "panda_sub_train.columns=['id']\n",
    "\n",
    "panda_sub_test=pd.read_csv(\"Data/subject_test.txt\",sep='\\s+',header=None)\n",
    "panda_sub_test.columns=['id']\n",
    "df_sub_train=sqlCtx.createDataFrame(panda_sub_train)\n",
    "df_sub_test=sqlCtx.createDataFrame(panda_sub_test)"
   ]
  },
  {
   "cell_type": "markdown",
   "metadata": {},
   "source": [
    "# Merge header, id, features, and label, and split into training/test set"
   ]
  },
  {
   "cell_type": "code",
   "execution_count": 30,
   "metadata": {},
   "outputs": [],
   "source": [
    "#merge x feature files with subject id\n",
    "merged_train=pd.merge(panda_sub_train,pandas_train_features, right_index=True, left_index=True)\n",
    "merged_test=pd.merge(panda_sub_test,pandas_test_features, right_index=True, left_index=True)\n",
    "\n",
    "#transform to df\n",
    "df_merged_train_features=sqlCtx.createDataFrame(merged_train)\n",
    "df_merged_test_features=sqlCtx.createDataFrame(merged_test)"
   ]
  },
  {
   "cell_type": "code",
   "execution_count": 31,
   "metadata": {},
   "outputs": [],
   "source": [
    "#merge train files with subject id, testing and training sets\n",
    "#Dennis\n",
    "#pd.concat([df_a, df_b], axis=1) example\n",
    "mergetrain=pd.concat([merged_train,pandas_train_labels],axis=1)\n",
    "mergetest=pd.concat([merged_test,pandas_test_labels],axis=1)\n",
    "\n",
    "#combine train and test to resplit into 80-20\n",
    "combine=pd.concat([mergetrain,mergetest],axis=0)"
   ]
  },
  {
   "cell_type": "code",
   "execution_count": 32,
   "metadata": {},
   "outputs": [],
   "source": [
    "#convert into SparkDF\n",
    "df_complete_merge=sqlCtx.createDataFrame(combine)\n",
    "\n",
    "#resplit data to 80:20\n",
    "(train_data, test_data)=df_complete_merge.randomSplit(seed=314,weights=[0.8,0.2])"
   ]
  },
  {
   "cell_type": "code",
   "execution_count": 33,
   "metadata": {},
   "outputs": [],
   "source": [
    "#add headers\n",
    "#note: train_data is what we're using as our \"primary\" dataset\n",
    "train_data = train_data.toDF(*df_header_names)\n",
    "\n",
    "test_data = test_data.toDF(*df_header_names)\n"
   ]
  },
  {
   "cell_type": "code",
   "execution_count": 90,
   "metadata": {},
   "outputs": [],
   "source": [
    "##remove bandEnergy columns because they are not unique. They represent the \"intensity\" of activity in the frequency domain.\n",
    "\n",
    "# first, we pull out the columns that have bandsEnergy in them\n",
    "train_band_cols = [s for s in train_data.columns if 'bandsEnergy' in s]\n",
    "test_band_cols = [s for s in test_data.columns if 'bandsEnergy' in s]\n",
    "\n",
    "# then, we pull out these columns out of the data\n",
    "train_data = train_data.select([a for a in train_data.columns if a not in train_band_cols])\n",
    "test_data = test_data.select([a for a in test_data.columns if a not in test_band_cols])\n"
   ]
  },
  {
   "cell_type": "code",
   "execution_count": 91,
   "metadata": {},
   "outputs": [],
   "source": [
    "#split into features (x) and labels (y)\n",
    "    #note that the label is the \"position\" column\n",
    "train_x = train_data.drop(\"position\")\n",
    "train_y = train_data.select(\"position\") \n",
    "\n",
    "test_x = test_data.drop(\"position\")\n",
    "test_y = test_data.select(\"position\")"
   ]
  },
  {
   "cell_type": "code",
   "execution_count": 76,
   "metadata": {},
   "outputs": [
    {
     "name": "stdout",
     "output_type": "stream",
     "text": [
      "+--------+\n",
      "|position|\n",
      "+--------+\n",
      "|       6|\n",
      "|       6|\n",
      "|       6|\n",
      "|       6|\n",
      "|       6|\n",
      "+--------+\n",
      "only showing top 5 rows\n",
      "\n"
     ]
    }
   ],
   "source": [
    "train_x.show(5)"
   ]
  },
  {
   "cell_type": "markdown",
   "metadata": {},
   "source": [
    "# Data exploration (looking for NA, summary stats, counts, )"
   ]
  },
  {
   "cell_type": "code",
   "execution_count": 92,
   "metadata": {},
   "outputs": [
    {
     "name": "stdout",
     "output_type": "stream",
     "text": [
      "+---+-----------------+-----------------+-----------------+----------------+----------------+----------------+----------------+----------------+----------------+----------------+----------------+----------------+----------------+----------------+----------------+--------------+-------------------+-------------------+-------------------+----------------+----------------+----------------+--------------------+--------------------+--------------------+----------------------+----------------------+----------------------+----------------------+----------------------+----------------------+----------------------+----------------------+----------------------+----------------------+----------------------+----------------------+--------------------------+--------------------------+--------------------------+--------------------+--------------------+--------------------+-------------------+-------------------+-------------------+-------------------+-------------------+-------------------+-------------------+-------------------+-------------------+-------------------+-------------------+-------------------+-----------------+----------------------+----------------------+----------------------+-------------------+-------------------+-------------------+-----------------------+-----------------------+-----------------------+-------------------------+-------------------------+-------------------------+-------------------------+-------------------------+-------------------------+-------------------------+-------------------------+-------------------------+-------------------------+-------------------------+-------------------------+-----------------------------+-----------------------------+-----------------------------+---------------------+---------------------+---------------------+--------------------+--------------------+--------------------+--------------------+--------------------+--------------------+--------------------+--------------------+--------------------+--------------------+--------------------+--------------------+------------------+-----------------------+-----------------------+-----------------------+--------------------+--------------------+--------------------+------------------------+------------------------+------------------------+--------------------------+--------------------------+--------------------------+--------------------------+--------------------------+--------------------------+--------------------------+--------------------------+--------------------------+--------------------------+--------------------------+--------------------------+------------------------------+------------------------------+------------------------------+------------------+------------------+------------------+-----------------+-----------------+-----------------+-----------------+-----------------+-----------------+-----------------+-----------------+-----------------+-----------------+-----------------+-----------------+---------------+--------------------+--------------------+--------------------+-----------------+-----------------+-----------------+---------------------+---------------------+---------------------+-----------------------+-----------------------+-----------------------+-----------------------+-----------------------+-----------------------+-----------------------+-----------------------+-----------------------+-----------------------+-----------------------+-----------------------+---------------------------+---------------------------+---------------------------+----------------------+----------------------+----------------------+---------------------+---------------------+---------------------+---------------------+---------------------+---------------------+---------------------+---------------------+---------------------+---------------------+---------------------+---------------------+-------------------+------------------------+------------------------+------------------------+---------------------+---------------------+---------------------+-------------------------+-------------------------+-------------------------+---------------------------+---------------------------+---------------------------+---------------------------+---------------------------+---------------------------+---------------------------+---------------------------+---------------------------+---------------------------+---------------------------+---------------------------+-------------------------------+-------------------------------+-------------------------------+------------------+-----------------+-----------------+-----------------+-----------------+-----------------+--------------------+-----------------+---------------------+----------------------+----------------------+----------------------+----------------------+---------------------+--------------------+--------------------+--------------------+--------------------+--------------------+-----------------------+--------------------+------------------------+-------------------------+-------------------------+-------------------------+-------------------------+----------------------+---------------------+---------------------+---------------------+---------------------+---------------------+------------------------+---------------------+-------------------------+--------------------------+--------------------------+--------------------------+--------------------------+-------------------+------------------+------------------+------------------+------------------+------------------+---------------------+------------------+----------------------+-----------------------+-----------------------+-----------------------+-----------------------+-----------------------+----------------------+----------------------+----------------------+----------------------+----------------------+-------------------------+----------------------+--------------------------+---------------------------+---------------------------+---------------------------+---------------------------+-----------------+-----------------+-----------------+----------------+----------------+----------------+----------------+----------------+----------------+----------------+----------------+----------------+----------------+----------------+----------------+--------------+-------------------+-------------------+-------------------+----------------+----------------+----------------+--------------------+--------------------+--------------------+------------------+------------------+------------------+---------------------+---------------------+---------------------+---------------------+---------------------+---------------------+---------------------+---------------------+---------------------+---------------------+---------------------+---------------------+--------------------+--------------------+--------------------+--------------------+--------------------+--------------------+--------------------+--------------------+--------------------+--------------------+--------------------+--------------------+------------------+-----------------------+-----------------------+-----------------------+--------------------+--------------------+--------------------+------------------------+------------------------+------------------------+----------------------+----------------------+----------------------+-------------------------+-------------------------+-------------------------+-------------------------+-------------------------+-------------------------+-------------------------+-------------------------+-------------------------+------------------+------------------+------------------+-----------------+-----------------+-----------------+-----------------+-----------------+-----------------+-----------------+-----------------+-----------------+-----------------+-----------------+-----------------+---------------+--------------------+--------------------+--------------------+-----------------+-----------------+-----------------+---------------------+---------------------+---------------------+-------------------+-------------------+-------------------+----------------------+----------------------+----------------------+----------------------+----------------------+----------------------+----------------------+----------------------+----------------------+------------------+-----------------+-----------------+-----------------+-----------------+-----------------+--------------------+-----------------+---------------------+-------------------+----------------------+----------------------+----------------------+--------------------------+-------------------------+-------------------------+-------------------------+-------------------------+-------------------------+----------------------------+-------------------------+-----------------------------+---------------------------+------------------------------+------------------------------+------------------------------+-----------------------+----------------------+----------------------+----------------------+----------------------+----------------------+-------------------------+----------------------+--------------------------+------------------------+---------------------------+---------------------------+---------------------------+---------------------------+--------------------------+--------------------------+--------------------------+--------------------------+--------------------------+-----------------------------+--------------------------+------------------------------+----------------------------+-------------------------------+-------------------------------+-------------------------------+---------------------------+------------------------------------+--------------------------------+------------------------------------+--------------------+--------------------+--------------------+\n",
      "| id|tBodyAcc-mean()-X|tBodyAcc-mean()-Y|tBodyAcc-mean()-Z|tBodyAcc-std()-X|tBodyAcc-std()-Y|tBodyAcc-std()-Z|tBodyAcc-mad()-X|tBodyAcc-mad()-Y|tBodyAcc-mad()-Z|tBodyAcc-max()-X|tBodyAcc-max()-Y|tBodyAcc-max()-Z|tBodyAcc-min()-X|tBodyAcc-min()-Y|tBodyAcc-min()-Z|tBodyAcc-sma()|tBodyAcc-energy()-X|tBodyAcc-energy()-Y|tBodyAcc-energy()-Z|tBodyAcc-iqr()-X|tBodyAcc-iqr()-Y|tBodyAcc-iqr()-Z|tBodyAcc-entropy()-X|tBodyAcc-entropy()-Y|tBodyAcc-entropy()-Z|tBodyAcc-arCoeff()-X,1|tBodyAcc-arCoeff()-X,2|tBodyAcc-arCoeff()-X,3|tBodyAcc-arCoeff()-X,4|tBodyAcc-arCoeff()-Y,1|tBodyAcc-arCoeff()-Y,2|tBodyAcc-arCoeff()-Y,3|tBodyAcc-arCoeff()-Y,4|tBodyAcc-arCoeff()-Z,1|tBodyAcc-arCoeff()-Z,2|tBodyAcc-arCoeff()-Z,3|tBodyAcc-arCoeff()-Z,4|tBodyAcc-correlation()-X,Y|tBodyAcc-correlation()-X,Z|tBodyAcc-correlation()-Y,Z|tGravityAcc-mean()-X|tGravityAcc-mean()-Y|tGravityAcc-mean()-Z|tGravityAcc-std()-X|tGravityAcc-std()-Y|tGravityAcc-std()-Z|tGravityAcc-mad()-X|tGravityAcc-mad()-Y|tGravityAcc-mad()-Z|tGravityAcc-max()-X|tGravityAcc-max()-Y|tGravityAcc-max()-Z|tGravityAcc-min()-X|tGravityAcc-min()-Y|tGravityAcc-min()-Z|tGravityAcc-sma()|tGravityAcc-energy()-X|tGravityAcc-energy()-Y|tGravityAcc-energy()-Z|tGravityAcc-iqr()-X|tGravityAcc-iqr()-Y|tGravityAcc-iqr()-Z|tGravityAcc-entropy()-X|tGravityAcc-entropy()-Y|tGravityAcc-entropy()-Z|tGravityAcc-arCoeff()-X,1|tGravityAcc-arCoeff()-X,2|tGravityAcc-arCoeff()-X,3|tGravityAcc-arCoeff()-X,4|tGravityAcc-arCoeff()-Y,1|tGravityAcc-arCoeff()-Y,2|tGravityAcc-arCoeff()-Y,3|tGravityAcc-arCoeff()-Y,4|tGravityAcc-arCoeff()-Z,1|tGravityAcc-arCoeff()-Z,2|tGravityAcc-arCoeff()-Z,3|tGravityAcc-arCoeff()-Z,4|tGravityAcc-correlation()-X,Y|tGravityAcc-correlation()-X,Z|tGravityAcc-correlation()-Y,Z|tBodyAccJerk-mean()-X|tBodyAccJerk-mean()-Y|tBodyAccJerk-mean()-Z|tBodyAccJerk-std()-X|tBodyAccJerk-std()-Y|tBodyAccJerk-std()-Z|tBodyAccJerk-mad()-X|tBodyAccJerk-mad()-Y|tBodyAccJerk-mad()-Z|tBodyAccJerk-max()-X|tBodyAccJerk-max()-Y|tBodyAccJerk-max()-Z|tBodyAccJerk-min()-X|tBodyAccJerk-min()-Y|tBodyAccJerk-min()-Z|tBodyAccJerk-sma()|tBodyAccJerk-energy()-X|tBodyAccJerk-energy()-Y|tBodyAccJerk-energy()-Z|tBodyAccJerk-iqr()-X|tBodyAccJerk-iqr()-Y|tBodyAccJerk-iqr()-Z|tBodyAccJerk-entropy()-X|tBodyAccJerk-entropy()-Y|tBodyAccJerk-entropy()-Z|tBodyAccJerk-arCoeff()-X,1|tBodyAccJerk-arCoeff()-X,2|tBodyAccJerk-arCoeff()-X,3|tBodyAccJerk-arCoeff()-X,4|tBodyAccJerk-arCoeff()-Y,1|tBodyAccJerk-arCoeff()-Y,2|tBodyAccJerk-arCoeff()-Y,3|tBodyAccJerk-arCoeff()-Y,4|tBodyAccJerk-arCoeff()-Z,1|tBodyAccJerk-arCoeff()-Z,2|tBodyAccJerk-arCoeff()-Z,3|tBodyAccJerk-arCoeff()-Z,4|tBodyAccJerk-correlation()-X,Y|tBodyAccJerk-correlation()-X,Z|tBodyAccJerk-correlation()-Y,Z|tBodyGyro-mean()-X|tBodyGyro-mean()-Y|tBodyGyro-mean()-Z|tBodyGyro-std()-X|tBodyGyro-std()-Y|tBodyGyro-std()-Z|tBodyGyro-mad()-X|tBodyGyro-mad()-Y|tBodyGyro-mad()-Z|tBodyGyro-max()-X|tBodyGyro-max()-Y|tBodyGyro-max()-Z|tBodyGyro-min()-X|tBodyGyro-min()-Y|tBodyGyro-min()-Z|tBodyGyro-sma()|tBodyGyro-energy()-X|tBodyGyro-energy()-Y|tBodyGyro-energy()-Z|tBodyGyro-iqr()-X|tBodyGyro-iqr()-Y|tBodyGyro-iqr()-Z|tBodyGyro-entropy()-X|tBodyGyro-entropy()-Y|tBodyGyro-entropy()-Z|tBodyGyro-arCoeff()-X,1|tBodyGyro-arCoeff()-X,2|tBodyGyro-arCoeff()-X,3|tBodyGyro-arCoeff()-X,4|tBodyGyro-arCoeff()-Y,1|tBodyGyro-arCoeff()-Y,2|tBodyGyro-arCoeff()-Y,3|tBodyGyro-arCoeff()-Y,4|tBodyGyro-arCoeff()-Z,1|tBodyGyro-arCoeff()-Z,2|tBodyGyro-arCoeff()-Z,3|tBodyGyro-arCoeff()-Z,4|tBodyGyro-correlation()-X,Y|tBodyGyro-correlation()-X,Z|tBodyGyro-correlation()-Y,Z|tBodyGyroJerk-mean()-X|tBodyGyroJerk-mean()-Y|tBodyGyroJerk-mean()-Z|tBodyGyroJerk-std()-X|tBodyGyroJerk-std()-Y|tBodyGyroJerk-std()-Z|tBodyGyroJerk-mad()-X|tBodyGyroJerk-mad()-Y|tBodyGyroJerk-mad()-Z|tBodyGyroJerk-max()-X|tBodyGyroJerk-max()-Y|tBodyGyroJerk-max()-Z|tBodyGyroJerk-min()-X|tBodyGyroJerk-min()-Y|tBodyGyroJerk-min()-Z|tBodyGyroJerk-sma()|tBodyGyroJerk-energy()-X|tBodyGyroJerk-energy()-Y|tBodyGyroJerk-energy()-Z|tBodyGyroJerk-iqr()-X|tBodyGyroJerk-iqr()-Y|tBodyGyroJerk-iqr()-Z|tBodyGyroJerk-entropy()-X|tBodyGyroJerk-entropy()-Y|tBodyGyroJerk-entropy()-Z|tBodyGyroJerk-arCoeff()-X,1|tBodyGyroJerk-arCoeff()-X,2|tBodyGyroJerk-arCoeff()-X,3|tBodyGyroJerk-arCoeff()-X,4|tBodyGyroJerk-arCoeff()-Y,1|tBodyGyroJerk-arCoeff()-Y,2|tBodyGyroJerk-arCoeff()-Y,3|tBodyGyroJerk-arCoeff()-Y,4|tBodyGyroJerk-arCoeff()-Z,1|tBodyGyroJerk-arCoeff()-Z,2|tBodyGyroJerk-arCoeff()-Z,3|tBodyGyroJerk-arCoeff()-Z,4|tBodyGyroJerk-correlation()-X,Y|tBodyGyroJerk-correlation()-X,Z|tBodyGyroJerk-correlation()-Y,Z|tBodyAccMag-mean()|tBodyAccMag-std()|tBodyAccMag-mad()|tBodyAccMag-max()|tBodyAccMag-min()|tBodyAccMag-sma()|tBodyAccMag-energy()|tBodyAccMag-iqr()|tBodyAccMag-entropy()|tBodyAccMag-arCoeff()1|tBodyAccMag-arCoeff()2|tBodyAccMag-arCoeff()3|tBodyAccMag-arCoeff()4|tGravityAccMag-mean()|tGravityAccMag-std()|tGravityAccMag-mad()|tGravityAccMag-max()|tGravityAccMag-min()|tGravityAccMag-sma()|tGravityAccMag-energy()|tGravityAccMag-iqr()|tGravityAccMag-entropy()|tGravityAccMag-arCoeff()1|tGravityAccMag-arCoeff()2|tGravityAccMag-arCoeff()3|tGravityAccMag-arCoeff()4|tBodyAccJerkMag-mean()|tBodyAccJerkMag-std()|tBodyAccJerkMag-mad()|tBodyAccJerkMag-max()|tBodyAccJerkMag-min()|tBodyAccJerkMag-sma()|tBodyAccJerkMag-energy()|tBodyAccJerkMag-iqr()|tBodyAccJerkMag-entropy()|tBodyAccJerkMag-arCoeff()1|tBodyAccJerkMag-arCoeff()2|tBodyAccJerkMag-arCoeff()3|tBodyAccJerkMag-arCoeff()4|tBodyGyroMag-mean()|tBodyGyroMag-std()|tBodyGyroMag-mad()|tBodyGyroMag-max()|tBodyGyroMag-min()|tBodyGyroMag-sma()|tBodyGyroMag-energy()|tBodyGyroMag-iqr()|tBodyGyroMag-entropy()|tBodyGyroMag-arCoeff()1|tBodyGyroMag-arCoeff()2|tBodyGyroMag-arCoeff()3|tBodyGyroMag-arCoeff()4|tBodyGyroJerkMag-mean()|tBodyGyroJerkMag-std()|tBodyGyroJerkMag-mad()|tBodyGyroJerkMag-max()|tBodyGyroJerkMag-min()|tBodyGyroJerkMag-sma()|tBodyGyroJerkMag-energy()|tBodyGyroJerkMag-iqr()|tBodyGyroJerkMag-entropy()|tBodyGyroJerkMag-arCoeff()1|tBodyGyroJerkMag-arCoeff()2|tBodyGyroJerkMag-arCoeff()3|tBodyGyroJerkMag-arCoeff()4|fBodyAcc-mean()-X|fBodyAcc-mean()-Y|fBodyAcc-mean()-Z|fBodyAcc-std()-X|fBodyAcc-std()-Y|fBodyAcc-std()-Z|fBodyAcc-mad()-X|fBodyAcc-mad()-Y|fBodyAcc-mad()-Z|fBodyAcc-max()-X|fBodyAcc-max()-Y|fBodyAcc-max()-Z|fBodyAcc-min()-X|fBodyAcc-min()-Y|fBodyAcc-min()-Z|fBodyAcc-sma()|fBodyAcc-energy()-X|fBodyAcc-energy()-Y|fBodyAcc-energy()-Z|fBodyAcc-iqr()-X|fBodyAcc-iqr()-Y|fBodyAcc-iqr()-Z|fBodyAcc-entropy()-X|fBodyAcc-entropy()-Y|fBodyAcc-entropy()-Z|fBodyAcc-maxInds-X|fBodyAcc-maxInds-Y|fBodyAcc-maxInds-Z|fBodyAcc-meanFreq()-X|fBodyAcc-meanFreq()-Y|fBodyAcc-meanFreq()-Z|fBodyAcc-skewness()-X|fBodyAcc-kurtosis()-X|fBodyAcc-skewness()-Y|fBodyAcc-kurtosis()-Y|fBodyAcc-skewness()-Z|fBodyAcc-kurtosis()-Z|fBodyAccJerk-mean()-X|fBodyAccJerk-mean()-Y|fBodyAccJerk-mean()-Z|fBodyAccJerk-std()-X|fBodyAccJerk-std()-Y|fBodyAccJerk-std()-Z|fBodyAccJerk-mad()-X|fBodyAccJerk-mad()-Y|fBodyAccJerk-mad()-Z|fBodyAccJerk-max()-X|fBodyAccJerk-max()-Y|fBodyAccJerk-max()-Z|fBodyAccJerk-min()-X|fBodyAccJerk-min()-Y|fBodyAccJerk-min()-Z|fBodyAccJerk-sma()|fBodyAccJerk-energy()-X|fBodyAccJerk-energy()-Y|fBodyAccJerk-energy()-Z|fBodyAccJerk-iqr()-X|fBodyAccJerk-iqr()-Y|fBodyAccJerk-iqr()-Z|fBodyAccJerk-entropy()-X|fBodyAccJerk-entropy()-Y|fBodyAccJerk-entropy()-Z|fBodyAccJerk-maxInds-X|fBodyAccJerk-maxInds-Y|fBodyAccJerk-maxInds-Z|fBodyAccJerk-meanFreq()-X|fBodyAccJerk-meanFreq()-Y|fBodyAccJerk-meanFreq()-Z|fBodyAccJerk-skewness()-X|fBodyAccJerk-kurtosis()-X|fBodyAccJerk-skewness()-Y|fBodyAccJerk-kurtosis()-Y|fBodyAccJerk-skewness()-Z|fBodyAccJerk-kurtosis()-Z|fBodyGyro-mean()-X|fBodyGyro-mean()-Y|fBodyGyro-mean()-Z|fBodyGyro-std()-X|fBodyGyro-std()-Y|fBodyGyro-std()-Z|fBodyGyro-mad()-X|fBodyGyro-mad()-Y|fBodyGyro-mad()-Z|fBodyGyro-max()-X|fBodyGyro-max()-Y|fBodyGyro-max()-Z|fBodyGyro-min()-X|fBodyGyro-min()-Y|fBodyGyro-min()-Z|fBodyGyro-sma()|fBodyGyro-energy()-X|fBodyGyro-energy()-Y|fBodyGyro-energy()-Z|fBodyGyro-iqr()-X|fBodyGyro-iqr()-Y|fBodyGyro-iqr()-Z|fBodyGyro-entropy()-X|fBodyGyro-entropy()-Y|fBodyGyro-entropy()-Z|fBodyGyro-maxInds-X|fBodyGyro-maxInds-Y|fBodyGyro-maxInds-Z|fBodyGyro-meanFreq()-X|fBodyGyro-meanFreq()-Y|fBodyGyro-meanFreq()-Z|fBodyGyro-skewness()-X|fBodyGyro-kurtosis()-X|fBodyGyro-skewness()-Y|fBodyGyro-kurtosis()-Y|fBodyGyro-skewness()-Z|fBodyGyro-kurtosis()-Z|fBodyAccMag-mean()|fBodyAccMag-std()|fBodyAccMag-mad()|fBodyAccMag-max()|fBodyAccMag-min()|fBodyAccMag-sma()|fBodyAccMag-energy()|fBodyAccMag-iqr()|fBodyAccMag-entropy()|fBodyAccMag-maxInds|fBodyAccMag-meanFreq()|fBodyAccMag-skewness()|fBodyAccMag-kurtosis()|fBodyBodyAccJerkMag-mean()|fBodyBodyAccJerkMag-std()|fBodyBodyAccJerkMag-mad()|fBodyBodyAccJerkMag-max()|fBodyBodyAccJerkMag-min()|fBodyBodyAccJerkMag-sma()|fBodyBodyAccJerkMag-energy()|fBodyBodyAccJerkMag-iqr()|fBodyBodyAccJerkMag-entropy()|fBodyBodyAccJerkMag-maxInds|fBodyBodyAccJerkMag-meanFreq()|fBodyBodyAccJerkMag-skewness()|fBodyBodyAccJerkMag-kurtosis()|fBodyBodyGyroMag-mean()|fBodyBodyGyroMag-std()|fBodyBodyGyroMag-mad()|fBodyBodyGyroMag-max()|fBodyBodyGyroMag-min()|fBodyBodyGyroMag-sma()|fBodyBodyGyroMag-energy()|fBodyBodyGyroMag-iqr()|fBodyBodyGyroMag-entropy()|fBodyBodyGyroMag-maxInds|fBodyBodyGyroMag-meanFreq()|fBodyBodyGyroMag-skewness()|fBodyBodyGyroMag-kurtosis()|fBodyBodyGyroJerkMag-mean()|fBodyBodyGyroJerkMag-std()|fBodyBodyGyroJerkMag-mad()|fBodyBodyGyroJerkMag-max()|fBodyBodyGyroJerkMag-min()|fBodyBodyGyroJerkMag-sma()|fBodyBodyGyroJerkMag-energy()|fBodyBodyGyroJerkMag-iqr()|fBodyBodyGyroJerkMag-entropy()|fBodyBodyGyroJerkMag-maxInds|fBodyBodyGyroJerkMag-meanFreq()|fBodyBodyGyroJerkMag-skewness()|fBodyBodyGyroJerkMag-kurtosis()|angle(tBodyAccMean,gravity)|angle(tBodyAccJerkMean),gravityMean)|angle(tBodyGyroMean,gravityMean)|angle(tBodyGyroJerkMean,gravityMean)|angle(X,gravityMean)|angle(Y,gravityMean)|angle(Z,gravityMean)|\n",
      "+---+-----------------+-----------------+-----------------+----------------+----------------+----------------+----------------+----------------+----------------+----------------+----------------+----------------+----------------+----------------+----------------+--------------+-------------------+-------------------+-------------------+----------------+----------------+----------------+--------------------+--------------------+--------------------+----------------------+----------------------+----------------------+----------------------+----------------------+----------------------+----------------------+----------------------+----------------------+----------------------+----------------------+----------------------+--------------------------+--------------------------+--------------------------+--------------------+--------------------+--------------------+-------------------+-------------------+-------------------+-------------------+-------------------+-------------------+-------------------+-------------------+-------------------+-------------------+-------------------+-------------------+-----------------+----------------------+----------------------+----------------------+-------------------+-------------------+-------------------+-----------------------+-----------------------+-----------------------+-------------------------+-------------------------+-------------------------+-------------------------+-------------------------+-------------------------+-------------------------+-------------------------+-------------------------+-------------------------+-------------------------+-------------------------+-----------------------------+-----------------------------+-----------------------------+---------------------+---------------------+---------------------+--------------------+--------------------+--------------------+--------------------+--------------------+--------------------+--------------------+--------------------+--------------------+--------------------+--------------------+--------------------+------------------+-----------------------+-----------------------+-----------------------+--------------------+--------------------+--------------------+------------------------+------------------------+------------------------+--------------------------+--------------------------+--------------------------+--------------------------+--------------------------+--------------------------+--------------------------+--------------------------+--------------------------+--------------------------+--------------------------+--------------------------+------------------------------+------------------------------+------------------------------+------------------+------------------+------------------+-----------------+-----------------+-----------------+-----------------+-----------------+-----------------+-----------------+-----------------+-----------------+-----------------+-----------------+-----------------+---------------+--------------------+--------------------+--------------------+-----------------+-----------------+-----------------+---------------------+---------------------+---------------------+-----------------------+-----------------------+-----------------------+-----------------------+-----------------------+-----------------------+-----------------------+-----------------------+-----------------------+-----------------------+-----------------------+-----------------------+---------------------------+---------------------------+---------------------------+----------------------+----------------------+----------------------+---------------------+---------------------+---------------------+---------------------+---------------------+---------------------+---------------------+---------------------+---------------------+---------------------+---------------------+---------------------+-------------------+------------------------+------------------------+------------------------+---------------------+---------------------+---------------------+-------------------------+-------------------------+-------------------------+---------------------------+---------------------------+---------------------------+---------------------------+---------------------------+---------------------------+---------------------------+---------------------------+---------------------------+---------------------------+---------------------------+---------------------------+-------------------------------+-------------------------------+-------------------------------+------------------+-----------------+-----------------+-----------------+-----------------+-----------------+--------------------+-----------------+---------------------+----------------------+----------------------+----------------------+----------------------+---------------------+--------------------+--------------------+--------------------+--------------------+--------------------+-----------------------+--------------------+------------------------+-------------------------+-------------------------+-------------------------+-------------------------+----------------------+---------------------+---------------------+---------------------+---------------------+---------------------+------------------------+---------------------+-------------------------+--------------------------+--------------------------+--------------------------+--------------------------+-------------------+------------------+------------------+------------------+------------------+------------------+---------------------+------------------+----------------------+-----------------------+-----------------------+-----------------------+-----------------------+-----------------------+----------------------+----------------------+----------------------+----------------------+----------------------+-------------------------+----------------------+--------------------------+---------------------------+---------------------------+---------------------------+---------------------------+-----------------+-----------------+-----------------+----------------+----------------+----------------+----------------+----------------+----------------+----------------+----------------+----------------+----------------+----------------+----------------+--------------+-------------------+-------------------+-------------------+----------------+----------------+----------------+--------------------+--------------------+--------------------+------------------+------------------+------------------+---------------------+---------------------+---------------------+---------------------+---------------------+---------------------+---------------------+---------------------+---------------------+---------------------+---------------------+---------------------+--------------------+--------------------+--------------------+--------------------+--------------------+--------------------+--------------------+--------------------+--------------------+--------------------+--------------------+--------------------+------------------+-----------------------+-----------------------+-----------------------+--------------------+--------------------+--------------------+------------------------+------------------------+------------------------+----------------------+----------------------+----------------------+-------------------------+-------------------------+-------------------------+-------------------------+-------------------------+-------------------------+-------------------------+-------------------------+-------------------------+------------------+------------------+------------------+-----------------+-----------------+-----------------+-----------------+-----------------+-----------------+-----------------+-----------------+-----------------+-----------------+-----------------+-----------------+---------------+--------------------+--------------------+--------------------+-----------------+-----------------+-----------------+---------------------+---------------------+---------------------+-------------------+-------------------+-------------------+----------------------+----------------------+----------------------+----------------------+----------------------+----------------------+----------------------+----------------------+----------------------+------------------+-----------------+-----------------+-----------------+-----------------+-----------------+--------------------+-----------------+---------------------+-------------------+----------------------+----------------------+----------------------+--------------------------+-------------------------+-------------------------+-------------------------+-------------------------+-------------------------+----------------------------+-------------------------+-----------------------------+---------------------------+------------------------------+------------------------------+------------------------------+-----------------------+----------------------+----------------------+----------------------+----------------------+----------------------+-------------------------+----------------------+--------------------------+------------------------+---------------------------+---------------------------+---------------------------+---------------------------+--------------------------+--------------------------+--------------------------+--------------------------+--------------------------+-----------------------------+--------------------------+------------------------------+----------------------------+-------------------------------+-------------------------------+-------------------------------+---------------------------+------------------------------------+--------------------------------+------------------------------------+--------------------+--------------------+--------------------+\n",
      "|  0|                0|                0|                0|               0|               0|               0|               0|               0|               0|               0|               0|               0|               0|               0|               0|             0|                  0|                  0|                  0|               0|               0|               0|                   0|                   0|                   0|                     0|                     0|                     0|                     0|                     0|                     0|                     0|                     0|                     0|                     0|                     0|                     0|                         0|                         0|                         0|                   0|                   0|                   0|                  0|                  0|                  0|                  0|                  0|                  0|                  0|                  0|                  0|                  0|                  0|                  0|                0|                     0|                     0|                     0|                  0|                  0|                  0|                      0|                      0|                      0|                        0|                        0|                        0|                        0|                        0|                        0|                        0|                        0|                        0|                        0|                        0|                        0|                            0|                            0|                            0|                    0|                    0|                    0|                   0|                   0|                   0|                   0|                   0|                   0|                   0|                   0|                   0|                   0|                   0|                   0|                 0|                      0|                      0|                      0|                   0|                   0|                   0|                       0|                       0|                       0|                         0|                         0|                         0|                         0|                         0|                         0|                         0|                         0|                         0|                         0|                         0|                         0|                             0|                             0|                             0|                 0|                 0|                 0|                0|                0|                0|                0|                0|                0|                0|                0|                0|                0|                0|                0|              0|                   0|                   0|                   0|                0|                0|                0|                    0|                    0|                    0|                      0|                      0|                      0|                      0|                      0|                      0|                      0|                      0|                      0|                      0|                      0|                      0|                          0|                          0|                          0|                     0|                     0|                     0|                    0|                    0|                    0|                    0|                    0|                    0|                    0|                    0|                    0|                    0|                    0|                    0|                  0|                       0|                       0|                       0|                    0|                    0|                    0|                        0|                        0|                        0|                          0|                          0|                          0|                          0|                          0|                          0|                          0|                          0|                          0|                          0|                          0|                          0|                              0|                              0|                              0|                 0|                0|                0|                0|                0|                0|                   0|                0|                    0|                     0|                     0|                     0|                     0|                    0|                   0|                   0|                   0|                   0|                   0|                      0|                   0|                       0|                        0|                        0|                        0|                        0|                     0|                    0|                    0|                    0|                    0|                    0|                       0|                    0|                        0|                         0|                         0|                         0|                         0|                  0|                 0|                 0|                 0|                 0|                 0|                    0|                 0|                     0|                      0|                      0|                      0|                      0|                      0|                     0|                     0|                     0|                     0|                     0|                        0|                     0|                         0|                          0|                          0|                          0|                          0|                0|                0|                0|               0|               0|               0|               0|               0|               0|               0|               0|               0|               0|               0|               0|             0|                  0|                  0|                  0|               0|               0|               0|                   0|                   0|                   0|                 0|                 0|                 0|                    0|                    0|                    0|                    0|                    0|                    0|                    0|                    0|                    0|                    0|                    0|                    0|                   0|                   0|                   0|                   0|                   0|                   0|                   0|                   0|                   0|                   0|                   0|                   0|                 0|                      0|                      0|                      0|                   0|                   0|                   0|                       0|                       0|                       0|                     0|                     0|                     0|                        0|                        0|                        0|                        0|                        0|                        0|                        0|                        0|                        0|                 0|                 0|                 0|                0|                0|                0|                0|                0|                0|                0|                0|                0|                0|                0|                0|              0|                   0|                   0|                   0|                0|                0|                0|                    0|                    0|                    0|                  0|                  0|                  0|                     0|                     0|                     0|                     0|                     0|                     0|                     0|                     0|                     0|                 0|                0|                0|                0|                0|                0|                   0|                0|                    0|                  0|                     0|                     0|                     0|                         0|                        0|                        0|                        0|                        0|                        0|                           0|                        0|                            0|                          0|                             0|                             0|                             0|                      0|                     0|                     0|                     0|                     0|                     0|                        0|                     0|                         0|                       0|                          0|                          0|                          0|                          0|                         0|                         0|                         0|                         0|                         0|                            0|                         0|                             0|                           0|                              0|                              0|                              0|                          0|                                   0|                               0|                                   0|                   0|                   0|                   0|\n",
      "+---+-----------------+-----------------+-----------------+----------------+----------------+----------------+----------------+----------------+----------------+----------------+----------------+----------------+----------------+----------------+----------------+--------------+-------------------+-------------------+-------------------+----------------+----------------+----------------+--------------------+--------------------+--------------------+----------------------+----------------------+----------------------+----------------------+----------------------+----------------------+----------------------+----------------------+----------------------+----------------------+----------------------+----------------------+--------------------------+--------------------------+--------------------------+--------------------+--------------------+--------------------+-------------------+-------------------+-------------------+-------------------+-------------------+-------------------+-------------------+-------------------+-------------------+-------------------+-------------------+-------------------+-----------------+----------------------+----------------------+----------------------+-------------------+-------------------+-------------------+-----------------------+-----------------------+-----------------------+-------------------------+-------------------------+-------------------------+-------------------------+-------------------------+-------------------------+-------------------------+-------------------------+-------------------------+-------------------------+-------------------------+-------------------------+-----------------------------+-----------------------------+-----------------------------+---------------------+---------------------+---------------------+--------------------+--------------------+--------------------+--------------------+--------------------+--------------------+--------------------+--------------------+--------------------+--------------------+--------------------+--------------------+------------------+-----------------------+-----------------------+-----------------------+--------------------+--------------------+--------------------+------------------------+------------------------+------------------------+--------------------------+--------------------------+--------------------------+--------------------------+--------------------------+--------------------------+--------------------------+--------------------------+--------------------------+--------------------------+--------------------------+--------------------------+------------------------------+------------------------------+------------------------------+------------------+------------------+------------------+-----------------+-----------------+-----------------+-----------------+-----------------+-----------------+-----------------+-----------------+-----------------+-----------------+-----------------+-----------------+---------------+--------------------+--------------------+--------------------+-----------------+-----------------+-----------------+---------------------+---------------------+---------------------+-----------------------+-----------------------+-----------------------+-----------------------+-----------------------+-----------------------+-----------------------+-----------------------+-----------------------+-----------------------+-----------------------+-----------------------+---------------------------+---------------------------+---------------------------+----------------------+----------------------+----------------------+---------------------+---------------------+---------------------+---------------------+---------------------+---------------------+---------------------+---------------------+---------------------+---------------------+---------------------+---------------------+-------------------+------------------------+------------------------+------------------------+---------------------+---------------------+---------------------+-------------------------+-------------------------+-------------------------+---------------------------+---------------------------+---------------------------+---------------------------+---------------------------+---------------------------+---------------------------+---------------------------+---------------------------+---------------------------+---------------------------+---------------------------+-------------------------------+-------------------------------+-------------------------------+------------------+-----------------+-----------------+-----------------+-----------------+-----------------+--------------------+-----------------+---------------------+----------------------+----------------------+----------------------+----------------------+---------------------+--------------------+--------------------+--------------------+--------------------+--------------------+-----------------------+--------------------+------------------------+-------------------------+-------------------------+-------------------------+-------------------------+----------------------+---------------------+---------------------+---------------------+---------------------+---------------------+------------------------+---------------------+-------------------------+--------------------------+--------------------------+--------------------------+--------------------------+-------------------+------------------+------------------+------------------+------------------+------------------+---------------------+------------------+----------------------+-----------------------+-----------------------+-----------------------+-----------------------+-----------------------+----------------------+----------------------+----------------------+----------------------+----------------------+-------------------------+----------------------+--------------------------+---------------------------+---------------------------+---------------------------+---------------------------+-----------------+-----------------+-----------------+----------------+----------------+----------------+----------------+----------------+----------------+----------------+----------------+----------------+----------------+----------------+----------------+--------------+-------------------+-------------------+-------------------+----------------+----------------+----------------+--------------------+--------------------+--------------------+------------------+------------------+------------------+---------------------+---------------------+---------------------+---------------------+---------------------+---------------------+---------------------+---------------------+---------------------+---------------------+---------------------+---------------------+--------------------+--------------------+--------------------+--------------------+--------------------+--------------------+--------------------+--------------------+--------------------+--------------------+--------------------+--------------------+------------------+-----------------------+-----------------------+-----------------------+--------------------+--------------------+--------------------+------------------------+------------------------+------------------------+----------------------+----------------------+----------------------+-------------------------+-------------------------+-------------------------+-------------------------+-------------------------+-------------------------+-------------------------+-------------------------+-------------------------+------------------+------------------+------------------+-----------------+-----------------+-----------------+-----------------+-----------------+-----------------+-----------------+-----------------+-----------------+-----------------+-----------------+-----------------+---------------+--------------------+--------------------+--------------------+-----------------+-----------------+-----------------+---------------------+---------------------+---------------------+-------------------+-------------------+-------------------+----------------------+----------------------+----------------------+----------------------+----------------------+----------------------+----------------------+----------------------+----------------------+------------------+-----------------+-----------------+-----------------+-----------------+-----------------+--------------------+-----------------+---------------------+-------------------+----------------------+----------------------+----------------------+--------------------------+-------------------------+-------------------------+-------------------------+-------------------------+-------------------------+----------------------------+-------------------------+-----------------------------+---------------------------+------------------------------+------------------------------+------------------------------+-----------------------+----------------------+----------------------+----------------------+----------------------+----------------------+-------------------------+----------------------+--------------------------+------------------------+---------------------------+---------------------------+---------------------------+---------------------------+--------------------------+--------------------------+--------------------------+--------------------------+--------------------------+-----------------------------+--------------------------+------------------------------+----------------------------+-------------------------------+-------------------------------+-------------------------------+---------------------------+------------------------------------+--------------------------------+------------------------------------+--------------------+--------------------+--------------------+\n",
      "\n"
     ]
    }
   ],
   "source": [
    "#check for missing values\n",
    "from pyspark.sql.functions import isnan, when, count, col\n",
    "train_x.select([count(when(isnan(c), c)).alias(c) for c in train_x.columns]).show()\n",
    "\n",
    "#we note that there are no missing values\n"
   ]
  },
  {
   "cell_type": "code",
   "execution_count": 95,
   "metadata": {},
   "outputs": [
    {
     "name": "stdout",
     "output_type": "stream",
     "text": [
      "+-------+-------------------+--------------------+--------------------+-------------------+\n",
      "|summary|  tBodyAcc-mean()-X|   tBodyAcc-mean()-Y|   tBodyAcc-mean()-Z|   tBodyAcc-std()-X|\n",
      "+-------+-------------------+--------------------+--------------------+-------------------+\n",
      "|  count|               8214|                8214|                8214|               8214|\n",
      "|   mean| 0.2741672598077674|-0.01782892635303...|-0.10915220003803862|-0.6073341095553922|\n",
      "| stddev|0.06700302726138603| 0.03591625355986128| 0.05274787651955511|  0.437108344479308|\n",
      "|    min|               -1.0|         -0.68409659|         -0.92598834|               -1.0|\n",
      "|    max|                1.0|                 1.0|                 1.0|                1.0|\n",
      "+-------+-------------------+--------------------+--------------------+-------------------+\n",
      "\n"
     ]
    }
   ],
   "source": [
    "#getting an idea of what the data looks like by computing a summary\n",
    "train_x.select(train_x.columns[1:5]).describe().show()"
   ]
  },
  {
   "cell_type": "code",
   "execution_count": 96,
   "metadata": {},
   "outputs": [
    {
     "name": "stdout",
     "output_type": "stream",
     "text": [
      "+------------------+----------------+-----------------+---------------+----------+\n",
      "|train_features_obs|train_labels_obs|test_features_obs|test_labels_obs|header_obs|\n",
      "+------------------+----------------+-----------------+---------------+----------+\n",
      "|              7352|            7352|             2947|           2947|       561|\n",
      "+------------------+----------------+-----------------+---------------+----------+\n",
      "\n"
     ]
    }
   ],
   "source": [
    "#look at the data by seeing how many rows there are\n",
    "ds = pd.DataFrame(index=[1], columns=['train_features_obs','train_labels_obs','test_features_obs','test_labels_obs', 'header_obs'])\n",
    "ds['train_features_obs'] = df_train_features.count()\n",
    "ds['train_labels_obs'] = df_train_labels.count()\n",
    "ds['test_features_obs'] = df_test_features.count()\n",
    "ds['test_labels_obs'] = df_test_labels.count()\n",
    "ds['header_obs']= df_header.count()\n",
    "ds=sqlCtx.createDataFrame(ds)\n",
    "ds.show()                #created data frame to show how many obs in each file\n",
    "                        #makes it easier to see under df, -Kevin\n",
    "\n",
    "    \n",
    "    \n",
    "    \n",
    "    \n",
    "#can we do this, but in pyspark instead? - nathan\n"
   ]
  },
  {
   "cell_type": "markdown",
   "metadata": {},
   "source": [
    "# Trying PCA"
   ]
  },
  {
   "cell_type": "code",
   "execution_count": 113,
   "metadata": {},
   "outputs": [],
   "source": [
    "#convert to RDD\n",
    "train_x_rdd = train_x.rdd"
   ]
  },
  {
   "cell_type": "code",
   "execution_count": 119,
   "metadata": {},
   "outputs": [
    {
     "ename": "Py4JJavaError",
     "evalue": "An error occurred while calling o40156.computePrincipalComponents.\n: org.apache.spark.SparkException: Job aborted due to stage failure: Task 0 in stage 700.0 failed 1 times, most recent failure: Lost task 0.0 in stage 700.0 (TID 5456, localhost, executor driver): org.apache.spark.api.python.PythonException: Traceback (most recent call last):\n  File \"/usr/local/spark/python/lib/pyspark.zip/pyspark/worker.py\", line 372, in main\n    process()\n  File \"/usr/local/spark/python/lib/pyspark.zip/pyspark/worker.py\", line 367, in process\n    serializer.dump_stream(func(split_index, iterator), outfile)\n  File \"/usr/local/spark/python/lib/pyspark.zip/pyspark/serializers.py\", line 390, in dump_stream\n    vs = list(itertools.islice(iterator, batch))\n  File \"/usr/local/spark/python/lib/pyspark.zip/pyspark/util.py\", line 99, in wrapper\n    return f(*args, **kwargs)\n  File \"/usr/local/spark/python/lib/pyspark.zip/pyspark/mllib/linalg/__init__.py\", line 83, in _convert_to_vector\n    raise TypeError(\"Cannot convert type %s into Vector\" % type(l))\nTypeError: Cannot convert type <class 'pyspark.sql.types.Row'> into Vector\n\n\tat org.apache.spark.api.python.BasePythonRunner$ReaderIterator.handlePythonException(PythonRunner.scala:452)\n\tat org.apache.spark.api.python.PythonRunner$$anon$1.read(PythonRunner.scala:588)\n\tat org.apache.spark.api.python.PythonRunner$$anon$1.read(PythonRunner.scala:571)\n\tat org.apache.spark.api.python.BasePythonRunner$ReaderIterator.hasNext(PythonRunner.scala:406)\n\tat org.apache.spark.InterruptibleIterator.hasNext(InterruptibleIterator.scala:37)\n\tat scala.collection.Iterator$$anon$12.hasNext(Iterator.scala:440)\n\tat scala.collection.Iterator$$anon$10.hasNext(Iterator.scala:390)\n\tat scala.collection.Iterator$class.foreach(Iterator.scala:891)\n\tat scala.collection.AbstractIterator.foreach(Iterator.scala:1334)\n\tat scala.collection.generic.Growable$class.$plus$plus$eq(Growable.scala:59)\n\tat scala.collection.mutable.ArrayBuffer.$plus$plus$eq(ArrayBuffer.scala:104)\n\tat scala.collection.mutable.ArrayBuffer.$plus$plus$eq(ArrayBuffer.scala:48)\n\tat scala.collection.TraversableOnce$class.to(TraversableOnce.scala:310)\n\tat scala.collection.AbstractIterator.to(Iterator.scala:1334)\n\tat scala.collection.TraversableOnce$class.toBuffer(TraversableOnce.scala:302)\n\tat scala.collection.AbstractIterator.toBuffer(Iterator.scala:1334)\n\tat scala.collection.TraversableOnce$class.toArray(TraversableOnce.scala:289)\n\tat scala.collection.AbstractIterator.toArray(Iterator.scala:1334)\n\tat org.apache.spark.rdd.RDD$$anonfun$take$1$$anonfun$29.apply(RDD.scala:1364)\n\tat org.apache.spark.rdd.RDD$$anonfun$take$1$$anonfun$29.apply(RDD.scala:1364)\n\tat org.apache.spark.SparkContext$$anonfun$runJob$5.apply(SparkContext.scala:2101)\n\tat org.apache.spark.SparkContext$$anonfun$runJob$5.apply(SparkContext.scala:2101)\n\tat org.apache.spark.scheduler.ResultTask.runTask(ResultTask.scala:90)\n\tat org.apache.spark.scheduler.Task.run(Task.scala:121)\n\tat org.apache.spark.executor.Executor$TaskRunner$$anonfun$10.apply(Executor.scala:402)\n\tat org.apache.spark.util.Utils$.tryWithSafeFinally(Utils.scala:1360)\n\tat org.apache.spark.executor.Executor$TaskRunner.run(Executor.scala:408)\n\tat java.util.concurrent.ThreadPoolExecutor.runWorker(ThreadPoolExecutor.java:1149)\n\tat java.util.concurrent.ThreadPoolExecutor$Worker.run(ThreadPoolExecutor.java:624)\n\tat java.lang.Thread.run(Thread.java:748)\n\nDriver stacktrace:\n\tat org.apache.spark.scheduler.DAGScheduler.org$apache$spark$scheduler$DAGScheduler$$failJobAndIndependentStages(DAGScheduler.scala:1887)\n\tat org.apache.spark.scheduler.DAGScheduler$$anonfun$abortStage$1.apply(DAGScheduler.scala:1875)\n\tat org.apache.spark.scheduler.DAGScheduler$$anonfun$abortStage$1.apply(DAGScheduler.scala:1874)\n\tat scala.collection.mutable.ResizableArray$class.foreach(ResizableArray.scala:59)\n\tat scala.collection.mutable.ArrayBuffer.foreach(ArrayBuffer.scala:48)\n\tat org.apache.spark.scheduler.DAGScheduler.abortStage(DAGScheduler.scala:1874)\n\tat org.apache.spark.scheduler.DAGScheduler$$anonfun$handleTaskSetFailed$1.apply(DAGScheduler.scala:926)\n\tat org.apache.spark.scheduler.DAGScheduler$$anonfun$handleTaskSetFailed$1.apply(DAGScheduler.scala:926)\n\tat scala.Option.foreach(Option.scala:257)\n\tat org.apache.spark.scheduler.DAGScheduler.handleTaskSetFailed(DAGScheduler.scala:926)\n\tat org.apache.spark.scheduler.DAGSchedulerEventProcessLoop.doOnReceive(DAGScheduler.scala:2108)\n\tat org.apache.spark.scheduler.DAGSchedulerEventProcessLoop.onReceive(DAGScheduler.scala:2057)\n\tat org.apache.spark.scheduler.DAGSchedulerEventProcessLoop.onReceive(DAGScheduler.scala:2046)\n\tat org.apache.spark.util.EventLoop$$anon$1.run(EventLoop.scala:49)\n\tat org.apache.spark.scheduler.DAGScheduler.runJob(DAGScheduler.scala:737)\n\tat org.apache.spark.SparkContext.runJob(SparkContext.scala:2061)\n\tat org.apache.spark.SparkContext.runJob(SparkContext.scala:2082)\n\tat org.apache.spark.SparkContext.runJob(SparkContext.scala:2101)\n\tat org.apache.spark.rdd.RDD$$anonfun$take$1.apply(RDD.scala:1364)\n\tat org.apache.spark.rdd.RDDOperationScope$.withScope(RDDOperationScope.scala:151)\n\tat org.apache.spark.rdd.RDDOperationScope$.withScope(RDDOperationScope.scala:112)\n\tat org.apache.spark.rdd.RDD.withScope(RDD.scala:363)\n\tat org.apache.spark.rdd.RDD.take(RDD.scala:1337)\n\tat org.apache.spark.rdd.RDD$$anonfun$first$1.apply(RDD.scala:1378)\n\tat org.apache.spark.rdd.RDDOperationScope$.withScope(RDDOperationScope.scala:151)\n\tat org.apache.spark.rdd.RDDOperationScope$.withScope(RDDOperationScope.scala:112)\n\tat org.apache.spark.rdd.RDD.withScope(RDD.scala:363)\n\tat org.apache.spark.rdd.RDD.first(RDD.scala:1377)\n\tat org.apache.spark.mllib.linalg.distributed.RowMatrix.numCols(RowMatrix.scala:61)\n\tat org.apache.spark.mllib.linalg.distributed.RowMatrix.computePrincipalComponentsAndExplainedVariance(RowMatrix.scala:384)\n\tat org.apache.spark.mllib.linalg.distributed.RowMatrix.computePrincipalComponents(RowMatrix.scala:411)\n\tat sun.reflect.NativeMethodAccessorImpl.invoke0(Native Method)\n\tat sun.reflect.NativeMethodAccessorImpl.invoke(NativeMethodAccessorImpl.java:62)\n\tat sun.reflect.DelegatingMethodAccessorImpl.invoke(DelegatingMethodAccessorImpl.java:43)\n\tat java.lang.reflect.Method.invoke(Method.java:498)\n\tat py4j.reflection.MethodInvoker.invoke(MethodInvoker.java:244)\n\tat py4j.reflection.ReflectionEngine.invoke(ReflectionEngine.java:357)\n\tat py4j.Gateway.invoke(Gateway.java:282)\n\tat py4j.commands.AbstractCommand.invokeMethod(AbstractCommand.java:132)\n\tat py4j.commands.CallCommand.execute(CallCommand.java:79)\n\tat py4j.GatewayConnection.run(GatewayConnection.java:238)\n\tat java.lang.Thread.run(Thread.java:748)\nCaused by: org.apache.spark.api.python.PythonException: Traceback (most recent call last):\n  File \"/usr/local/spark/python/lib/pyspark.zip/pyspark/worker.py\", line 372, in main\n    process()\n  File \"/usr/local/spark/python/lib/pyspark.zip/pyspark/worker.py\", line 367, in process\n    serializer.dump_stream(func(split_index, iterator), outfile)\n  File \"/usr/local/spark/python/lib/pyspark.zip/pyspark/serializers.py\", line 390, in dump_stream\n    vs = list(itertools.islice(iterator, batch))\n  File \"/usr/local/spark/python/lib/pyspark.zip/pyspark/util.py\", line 99, in wrapper\n    return f(*args, **kwargs)\n  File \"/usr/local/spark/python/lib/pyspark.zip/pyspark/mllib/linalg/__init__.py\", line 83, in _convert_to_vector\n    raise TypeError(\"Cannot convert type %s into Vector\" % type(l))\nTypeError: Cannot convert type <class 'pyspark.sql.types.Row'> into Vector\n\n\tat org.apache.spark.api.python.BasePythonRunner$ReaderIterator.handlePythonException(PythonRunner.scala:452)\n\tat org.apache.spark.api.python.PythonRunner$$anon$1.read(PythonRunner.scala:588)\n\tat org.apache.spark.api.python.PythonRunner$$anon$1.read(PythonRunner.scala:571)\n\tat org.apache.spark.api.python.BasePythonRunner$ReaderIterator.hasNext(PythonRunner.scala:406)\n\tat org.apache.spark.InterruptibleIterator.hasNext(InterruptibleIterator.scala:37)\n\tat scala.collection.Iterator$$anon$12.hasNext(Iterator.scala:440)\n\tat scala.collection.Iterator$$anon$10.hasNext(Iterator.scala:390)\n\tat scala.collection.Iterator$class.foreach(Iterator.scala:891)\n\tat scala.collection.AbstractIterator.foreach(Iterator.scala:1334)\n\tat scala.collection.generic.Growable$class.$plus$plus$eq(Growable.scala:59)\n\tat scala.collection.mutable.ArrayBuffer.$plus$plus$eq(ArrayBuffer.scala:104)\n\tat scala.collection.mutable.ArrayBuffer.$plus$plus$eq(ArrayBuffer.scala:48)\n\tat scala.collection.TraversableOnce$class.to(TraversableOnce.scala:310)\n\tat scala.collection.AbstractIterator.to(Iterator.scala:1334)\n\tat scala.collection.TraversableOnce$class.toBuffer(TraversableOnce.scala:302)\n\tat scala.collection.AbstractIterator.toBuffer(Iterator.scala:1334)\n\tat scala.collection.TraversableOnce$class.toArray(TraversableOnce.scala:289)\n\tat scala.collection.AbstractIterator.toArray(Iterator.scala:1334)\n\tat org.apache.spark.rdd.RDD$$anonfun$take$1$$anonfun$29.apply(RDD.scala:1364)\n\tat org.apache.spark.rdd.RDD$$anonfun$take$1$$anonfun$29.apply(RDD.scala:1364)\n\tat org.apache.spark.SparkContext$$anonfun$runJob$5.apply(SparkContext.scala:2101)\n\tat org.apache.spark.SparkContext$$anonfun$runJob$5.apply(SparkContext.scala:2101)\n\tat org.apache.spark.scheduler.ResultTask.runTask(ResultTask.scala:90)\n\tat org.apache.spark.scheduler.Task.run(Task.scala:121)\n\tat org.apache.spark.executor.Executor$TaskRunner$$anonfun$10.apply(Executor.scala:402)\n\tat org.apache.spark.util.Utils$.tryWithSafeFinally(Utils.scala:1360)\n\tat org.apache.spark.executor.Executor$TaskRunner.run(Executor.scala:408)\n\tat java.util.concurrent.ThreadPoolExecutor.runWorker(ThreadPoolExecutor.java:1149)\n\tat java.util.concurrent.ThreadPoolExecutor$Worker.run(ThreadPoolExecutor.java:624)\n\t... 1 more\n",
     "output_type": "error",
     "traceback": [
      "\u001b[0;31m---------------------------------------------------------------------------\u001b[0m",
      "\u001b[0;31mPy4JJavaError\u001b[0m                             Traceback (most recent call last)",
      "\u001b[0;32m<ipython-input-119-87765e60db90>\u001b[0m in \u001b[0;36m<module>\u001b[0;34m\u001b[0m\n\u001b[1;32m      1\u001b[0m \u001b[0mmat\u001b[0m \u001b[0;34m=\u001b[0m \u001b[0mRowMatrix\u001b[0m\u001b[0;34m(\u001b[0m\u001b[0mtrain_x_rdd\u001b[0m\u001b[0;34m)\u001b[0m\u001b[0;34m\u001b[0m\u001b[0;34m\u001b[0m\u001b[0m\n\u001b[0;32m----> 2\u001b[0;31m \u001b[0mpc\u001b[0m \u001b[0;34m=\u001b[0m \u001b[0mmat\u001b[0m\u001b[0;34m.\u001b[0m\u001b[0mcomputePrincipalComponents\u001b[0m\u001b[0;34m(\u001b[0m\u001b[0;36m2\u001b[0m\u001b[0;34m)\u001b[0m\u001b[0;34m\u001b[0m\u001b[0;34m\u001b[0m\u001b[0m\n\u001b[0m",
      "\u001b[0;32m/usr/local/spark/python/pyspark/mllib/linalg/distributed.py\u001b[0m in \u001b[0;36mcomputePrincipalComponents\u001b[0;34m(self, k)\u001b[0m\n\u001b[1;32m    368\u001b[0m         DenseVector([-4.6102, -4.9745])]\n\u001b[1;32m    369\u001b[0m         \"\"\"\n\u001b[0;32m--> 370\u001b[0;31m         \u001b[0;32mreturn\u001b[0m \u001b[0mself\u001b[0m\u001b[0;34m.\u001b[0m\u001b[0m_java_matrix_wrapper\u001b[0m\u001b[0;34m.\u001b[0m\u001b[0mcall\u001b[0m\u001b[0;34m(\u001b[0m\u001b[0;34m\"computePrincipalComponents\"\u001b[0m\u001b[0;34m,\u001b[0m \u001b[0mk\u001b[0m\u001b[0;34m)\u001b[0m\u001b[0;34m\u001b[0m\u001b[0;34m\u001b[0m\u001b[0m\n\u001b[0m\u001b[1;32m    371\u001b[0m \u001b[0;34m\u001b[0m\u001b[0m\n\u001b[1;32m    372\u001b[0m     \u001b[0;34m@\u001b[0m\u001b[0msince\u001b[0m\u001b[0;34m(\u001b[0m\u001b[0;34m'2.2.0'\u001b[0m\u001b[0;34m)\u001b[0m\u001b[0;34m\u001b[0m\u001b[0;34m\u001b[0m\u001b[0m\n",
      "\u001b[0;32m/usr/local/spark/python/pyspark/mllib/common.py\u001b[0m in \u001b[0;36mcall\u001b[0;34m(self, name, *a)\u001b[0m\n\u001b[1;32m    144\u001b[0m     \u001b[0;32mdef\u001b[0m \u001b[0mcall\u001b[0m\u001b[0;34m(\u001b[0m\u001b[0mself\u001b[0m\u001b[0;34m,\u001b[0m \u001b[0mname\u001b[0m\u001b[0;34m,\u001b[0m \u001b[0;34m*\u001b[0m\u001b[0ma\u001b[0m\u001b[0;34m)\u001b[0m\u001b[0;34m:\u001b[0m\u001b[0;34m\u001b[0m\u001b[0;34m\u001b[0m\u001b[0m\n\u001b[1;32m    145\u001b[0m         \u001b[0;34m\"\"\"Call method of java_model\"\"\"\u001b[0m\u001b[0;34m\u001b[0m\u001b[0;34m\u001b[0m\u001b[0m\n\u001b[0;32m--> 146\u001b[0;31m         \u001b[0;32mreturn\u001b[0m \u001b[0mcallJavaFunc\u001b[0m\u001b[0;34m(\u001b[0m\u001b[0mself\u001b[0m\u001b[0;34m.\u001b[0m\u001b[0m_sc\u001b[0m\u001b[0;34m,\u001b[0m \u001b[0mgetattr\u001b[0m\u001b[0;34m(\u001b[0m\u001b[0mself\u001b[0m\u001b[0;34m.\u001b[0m\u001b[0m_java_model\u001b[0m\u001b[0;34m,\u001b[0m \u001b[0mname\u001b[0m\u001b[0;34m)\u001b[0m\u001b[0;34m,\u001b[0m \u001b[0;34m*\u001b[0m\u001b[0ma\u001b[0m\u001b[0;34m)\u001b[0m\u001b[0;34m\u001b[0m\u001b[0;34m\u001b[0m\u001b[0m\n\u001b[0m\u001b[1;32m    147\u001b[0m \u001b[0;34m\u001b[0m\u001b[0m\n\u001b[1;32m    148\u001b[0m \u001b[0;34m\u001b[0m\u001b[0m\n",
      "\u001b[0;32m/usr/local/spark/python/pyspark/mllib/common.py\u001b[0m in \u001b[0;36mcallJavaFunc\u001b[0;34m(sc, func, *args)\u001b[0m\n\u001b[1;32m    121\u001b[0m     \u001b[0;34m\"\"\" Call Java Function \"\"\"\u001b[0m\u001b[0;34m\u001b[0m\u001b[0;34m\u001b[0m\u001b[0m\n\u001b[1;32m    122\u001b[0m     \u001b[0margs\u001b[0m \u001b[0;34m=\u001b[0m \u001b[0;34m[\u001b[0m\u001b[0m_py2java\u001b[0m\u001b[0;34m(\u001b[0m\u001b[0msc\u001b[0m\u001b[0;34m,\u001b[0m \u001b[0ma\u001b[0m\u001b[0;34m)\u001b[0m \u001b[0;32mfor\u001b[0m \u001b[0ma\u001b[0m \u001b[0;32min\u001b[0m \u001b[0margs\u001b[0m\u001b[0;34m]\u001b[0m\u001b[0;34m\u001b[0m\u001b[0;34m\u001b[0m\u001b[0m\n\u001b[0;32m--> 123\u001b[0;31m     \u001b[0;32mreturn\u001b[0m \u001b[0m_java2py\u001b[0m\u001b[0;34m(\u001b[0m\u001b[0msc\u001b[0m\u001b[0;34m,\u001b[0m \u001b[0mfunc\u001b[0m\u001b[0;34m(\u001b[0m\u001b[0;34m*\u001b[0m\u001b[0margs\u001b[0m\u001b[0;34m)\u001b[0m\u001b[0;34m)\u001b[0m\u001b[0;34m\u001b[0m\u001b[0;34m\u001b[0m\u001b[0m\n\u001b[0m\u001b[1;32m    124\u001b[0m \u001b[0;34m\u001b[0m\u001b[0m\n\u001b[1;32m    125\u001b[0m \u001b[0;34m\u001b[0m\u001b[0m\n",
      "\u001b[0;32m/usr/local/spark/python/lib/py4j-0.10.7-src.zip/py4j/java_gateway.py\u001b[0m in \u001b[0;36m__call__\u001b[0;34m(self, *args)\u001b[0m\n\u001b[1;32m   1255\u001b[0m         \u001b[0manswer\u001b[0m \u001b[0;34m=\u001b[0m \u001b[0mself\u001b[0m\u001b[0;34m.\u001b[0m\u001b[0mgateway_client\u001b[0m\u001b[0;34m.\u001b[0m\u001b[0msend_command\u001b[0m\u001b[0;34m(\u001b[0m\u001b[0mcommand\u001b[0m\u001b[0;34m)\u001b[0m\u001b[0;34m\u001b[0m\u001b[0;34m\u001b[0m\u001b[0m\n\u001b[1;32m   1256\u001b[0m         return_value = get_return_value(\n\u001b[0;32m-> 1257\u001b[0;31m             answer, self.gateway_client, self.target_id, self.name)\n\u001b[0m\u001b[1;32m   1258\u001b[0m \u001b[0;34m\u001b[0m\u001b[0m\n\u001b[1;32m   1259\u001b[0m         \u001b[0;32mfor\u001b[0m \u001b[0mtemp_arg\u001b[0m \u001b[0;32min\u001b[0m \u001b[0mtemp_args\u001b[0m\u001b[0;34m:\u001b[0m\u001b[0;34m\u001b[0m\u001b[0;34m\u001b[0m\u001b[0m\n",
      "\u001b[0;32m/usr/local/spark/python/pyspark/sql/utils.py\u001b[0m in \u001b[0;36mdeco\u001b[0;34m(*a, **kw)\u001b[0m\n\u001b[1;32m     61\u001b[0m     \u001b[0;32mdef\u001b[0m \u001b[0mdeco\u001b[0m\u001b[0;34m(\u001b[0m\u001b[0;34m*\u001b[0m\u001b[0ma\u001b[0m\u001b[0;34m,\u001b[0m \u001b[0;34m**\u001b[0m\u001b[0mkw\u001b[0m\u001b[0;34m)\u001b[0m\u001b[0;34m:\u001b[0m\u001b[0;34m\u001b[0m\u001b[0;34m\u001b[0m\u001b[0m\n\u001b[1;32m     62\u001b[0m         \u001b[0;32mtry\u001b[0m\u001b[0;34m:\u001b[0m\u001b[0;34m\u001b[0m\u001b[0;34m\u001b[0m\u001b[0m\n\u001b[0;32m---> 63\u001b[0;31m             \u001b[0;32mreturn\u001b[0m \u001b[0mf\u001b[0m\u001b[0;34m(\u001b[0m\u001b[0;34m*\u001b[0m\u001b[0ma\u001b[0m\u001b[0;34m,\u001b[0m \u001b[0;34m**\u001b[0m\u001b[0mkw\u001b[0m\u001b[0;34m)\u001b[0m\u001b[0;34m\u001b[0m\u001b[0;34m\u001b[0m\u001b[0m\n\u001b[0m\u001b[1;32m     64\u001b[0m         \u001b[0;32mexcept\u001b[0m \u001b[0mpy4j\u001b[0m\u001b[0;34m.\u001b[0m\u001b[0mprotocol\u001b[0m\u001b[0;34m.\u001b[0m\u001b[0mPy4JJavaError\u001b[0m \u001b[0;32mas\u001b[0m \u001b[0me\u001b[0m\u001b[0;34m:\u001b[0m\u001b[0;34m\u001b[0m\u001b[0;34m\u001b[0m\u001b[0m\n\u001b[1;32m     65\u001b[0m             \u001b[0ms\u001b[0m \u001b[0;34m=\u001b[0m \u001b[0me\u001b[0m\u001b[0;34m.\u001b[0m\u001b[0mjava_exception\u001b[0m\u001b[0;34m.\u001b[0m\u001b[0mtoString\u001b[0m\u001b[0;34m(\u001b[0m\u001b[0;34m)\u001b[0m\u001b[0;34m\u001b[0m\u001b[0;34m\u001b[0m\u001b[0m\n",
      "\u001b[0;32m/usr/local/spark/python/lib/py4j-0.10.7-src.zip/py4j/protocol.py\u001b[0m in \u001b[0;36mget_return_value\u001b[0;34m(answer, gateway_client, target_id, name)\u001b[0m\n\u001b[1;32m    326\u001b[0m                 raise Py4JJavaError(\n\u001b[1;32m    327\u001b[0m                     \u001b[0;34m\"An error occurred while calling {0}{1}{2}.\\n\"\u001b[0m\u001b[0;34m.\u001b[0m\u001b[0;34m\u001b[0m\u001b[0;34m\u001b[0m\u001b[0m\n\u001b[0;32m--> 328\u001b[0;31m                     format(target_id, \".\", name), value)\n\u001b[0m\u001b[1;32m    329\u001b[0m             \u001b[0;32melse\u001b[0m\u001b[0;34m:\u001b[0m\u001b[0;34m\u001b[0m\u001b[0;34m\u001b[0m\u001b[0m\n\u001b[1;32m    330\u001b[0m                 raise Py4JError(\n",
      "\u001b[0;31mPy4JJavaError\u001b[0m: An error occurred while calling o40156.computePrincipalComponents.\n: org.apache.spark.SparkException: Job aborted due to stage failure: Task 0 in stage 700.0 failed 1 times, most recent failure: Lost task 0.0 in stage 700.0 (TID 5456, localhost, executor driver): org.apache.spark.api.python.PythonException: Traceback (most recent call last):\n  File \"/usr/local/spark/python/lib/pyspark.zip/pyspark/worker.py\", line 372, in main\n    process()\n  File \"/usr/local/spark/python/lib/pyspark.zip/pyspark/worker.py\", line 367, in process\n    serializer.dump_stream(func(split_index, iterator), outfile)\n  File \"/usr/local/spark/python/lib/pyspark.zip/pyspark/serializers.py\", line 390, in dump_stream\n    vs = list(itertools.islice(iterator, batch))\n  File \"/usr/local/spark/python/lib/pyspark.zip/pyspark/util.py\", line 99, in wrapper\n    return f(*args, **kwargs)\n  File \"/usr/local/spark/python/lib/pyspark.zip/pyspark/mllib/linalg/__init__.py\", line 83, in _convert_to_vector\n    raise TypeError(\"Cannot convert type %s into Vector\" % type(l))\nTypeError: Cannot convert type <class 'pyspark.sql.types.Row'> into Vector\n\n\tat org.apache.spark.api.python.BasePythonRunner$ReaderIterator.handlePythonException(PythonRunner.scala:452)\n\tat org.apache.spark.api.python.PythonRunner$$anon$1.read(PythonRunner.scala:588)\n\tat org.apache.spark.api.python.PythonRunner$$anon$1.read(PythonRunner.scala:571)\n\tat org.apache.spark.api.python.BasePythonRunner$ReaderIterator.hasNext(PythonRunner.scala:406)\n\tat org.apache.spark.InterruptibleIterator.hasNext(InterruptibleIterator.scala:37)\n\tat scala.collection.Iterator$$anon$12.hasNext(Iterator.scala:440)\n\tat scala.collection.Iterator$$anon$10.hasNext(Iterator.scala:390)\n\tat scala.collection.Iterator$class.foreach(Iterator.scala:891)\n\tat scala.collection.AbstractIterator.foreach(Iterator.scala:1334)\n\tat scala.collection.generic.Growable$class.$plus$plus$eq(Growable.scala:59)\n\tat scala.collection.mutable.ArrayBuffer.$plus$plus$eq(ArrayBuffer.scala:104)\n\tat scala.collection.mutable.ArrayBuffer.$plus$plus$eq(ArrayBuffer.scala:48)\n\tat scala.collection.TraversableOnce$class.to(TraversableOnce.scala:310)\n\tat scala.collection.AbstractIterator.to(Iterator.scala:1334)\n\tat scala.collection.TraversableOnce$class.toBuffer(TraversableOnce.scala:302)\n\tat scala.collection.AbstractIterator.toBuffer(Iterator.scala:1334)\n\tat scala.collection.TraversableOnce$class.toArray(TraversableOnce.scala:289)\n\tat scala.collection.AbstractIterator.toArray(Iterator.scala:1334)\n\tat org.apache.spark.rdd.RDD$$anonfun$take$1$$anonfun$29.apply(RDD.scala:1364)\n\tat org.apache.spark.rdd.RDD$$anonfun$take$1$$anonfun$29.apply(RDD.scala:1364)\n\tat org.apache.spark.SparkContext$$anonfun$runJob$5.apply(SparkContext.scala:2101)\n\tat org.apache.spark.SparkContext$$anonfun$runJob$5.apply(SparkContext.scala:2101)\n\tat org.apache.spark.scheduler.ResultTask.runTask(ResultTask.scala:90)\n\tat org.apache.spark.scheduler.Task.run(Task.scala:121)\n\tat org.apache.spark.executor.Executor$TaskRunner$$anonfun$10.apply(Executor.scala:402)\n\tat org.apache.spark.util.Utils$.tryWithSafeFinally(Utils.scala:1360)\n\tat org.apache.spark.executor.Executor$TaskRunner.run(Executor.scala:408)\n\tat java.util.concurrent.ThreadPoolExecutor.runWorker(ThreadPoolExecutor.java:1149)\n\tat java.util.concurrent.ThreadPoolExecutor$Worker.run(ThreadPoolExecutor.java:624)\n\tat java.lang.Thread.run(Thread.java:748)\n\nDriver stacktrace:\n\tat org.apache.spark.scheduler.DAGScheduler.org$apache$spark$scheduler$DAGScheduler$$failJobAndIndependentStages(DAGScheduler.scala:1887)\n\tat org.apache.spark.scheduler.DAGScheduler$$anonfun$abortStage$1.apply(DAGScheduler.scala:1875)\n\tat org.apache.spark.scheduler.DAGScheduler$$anonfun$abortStage$1.apply(DAGScheduler.scala:1874)\n\tat scala.collection.mutable.ResizableArray$class.foreach(ResizableArray.scala:59)\n\tat scala.collection.mutable.ArrayBuffer.foreach(ArrayBuffer.scala:48)\n\tat org.apache.spark.scheduler.DAGScheduler.abortStage(DAGScheduler.scala:1874)\n\tat org.apache.spark.scheduler.DAGScheduler$$anonfun$handleTaskSetFailed$1.apply(DAGScheduler.scala:926)\n\tat org.apache.spark.scheduler.DAGScheduler$$anonfun$handleTaskSetFailed$1.apply(DAGScheduler.scala:926)\n\tat scala.Option.foreach(Option.scala:257)\n\tat org.apache.spark.scheduler.DAGScheduler.handleTaskSetFailed(DAGScheduler.scala:926)\n\tat org.apache.spark.scheduler.DAGSchedulerEventProcessLoop.doOnReceive(DAGScheduler.scala:2108)\n\tat org.apache.spark.scheduler.DAGSchedulerEventProcessLoop.onReceive(DAGScheduler.scala:2057)\n\tat org.apache.spark.scheduler.DAGSchedulerEventProcessLoop.onReceive(DAGScheduler.scala:2046)\n\tat org.apache.spark.util.EventLoop$$anon$1.run(EventLoop.scala:49)\n\tat org.apache.spark.scheduler.DAGScheduler.runJob(DAGScheduler.scala:737)\n\tat org.apache.spark.SparkContext.runJob(SparkContext.scala:2061)\n\tat org.apache.spark.SparkContext.runJob(SparkContext.scala:2082)\n\tat org.apache.spark.SparkContext.runJob(SparkContext.scala:2101)\n\tat org.apache.spark.rdd.RDD$$anonfun$take$1.apply(RDD.scala:1364)\n\tat org.apache.spark.rdd.RDDOperationScope$.withScope(RDDOperationScope.scala:151)\n\tat org.apache.spark.rdd.RDDOperationScope$.withScope(RDDOperationScope.scala:112)\n\tat org.apache.spark.rdd.RDD.withScope(RDD.scala:363)\n\tat org.apache.spark.rdd.RDD.take(RDD.scala:1337)\n\tat org.apache.spark.rdd.RDD$$anonfun$first$1.apply(RDD.scala:1378)\n\tat org.apache.spark.rdd.RDDOperationScope$.withScope(RDDOperationScope.scala:151)\n\tat org.apache.spark.rdd.RDDOperationScope$.withScope(RDDOperationScope.scala:112)\n\tat org.apache.spark.rdd.RDD.withScope(RDD.scala:363)\n\tat org.apache.spark.rdd.RDD.first(RDD.scala:1377)\n\tat org.apache.spark.mllib.linalg.distributed.RowMatrix.numCols(RowMatrix.scala:61)\n\tat org.apache.spark.mllib.linalg.distributed.RowMatrix.computePrincipalComponentsAndExplainedVariance(RowMatrix.scala:384)\n\tat org.apache.spark.mllib.linalg.distributed.RowMatrix.computePrincipalComponents(RowMatrix.scala:411)\n\tat sun.reflect.NativeMethodAccessorImpl.invoke0(Native Method)\n\tat sun.reflect.NativeMethodAccessorImpl.invoke(NativeMethodAccessorImpl.java:62)\n\tat sun.reflect.DelegatingMethodAccessorImpl.invoke(DelegatingMethodAccessorImpl.java:43)\n\tat java.lang.reflect.Method.invoke(Method.java:498)\n\tat py4j.reflection.MethodInvoker.invoke(MethodInvoker.java:244)\n\tat py4j.reflection.ReflectionEngine.invoke(ReflectionEngine.java:357)\n\tat py4j.Gateway.invoke(Gateway.java:282)\n\tat py4j.commands.AbstractCommand.invokeMethod(AbstractCommand.java:132)\n\tat py4j.commands.CallCommand.execute(CallCommand.java:79)\n\tat py4j.GatewayConnection.run(GatewayConnection.java:238)\n\tat java.lang.Thread.run(Thread.java:748)\nCaused by: org.apache.spark.api.python.PythonException: Traceback (most recent call last):\n  File \"/usr/local/spark/python/lib/pyspark.zip/pyspark/worker.py\", line 372, in main\n    process()\n  File \"/usr/local/spark/python/lib/pyspark.zip/pyspark/worker.py\", line 367, in process\n    serializer.dump_stream(func(split_index, iterator), outfile)\n  File \"/usr/local/spark/python/lib/pyspark.zip/pyspark/serializers.py\", line 390, in dump_stream\n    vs = list(itertools.islice(iterator, batch))\n  File \"/usr/local/spark/python/lib/pyspark.zip/pyspark/util.py\", line 99, in wrapper\n    return f(*args, **kwargs)\n  File \"/usr/local/spark/python/lib/pyspark.zip/pyspark/mllib/linalg/__init__.py\", line 83, in _convert_to_vector\n    raise TypeError(\"Cannot convert type %s into Vector\" % type(l))\nTypeError: Cannot convert type <class 'pyspark.sql.types.Row'> into Vector\n\n\tat org.apache.spark.api.python.BasePythonRunner$ReaderIterator.handlePythonException(PythonRunner.scala:452)\n\tat org.apache.spark.api.python.PythonRunner$$anon$1.read(PythonRunner.scala:588)\n\tat org.apache.spark.api.python.PythonRunner$$anon$1.read(PythonRunner.scala:571)\n\tat org.apache.spark.api.python.BasePythonRunner$ReaderIterator.hasNext(PythonRunner.scala:406)\n\tat org.apache.spark.InterruptibleIterator.hasNext(InterruptibleIterator.scala:37)\n\tat scala.collection.Iterator$$anon$12.hasNext(Iterator.scala:440)\n\tat scala.collection.Iterator$$anon$10.hasNext(Iterator.scala:390)\n\tat scala.collection.Iterator$class.foreach(Iterator.scala:891)\n\tat scala.collection.AbstractIterator.foreach(Iterator.scala:1334)\n\tat scala.collection.generic.Growable$class.$plus$plus$eq(Growable.scala:59)\n\tat scala.collection.mutable.ArrayBuffer.$plus$plus$eq(ArrayBuffer.scala:104)\n\tat scala.collection.mutable.ArrayBuffer.$plus$plus$eq(ArrayBuffer.scala:48)\n\tat scala.collection.TraversableOnce$class.to(TraversableOnce.scala:310)\n\tat scala.collection.AbstractIterator.to(Iterator.scala:1334)\n\tat scala.collection.TraversableOnce$class.toBuffer(TraversableOnce.scala:302)\n\tat scala.collection.AbstractIterator.toBuffer(Iterator.scala:1334)\n\tat scala.collection.TraversableOnce$class.toArray(TraversableOnce.scala:289)\n\tat scala.collection.AbstractIterator.toArray(Iterator.scala:1334)\n\tat org.apache.spark.rdd.RDD$$anonfun$take$1$$anonfun$29.apply(RDD.scala:1364)\n\tat org.apache.spark.rdd.RDD$$anonfun$take$1$$anonfun$29.apply(RDD.scala:1364)\n\tat org.apache.spark.SparkContext$$anonfun$runJob$5.apply(SparkContext.scala:2101)\n\tat org.apache.spark.SparkContext$$anonfun$runJob$5.apply(SparkContext.scala:2101)\n\tat org.apache.spark.scheduler.ResultTask.runTask(ResultTask.scala:90)\n\tat org.apache.spark.scheduler.Task.run(Task.scala:121)\n\tat org.apache.spark.executor.Executor$TaskRunner$$anonfun$10.apply(Executor.scala:402)\n\tat org.apache.spark.util.Utils$.tryWithSafeFinally(Utils.scala:1360)\n\tat org.apache.spark.executor.Executor$TaskRunner.run(Executor.scala:408)\n\tat java.util.concurrent.ThreadPoolExecutor.runWorker(ThreadPoolExecutor.java:1149)\n\tat java.util.concurrent.ThreadPoolExecutor$Worker.run(ThreadPoolExecutor.java:624)\n\t... 1 more\n"
     ]
    }
   ],
   "source": [
    "#try to compute first 2 PCs\n",
    "mat = RowMatrix(train_x_rdd)\n",
    "#pc = mat.computePrincipalComponents(2)"
   ]
  },
  {
   "cell_type": "markdown",
   "metadata": {},
   "source": [
    "# Question 2: Which action \"category\" has the most predictive power?\n",
    "(ie time-based Body acceleration, frequency-based Body acceleration, Gyro, angle, ect)"
   ]
  },
  {
   "cell_type": "code",
   "execution_count": 97,
   "metadata": {},
   "outputs": [],
   "source": [
    "#splits the header column on dashes, and creates a data frame with each of the elements\n",
    "\n",
    "split_col = F.split(df_header['1'], '-')\n",
    "df_header = df_header.withColumn('Main', split_col.getItem(0))\n",
    "df_header = df_header.withColumn('Seconded', split_col.getItem(1)) #Kevin"
   ]
  },
  {
   "cell_type": "code",
   "execution_count": 98,
   "metadata": {
    "scrolled": true
   },
   "outputs": [
    {
     "name": "stdout",
     "output_type": "stream",
     "text": [
      "+---+-------------------+--------+--------+\n",
      "|  0|                  1|    Main|Seconded|\n",
      "+---+-------------------+--------+--------+\n",
      "|  1|  tBodyAcc-mean()-X|tBodyAcc|  mean()|\n",
      "|  2|  tBodyAcc-mean()-Y|tBodyAcc|  mean()|\n",
      "|  3|  tBodyAcc-mean()-Z|tBodyAcc|  mean()|\n",
      "|  4|   tBodyAcc-std()-X|tBodyAcc|   std()|\n",
      "|  5|   tBodyAcc-std()-Y|tBodyAcc|   std()|\n",
      "|  6|   tBodyAcc-std()-Z|tBodyAcc|   std()|\n",
      "|  7|   tBodyAcc-mad()-X|tBodyAcc|   mad()|\n",
      "|  8|   tBodyAcc-mad()-Y|tBodyAcc|   mad()|\n",
      "|  9|   tBodyAcc-mad()-Z|tBodyAcc|   mad()|\n",
      "| 10|   tBodyAcc-max()-X|tBodyAcc|   max()|\n",
      "| 11|   tBodyAcc-max()-Y|tBodyAcc|   max()|\n",
      "| 12|   tBodyAcc-max()-Z|tBodyAcc|   max()|\n",
      "| 13|   tBodyAcc-min()-X|tBodyAcc|   min()|\n",
      "| 14|   tBodyAcc-min()-Y|tBodyAcc|   min()|\n",
      "| 15|   tBodyAcc-min()-Z|tBodyAcc|   min()|\n",
      "| 16|     tBodyAcc-sma()|tBodyAcc|   sma()|\n",
      "| 17|tBodyAcc-energy()-X|tBodyAcc|energy()|\n",
      "| 18|tBodyAcc-energy()-Y|tBodyAcc|energy()|\n",
      "| 19|tBodyAcc-energy()-Z|tBodyAcc|energy()|\n",
      "| 20|   tBodyAcc-iqr()-X|tBodyAcc|   iqr()|\n",
      "+---+-------------------+--------+--------+\n",
      "only showing top 20 rows\n",
      "\n"
     ]
    }
   ],
   "source": [
    "df_header.show()"
   ]
  },
  {
   "cell_type": "code",
   "execution_count": 99,
   "metadata": {},
   "outputs": [
    {
     "data": {
      "text/plain": [
       "24"
      ]
     },
     "execution_count": 99,
     "metadata": {},
     "output_type": "execute_result"
    }
   ],
   "source": [
    "#count the number of unique elements in the \"main\" column of the header df\n",
    "header_summary=df_header.groupBy('Main').count()\n",
    "header_summary.count()                               #Kevin\n",
    "              "
   ]
  },
  {
   "cell_type": "code",
   "execution_count": 100,
   "metadata": {},
   "outputs": [
    {
     "name": "stdout",
     "output_type": "stream",
     "text": [
      "+--------------------+-----+\n",
      "|                Main|count|\n",
      "+--------------------+-----+\n",
      "|           fBodyGyro|   79|\n",
      "|            fBodyAcc|   79|\n",
      "|        fBodyAccJerk|   79|\n",
      "|         tGravityAcc|   40|\n",
      "|           tBodyGyro|   40|\n",
      "|       tBodyGyroJerk|   40|\n",
      "|        tBodyAccJerk|   40|\n",
      "|            tBodyAcc|   40|\n",
      "|fBodyBodyGyroJerkMag|   13|\n",
      "|        tBodyGyroMag|   13|\n",
      "|    fBodyBodyGyroMag|   13|\n",
      "|         tBodyAccMag|   13|\n",
      "|    tBodyGyroJerkMag|   13|\n",
      "|     tBodyAccJerkMag|   13|\n",
      "| fBodyBodyAccJerkMag|   13|\n",
      "|      tGravityAccMag|   13|\n",
      "|         fBodyAccMag|   13|\n",
      "|angle(tBodyAccMea...|    1|\n",
      "|angle(Z,gravityMean)|    1|\n",
      "|angle(Y,gravityMean)|    1|\n",
      "|angle(tBodyGyroMe...|    1|\n",
      "|angle(X,gravityMean)|    1|\n",
      "|angle(tBodyAccJer...|    1|\n",
      "|angle(tBodyGyroJe...|    1|\n",
      "+--------------------+-----+\n",
      "\n"
     ]
    }
   ],
   "source": [
    "#show the unique elements in \"main\" by count (show all 24 of them)\n",
    "    # we note that there are \"bins\" we can look at, which we specify in final_group_names below\n",
    "    # also, our code was unable to parse the \"angle\" columns directly, so we will do those separately\n",
    "header_summary_ordered = header_summary.orderBy('count',ascending = False)      #Kevin\n",
    "header_summary_ordered.show(24)"
   ]
  },
  {
   "cell_type": "code",
   "execution_count": 45,
   "metadata": {},
   "outputs": [],
   "source": [
    "#create vector with the \"group names\" as entries\n",
    "    #first 17 are all the non-angle names. we only want these, since we are treating angles separately\n",
    "    \n",
    "header_split_names = header_summary_ordered.select('Main').rdd.map(lambda row : row[0]).collect()[1:17]\n",
    "final_group_names = [\"fBodyAcc\", \"tBodyGyro\", \"tBodyAcc\", \"fBodyBody\", \"tGravityAcc\"]"
   ]
  },
  {
   "cell_type": "code",
   "execution_count": 101,
   "metadata": {},
   "outputs": [],
   "source": [
    "#since our regex above doesn't deal with the angle format, we treat them separately\n",
    "    #so we want to pull them out of our dataset so we can deal with everything else\n",
    "\n",
    "angle_cols = [s for s in train_x.columns if 'angle' in s]\n",
    "train_x_without_angles = train_x.select([a for a in train_x.columns if a not in angle_cols])"
   ]
  },
  {
   "cell_type": "code",
   "execution_count": 102,
   "metadata": {},
   "outputs": [],
   "source": [
    "# creates a list, where each element is a data frame in one of the group names in final_group_names, plus an element for \"angle\" columns\n",
    "\n",
    "df_list = []\n",
    "for name in final_group_names:\n",
    "    selected = [s for s in train_x_without_angles.columns if name in s]\n",
    "    df_list.append(train_x_without_angles.select(selected))\n",
    "    \n",
    "    \n",
    "# we ignored angles until now, so we append the angle dataframe separately\n",
    "#train_x.select(\"column\").where(\"column like '%fBodyGyro%'\")\n",
    "angle_cols = [s for s in train_x_without_angles.columns if 'angle' in s]\n",
    "\n",
    "#add \n",
    "df_list.append(train_x_without_angles.select(angle_cols))"
   ]
  },
  {
   "cell_type": "code",
   "execution_count": 104,
   "metadata": {},
   "outputs": [
    {
     "data": {
      "text/plain": [
       "DataFrame[fBodyAcc-mean()-X: double, fBodyAcc-mean()-Y: double, fBodyAcc-mean()-Z: double, fBodyAcc-std()-X: double, fBodyAcc-std()-Y: double, fBodyAcc-std()-Z: double, fBodyAcc-mad()-X: double, fBodyAcc-mad()-Y: double, fBodyAcc-mad()-Z: double, fBodyAcc-max()-X: double, fBodyAcc-max()-Y: double, fBodyAcc-max()-Z: double, fBodyAcc-min()-X: double, fBodyAcc-min()-Y: double, fBodyAcc-min()-Z: double, fBodyAcc-sma(): double, fBodyAcc-energy()-X: double, fBodyAcc-energy()-Y: double, fBodyAcc-energy()-Z: double, fBodyAcc-iqr()-X: double, fBodyAcc-iqr()-Y: double, fBodyAcc-iqr()-Z: double, fBodyAcc-entropy()-X: double, fBodyAcc-entropy()-Y: double, fBodyAcc-entropy()-Z: double, fBodyAcc-maxInds-X: double, fBodyAcc-maxInds-Y: double, fBodyAcc-maxInds-Z: double, fBodyAcc-meanFreq()-X: double, fBodyAcc-meanFreq()-Y: double, fBodyAcc-meanFreq()-Z: double, fBodyAcc-skewness()-X: double, fBodyAcc-kurtosis()-X: double, fBodyAcc-skewness()-Y: double, fBodyAcc-kurtosis()-Y: double, fBodyAcc-skewness()-Z: double, fBodyAcc-kurtosis()-Z: double, fBodyAccJerk-mean()-X: double, fBodyAccJerk-mean()-Y: double, fBodyAccJerk-mean()-Z: double, fBodyAccJerk-std()-X: double, fBodyAccJerk-std()-Y: double, fBodyAccJerk-std()-Z: double, fBodyAccJerk-mad()-X: double, fBodyAccJerk-mad()-Y: double, fBodyAccJerk-mad()-Z: double, fBodyAccJerk-max()-X: double, fBodyAccJerk-max()-Y: double, fBodyAccJerk-max()-Z: double, fBodyAccJerk-min()-X: double, fBodyAccJerk-min()-Y: double, fBodyAccJerk-min()-Z: double, fBodyAccJerk-sma(): double, fBodyAccJerk-energy()-X: double, fBodyAccJerk-energy()-Y: double, fBodyAccJerk-energy()-Z: double, fBodyAccJerk-iqr()-X: double, fBodyAccJerk-iqr()-Y: double, fBodyAccJerk-iqr()-Z: double, fBodyAccJerk-entropy()-X: double, fBodyAccJerk-entropy()-Y: double, fBodyAccJerk-entropy()-Z: double, fBodyAccJerk-maxInds-X: double, fBodyAccJerk-maxInds-Y: double, fBodyAccJerk-maxInds-Z: double, fBodyAccJerk-meanFreq()-X: double, fBodyAccJerk-meanFreq()-Y: double, fBodyAccJerk-meanFreq()-Z: double, fBodyAccJerk-skewness()-X: double, fBodyAccJerk-kurtosis()-X: double, fBodyAccJerk-skewness()-Y: double, fBodyAccJerk-kurtosis()-Y: double, fBodyAccJerk-skewness()-Z: double, fBodyAccJerk-kurtosis()-Z: double, fBodyAccMag-mean(): double, fBodyAccMag-std(): double, fBodyAccMag-mad(): double, fBodyAccMag-max(): double, fBodyAccMag-min(): double, fBodyAccMag-sma(): double, fBodyAccMag-energy(): double, fBodyAccMag-iqr(): double, fBodyAccMag-entropy(): double, fBodyAccMag-maxInds: double, fBodyAccMag-meanFreq(): double, fBodyAccMag-skewness(): double, fBodyAccMag-kurtosis(): double]"
      ]
     },
     "execution_count": 104,
     "metadata": {},
     "output_type": "execute_result"
    }
   ],
   "source": [
    "df_list[0]"
   ]
  },
  {
   "cell_type": "code",
   "execution_count": 49,
   "metadata": {
    "scrolled": true
   },
   "outputs": [
    {
     "data": {
      "text/plain": [
       "([1, 1], [24])"
      ]
     },
     "execution_count": 49,
     "metadata": {},
     "output_type": "execute_result"
    }
   ],
   "source": [
    "header_summary.groupBy(\"Main\").count().rdd.values().histogram(20)   #Kevin"
   ]
  },
  {
   "cell_type": "code",
   "execution_count": 50,
   "metadata": {},
   "outputs": [
    {
     "data": {
      "text/plain": [
       "<matplotlib.axes._subplots.AxesSubplot at 0x7ff6f886a4e0>"
      ]
     },
     "execution_count": 50,
     "metadata": {},
     "output_type": "execute_result"
    }
   ],
   "source": [
    "import matplotlib.pyplot\n",
    "\n",
    "header_barplot= df_header.toPandas()                    # converted to pandas since easier, RDD tricky\n",
    "header_barplot['Main'].value_counts().plot(kind='bar')  #Visualize Main Variable count\n",
    "                                                        #Kevin"
   ]
  },
  {
   "cell_type": "markdown",
   "metadata": {},
   "source": [
    "# Look for class imbalance"
   ]
  },
  {
   "cell_type": "code",
   "execution_count": 105,
   "metadata": {},
   "outputs": [
    {
     "data": {
      "text/plain": [
       "6"
      ]
     },
     "execution_count": 105,
     "metadata": {},
     "output_type": "execute_result"
    }
   ],
   "source": [
    "#count the number of activites done\n",
    "y_train_summary=train_y.groupBy('position').count()      \n",
    "y_train_summary.count()     # total activities                                                  #kevin"
   ]
  },
  {
   "cell_type": "code",
   "execution_count": 106,
   "metadata": {},
   "outputs": [
    {
     "name": "stdout",
     "output_type": "stream",
     "text": [
      "+--------+-----+\n",
      "|position|count|\n",
      "+--------+-----+\n",
      "|       6| 1528|\n",
      "|       5| 1523|\n",
      "|       1| 1387|\n",
      "|       3| 1110|\n",
      "|       2| 1246|\n",
      "|       4| 1420|\n",
      "+--------+-----+\n",
      "\n"
     ]
    }
   ],
   "source": [
    "#look for class imbalance in how much each activity was done.\n",
    "y_train_summary.show()"
   ]
  },
  {
   "cell_type": "code",
   "execution_count": 107,
   "metadata": {},
   "outputs": [
    {
     "name": "stdout",
     "output_type": "stream",
     "text": [
      "+--------+-----+\n",
      "|position|count|\n",
      "+--------+-----+\n",
      "|       6| 1528|\n",
      "|       5| 1523|\n",
      "|       4| 1420|\n",
      "|       1| 1387|\n",
      "|       2| 1246|\n",
      "|       3| 1110|\n",
      "+--------+-----+\n",
      "\n"
     ]
    }
   ],
   "source": [
    "y_train_summary_dist = y_train_summary.orderBy('count', ascending = False)\n",
    "y_train_summary_dist.show()"
   ]
  },
  {
   "cell_type": "code",
   "execution_count": 108,
   "metadata": {},
   "outputs": [
    {
     "name": "stdout",
     "output_type": "stream",
     "text": [
      "+--------+-----+-------------+\n",
      "|position|count|Frequency (%)|\n",
      "+--------+-----+-------------+\n",
      "|       6| 1528|         18.6|\n",
      "|       5| 1523|        18.54|\n",
      "|       4| 1420|        17.29|\n",
      "|       1| 1387|        16.89|\n",
      "|       2| 1246|        15.17|\n",
      "|       3| 1110|        13.51|\n",
      "+--------+-----+-------------+\n",
      "\n"
     ]
    }
   ],
   "source": [
    "# add a column for proportion\n",
    "sum_counts = train_y.count()\n",
    "y_train_summary_dist.withColumn('Frequency (%)', F.round(y_train_summary_dist[1]/sum_counts * 100, 2)).show()\n"
   ]
  },
  {
   "cell_type": "code",
   "execution_count": 109,
   "metadata": {},
   "outputs": [
    {
     "data": {
      "text/plain": [
       "<matplotlib.axes._subplots.AxesSubplot at 0x7ff7007a5da0>"
      ]
     },
     "execution_count": 109,
     "metadata": {},
     "output_type": "execute_result"
    },
    {
     "data": {
      "image/png": "[encoded data removed]",
      "text/plain": [
       "<Figure size 432x288 with 1 Axes>"
      ]
     },
     "metadata": {
      "needs_background": "light"
     },
     "output_type": "display_data"
    }
   ],
   "source": [
    "y_train_barplot= train_y.toPandas()                    # converted to pandas since easier, RDD tricky\n",
    "y_train_barplot['position'].value_counts().plot(kind='bar')      #maybe nicer if we change x axis to display activity label?"
   ]
  },
  {
   "cell_type": "code",
   "execution_count": 63,
   "metadata": {},
   "outputs": [
    {
     "data": {
      "text/plain": [
       "6"
      ]
     },
     "execution_count": 63,
     "metadata": {},
     "output_type": "execute_result"
    }
   ],
   "source": [
    "y_test_summary=df_test_labels.groupBy('position').count()       #0 is column name\n",
    "y_test_summary.count()     # total activities "
   ]
  },
  {
   "cell_type": "code",
   "execution_count": 64,
   "metadata": {},
   "outputs": [
    {
     "data": {
      "image/png": "[encoded data removed]",
      "text/plain": [
       "<Figure size 432x288 with 1 Axes>"
      ]
     },
     "metadata": {
      "needs_background": "light"
     },
     "output_type": "display_data"
    }
   ],
   "source": [
    "import matplotlib.pyplot\n",
    "y_train_bar=y_train_barplot['position'].value_counts() #data read\n",
    "increment=[1,2,3,4,5,6]\n",
    "names=['laying','standing','sitting','walking','walking\\ndownstairs','walking\\nupstairs']\n",
    "matplotlib.pyplot.bar(increment, y_train_bar, align='center', alpha=0.5, color='c') #Barplot\n",
    "matplotlib.pyplot.xticks(increment,names)\n",
    "matplotlib.pyplot.ylabel('Counts')\n",
    "matplotlib.pyplot.xlabel('Positions')\n",
    "matplotlib.pyplot.title('Acitivity position distribution')\n",
    "matplotlib.pyplot.show()\n",
    "\n",
    "#how are the positiosn distributed?"
   ]
  },
  {
   "cell_type": "code",
   "execution_count": 65,
   "metadata": {},
   "outputs": [
    {
     "name": "stdout",
     "output_type": "stream",
     "text": [
      "+--------+-----+\n",
      "|position|count|\n",
      "+--------+-----+\n",
      "|       6|  537|\n",
      "|       5|  532|\n",
      "|       1|  496|\n",
      "|       3|  420|\n",
      "|       2|  471|\n",
      "|       4|  491|\n",
      "+--------+-----+\n",
      "\n"
     ]
    }
   ],
   "source": [
    "y_test_summary.show()"
   ]
  },
  {
   "cell_type": "code",
   "execution_count": 66,
   "metadata": {},
   "outputs": [
    {
     "name": "stdout",
     "output_type": "stream",
     "text": [
      "+--------+-----+\n",
      "|position|count|\n",
      "+--------+-----+\n",
      "|       6|  537|\n",
      "|       5|  532|\n",
      "|       1|  496|\n",
      "|       4|  491|\n",
      "|       2|  471|\n",
      "|       3|  420|\n",
      "+--------+-----+\n",
      "\n"
     ]
    }
   ],
   "source": [
    "y_test_summary.orderBy('count', ascending=False).show()      #ordered from biggest to smallest\n",
    "                                                            # kevin"
   ]
  },
  {
   "cell_type": "code",
   "execution_count": 68,
   "metadata": {},
   "outputs": [
    {
     "data": {
      "image/png": "[encoded data removed]",
      "text/plain": [
       "<Figure size 432x288 with 1 Axes>"
      ]
     },
     "metadata": {
      "needs_background": "light"
     },
     "output_type": "display_data"
    }
   ],
   "source": [
    "y_test_barplot= df_test_labels.toPandas()                    # converted to pandas since easier, RDD tricky\n",
    "y_test_barplot['position'].value_counts().plot(kind='bar')     #Kevin\n",
    "Y_test_bar=y_test_barplot['position'].value_counts()"
   ]
  },
  {
   "cell_type": "code",
   "execution_count": 69,
   "metadata": {},
   "outputs": [
    {
     "data": {
      "image/png": "[encoded data removed]",
      "text/plain": [
       "<Figure size 432x288 with 1 Axes>"
      ]
     },
     "metadata": {
      "needs_background": "light"
     },
     "output_type": "display_data"
    }
   ],
   "source": [
    "increment=[1,2,3,4,5,6]\n",
    "names=['laying','standing','sitting','walking','walking\\ndownstairs','walking\\nupstairs']\n",
    "matplotlib.pyplot.bar(increment, Y_test_bar, align='center', alpha=0.5, color='c') #Barplot\n",
    "matplotlib.pyplot.xticks(increment,names)\n",
    "matplotlib.pyplot.ylabel('Counts')\n",
    "matplotlib.pyplot.xlabel('Positions')\n",
    "matplotlib.pyplot.title('Acitivity position distribution')\n",
    "matplotlib.pyplot.show()"
   ]
  },
  {
   "cell_type": "markdown",
   "metadata": {},
   "source": [
    "\n",
    "# Outlier Detection, Using Interquartile Range Method"
   ]
  },
  {
   "cell_type": "code",
   "execution_count": 70,
   "metadata": {},
   "outputs": [],
   "source": [
    "cols = [c for c in df_train_features.columns]   # exclude id from features\n",
    "bounds = {} # will store lower and upper bounds for each feature              #Will use later, -Kevin"
   ]
  },
  {
   "cell_type": "code",
   "execution_count": 71,
   "metadata": {},
   "outputs": [],
   "source": [
    "for col in cols:\n",
    "    quantiles = df_train_features.approxQuantile(col, [0.25, 0.75], 0.05)    #creating desired quantiles in data,\n",
    "    IQR = quantiles[1] - quantiles[0]\n",
    "\n",
    "    bounds[col] = [\n",
    "     quantiles[0] - 1.5 * IQR,\n",
    "     quantiles[1] + 1.5 * IQR\n",
    "    ]"
   ]
  },
  {
   "cell_type": "code",
   "execution_count": 72,
   "metadata": {},
   "outputs": [
    {
     "data": {
      "text/plain": [
       "{'0': [0.23234075999999992, 0.3153323600000001],\n",
       " '1': [-0.04080803000000001, 0.003570970000000005],\n",
       " '2': [-0.14998286500000002, -0.07150738499999998],\n",
       " '3': [-2.0506992499999996, 0.7716313899999998],\n",
       " '4': [-2.312211393, 1.247148695],\n",
       " '5': [-1.983126225, 0.692236615],\n",
       " '6': [-1.974556015, 0.6425051450000001],\n",
       " '7': [-2.2646546599999997, 1.1680108599999999],\n",
       " '8': [-1.983354035, 0.692203685],\n",
       " '9': [-2.2271208154999997, 1.2174568524999998],\n",
       " '10': [-1.2698292530000002, 0.6124587550000001],\n",
       " '11': [-1.4814659749999999, 0.3022727849999999],\n",
       " '12': [-0.786213605, 1.818669155],\n",
       " '13': [-0.7939447775, 1.5690056984999998],\n",
       " '14': [-0.277561675, 1.502199085],\n",
       " '15': [-2.23151527, 1.09809297],\n",
       " '16': [-1.38410356, -0.35963772],\n",
       " '17': [-1.246622025, -0.588382145],\n",
       " '18': [-1.3292172549999999, -0.4498343350000001],\n",
       " '19': [-1.8198762050000001, 0.3820442350000001],\n",
       " '20': [-1.9479837250000003, 0.6291306350000001],\n",
       " '21': [-1.9037771, 0.5600412200000001],\n",
       " '22': [-1.8501938199999999, 1.59045842],\n",
       " '23': [-1.7951936299999995, 1.4918704499999997],\n",
       " '24': [-1.43258962, 1.05566278],\n",
       " '25': [-1.05892258, 0.7917539800000001],\n",
       " '26': [-0.53582348, 0.691764408],\n",
       " '27': [-0.629043829, 0.528399235],\n",
       " '28': [-0.458413085, 0.6960937389999999],\n",
       " '29': [-0.779071565, 0.6934083149999999],\n",
       " '30': [-0.5394279799999999, 0.55362018],\n",
       " '31': [-0.31639604000000005, 0.6197399760000001],\n",
       " '32': [-0.5931345299999999, 0.53059659],\n",
       " '33': [-0.79099358, 0.78515674],\n",
       " '34': [-0.5223004, 0.54256056],\n",
       " '35': [-0.51651064, 0.57861296],\n",
       " '36': [-0.7099669865, 0.5127654575],\n",
       " '37': [-0.9432928585, 0.5937288175],\n",
       " '38': [-0.9287246545000001, 0.5111180775],\n",
       " '39': [-0.8426125500000001, 1.05729993],\n",
       " '40': [0.6170936550000001, 1.146913455],\n",
       " '41': [-0.686323986, 0.51582699],\n",
       " '42': [-0.609788445, 0.6562215149999999],\n",
       " '43': [-1.038508865, -0.922354905],\n",
       " '44': [-1.0487768549999998, -0.896884095],\n",
       " '45': [-1.0652808999999999, -0.85805314],\n",
       " '46': [-1.03701192, -0.9249952799999999],\n",
       " '47': [-1.0466652500000002, -0.9009906099999999],\n",
       " '48': [-1.06292696, -0.86257472],\n",
       " '49': [0.5670364849999999, 1.0732048450000002],\n",
       " '50': [-0.683354499, 0.487407925],\n",
       " '51': [-0.5909874100000001, 0.6474577100000001],\n",
       " '52': [0.60801599, 1.1706671899999999],\n",
       " '53': [-0.6836026955, 0.5471843325],\n",
       " '54': [-0.6298942000000001, 0.6503658000000001],\n",
       " '55': [-1.315107235, 1.066149925],\n",
       " '56': [0.03687030999999996, 1.35342575],\n",
       " '57': [-1.224784405, -0.5431012450000001],\n",
       " '58': [-1.2624422, -0.5356560399999999],\n",
       " '59': [-1.032273435, -0.9331859549999999],\n",
       " '60': [-1.041696195, -0.911309755],\n",
       " '61': [-1.05509663, -0.8781812700000001],\n",
       " '62': [-1.83288487, 0.38814145],\n",
       " '63': [-1.0, -1.0],\n",
       " '64': [-1.722025765, 0.20337627499999988],\n",
       " '65': [-1.05534616, -0.019921599999999984],\n",
       " '66': [0.02424072500000013, 1.0685050049999998],\n",
       " '67': [-1.1408101, -0.08651562000000007],\n",
       " '68': [0.03139114500000001, 1.218777665],\n",
       " '69': [-1.0815723799999999, 0.35933138],\n",
       " '70': [-0.429698455, 1.050367585],\n",
       " '71': [-1.0737334950000001, 0.31218814500000014],\n",
       " '72': [-0.26399543999999997, 1.07423952],\n",
       " '73': [-1.12284112, 0.22702175999999996],\n",
       " '74': [-0.20231619500000003, 1.107728645],\n",
       " '75': [-1.132544685, 0.13508903500000002],\n",
       " '76': [-0.17532115500000006, 1.1641703250000002],\n",
       " '77': [-2.336420395, 2.686378685],\n",
       " '78': [-2.85384297, 2.5557162300000003],\n",
       " '79': [-2.50502324, 2.64660108],\n",
       " '80': [0.040131812, 0.109043764],\n",
       " '81': [-0.07111559099999999, 0.08187462499999999],\n",
       " '82': [-0.087122303, 0.076682393],\n",
       " '83': [-1.9469196949999998, 0.6013401049999999],\n",
       " '84': [-2.0517261099999997, 0.7908932499999997],\n",
       " '85': [-1.581423115, -0.0021837150000000305],\n",
       " '86': [-1.970894815, 0.641148825],\n",
       " '87': [-2.1073848, 0.88814656],\n",
       " '88': [-1.59585109, 0.025133390000000033],\n",
       " '89': [-1.7133235, 0.21079546000000005],\n",
       " '90': [-1.619646455, 0.058694385000000016],\n",
       " '91': [-1.396298685, -0.31189960499999986],\n",
       " '92': [-0.8202234350000002, 2.0737277250000004],\n",
       " '93': [-0.53180105, 1.8993087100000001],\n",
       " '94': [-0.12196079999999987, 1.6501496799999997],\n",
       " '95': [-1.9774079100000002, 0.6557045700000002],\n",
       " '96': [-1.316885945, -0.47159854500000015],\n",
       " '97': [-1.400304635, -0.33218907500000006],\n",
       " '98': [-1.130021495, -0.782718335],\n",
       " '99': [-2.0031793, 0.69879614],\n",
       " '100': [-1.92443771, 0.5833662900000001],\n",
       " '101': [-1.53480523, -0.07244027000000008],\n",
       " '102': [-2.6684144, 2.49832088],\n",
       " '103': [-2.66374375, 2.47734537],\n",
       " '104': [-2.50026365, 2.24374667],\n",
       " '105': [-1.063590305, 0.8182944550000001],\n",
       " '106': [-0.28718771499999995, 0.5958626929999999],\n",
       " '107': [-0.52601107, 0.637553426],\n",
       " '108': [-0.354069784, 0.5800605904],\n",
       " '109': [-0.865279205, 0.6972987549999999],\n",
       " '110': [-0.44622992250000004, 0.5511163055],\n",
       " '111': [-0.41749991000000003, 0.746166938],\n",
       " '112': [-0.17078384999999996, 0.7961110299999999],\n",
       " '113': [-0.7910796649999999, 0.7280889349999999],\n",
       " '114': [-0.36695360250000003, 0.5165039215],\n",
       " '115': [-0.572633205, 0.5556161150000001],\n",
       " '116': [-0.43342207674999994, 0.70741980605],\n",
       " '117': [-0.78561017795, 0.46130544324999995],\n",
       " '118': [-0.7870760099999999, 0.7568003099999999],\n",
       " '119': [-0.59967171, 0.7320700499999999],\n",
       " '120': [-0.074616397, 0.014719354999999996],\n",
       " '121': [-0.16506200299999998, 0.0035210449999999935],\n",
       " '122': [0.013488902500000004, 0.15355019450000001],\n",
       " '123': [-1.69625742, 0.19399161999999992],\n",
       " '124': [-1.7255122, 0.25592780000000004],\n",
       " '125': [-1.9194206600000001, 0.56911254],\n",
       " '126': [-1.68277908, 0.16829931999999992],\n",
       " '127': [-1.7017989199999999, 0.2135454],\n",
       " '128': [-1.8862389099999999, 0.5108188499999999],\n",
       " '129': [-1.4816817949999999, 0.1270105649999999],\n",
       " '130': [-1.4372671399999999, -0.1311489],\n",
       " '131': [-1.44372699, 0.40649965000000005],\n",
       " '132': [-0.09770562999999993, 1.39638725],\n",
       " '133': [0.10799227499999997, 1.383042315],\n",
       " '134': [-0.41863716, 1.56524596],\n",
       " '135': [-2.0451313800000004, 0.7966294200000003],\n",
       " '136': [-1.21352503, -0.6438141499999999],\n",
       " '137': [-1.20133377, -0.6637658500000001],\n",
       " '138': [-1.2893176349999997, -0.5172234350000001],\n",
       " '139': [-1.67444697, 0.14998398999999996],\n",
       " '140': [-1.649132045, 0.11821615499999993],\n",
       " '141': [-1.7257955749999998, 0.23626870499999997],\n",
       " '142': [-1.496552515, 1.1354396050000002],\n",
       " '143': [-1.110090065, 0.879643015],\n",
       " '144': [-1.5878596150000002, 1.382238185],\n",
       " '145': [-1.026130159, 0.525790825],\n",
       " '146': [-0.49623852749999997, 0.7473124925],\n",
       " '147': [-0.408575654, 0.6759612643999999],\n",
       " '148': [-0.7489000159999999, 0.53893448],\n",
       " '149': [-0.7519246230000001, 0.316390505],\n",
       " '150': [-0.32594419, 0.631064386],\n",
       " '151': [-0.5805892115000001, 0.5002547125000001],\n",
       " '152': [-0.39948890300000006, 0.6438341738000001],\n",
       " '153': [-1.01903083, 0.8270136499999999],\n",
       " '154': [-0.82144749, 0.90324979],\n",
       " '155': [-0.73347568, 0.70482512],\n",
       " '156': [-0.5553745975, 0.8033004705],\n",
       " '157': [-1.2334321605, 0.8073696275000001],\n",
       " '158': [-0.95408059, 0.89171029],\n",
       " '159': [-1.39961381, 1.06007811],\n",
       " '160': [-0.149080966, -0.05363030999999999],\n",
       " '161': [-0.09663688050000001, 0.007490035500000006],\n",
       " '162': [-0.11684718300000001, -0.0018641749999999888],\n",
       " '163': [-1.695275745, 0.1824670949999999],\n",
       " '164': [-1.473336395, -0.19124691500000013],\n",
       " '165': [-1.65278606, 0.10646345999999995],\n",
       " '166': [-1.70573166, 0.19910914000000002],\n",
       " '167': [-1.4544698, -0.22397819999999996],\n",
       " '168': [-1.6456724249999999, 0.09397497499999996],\n",
       " '169': [-1.6010893899999998, 0.026721969999999984],\n",
       " '170': [-1.3943395150000002, -0.3242144349999998],\n",
       " '171': [-1.60749431, 0.03620473000000002],\n",
       " '172': [-0.08587927999999989, 1.63448504],\n",
       " '173': [0.27859566999999996, 1.42186103],\n",
       " '174': [0.11863447999999999, 1.5178226400000001],\n",
       " '175': [-1.59554487, 0.010652089999999781],\n",
       " '176': [-1.173803515, -0.7101274750000002],\n",
       " '177': [-1.08158307, -0.8639050700000002],\n",
       " '178': [-1.152606955, -0.7454777150000002],\n",
       " '179': [-1.6911175849999998, 0.17401685499999986],\n",
       " '180': [-1.4318541100000002, -0.2630551499999999],\n",
       " '181': [-1.601049085, 0.019276395],\n",
       " '182': [-2.25382202, 2.1938522999999996],\n",
       " '183': [-2.09054853, 2.08343715],\n",
       " '184': [-2.349092825, 2.278251855],\n",
       " '185': [-0.7639568029999999, 0.567197765],\n",
       " '186': [-0.4150128875, 0.4608796365],\n",
       " '187': [-0.3621327975000001, 0.6690897105000001],\n",
       " '188': [-0.34056046000000006, 0.6636029960000001],\n",
       " '189': [-0.728394228, 0.36472109999999996],\n",
       " '190': [-0.21955643249999995, 0.5808777475],\n",
       " '191': [-0.412956495, 0.5626124889999999],\n",
       " '192': [-0.50846776, 0.659805136],\n",
       " '193': [-1.0809300149999999, 0.994470505],\n",
       " '194': [-0.546656105, 0.617289935],\n",
       " '195': [-0.5723941100000001, 0.7271469460000001],\n",
       " '196': [-0.56150797, 0.62713555],\n",
       " '197': [-0.643273265, 0.7004794950000001],\n",
       " '198': [-0.5774166, 0.6408401199999999],\n",
       " '199': [-0.7680431999199999, 0.4623780531999999],\n",
       " '200': [-2.231309045, 1.096824995],\n",
       " '201': [-2.0288361, 0.7613629399999999],\n",
       " '202': [-1.910595855, 0.5594925850000001],\n",
       " '203': [-2.11945752, 0.91835096],\n",
       " '204': [-1.3946685499999998, -0.3229943100000002],\n",
       " '205': [-2.231309045, 1.096824995],\n",
       " '206': [-1.55132442, -0.08013793999999996],\n",
       " '207': [-1.7487275600000003, 0.2872303600000002],\n",
       " '208': [-2.5862844, 2.81839784],\n",
       " '209': [-0.8784125445, 0.6864623475],\n",
       " '210': [-0.62139859, 0.6277690899999999],\n",
       " '211': [-0.5698319000000001, 0.67170618],\n",
       " '212': [-0.713273132, 0.58273202],\n",
       " '213': [-2.231309045, 1.096824995],\n",
       " '214': [-2.0288361, 0.7613629399999999],\n",
       " '215': [-1.910595855, 0.5594925850000001],\n",
       " '216': [-2.11945752, 0.91835096],\n",
       " '217': [-1.3946685499999998, -0.3229943100000002],\n",
       " '218': [-2.231309045, 1.096824995],\n",
       " '219': [-1.55132442, -0.08013793999999996],\n",
       " '220': [-1.7487275600000003, 0.2872303600000002],\n",
       " '221': [-2.5862844, 2.81839784],\n",
       " '222': [-0.8784125445, 0.6864623475],\n",
       " '223': [-0.62139859, 0.6277690899999999],\n",
       " '224': [-0.5698319000000001, 0.67170618],\n",
       " '225': [-0.713273132, 0.58273202],\n",
       " '226': [-1.97700779, 0.65575501],\n",
       " '227': [-1.96075045, 0.6254240299999999],\n",
       " '228': [-1.9206900450000002, 0.557215035],\n",
       " '229': [-1.9228021600000003, 0.56695216],\n",
       " '230': [-1.4534331900000002, -0.2001380699999999],\n",
       " '231': [-1.97700779, 0.65575501],\n",
       " '232': [-1.352768555, -0.4115562750000001],\n",
       " '233': [-1.7878308299999999, 0.3339852499999999],\n",
       " '234': [-3.032676715, 2.911490285],\n",
       " '235': [-0.5687309225, 0.7162323134999999],\n",
       " '236': [-0.6739708449999999, 0.571800475],\n",
       " '237': [-0.6489909875, 0.45891743249999994],\n",
       " '238': [-0.693558978, 0.5585601099999999],\n",
       " '239': [-2.02691717, 0.7670796299999999],\n",
       " '240': [-1.8008515049999998, 0.3942662149999999],\n",
       " '241': [-1.88612516, 0.5403841999999999],\n",
       " '242': [-1.7209452550000002, 0.252108785],\n",
       " '243': [-1.6090560049999998, 0.04395667499999989],\n",
       " '244': [-2.02691717, 0.7670796299999999],\n",
       " '245': [-1.39734871, -0.3367921500000001],\n",
       " '246': [-1.838217175, 0.452557825],\n",
       " '247': [-1.347366485, 1.742427395],\n",
       " '248': [-0.7719845000000001, 0.67622022],\n",
       " '249': [-0.7622312949999999, 0.5902050649999999],\n",
       " '250': [-0.48490376, 0.68965376],\n",
       " '251': [-0.625664381, 0.484774235],\n",
       " '252': [-1.6030329499999998, 0.023533769999999787],\n",
       " '253': [-1.5157958249999999, -0.12098594500000004],\n",
       " '254': [-1.491893025, -0.16265034499999997],\n",
       " '255': [-1.4853287050000001, -0.17092090499999996],\n",
       " '256': [-1.4343937600000003, -0.24990391999999984],\n",
       " '257': [-1.6030329499999998, 0.023533769999999787],\n",
       " '258': [-1.124311075, -0.792667995],\n",
       " '259': [-1.474038145, -0.19438818500000005],\n",
       " '260': [-2.72101538, 2.9480759799999996],\n",
       " '261': [-0.334203385, 0.8785951350000001],\n",
       " '262': [-0.7401619, 0.26072634000000006],\n",
       " '263': [-0.5845166945, 0.46944403749999997],\n",
       " '264': [-0.69529174405, 0.42407970675000006],\n",
       " '265': [-2.008294695, 0.703661905],\n",
       " '266': [-2.264874785, 1.160738775],\n",
       " '267': [-1.8565292599999998, 0.47216322],\n",
       " '268': [-2.0576525500000002, 0.7819175300000001],\n",
       " '269': [-2.256920105, 1.156299935],\n",
       " '270': [-1.9404855749999999, 0.623612785],\n",
       " '271': [-2.0935466799999998, 0.8449358799999998],\n",
       " '272': [-2.3062850055000004, 1.2280732225000002],\n",
       " '273': [-1.9423064349999999, 0.621498165],\n",
       " '274': [-1.8712703350000002, 0.4676482650000002],\n",
       " '275': [-1.84732691, 0.4664989299999999],\n",
       " '276': [-1.8282474450000001, 0.4452541150000001],\n",
       " '277': [-1.234883035, -0.5938480349999999],\n",
       " '278': [-1.202592285, -0.6420827250000001],\n",
       " '279': [-1.13352798, -0.75574286],\n",
       " '280': [-2.2260941549999997, 1.080705565],\n",
       " '281': [-1.38446085, -0.3590647699999999],\n",
       " '282': [-1.63062512, 0.052317039999999815],\n",
       " '283': [-1.365900445, -0.38874584500000003],\n",
       " '284': [-1.890978165, 0.511759155],\n",
       " '285': [-1.91013825, 0.55075951],\n",
       " '286': [-1.5887773900000002, 0.027278369999999996],\n",
       " '287': [-3.139687595, 2.7091942049999997],\n",
       " '288': [-2.87710796, 2.4741190000000004],\n",
       " '289': [-2.59103589, 2.14902427],\n",
       " '290': [-1.38709678, -0.35483869999999995],\n",
       " '291': [-1.4000000049999999, -0.333333325],\n",
       " '292': [-1.3461538450000001, -0.4230769249999999],\n",
       " '293': [-0.949124033, 0.479536775],\n",
       " '294': [-0.57713815, 0.57404857],\n",
       " '295': [-0.65914768, 0.74100624],\n",
       " '296': [-1.3207968295, 0.9420850625000001],\n",
       " '297': [-1.6942415750000002, 0.6035507050000002],\n",
       " '298': [-1.0751941, 0.38547054000000003],\n",
       " '299': [-1.35427173, -0.017590850000000047],\n",
       " '300': [-1.3533389515, 0.7449219325],\n",
       " '301': [-1.535737425, 0.395191895],\n",
       " '302': [-1.38861584, -0.35219208],\n",
       " '303': [-1.2296962649999998, -0.6170243850000001],\n",
       " '304': [-1.264933945, -0.5581767849999999],\n",
       " '305': [-1.1695913349999998, -0.7169680150000001],\n",
       " '306': [-1.1552783899999999, -0.74088487],\n",
       " '307': [-1.1511039699999999, -0.7478343700000001],\n",
       " '308': [-1.0841018550000001, -0.8596759749999999],\n",
       " '309': [-1.0248341849999998, -0.9585779050000001],\n",
       " '310': [-1.3882914499999999, -0.35270049],\n",
       " '311': [-1.2847550550000002, -0.5250726949999999],\n",
       " '312': [-1.1593366, -0.7341546000000001],\n",
       " '313': [-1.068231005, -0.886163285],\n",
       " '314': [-1.386719295, -0.355309415],\n",
       " '315': [-1.209231255, -0.6508915350000002],\n",
       " '316': [-1.541825125, -0.09562788499999997],\n",
       " '317': [-1.31779146, -0.46991562000000003],\n",
       " '318': [-1.254734015, -0.5750044550000002],\n",
       " '319': [-1.162001535, -0.729370135],\n",
       " '320': [-1.181405885, -0.6967265649999999],\n",
       " '321': [-1.2228981300000001, -0.6274907699999999],\n",
       " '322': [-1.16603276, -0.7225582000000002],\n",
       " '323': [-1.0295045450000002, -0.9506697049999999],\n",
       " '324': [-1.61303888, 0.02303816000000003],\n",
       " '325': [-1.3082761749999998, -0.4856202150000002],\n",
       " '326': [-1.2313420700000002, -0.6134296699999999],\n",
       " '327': [-1.124743535, -0.791577255],\n",
       " '328': [-1.6221832749999998, 0.0382431649999998],\n",
       " '329': [-1.20344358, -0.66020622],\n",
       " '330': [-1.3062087349999998, -0.4882304550000001],\n",
       " '331': [-1.17431346, -0.7087028200000001],\n",
       " '332': [-1.109245, -0.8172803599999998],\n",
       " '333': [-1.0497714249999999, -0.916507785],\n",
       " '334': [-1.0530234200000002, -0.91094782],\n",
       " '335': [-1.0988486499999999, -0.83399153],\n",
       " '336': [-1.09176256, -0.8459519999999998],\n",
       " '337': [-1.029373475, -0.950735595],\n",
       " '338': [-1.31427333, -0.47486173],\n",
       " '339': [-1.09440595, -0.8421295500000001],\n",
       " '340': [-1.07272817, -0.8780174500000001],\n",
       " '341': [-1.0788072149999999, -0.8677608550000002],\n",
       " '342': [-1.35336023, -0.40967007],\n",
       " '343': [-1.0589651199999999, -0.9011557600000001],\n",
       " '344': [-1.90701849, 0.53486863],\n",
       " '345': [-1.99374393, 0.6950827899999998],\n",
       " '346': [-1.63443302, 0.09113585999999996],\n",
       " '347': [-1.9133779349999998, 0.5433861049999997],\n",
       " '348': [-2.039155225, 0.7663316149999999],\n",
       " '349': [-1.521832045, -0.10233024499999988],\n",
       " '350': [-2.06671651, 0.8051680499999999],\n",
       " '351': [-2.009085765, 0.715970675],\n",
       " '352': [-1.57421999, -0.012153749999999963],\n",
       " '353': [-1.75551105, 0.27595799000000004],\n",
       " '354': [-1.83282745, 0.41929423000000005],\n",
       " '355': [-1.4637934600000002, -0.20002361999999996],\n",
       " '356': [-1.19193945, -0.6666727300000002],\n",
       " '357': [-1.20823157, -0.6287583700000001],\n",
       " '358': [-1.157953565, -0.7075709650000002],\n",
       " '359': [-2.01501339, 0.7222536500000001],\n",
       " '360': [-1.31697802, -0.4714450600000001],\n",
       " '361': [-1.40019144, -0.33237887999999993],\n",
       " '362': [-1.1300339250000002, -0.7826982049999999],\n",
       " '363': [-1.9448983850000001, 0.603414455],\n",
       " '364': [-1.73346848, 0.25301576],\n",
       " '365': [-1.5204661600000002, -0.09380551999999986],\n",
       " '366': [-3.20923516, 2.6820586],\n",
       " '367': [-3.2004471700000003, 2.6674119500000004],\n",
       " '368': [-2.853678955, 2.0894649249999997],\n",
       " '369': [-1.3400000000000003, 0.42000000000000015],\n",
       " '370': [-0.9800000000000001, 0.14],\n",
       " '371': [-1.06, 0.38],\n",
       " '372': [-1.01468998, 0.8921330600000001],\n",
       " '373': [-1.065918218, 0.6152135099999999],\n",
       " '374': [-0.9166330625000001, 0.6613903575],\n",
       " '375': [-0.9660456850000001, 0.24843915500000008],\n",
       " '376': [-1.13193938, -0.40140282000000005],\n",
       " '377': [-0.8770871000000001, 0.033567220000000064],\n",
       " '378': [-1.099898725, -0.5996280449999998],\n",
       " '379': [-0.9657617399999999, -0.07502614000000002],\n",
       " '380': [-1.1004033249999998, -0.6002524850000001],\n",
       " '381': [-1.2515097249999998, -0.580763125],\n",
       " '382': [-1.2403199200000001, -0.5993151999999999],\n",
       " '383': [-1.2313909449999998, -0.6141057850000001],\n",
       " '384': [-1.16578498, -0.7233119400000001],\n",
       " '385': [-1.140941405, -0.764776805],\n",
       " '386': [-1.1669277399999998, -0.7213758200000001],\n",
       " '387': [-1.08889598, -0.8516264600000001],\n",
       " '388': [-1.0077696400000002, -0.9870278799999999],\n",
       " '389': [-1.27430306, -0.54270682],\n",
       " '390': [-1.2616255699999999, -0.5636166900000001],\n",
       " '391': [-1.173255255, -0.710882495],\n",
       " '392': [-1.095748385, -0.8402037850000001],\n",
       " '393': [-1.33767179, -0.4370284299999999],\n",
       " '394': [-1.250762875, -0.5815602750000002],\n",
       " '395': [-1.3798078299999998, -0.36655471000000006],\n",
       " '396': [-1.2755255, -0.5404587799999998],\n",
       " '397': [-1.3000854199999998, -0.49935278000000016],\n",
       " '398': [-1.15151684, -0.7468817999999999],\n",
       " '399': [-1.150429345, -0.7485281850000001],\n",
       " '400': [-1.233889325, -0.609089685],\n",
       " '401': [-1.135575805, -0.7734247250000001],\n",
       " '402': [-1.014349625, -0.9759811850000002],\n",
       " '403': [-1.3527722949999998, -0.41164201500000003],\n",
       " '404': [-1.30525793, -0.49060881000000006],\n",
       " '405': [-1.23697579, -0.60406515],\n",
       " '406': [-1.124899305, -0.791279185],\n",
       " '407': [-1.438055345, -0.26937306499999997],\n",
       " '408': [-1.19835148, -0.66872636],\n",
       " '409': [-1.18204553, -0.69598185],\n",
       " '410': [-1.18230032, -0.69539312],\n",
       " '411': [-1.098466165, -0.835303965],\n",
       " '412': [-1.0466768, -0.9216989599999998],\n",
       " '413': [-1.0455078800000002, -0.923531],\n",
       " '414': [-1.08990801, -0.8490043299999999],\n",
       " '415': [-1.103166335, -0.8266459749999999],\n",
       " '416': [-1.0133027049999999, -0.9776254650000002],\n",
       " '417': [-1.2317321200000002, -0.61298676],\n",
       " '418': [-1.08290722, -0.8613454599999999],\n",
       " '419': [-1.0648454200000002, -0.89112158],\n",
       " '420': [-1.102783255, -0.8272956949999999],\n",
       " '421': [-1.187664735, -0.6865622950000001],\n",
       " '422': [-1.0574974400000001, -0.90361096],\n",
       " '423': [-1.8292607300000001, 0.42003062999999996],\n",
       " '424': [-1.67321925, 0.16162699000000003],\n",
       " '425': [-1.93416822, 0.5926387399999999],\n",
       " '426': [-1.6385364, 0.09597000000000011],\n",
       " '427': [-1.7401085749999998, 0.2833336249999999],\n",
       " '428': [-1.802890405, 0.37157187500000005],\n",
       " '429': [-1.7792766549999999, 0.3351709049999999],\n",
       " '430': [-1.660278775, 0.14004294500000003],\n",
       " '431': [-1.950600015, 0.6202025849999999],\n",
       " '432': [-1.596101025, 0.024088534999999967],\n",
       " '433': [-1.56034822, -0.02353925999999995],\n",
       " '434': [-1.55721753, -0.043951370000000156],\n",
       " '435': [-1.109974705, -0.8090705850000002],\n",
       " '436': [-1.1492815150000002, -0.736966755],\n",
       " '437': [-1.148285455, -0.7393286149999999],\n",
       " '438': [-1.891621595, 0.526978205],\n",
       " '439': [-1.17734509, -0.70414869],\n",
       " '440': [-1.198287635, -0.668989595],\n",
       " '441': [-1.30582991, -0.48986583000000017],\n",
       " '442': [-1.707601, 0.2064588399999998],\n",
       " '443': [-1.5460193000000002, -0.0640061799999998],\n",
       " '444': [-1.72906239, 0.24176440999999999],\n",
       " '445': [-2.5033475750000003, 2.273198625],\n",
       " '446': [-2.39412714, 2.26615606],\n",
       " '447': [-2.554127285, 2.201062675],\n",
       " '448': [-1.199999995, -0.6666666749999999],\n",
       " '449': [-1.290322585, -0.5161290249999999],\n",
       " '450': [-1.4137931049999999, -0.3103448250000001],\n",
       " '451': [-0.729882166, 0.49149041],\n",
       " '452': [-0.913450323, 0.5072886449999999],\n",
       " '453': [-0.7195233055, 0.5726892425],\n",
       " '454': [-1.012801758, 0.58597045],\n",
       " '455': [-1.33096456, 0.21762024000000008],\n",
       " '456': [-1.1144101121499999, 0.66379432025],\n",
       " '457': [-1.41882682, 0.19282485999999993],\n",
       " '458': [-1.106305326, 0.5594285299999999],\n",
       " '459': [-1.3780069099999999, 0.14830205000000002],\n",
       " '460': [-1.1212016949999999, -0.797763495],\n",
       " '461': [-1.1675221800000002, -0.7206248199999998],\n",
       " '462': [-1.129694315, -0.783694435],\n",
       " '463': [-1.0576286400000001, -0.9038424],\n",
       " '464': [-1.075573305, -0.8738563050000001],\n",
       " '465': [-1.07543107, -0.8740736299999998],\n",
       " '466': [-1.048687325, -0.918726725],\n",
       " '467': [-1.015368265, -0.9743555849999999],\n",
       " '468': [-1.16410248, -0.7262343200000001],\n",
       " '469': [-1.1369336950000002, -0.7716126149999999],\n",
       " '470': [-1.08776604, -0.8535043600000001],\n",
       " '471': [-1.0367077649999998, -0.938732525],\n",
       " '472': [-1.17349668, -0.71057148],\n",
       " '473': [-1.069239235, -0.884452075],\n",
       " '474': [-1.2028440950000001, -0.6612618149999999],\n",
       " '475': [-1.05167765, -0.91377669],\n",
       " '476': [-1.041480495, -0.930810535],\n",
       " '477': [-1.03372051, -0.94372411],\n",
       " '478': [-1.029655155, -0.950497515],\n",
       " '479': [-1.05554644, -0.9072475600000001],\n",
       " '480': [-1.059323765, -0.9009322049999999],\n",
       " '481': [-1.0131143599999999, -0.9780819599999999],\n",
       " '482': [-1.1871245400000001, -0.6875740599999998],\n",
       " '483': [-1.05470307, -0.9087513899999999],\n",
       " '484': [-1.036597665, -0.938904505],\n",
       " '485': [-1.0523675, -0.9125449400000001],\n",
       " '486': [-1.21100104, -0.647778],\n",
       " '487': [-1.0398813750000002, -0.9334388549999999],\n",
       " '488': [-1.198160765, -0.6693913650000001],\n",
       " '489': [-1.11064068, -0.81544748],\n",
       " '490': [-1.1101675999999998, -0.8162472000000001],\n",
       " '491': [-1.0436025400000002, -0.9272153399999999],\n",
       " '492': [-1.0399845499999998, -0.9332012700000001],\n",
       " '493': [-1.06078749, -0.8984054100000001],\n",
       " '494': [-1.059091845, -0.9011882850000001],\n",
       " '495': [-1.0198538849999998, -0.966840005],\n",
       " '496': [-1.2687665750000001, -0.5516755749999998],\n",
       " '497': [-1.130208275, -0.782804555],\n",
       " '498': [-1.0468846049999998, -0.9216855250000001],\n",
       " '499': [-1.043156535, -0.927851055],\n",
       " '500': [-1.295505465, -0.507090305],\n",
       " '501': [-1.049157045, -0.917944445],\n",
       " '502': [-2.0466318649999997, 0.7850700149999998],\n",
       " '503': [-1.83444009, 0.43486303],\n",
       " '504': [-2.012826625, 0.7366573350000001],\n",
       " '505': [-1.5616714399999998, -0.0284540000000002],\n",
       " '506': [-1.16987605, -0.69409365],\n",
       " '507': [-2.0466318649999997, 0.7850700149999998],\n",
       " '508': [-1.389673635, -0.3496641549999999],\n",
       " '509': [-1.7560539199999998, 0.29240207999999995],\n",
       " '510': [-2.856752615, 2.431969825],\n",
       " '511': [-1.62068965, 0.03448275000000012],\n",
       " '512': [-0.556194635, 0.668975069],\n",
       " '513': [-1.05111235, 0.2349346099999999],\n",
       " '514': [-1.238865755, -0.17703075500000004],\n",
       " '515': [-1.9814816949999998, 0.6623629849999999],\n",
       " '516': [-1.88460479, 0.49886769],\n",
       " '517': [-1.9945818, 0.6887568399999999],\n",
       " '518': [-1.778015995, 0.3163854850000001],\n",
       " '519': [-1.35030707, -0.38088851000000007],\n",
       " '520': [-1.9814816949999998, 0.6623629849999999],\n",
       " '521': [-1.32969722, -0.45011882000000014],\n",
       " '522': [-1.8274572199999999, 0.4094758999999999],\n",
       " '523': [-2.94608614, 2.2434768999999997],\n",
       " '524': [-1.11111112, -0.73015872],\n",
       " '525': [-0.46782565425, 0.8055170245500001],\n",
       " '526': [-1.28608542, 0.5481470599999999],\n",
       " '527': [-1.40998527, 0.01812440999999987],\n",
       " '528': [-1.72760765, 0.25813051000000004],\n",
       " '529': [-1.6961427699999998, 0.21849106999999995],\n",
       " '530': [-1.766260565, 0.33373083500000017],\n",
       " '531': [-1.57741351, 0.01683192999999994],\n",
       " '532': [-1.1875631649999998, -0.6715076050000001],\n",
       " '533': [-1.72760765, 0.25813051000000004],\n",
       " '534': [-1.245951925, -0.5892085250000001],\n",
       " '535': [-1.66936498, 0.15321214000000005],\n",
       " '536': [-2.39595663, 2.20295233],\n",
       " '537': [-1.230769225, -0.6153846249999999],\n",
       " '538': [-0.77319301, 0.64089219],\n",
       " '539': [-1.055768725, 0.447705635],\n",
       " '540': [-1.29598106, 0.024155819999999995],\n",
       " '541': [-1.513587865, -0.12446486499999987],\n",
       " '542': [-1.4629471500000002, -0.20974138999999992],\n",
       " '543': [-1.5193450599999998, -0.11363514000000019],\n",
       " '544': [-1.3912777850000002, -0.33148510499999995],\n",
       " '545': [-1.212341855, -0.6294613350000001],\n",
       " '546': [-1.513587865, -0.12446486499999987],\n",
       " '547': [-1.096257075, -0.839442155],\n",
       " '548': [-1.5235655750000001, -0.105510895],\n",
       " '549': [-2.8427305549999997, 2.189361885],\n",
       " '550': [-1.063492075, -0.809523795],\n",
       " '551': [-0.44044907750000006, 0.6806389665000001],\n",
       " '552': [-1.0811694699999999, 0.37504349],\n",
       " '553': [-1.2797275049999999, -0.11860962500000005],\n",
       " '554': [-0.43553091, 0.43731085000000003],\n",
       " '555': [-1.04123145, 0.99405151],\n",
       " '556': [-1.77774902, 1.74863618],\n",
       " '557': [-1.3445162650000002, 1.270257935],\n",
       " '558': [-1.190816275, -0.19981143500000004],\n",
       " '559': [-0.34577572075, 0.5904564884500001],\n",
       " '560': [-0.5021748104999999, 0.43691345749999994]}"
      ]
     },
     "execution_count": 72,
     "metadata": {},
     "output_type": "execute_result"
    }
   ],
   "source": [
    "bounds     #bounds for IQR, lower bound at .25 and upper bound at .75"
   ]
  },
  {
   "cell_type": "code",
   "execution_count": null,
   "metadata": {},
   "outputs": [],
   "source": [
    "# append outlier indicators to data table\n",
    "\n",
    "outliers = df_merged_test_features.select(*['id'] + [\n",
    " (\n",
    " (df_merged_test_features[c] < bounds[c][0]) | (df_merged_test_features[c] > bounds[c][1]))\n",
    "    .alias(c + '_outlier') for c in cols\n",
    "])"
   ]
  },
  {
   "cell_type": "code",
   "execution_count": null,
   "metadata": {},
   "outputs": [],
   "source": [
    "outliers.show(10)"
   ]
  },
  {
   "cell_type": "code",
   "execution_count": null,
   "metadata": {},
   "outputs": [],
   "source": [
    "outliers.groupBy('id').count().show()     # of obs per subject, since is time series data, measurements taken at time interval"
   ]
  },
  {
   "cell_type": "code",
   "execution_count": null,
   "metadata": {},
   "outputs": [],
   "source": [
    "#checking for total number of outliers for each subject \n",
    "outliers.select([count(when(c =='true', c)).alias(c) for c in outliers.columns]).show()\n"
   ]
  },
  {
   "cell_type": "code",
   "execution_count": null,
   "metadata": {},
   "outputs": [],
   "source": []
  },
  {
   "cell_type": "code",
   "execution_count": null,
   "metadata": {},
   "outputs": [],
   "source": []
  }
 ],
 "metadata": {
  "kernelspec": {
   "display_name": "Python 3",
   "language": "python",
   "name": "python3"
  },
  "language_info": {
   "codemirror_mode": {
    "name": "ipython",
    "version": 3
   },
   "file_extension": ".py",
   "mimetype": "text/x-python",
   "name": "python",
   "nbconvert_exporter": "python",
   "pygments_lexer": "ipython3",
   "version": "3.6.8"
  }
 },
 "nbformat": 4,
 "nbformat_minor": 2
}
